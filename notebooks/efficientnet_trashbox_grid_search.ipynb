{
 "cells": [
  {
   "cell_type": "code",
   "execution_count": 1,
   "id": "f25d43e5-caf0-4864-8c23-35d9d6957f42",
   "metadata": {},
   "outputs": [],
   "source": [
    "import os\n",
    "os.environ['TF_CPP_MIN_LOG_LEVEL'] = '2' "
   ]
  },
  {
   "cell_type": "code",
   "execution_count": 2,
   "id": "762fd262-fb69-42ba-8987-a1aaa6aa26d0",
   "metadata": {},
   "outputs": [
    {
     "name": "stderr",
     "output_type": "stream",
     "text": [
      "2024-03-13 07:51:50.347160: E external/local_xla/xla/stream_executor/cuda/cuda_dnn.cc:9261] Unable to register cuDNN factory: Attempting to register factory for plugin cuDNN when one has already been registered\n",
      "2024-03-13 07:51:50.347179: E external/local_xla/xla/stream_executor/cuda/cuda_fft.cc:607] Unable to register cuFFT factory: Attempting to register factory for plugin cuFFT when one has already been registered\n",
      "2024-03-13 07:51:50.347666: E external/local_xla/xla/stream_executor/cuda/cuda_blas.cc:1515] Unable to register cuBLAS factory: Attempting to register factory for plugin cuBLAS when one has already been registered\n"
     ]
    }
   ],
   "source": [
    "import numpy as np\n",
    "import tensorflow as tf\n",
    "\n",
    "from tensorflow.keras import Sequential\n",
    "from tensorflow.keras import Model\n",
    "from tensorflow.keras.layers import (RandomFlip, RandomRotation, RandomContrast, \n",
    "                                    GlobalAveragePooling2D, Dense, BatchNormalization)\n",
    "from tensorflow.keras.callbacks import ModelCheckpoint\n",
    "from tensorflow.keras.utils import image_dataset_from_directory\n",
    "from tensorflow.keras.applications.efficientnet_v2 import EfficientNetV2B2\n",
    "from tensorflow.keras.optimizers import SGD"
   ]
  },
  {
   "cell_type": "code",
   "execution_count": 3,
   "id": "9bb23561-da4f-4be1-a43a-6866a99597a9",
   "metadata": {},
   "outputs": [],
   "source": [
    "seed = 42\n",
    "dataset_path = '/home/deeplearning/AI/datasets/TrashBox'\n",
    "epochs = 30\n",
    "batch_size = 32\n",
    "img_height = 224\n",
    "img_width = 224"
   ]
  },
  {
   "cell_type": "code",
   "execution_count": 4,
   "id": "7a79e103-d1cb-4bc5-9685-5945a3718ed0",
   "metadata": {},
   "outputs": [],
   "source": [
    "data_augmentation = Sequential([\n",
    "    RandomFlip(mode=\"horizontal\", seed=seed),\n",
    "    RandomRotation(factor=0.05, seed=seed),\n",
    "    RandomContrast(factor=0.2, seed=seed)\n",
    "])"
   ]
  },
  {
   "cell_type": "code",
   "execution_count": 5,
   "id": "7f0d9dee-7bee-46ea-9614-65eb7abce969",
   "metadata": {},
   "outputs": [
    {
     "name": "stdout",
     "output_type": "stream",
     "text": [
      "Found 12999 files belonging to 25 classes.\n",
      "Found 1642 files belonging to 25 classes.\n"
     ]
    }
   ],
   "source": [
    "train_ds_raw = image_dataset_from_directory(dataset_path + '/train/sub_classes', batch_size=batch_size)\n",
    "train_ds = train_ds_raw.map(lambda img, label: (data_augmentation(img), label)).shuffle(100, seed=seed).prefetch(tf.data.AUTOTUNE)\n",
    "\n",
    "val_ds = image_dataset_from_directory(dataset_path + '/val', batch_size=batch_size)"
   ]
  },
  {
   "cell_type": "code",
   "execution_count": 6,
   "id": "de76da15-e2b6-4426-b8fa-e0df4926ba23",
   "metadata": {},
   "outputs": [],
   "source": [
    "class_names = train_ds_raw.class_names\n",
    "n_classes = len(class_names)"
   ]
  },
  {
   "cell_type": "code",
   "execution_count": 7,
   "id": "618be6f4-5e4c-4ef6-afd6-81cdc61d5f18",
   "metadata": {},
   "outputs": [],
   "source": [
    "def train(lr, weight_decay, max_epochs):\n",
    "    print(f'lr: {lr:.6f}, weight_decay:{weight_decay:.6f}')\n",
    "    base_model = EfficientNetV2B2(weights=\"imagenet\", include_top=False)\n",
    "    avg = GlobalAveragePooling2D()(base_model.output)\n",
    "    output = Dense(n_classes, activation=\"softmax\")(avg)\n",
    "    model = Model(inputs=base_model.input, outputs=output)\n",
    "\n",
    "    for layer in model.layers:\n",
    "        if isinstance(layer, BatchNormalization):\n",
    "            layer.momentum = 0.98 # max(1 − 10/s, 0.9), where s is the number of steps per epoch, for this dataset and batch size, s= 407r\n",
    "\n",
    "    optimizer = SGD(learning_rate=lr, momentum=0.9, nesterov=True, weight_decay=weight_decay)\n",
    "    model.compile(loss=\"sparse_categorical_crossentropy\", optimizer=optimizer,\n",
    "                  metrics=[\"accuracy\"])\n",
    "    history = model.fit(train_ds, validation_data=val_ds, epochs=max_epochs)\n",
    "\n",
    "    return history"
   ]
  },
  {
   "cell_type": "code",
   "execution_count": 8,
   "id": "ad57e673-e4b3-485e-9ea8-6e550c8979d3",
   "metadata": {},
   "outputs": [],
   "source": [
    "max_epochs = 10\n",
    "min_lr, max_lr = -4, -1\n",
    "min_wd, max_wd = -6, -3\n",
    "lr_list = np.logspace(min_lr, max_lr, 7).tolist()\n",
    "wd_list = [0] + np.logspace(min_wd, max_wd, 7).tolist()"
   ]
  },
  {
   "cell_type": "code",
   "execution_count": 9,
   "id": "ec04ae31-41be-40f7-a624-c18a6554056a",
   "metadata": {},
   "outputs": [
    {
     "name": "stdout",
     "output_type": "stream",
     "text": [
      "lr: 0.000100, weight_decay:0.000000\n",
      "Epoch 1/10\n"
     ]
    },
    {
     "name": "stderr",
     "output_type": "stream",
     "text": [
      "2024-03-13 07:51:59.464147: E tensorflow/core/grappler/optimizers/meta_optimizer.cc:961] layout failed: INVALID_ARGUMENT: Size of values 0 does not match size of permutation 4 @ fanin shape inmodel/block1b_drop/dropout/SelectV2-2-TransposeNHWCToNCHW-LayoutOptimizer\n",
      "WARNING: All log messages before absl::InitializeLog() is called are written to STDERR\n",
      "I0000 00:00:1710330730.026237   42833 device_compiler.h:186] Compiled cluster using XLA!  This line is logged at most once for the lifetime of the process.\n"
     ]
    },
    {
     "name": "stdout",
     "output_type": "stream",
     "text": [
      "407/407 [==============================] - 56s 85ms/step - loss: 3.1687 - accuracy: 0.0909 - val_loss: 3.0820 - val_accuracy: 0.1583\n",
      "Epoch 2/10\n",
      "407/407 [==============================] - 42s 82ms/step - loss: 2.9418 - accuracy: 0.2334 - val_loss: 2.8582 - val_accuracy: 0.3155\n",
      "Epoch 3/10\n",
      "407/407 [==============================] - 42s 82ms/step - loss: 2.7139 - accuracy: 0.3367 - val_loss: 2.6315 - val_accuracy: 0.4038\n",
      "Epoch 4/10\n",
      "407/407 [==============================] - 42s 82ms/step - loss: 2.4897 - accuracy: 0.3905 - val_loss: 2.4173 - val_accuracy: 0.4762\n",
      "Epoch 5/10\n",
      "407/407 [==============================] - 42s 82ms/step - loss: 2.2997 - accuracy: 0.4393 - val_loss: 2.2211 - val_accuracy: 0.5286\n",
      "Epoch 6/10\n",
      "407/407 [==============================] - 42s 82ms/step - loss: 2.1417 - accuracy: 0.4886 - val_loss: 2.0480 - val_accuracy: 0.5871\n",
      "Epoch 7/10\n",
      "407/407 [==============================] - 42s 83ms/step - loss: 1.9939 - accuracy: 0.5393 - val_loss: 1.8886 - val_accuracy: 0.6334\n",
      "Epoch 8/10\n",
      "407/407 [==============================] - 42s 82ms/step - loss: 1.8437 - accuracy: 0.5770 - val_loss: 1.7435 - val_accuracy: 0.6724\n",
      "Epoch 9/10\n",
      "407/407 [==============================] - 42s 83ms/step - loss: 1.7270 - accuracy: 0.6054 - val_loss: 1.6104 - val_accuracy: 0.6998\n",
      "Epoch 10/10\n",
      "407/407 [==============================] - 42s 82ms/step - loss: 1.6023 - accuracy: 0.6360 - val_loss: 1.4879 - val_accuracy: 0.7247\n",
      "lr: 0.000100, weight_decay:0.000001\n",
      "Epoch 1/10\n"
     ]
    },
    {
     "name": "stderr",
     "output_type": "stream",
     "text": [
      "2024-03-13 07:59:16.014165: E tensorflow/core/grappler/optimizers/meta_optimizer.cc:961] layout failed: INVALID_ARGUMENT: Size of values 0 does not match size of permutation 4 @ fanin shape inmodel_1/block1b_drop/dropout/SelectV2-2-TransposeNHWCToNCHW-LayoutOptimizer\n"
     ]
    },
    {
     "name": "stdout",
     "output_type": "stream",
     "text": [
      "407/407 [==============================] - 54s 84ms/step - loss: 3.1278 - accuracy: 0.0962 - val_loss: 3.0359 - val_accuracy: 0.1626\n",
      "Epoch 2/10\n",
      "407/407 [==============================] - 43s 83ms/step - loss: 2.8973 - accuracy: 0.2549 - val_loss: 2.8075 - val_accuracy: 0.3508\n",
      "Epoch 3/10\n",
      "407/407 [==============================] - 42s 83ms/step - loss: 2.6633 - accuracy: 0.3467 - val_loss: 2.5619 - val_accuracy: 0.4391\n",
      "Epoch 4/10\n",
      "407/407 [==============================] - 42s 83ms/step - loss: 2.4466 - accuracy: 0.4005 - val_loss: 2.3452 - val_accuracy: 0.5018\n",
      "Epoch 5/10\n",
      "407/407 [==============================] - 43s 83ms/step - loss: 2.2573 - accuracy: 0.4534 - val_loss: 2.1557 - val_accuracy: 0.5475\n",
      "Epoch 6/10\n",
      "407/407 [==============================] - 43s 83ms/step - loss: 2.0844 - accuracy: 0.5059 - val_loss: 1.9789 - val_accuracy: 0.5871\n",
      "Epoch 7/10\n",
      "407/407 [==============================] - 42s 83ms/step - loss: 1.9383 - accuracy: 0.5429 - val_loss: 1.8356 - val_accuracy: 0.6224\n",
      "Epoch 8/10\n",
      "407/407 [==============================] - 42s 83ms/step - loss: 1.8067 - accuracy: 0.5801 - val_loss: 1.7025 - val_accuracy: 0.6535\n",
      "Epoch 9/10\n",
      "407/407 [==============================] - 43s 83ms/step - loss: 1.6924 - accuracy: 0.6087 - val_loss: 1.5759 - val_accuracy: 0.6760\n",
      "Epoch 10/10\n",
      "407/407 [==============================] - 43s 83ms/step - loss: 1.5687 - accuracy: 0.6380 - val_loss: 1.4704 - val_accuracy: 0.7077\n",
      "lr: 0.000100, weight_decay:0.000003\n",
      "Epoch 1/10\n"
     ]
    },
    {
     "name": "stderr",
     "output_type": "stream",
     "text": [
      "2024-03-13 08:06:33.136269: E tensorflow/core/grappler/optimizers/meta_optimizer.cc:961] layout failed: INVALID_ARGUMENT: Size of values 0 does not match size of permutation 4 @ fanin shape inmodel_2/block1b_drop/dropout/SelectV2-2-TransposeNHWCToNCHW-LayoutOptimizer\n"
     ]
    },
    {
     "name": "stdout",
     "output_type": "stream",
     "text": [
      "407/407 [==============================] - 54s 84ms/step - loss: 3.1646 - accuracy: 0.0941 - val_loss: 3.0667 - val_accuracy: 0.1583\n",
      "Epoch 2/10\n",
      "407/407 [==============================] - 43s 83ms/step - loss: 2.9454 - accuracy: 0.2483 - val_loss: 2.8495 - val_accuracy: 0.3216\n",
      "Epoch 3/10\n",
      "407/407 [==============================] - 42s 83ms/step - loss: 2.7203 - accuracy: 0.3439 - val_loss: 2.6186 - val_accuracy: 0.4019\n",
      "Epoch 4/10\n",
      "407/407 [==============================] - 42s 83ms/step - loss: 2.4953 - accuracy: 0.4004 - val_loss: 2.4043 - val_accuracy: 0.4677\n",
      "Epoch 5/10\n",
      "407/407 [==============================] - 42s 83ms/step - loss: 2.3138 - accuracy: 0.4346 - val_loss: 2.2111 - val_accuracy: 0.5305\n",
      "Epoch 6/10\n",
      "407/407 [==============================] - 43s 83ms/step - loss: 2.1520 - accuracy: 0.4761 - val_loss: 2.0427 - val_accuracy: 0.5816\n",
      "Epoch 7/10\n",
      "407/407 [==============================] - 42s 83ms/step - loss: 2.0008 - accuracy: 0.5184 - val_loss: 1.8901 - val_accuracy: 0.6212\n",
      "Epoch 8/10\n",
      "407/407 [==============================] - 42s 83ms/step - loss: 1.8645 - accuracy: 0.5530 - val_loss: 1.7469 - val_accuracy: 0.6547\n",
      "Epoch 9/10\n",
      "407/407 [==============================] - 43s 83ms/step - loss: 1.7449 - accuracy: 0.5870 - val_loss: 1.6226 - val_accuracy: 0.6827\n",
      "Epoch 10/10\n",
      "407/407 [==============================] - 42s 83ms/step - loss: 1.6291 - accuracy: 0.6177 - val_loss: 1.4998 - val_accuracy: 0.7107\n",
      "lr: 0.000100, weight_decay:0.000010\n",
      "Epoch 1/10\n"
     ]
    },
    {
     "name": "stderr",
     "output_type": "stream",
     "text": [
      "2024-03-13 08:13:49.882783: E tensorflow/core/grappler/optimizers/meta_optimizer.cc:961] layout failed: INVALID_ARGUMENT: Size of values 0 does not match size of permutation 4 @ fanin shape inmodel_3/block1b_drop/dropout/SelectV2-2-TransposeNHWCToNCHW-LayoutOptimizer\n"
     ]
    },
    {
     "name": "stdout",
     "output_type": "stream",
     "text": [
      "407/407 [==============================] - 54s 85ms/step - loss: 3.1349 - accuracy: 0.0984 - val_loss: 3.0319 - val_accuracy: 0.1803\n",
      "Epoch 2/10\n",
      "407/407 [==============================] - 42s 83ms/step - loss: 2.9072 - accuracy: 0.2560 - val_loss: 2.8039 - val_accuracy: 0.3441\n",
      "Epoch 3/10\n",
      "407/407 [==============================] - 42s 82ms/step - loss: 2.6716 - accuracy: 0.3477 - val_loss: 2.5634 - val_accuracy: 0.4342\n",
      "Epoch 4/10\n",
      "407/407 [==============================] - 42s 83ms/step - loss: 2.4529 - accuracy: 0.4035 - val_loss: 2.3497 - val_accuracy: 0.5055\n",
      "Epoch 5/10\n",
      "407/407 [==============================] - 42s 83ms/step - loss: 2.2665 - accuracy: 0.4512 - val_loss: 2.1607 - val_accuracy: 0.5682\n",
      "Epoch 6/10\n",
      "407/407 [==============================] - 42s 83ms/step - loss: 2.1089 - accuracy: 0.4984 - val_loss: 1.9975 - val_accuracy: 0.6163\n",
      "Epoch 7/10\n",
      "407/407 [==============================] - 42s 83ms/step - loss: 1.9651 - accuracy: 0.5389 - val_loss: 1.8457 - val_accuracy: 0.6474\n",
      "Epoch 8/10\n",
      "407/407 [==============================] - 42s 83ms/step - loss: 1.8285 - accuracy: 0.5747 - val_loss: 1.7030 - val_accuracy: 0.6766\n",
      "Epoch 9/10\n",
      "407/407 [==============================] - 42s 83ms/step - loss: 1.7075 - accuracy: 0.6057 - val_loss: 1.5826 - val_accuracy: 0.6991\n",
      "Epoch 10/10\n",
      "407/407 [==============================] - 42s 82ms/step - loss: 1.5851 - accuracy: 0.6356 - val_loss: 1.4564 - val_accuracy: 0.7192\n",
      "lr: 0.000100, weight_decay:0.000032\n",
      "Epoch 1/10\n"
     ]
    },
    {
     "name": "stderr",
     "output_type": "stream",
     "text": [
      "2024-03-13 08:21:05.579436: E tensorflow/core/grappler/optimizers/meta_optimizer.cc:961] layout failed: INVALID_ARGUMENT: Size of values 0 does not match size of permutation 4 @ fanin shape inmodel_4/block1b_drop/dropout/SelectV2-2-TransposeNHWCToNCHW-LayoutOptimizer\n"
     ]
    },
    {
     "name": "stdout",
     "output_type": "stream",
     "text": [
      "407/407 [==============================] - 53s 84ms/step - loss: 3.1386 - accuracy: 0.1039 - val_loss: 3.0255 - val_accuracy: 0.1900\n",
      "Epoch 2/10\n",
      "407/407 [==============================] - 43s 83ms/step - loss: 2.9087 - accuracy: 0.2649 - val_loss: 2.8010 - val_accuracy: 0.3429\n",
      "Epoch 3/10\n",
      "407/407 [==============================] - 42s 82ms/step - loss: 2.6690 - accuracy: 0.3618 - val_loss: 2.5591 - val_accuracy: 0.4287\n",
      "Epoch 4/10\n",
      "407/407 [==============================] - 43s 83ms/step - loss: 2.4439 - accuracy: 0.4152 - val_loss: 2.3403 - val_accuracy: 0.4884\n",
      "Epoch 5/10\n",
      "407/407 [==============================] - 43s 83ms/step - loss: 2.2602 - accuracy: 0.4563 - val_loss: 2.1489 - val_accuracy: 0.5481\n",
      "Epoch 6/10\n",
      "407/407 [==============================] - 42s 83ms/step - loss: 2.0992 - accuracy: 0.4960 - val_loss: 1.9799 - val_accuracy: 0.5956\n",
      "Epoch 7/10\n",
      "407/407 [==============================] - 43s 83ms/step - loss: 1.9557 - accuracy: 0.5363 - val_loss: 1.8359 - val_accuracy: 0.6334\n",
      "Epoch 8/10\n",
      "407/407 [==============================] - 42s 83ms/step - loss: 1.8244 - accuracy: 0.5703 - val_loss: 1.6959 - val_accuracy: 0.6657\n",
      "Epoch 9/10\n",
      "407/407 [==============================] - 42s 83ms/step - loss: 1.7006 - accuracy: 0.5987 - val_loss: 1.5728 - val_accuracy: 0.6961\n",
      "Epoch 10/10\n",
      "407/407 [==============================] - 43s 83ms/step - loss: 1.5913 - accuracy: 0.6306 - val_loss: 1.4578 - val_accuracy: 0.7186\n",
      "lr: 0.000100, weight_decay:0.000100\n",
      "Epoch 1/10\n"
     ]
    },
    {
     "name": "stderr",
     "output_type": "stream",
     "text": [
      "2024-03-13 08:28:23.212571: E tensorflow/core/grappler/optimizers/meta_optimizer.cc:961] layout failed: INVALID_ARGUMENT: Size of values 0 does not match size of permutation 4 @ fanin shape inmodel_5/block1b_drop/dropout/SelectV2-2-TransposeNHWCToNCHW-LayoutOptimizer\n"
     ]
    },
    {
     "name": "stdout",
     "output_type": "stream",
     "text": [
      "407/407 [==============================] - 54s 84ms/step - loss: 3.1530 - accuracy: 0.0892 - val_loss: 3.0301 - val_accuracy: 0.1681\n",
      "Epoch 2/10\n",
      "407/407 [==============================] - 42s 83ms/step - loss: 2.9357 - accuracy: 0.2510 - val_loss: 2.8174 - val_accuracy: 0.3350\n",
      "Epoch 3/10\n",
      "407/407 [==============================] - 42s 83ms/step - loss: 2.7078 - accuracy: 0.3576 - val_loss: 2.5832 - val_accuracy: 0.4373\n",
      "Epoch 4/10\n",
      "407/407 [==============================] - 43s 83ms/step - loss: 2.4891 - accuracy: 0.4093 - val_loss: 2.3624 - val_accuracy: 0.5000\n",
      "Epoch 5/10\n",
      "407/407 [==============================] - 43s 83ms/step - loss: 2.2971 - accuracy: 0.4519 - val_loss: 2.1740 - val_accuracy: 0.5487\n",
      "Epoch 6/10\n",
      "407/407 [==============================] - 42s 83ms/step - loss: 2.1365 - accuracy: 0.4953 - val_loss: 2.0023 - val_accuracy: 0.5895\n",
      "Epoch 7/10\n",
      "407/407 [==============================] - 43s 83ms/step - loss: 1.9838 - accuracy: 0.5336 - val_loss: 1.8505 - val_accuracy: 0.6352\n",
      "Epoch 8/10\n",
      "407/407 [==============================] - 42s 83ms/step - loss: 1.8441 - accuracy: 0.5700 - val_loss: 1.7095 - val_accuracy: 0.6583\n",
      "Epoch 9/10\n",
      "407/407 [==============================] - 42s 83ms/step - loss: 1.7147 - accuracy: 0.5963 - val_loss: 1.5765 - val_accuracy: 0.6888\n",
      "Epoch 10/10\n",
      "407/407 [==============================] - 42s 83ms/step - loss: 1.5874 - accuracy: 0.6300 - val_loss: 1.4472 - val_accuracy: 0.7247\n",
      "lr: 0.000100, weight_decay:0.000316\n",
      "Epoch 1/10\n"
     ]
    },
    {
     "name": "stderr",
     "output_type": "stream",
     "text": [
      "2024-03-13 08:35:40.585209: E tensorflow/core/grappler/optimizers/meta_optimizer.cc:961] layout failed: INVALID_ARGUMENT: Size of values 0 does not match size of permutation 4 @ fanin shape inmodel_6/block1b_drop/dropout/SelectV2-2-TransposeNHWCToNCHW-LayoutOptimizer\n"
     ]
    },
    {
     "name": "stdout",
     "output_type": "stream",
     "text": [
      "407/407 [==============================] - 54s 84ms/step - loss: 3.1904 - accuracy: 0.0665 - val_loss: 3.0839 - val_accuracy: 0.1242\n",
      "Epoch 2/10\n",
      "407/407 [==============================] - 42s 83ms/step - loss: 2.9721 - accuracy: 0.2125 - val_loss: 2.8778 - val_accuracy: 0.3045\n",
      "Epoch 3/10\n",
      "407/407 [==============================] - 42s 83ms/step - loss: 2.7477 - accuracy: 0.3476 - val_loss: 2.6454 - val_accuracy: 0.4184\n",
      "Epoch 4/10\n",
      "407/407 [==============================] - 42s 83ms/step - loss: 2.5225 - accuracy: 0.4096 - val_loss: 2.4230 - val_accuracy: 0.4921\n",
      "Epoch 5/10\n",
      "407/407 [==============================] - 42s 83ms/step - loss: 2.3123 - accuracy: 0.4585 - val_loss: 2.2208 - val_accuracy: 0.5438\n",
      "Epoch 6/10\n",
      "407/407 [==============================] - 42s 83ms/step - loss: 2.1407 - accuracy: 0.4921 - val_loss: 2.0461 - val_accuracy: 0.5895\n",
      "Epoch 7/10\n",
      "407/407 [==============================] - 42s 83ms/step - loss: 1.9864 - accuracy: 0.5309 - val_loss: 1.8900 - val_accuracy: 0.6328\n",
      "Epoch 8/10\n",
      "407/407 [==============================] - 43s 83ms/step - loss: 1.8498 - accuracy: 0.5640 - val_loss: 1.7515 - val_accuracy: 0.6492\n",
      "Epoch 9/10\n",
      "407/407 [==============================] - 43s 84ms/step - loss: 1.7142 - accuracy: 0.5989 - val_loss: 1.6151 - val_accuracy: 0.6797\n",
      "Epoch 10/10\n",
      "407/407 [==============================] - 43s 83ms/step - loss: 1.6013 - accuracy: 0.6295 - val_loss: 1.4913 - val_accuracy: 0.7040\n",
      "lr: 0.000100, weight_decay:0.001000\n",
      "Epoch 1/10\n"
     ]
    },
    {
     "name": "stderr",
     "output_type": "stream",
     "text": [
      "2024-03-13 08:42:57.416622: E tensorflow/core/grappler/optimizers/meta_optimizer.cc:961] layout failed: INVALID_ARGUMENT: Size of values 0 does not match size of permutation 4 @ fanin shape inmodel_7/block1b_drop/dropout/SelectV2-2-TransposeNHWCToNCHW-LayoutOptimizer\n"
     ]
    },
    {
     "name": "stdout",
     "output_type": "stream",
     "text": [
      "407/407 [==============================] - 54s 86ms/step - loss: 3.1451 - accuracy: 0.0921 - val_loss: 3.0573 - val_accuracy: 0.1449\n",
      "Epoch 2/10\n",
      "407/407 [==============================] - 43s 84ms/step - loss: 2.9224 - accuracy: 0.2466 - val_loss: 2.8370 - val_accuracy: 0.3124\n",
      "Epoch 3/10\n",
      "407/407 [==============================] - 42s 83ms/step - loss: 2.6979 - accuracy: 0.3455 - val_loss: 2.5993 - val_accuracy: 0.4275\n",
      "Epoch 4/10\n",
      "407/407 [==============================] - 42s 83ms/step - loss: 2.4780 - accuracy: 0.4021 - val_loss: 2.3725 - val_accuracy: 0.4970\n",
      "Epoch 5/10\n",
      "407/407 [==============================] - 42s 83ms/step - loss: 2.2912 - accuracy: 0.4461 - val_loss: 2.1850 - val_accuracy: 0.5603\n",
      "Epoch 6/10\n",
      "407/407 [==============================] - 42s 83ms/step - loss: 2.1225 - accuracy: 0.4944 - val_loss: 2.0109 - val_accuracy: 0.6017\n",
      "Epoch 7/10\n",
      "407/407 [==============================] - 43s 84ms/step - loss: 1.9808 - accuracy: 0.5281 - val_loss: 1.8555 - val_accuracy: 0.6407\n",
      "Epoch 8/10\n",
      "407/407 [==============================] - 43s 83ms/step - loss: 1.8418 - accuracy: 0.5662 - val_loss: 1.7135 - val_accuracy: 0.6650\n",
      "Epoch 9/10\n",
      "407/407 [==============================] - 42s 83ms/step - loss: 1.7128 - accuracy: 0.5977 - val_loss: 1.5916 - val_accuracy: 0.6924\n",
      "Epoch 10/10\n",
      "407/407 [==============================] - 43s 84ms/step - loss: 1.6011 - accuracy: 0.6274 - val_loss: 1.4654 - val_accuracy: 0.7132\n",
      "lr: 0.000316, weight_decay:0.000000\n",
      "Epoch 1/10\n"
     ]
    },
    {
     "name": "stderr",
     "output_type": "stream",
     "text": [
      "2024-03-13 08:50:15.526187: E tensorflow/core/grappler/optimizers/meta_optimizer.cc:961] layout failed: INVALID_ARGUMENT: Size of values 0 does not match size of permutation 4 @ fanin shape inmodel_8/block1b_drop/dropout/SelectV2-2-TransposeNHWCToNCHW-LayoutOptimizer\n"
     ]
    },
    {
     "name": "stdout",
     "output_type": "stream",
     "text": [
      "407/407 [==============================] - 54s 84ms/step - loss: 2.9164 - accuracy: 0.2376 - val_loss: 2.5470 - val_accuracy: 0.4373\n",
      "Epoch 2/10\n",
      "407/407 [==============================] - 42s 82ms/step - loss: 2.2558 - accuracy: 0.4548 - val_loss: 1.9577 - val_accuracy: 0.6060\n",
      "Epoch 3/10\n",
      "407/407 [==============================] - 42s 82ms/step - loss: 1.7992 - accuracy: 0.5727 - val_loss: 1.5227 - val_accuracy: 0.7071\n",
      "Epoch 4/10\n",
      "407/407 [==============================] - 42s 82ms/step - loss: 1.4527 - accuracy: 0.6616 - val_loss: 1.2107 - val_accuracy: 0.7771\n",
      "Epoch 5/10\n",
      "407/407 [==============================] - 42s 82ms/step - loss: 1.1896 - accuracy: 0.7279 - val_loss: 0.9651 - val_accuracy: 0.8063\n",
      "Epoch 6/10\n",
      "407/407 [==============================] - 42s 82ms/step - loss: 0.9935 - accuracy: 0.7638 - val_loss: 0.8068 - val_accuracy: 0.8258\n",
      "Epoch 7/10\n",
      "407/407 [==============================] - 42s 83ms/step - loss: 0.8624 - accuracy: 0.7885 - val_loss: 0.7024 - val_accuracy: 0.8392\n",
      "Epoch 8/10\n",
      "407/407 [==============================] - 42s 83ms/step - loss: 0.7615 - accuracy: 0.8074 - val_loss: 0.6289 - val_accuracy: 0.8459\n",
      "Epoch 9/10\n",
      "407/407 [==============================] - 42s 82ms/step - loss: 0.6970 - accuracy: 0.8189 - val_loss: 0.5770 - val_accuracy: 0.8557\n",
      "Epoch 10/10\n",
      "407/407 [==============================] - 42s 82ms/step - loss: 0.6319 - accuracy: 0.8325 - val_loss: 0.5384 - val_accuracy: 0.8642\n",
      "lr: 0.000316, weight_decay:0.000001\n",
      "Epoch 1/10\n"
     ]
    },
    {
     "name": "stderr",
     "output_type": "stream",
     "text": [
      "2024-03-13 08:57:30.937479: E tensorflow/core/grappler/optimizers/meta_optimizer.cc:961] layout failed: INVALID_ARGUMENT: Size of values 0 does not match size of permutation 4 @ fanin shape inmodel_9/block1b_drop/dropout/SelectV2-2-TransposeNHWCToNCHW-LayoutOptimizer\n"
     ]
    },
    {
     "name": "stdout",
     "output_type": "stream",
     "text": [
      "407/407 [==============================] - 55s 84ms/step - loss: 2.9478 - accuracy: 0.2179 - val_loss: 2.5978 - val_accuracy: 0.4172\n",
      "Epoch 2/10\n",
      "407/407 [==============================] - 43s 84ms/step - loss: 2.2800 - accuracy: 0.4492 - val_loss: 1.9861 - val_accuracy: 0.6181\n",
      "Epoch 3/10\n",
      "407/407 [==============================] - 43s 83ms/step - loss: 1.8246 - accuracy: 0.5684 - val_loss: 1.5589 - val_accuracy: 0.7205\n",
      "Epoch 4/10\n",
      "407/407 [==============================] - 42s 83ms/step - loss: 1.4706 - accuracy: 0.6589 - val_loss: 1.2307 - val_accuracy: 0.7680\n",
      "Epoch 5/10\n",
      "407/407 [==============================] - 43s 83ms/step - loss: 1.2029 - accuracy: 0.7174 - val_loss: 1.0003 - val_accuracy: 0.7990\n",
      "Epoch 6/10\n",
      "407/407 [==============================] - 43s 83ms/step - loss: 0.9985 - accuracy: 0.7648 - val_loss: 0.8421 - val_accuracy: 0.8167\n",
      "Epoch 7/10\n",
      "407/407 [==============================] - 43s 83ms/step - loss: 0.8749 - accuracy: 0.7864 - val_loss: 0.7325 - val_accuracy: 0.8295\n",
      "Epoch 8/10\n",
      "407/407 [==============================] - 43s 83ms/step - loss: 0.7768 - accuracy: 0.8038 - val_loss: 0.6637 - val_accuracy: 0.8423\n",
      "Epoch 9/10\n",
      "407/407 [==============================] - 42s 83ms/step - loss: 0.7034 - accuracy: 0.8180 - val_loss: 0.6111 - val_accuracy: 0.8477\n",
      "Epoch 10/10\n",
      "407/407 [==============================] - 42s 83ms/step - loss: 0.6480 - accuracy: 0.8264 - val_loss: 0.5646 - val_accuracy: 0.8581\n",
      "lr: 0.000316, weight_decay:0.000003\n",
      "Epoch 1/10\n"
     ]
    },
    {
     "name": "stderr",
     "output_type": "stream",
     "text": [
      "2024-03-13 09:04:48.164912: E tensorflow/core/grappler/optimizers/meta_optimizer.cc:961] layout failed: INVALID_ARGUMENT: Size of values 0 does not match size of permutation 4 @ fanin shape inmodel_10/block1b_drop/dropout/SelectV2-2-TransposeNHWCToNCHW-LayoutOptimizer\n"
     ]
    },
    {
     "name": "stdout",
     "output_type": "stream",
     "text": [
      "407/407 [==============================] - 54s 85ms/step - loss: 2.9301 - accuracy: 0.2238 - val_loss: 2.5765 - val_accuracy: 0.4074\n",
      "Epoch 2/10\n",
      "407/407 [==============================] - 43s 83ms/step - loss: 2.2871 - accuracy: 0.4492 - val_loss: 1.9940 - val_accuracy: 0.6072\n",
      "Epoch 3/10\n",
      "407/407 [==============================] - 43s 83ms/step - loss: 1.8253 - accuracy: 0.5699 - val_loss: 1.5511 - val_accuracy: 0.7077\n",
      "Epoch 4/10\n",
      "407/407 [==============================] - 43s 83ms/step - loss: 1.4530 - accuracy: 0.6646 - val_loss: 1.2190 - val_accuracy: 0.7686\n",
      "Epoch 5/10\n",
      "407/407 [==============================] - 43s 83ms/step - loss: 1.1792 - accuracy: 0.7241 - val_loss: 0.9842 - val_accuracy: 0.7984\n",
      "Epoch 6/10\n",
      "407/407 [==============================] - 42s 83ms/step - loss: 0.9816 - accuracy: 0.7656 - val_loss: 0.8235 - val_accuracy: 0.8143\n",
      "Epoch 7/10\n",
      "407/407 [==============================] - 42s 83ms/step - loss: 0.8531 - accuracy: 0.7919 - val_loss: 0.7208 - val_accuracy: 0.8301\n",
      "Epoch 8/10\n",
      "407/407 [==============================] - 43s 83ms/step - loss: 0.7562 - accuracy: 0.8068 - val_loss: 0.6496 - val_accuracy: 0.8404\n",
      "Epoch 9/10\n",
      "407/407 [==============================] - 43s 83ms/step - loss: 0.6945 - accuracy: 0.8184 - val_loss: 0.5938 - val_accuracy: 0.8538\n",
      "Epoch 10/10\n",
      "407/407 [==============================] - 43s 84ms/step - loss: 0.6348 - accuracy: 0.8308 - val_loss: 0.5523 - val_accuracy: 0.8611\n",
      "lr: 0.000316, weight_decay:0.000010\n",
      "Epoch 1/10\n"
     ]
    },
    {
     "name": "stderr",
     "output_type": "stream",
     "text": [
      "2024-03-13 09:12:06.114957: E tensorflow/core/grappler/optimizers/meta_optimizer.cc:961] layout failed: INVALID_ARGUMENT: Size of values 0 does not match size of permutation 4 @ fanin shape inmodel_11/block1b_drop/dropout/SelectV2-2-TransposeNHWCToNCHW-LayoutOptimizer\n"
     ]
    },
    {
     "name": "stdout",
     "output_type": "stream",
     "text": [
      "407/407 [==============================] - 54s 85ms/step - loss: 2.9050 - accuracy: 0.2379 - val_loss: 2.5488 - val_accuracy: 0.4342\n",
      "Epoch 2/10\n",
      "407/407 [==============================] - 43s 83ms/step - loss: 2.2652 - accuracy: 0.4620 - val_loss: 1.9743 - val_accuracy: 0.5968\n",
      "Epoch 3/10\n",
      "407/407 [==============================] - 42s 83ms/step - loss: 1.8055 - accuracy: 0.5767 - val_loss: 1.5388 - val_accuracy: 0.6949\n",
      "Epoch 4/10\n",
      "407/407 [==============================] - 43s 83ms/step - loss: 1.4406 - accuracy: 0.6743 - val_loss: 1.2198 - val_accuracy: 0.7643\n",
      "Epoch 5/10\n",
      "407/407 [==============================] - 42s 83ms/step - loss: 1.1690 - accuracy: 0.7277 - val_loss: 0.9843 - val_accuracy: 0.7929\n",
      "Epoch 6/10\n",
      "407/407 [==============================] - 42s 83ms/step - loss: 0.9793 - accuracy: 0.7680 - val_loss: 0.8259 - val_accuracy: 0.8185\n",
      "Epoch 7/10\n",
      "407/407 [==============================] - 42s 83ms/step - loss: 0.8546 - accuracy: 0.7886 - val_loss: 0.7299 - val_accuracy: 0.8374\n",
      "Epoch 8/10\n",
      "407/407 [==============================] - 42s 83ms/step - loss: 0.7655 - accuracy: 0.8014 - val_loss: 0.6512 - val_accuracy: 0.8496\n",
      "Epoch 9/10\n",
      "407/407 [==============================] - 42s 83ms/step - loss: 0.6921 - accuracy: 0.8182 - val_loss: 0.6020 - val_accuracy: 0.8563\n",
      "Epoch 10/10\n",
      "407/407 [==============================] - 43s 83ms/step - loss: 0.6322 - accuracy: 0.8324 - val_loss: 0.5574 - val_accuracy: 0.8672\n",
      "lr: 0.000316, weight_decay:0.000032\n",
      "Epoch 1/10\n"
     ]
    },
    {
     "name": "stderr",
     "output_type": "stream",
     "text": [
      "2024-03-13 09:19:24.446527: E tensorflow/core/grappler/optimizers/meta_optimizer.cc:961] layout failed: INVALID_ARGUMENT: Size of values 0 does not match size of permutation 4 @ fanin shape inmodel_12/block1b_drop/dropout/SelectV2-2-TransposeNHWCToNCHW-LayoutOptimizer\n"
     ]
    },
    {
     "name": "stdout",
     "output_type": "stream",
     "text": [
      "407/407 [==============================] - 54s 85ms/step - loss: 2.9083 - accuracy: 0.2334 - val_loss: 2.5420 - val_accuracy: 0.4184\n",
      "Epoch 2/10\n",
      "407/407 [==============================] - 43s 84ms/step - loss: 2.2522 - accuracy: 0.4531 - val_loss: 1.9547 - val_accuracy: 0.6029\n",
      "Epoch 3/10\n",
      "407/407 [==============================] - 43s 83ms/step - loss: 1.7886 - accuracy: 0.5810 - val_loss: 1.5152 - val_accuracy: 0.7083\n",
      "Epoch 4/10\n",
      "407/407 [==============================] - 42s 83ms/step - loss: 1.4329 - accuracy: 0.6705 - val_loss: 1.1948 - val_accuracy: 0.7704\n",
      "Epoch 5/10\n",
      "407/407 [==============================] - 42s 83ms/step - loss: 1.1660 - accuracy: 0.7301 - val_loss: 0.9623 - val_accuracy: 0.8069\n",
      "Epoch 6/10\n",
      "407/407 [==============================] - 42s 83ms/step - loss: 0.9779 - accuracy: 0.7683 - val_loss: 0.8058 - val_accuracy: 0.8301\n",
      "Epoch 7/10\n",
      "407/407 [==============================] - 42s 83ms/step - loss: 0.8517 - accuracy: 0.7919 - val_loss: 0.7047 - val_accuracy: 0.8417\n",
      "Epoch 8/10\n",
      "407/407 [==============================] - 43s 83ms/step - loss: 0.7565 - accuracy: 0.8081 - val_loss: 0.6326 - val_accuracy: 0.8502\n",
      "Epoch 9/10\n",
      "407/407 [==============================] - 43s 83ms/step - loss: 0.6851 - accuracy: 0.8208 - val_loss: 0.5772 - val_accuracy: 0.8557\n",
      "Epoch 10/10\n",
      "407/407 [==============================] - 42s 83ms/step - loss: 0.6363 - accuracy: 0.8271 - val_loss: 0.5414 - val_accuracy: 0.8685\n",
      "lr: 0.000316, weight_decay:0.000100\n",
      "Epoch 1/10\n"
     ]
    },
    {
     "name": "stderr",
     "output_type": "stream",
     "text": [
      "2024-03-13 09:26:41.493979: E tensorflow/core/grappler/optimizers/meta_optimizer.cc:961] layout failed: INVALID_ARGUMENT: Size of values 0 does not match size of permutation 4 @ fanin shape inmodel_13/block1b_drop/dropout/SelectV2-2-TransposeNHWCToNCHW-LayoutOptimizer\n"
     ]
    },
    {
     "name": "stdout",
     "output_type": "stream",
     "text": [
      "407/407 [==============================] - 54s 85ms/step - loss: 2.9348 - accuracy: 0.2259 - val_loss: 2.5504 - val_accuracy: 0.4312\n",
      "Epoch 2/10\n",
      "407/407 [==============================] - 43s 83ms/step - loss: 2.2739 - accuracy: 0.4573 - val_loss: 1.9675 - val_accuracy: 0.6048\n",
      "Epoch 3/10\n",
      "407/407 [==============================] - 43s 83ms/step - loss: 1.8063 - accuracy: 0.5727 - val_loss: 1.5369 - val_accuracy: 0.6937\n",
      "Epoch 4/10\n",
      "407/407 [==============================] - 43s 83ms/step - loss: 1.4473 - accuracy: 0.6644 - val_loss: 1.2078 - val_accuracy: 0.7594\n",
      "Epoch 5/10\n",
      "407/407 [==============================] - 43s 83ms/step - loss: 1.1715 - accuracy: 0.7278 - val_loss: 0.9673 - val_accuracy: 0.7990\n",
      "Epoch 6/10\n",
      "407/407 [==============================] - 43s 83ms/step - loss: 0.9844 - accuracy: 0.7628 - val_loss: 0.8081 - val_accuracy: 0.8228\n",
      "Epoch 7/10\n",
      "407/407 [==============================] - 42s 83ms/step - loss: 0.8538 - accuracy: 0.7874 - val_loss: 0.7094 - val_accuracy: 0.8362\n",
      "Epoch 8/10\n",
      "407/407 [==============================] - 43s 84ms/step - loss: 0.7618 - accuracy: 0.8053 - val_loss: 0.6348 - val_accuracy: 0.8484\n",
      "Epoch 9/10\n",
      "407/407 [==============================] - 43s 84ms/step - loss: 0.6905 - accuracy: 0.8191 - val_loss: 0.5841 - val_accuracy: 0.8581\n",
      "Epoch 10/10\n",
      "407/407 [==============================] - 43s 83ms/step - loss: 0.6406 - accuracy: 0.8301 - val_loss: 0.5421 - val_accuracy: 0.8636\n",
      "lr: 0.000316, weight_decay:0.000316\n",
      "Epoch 1/10\n"
     ]
    },
    {
     "name": "stderr",
     "output_type": "stream",
     "text": [
      "2024-03-13 09:34:01.179157: E tensorflow/core/grappler/optimizers/meta_optimizer.cc:961] layout failed: INVALID_ARGUMENT: Size of values 0 does not match size of permutation 4 @ fanin shape inmodel_14/block1b_drop/dropout/SelectV2-2-TransposeNHWCToNCHW-LayoutOptimizer\n"
     ]
    },
    {
     "name": "stdout",
     "output_type": "stream",
     "text": [
      "407/407 [==============================] - 55s 84ms/step - loss: 2.9889 - accuracy: 0.1982 - val_loss: 2.6065 - val_accuracy: 0.4275\n",
      "Epoch 2/10\n",
      "407/407 [==============================] - 42s 83ms/step - loss: 2.3160 - accuracy: 0.4404 - val_loss: 1.9852 - val_accuracy: 0.5993\n",
      "Epoch 3/10\n",
      "407/407 [==============================] - 43s 83ms/step - loss: 1.8331 - accuracy: 0.5694 - val_loss: 1.5583 - val_accuracy: 0.6894\n",
      "Epoch 4/10\n",
      "407/407 [==============================] - 42s 83ms/step - loss: 1.4785 - accuracy: 0.6572 - val_loss: 1.2301 - val_accuracy: 0.7649\n",
      "Epoch 5/10\n",
      "407/407 [==============================] - 43s 83ms/step - loss: 1.1919 - accuracy: 0.7239 - val_loss: 0.9926 - val_accuracy: 0.8063\n",
      "Epoch 6/10\n",
      "407/407 [==============================] - 42s 83ms/step - loss: 0.9989 - accuracy: 0.7604 - val_loss: 0.8295 - val_accuracy: 0.8270\n",
      "Epoch 7/10\n",
      "407/407 [==============================] - 43s 84ms/step - loss: 0.8590 - accuracy: 0.7881 - val_loss: 0.7233 - val_accuracy: 0.8380\n",
      "Epoch 8/10\n",
      "407/407 [==============================] - 43s 84ms/step - loss: 0.7728 - accuracy: 0.8016 - val_loss: 0.6448 - val_accuracy: 0.8471\n",
      "Epoch 9/10\n",
      "407/407 [==============================] - 43s 84ms/step - loss: 0.6955 - accuracy: 0.8205 - val_loss: 0.5963 - val_accuracy: 0.8508\n",
      "Epoch 10/10\n",
      "407/407 [==============================] - 43s 83ms/step - loss: 0.6366 - accuracy: 0.8315 - val_loss: 0.5523 - val_accuracy: 0.8569\n",
      "lr: 0.000316, weight_decay:0.001000\n",
      "Epoch 1/10\n"
     ]
    },
    {
     "name": "stderr",
     "output_type": "stream",
     "text": [
      "2024-03-13 09:41:18.824455: E tensorflow/core/grappler/optimizers/meta_optimizer.cc:961] layout failed: INVALID_ARGUMENT: Size of values 0 does not match size of permutation 4 @ fanin shape inmodel_15/block1b_drop/dropout/SelectV2-2-TransposeNHWCToNCHW-LayoutOptimizer\n"
     ]
    },
    {
     "name": "stdout",
     "output_type": "stream",
     "text": [
      "407/407 [==============================] - 54s 84ms/step - loss: 2.9437 - accuracy: 0.2191 - val_loss: 2.5704 - val_accuracy: 0.4227\n",
      "Epoch 2/10\n",
      "407/407 [==============================] - 43s 84ms/step - loss: 2.2989 - accuracy: 0.4444 - val_loss: 1.9937 - val_accuracy: 0.6066\n",
      "Epoch 3/10\n",
      "407/407 [==============================] - 43s 83ms/step - loss: 1.8288 - accuracy: 0.5780 - val_loss: 1.5651 - val_accuracy: 0.6918\n",
      "Epoch 4/10\n",
      "407/407 [==============================] - 42s 83ms/step - loss: 1.4798 - accuracy: 0.6622 - val_loss: 1.2398 - val_accuracy: 0.7588\n",
      "Epoch 5/10\n",
      "407/407 [==============================] - 43s 83ms/step - loss: 1.2079 - accuracy: 0.7244 - val_loss: 0.9944 - val_accuracy: 0.7942\n",
      "Epoch 6/10\n",
      "407/407 [==============================] - 43s 83ms/step - loss: 1.0134 - accuracy: 0.7578 - val_loss: 0.8324 - val_accuracy: 0.8155\n",
      "Epoch 7/10\n",
      "407/407 [==============================] - 43s 83ms/step - loss: 0.8714 - accuracy: 0.7859 - val_loss: 0.7273 - val_accuracy: 0.8301\n",
      "Epoch 8/10\n",
      "407/407 [==============================] - 42s 83ms/step - loss: 0.7731 - accuracy: 0.8036 - val_loss: 0.6468 - val_accuracy: 0.8447\n",
      "Epoch 9/10\n",
      "407/407 [==============================] - 43s 83ms/step - loss: 0.7039 - accuracy: 0.8168 - val_loss: 0.5918 - val_accuracy: 0.8514\n",
      "Epoch 10/10\n",
      "407/407 [==============================] - 43s 84ms/step - loss: 0.6447 - accuracy: 0.8294 - val_loss: 0.5475 - val_accuracy: 0.8611\n",
      "lr: 0.001000, weight_decay:0.000000\n",
      "Epoch 1/10\n"
     ]
    },
    {
     "name": "stderr",
     "output_type": "stream",
     "text": [
      "2024-03-13 09:48:36.971474: E tensorflow/core/grappler/optimizers/meta_optimizer.cc:961] layout failed: INVALID_ARGUMENT: Size of values 0 does not match size of permutation 4 @ fanin shape inmodel_16/block1b_drop/dropout/SelectV2-2-TransposeNHWCToNCHW-LayoutOptimizer\n"
     ]
    },
    {
     "name": "stdout",
     "output_type": "stream",
     "text": [
      "407/407 [==============================] - 54s 84ms/step - loss: 2.3282 - accuracy: 0.4156 - val_loss: 1.4828 - val_accuracy: 0.7052\n",
      "Epoch 2/10\n",
      "407/407 [==============================] - 42s 82ms/step - loss: 1.1643 - accuracy: 0.7269 - val_loss: 0.7868 - val_accuracy: 0.8203\n",
      "Epoch 3/10\n",
      "407/407 [==============================] - 42s 83ms/step - loss: 0.7542 - accuracy: 0.8071 - val_loss: 0.5620 - val_accuracy: 0.8593\n",
      "Epoch 4/10\n",
      "407/407 [==============================] - 42s 83ms/step - loss: 0.5870 - accuracy: 0.8400 - val_loss: 0.4737 - val_accuracy: 0.8800\n",
      "Epoch 5/10\n",
      "407/407 [==============================] - 42s 83ms/step - loss: 0.4888 - accuracy: 0.8630 - val_loss: 0.4172 - val_accuracy: 0.8855\n",
      "Epoch 6/10\n",
      "407/407 [==============================] - 42s 82ms/step - loss: 0.4370 - accuracy: 0.8756 - val_loss: 0.3830 - val_accuracy: 0.8989\n",
      "Epoch 7/10\n",
      "407/407 [==============================] - 42s 83ms/step - loss: 0.3846 - accuracy: 0.8872 - val_loss: 0.3641 - val_accuracy: 0.8989\n",
      "Epoch 8/10\n",
      "407/407 [==============================] - 42s 82ms/step - loss: 0.3433 - accuracy: 0.9029 - val_loss: 0.3469 - val_accuracy: 0.9013\n",
      "Epoch 9/10\n",
      "407/407 [==============================] - 42s 83ms/step - loss: 0.3155 - accuracy: 0.9101 - val_loss: 0.3312 - val_accuracy: 0.9032\n",
      "Epoch 10/10\n",
      "407/407 [==============================] - 42s 82ms/step - loss: 0.2880 - accuracy: 0.9136 - val_loss: 0.3167 - val_accuracy: 0.9086\n",
      "lr: 0.001000, weight_decay:0.000001\n",
      "Epoch 1/10\n"
     ]
    },
    {
     "name": "stderr",
     "output_type": "stream",
     "text": [
      "2024-03-13 09:55:51.963642: E tensorflow/core/grappler/optimizers/meta_optimizer.cc:961] layout failed: INVALID_ARGUMENT: Size of values 0 does not match size of permutation 4 @ fanin shape inmodel_17/block1b_drop/dropout/SelectV2-2-TransposeNHWCToNCHW-LayoutOptimizer\n"
     ]
    },
    {
     "name": "stdout",
     "output_type": "stream",
     "text": [
      "407/407 [==============================] - 54s 85ms/step - loss: 2.3351 - accuracy: 0.4156 - val_loss: 1.4996 - val_accuracy: 0.7028\n",
      "Epoch 2/10\n",
      "407/407 [==============================] - 43s 84ms/step - loss: 1.1919 - accuracy: 0.7168 - val_loss: 0.8038 - val_accuracy: 0.8246\n",
      "Epoch 3/10\n",
      "407/407 [==============================] - 43s 83ms/step - loss: 0.7554 - accuracy: 0.8065 - val_loss: 0.5753 - val_accuracy: 0.8581\n",
      "Epoch 4/10\n",
      "407/407 [==============================] - 42s 83ms/step - loss: 0.6034 - accuracy: 0.8343 - val_loss: 0.4795 - val_accuracy: 0.8739\n",
      "Epoch 5/10\n",
      "407/407 [==============================] - 43s 83ms/step - loss: 0.4942 - accuracy: 0.8638 - val_loss: 0.4282 - val_accuracy: 0.8879\n",
      "Epoch 6/10\n",
      "407/407 [==============================] - 43s 83ms/step - loss: 0.4352 - accuracy: 0.8742 - val_loss: 0.3974 - val_accuracy: 0.8928\n",
      "Epoch 7/10\n",
      "407/407 [==============================] - 42s 83ms/step - loss: 0.3872 - accuracy: 0.8908 - val_loss: 0.3744 - val_accuracy: 0.8983\n",
      "Epoch 8/10\n",
      "407/407 [==============================] - 43s 83ms/step - loss: 0.3543 - accuracy: 0.8991 - val_loss: 0.3581 - val_accuracy: 0.9001\n",
      "Epoch 9/10\n",
      "407/407 [==============================] - 43s 83ms/step - loss: 0.3233 - accuracy: 0.9057 - val_loss: 0.3501 - val_accuracy: 0.9019\n",
      "Epoch 10/10\n",
      "407/407 [==============================] - 43s 84ms/step - loss: 0.2926 - accuracy: 0.9147 - val_loss: 0.3355 - val_accuracy: 0.9007\n",
      "lr: 0.001000, weight_decay:0.000003\n",
      "Epoch 1/10\n"
     ]
    },
    {
     "name": "stderr",
     "output_type": "stream",
     "text": [
      "2024-03-13 10:03:12.208756: E tensorflow/core/grappler/optimizers/meta_optimizer.cc:961] layout failed: INVALID_ARGUMENT: Size of values 0 does not match size of permutation 4 @ fanin shape inmodel_18/block1b_drop/dropout/SelectV2-2-TransposeNHWCToNCHW-LayoutOptimizer\n"
     ]
    },
    {
     "name": "stdout",
     "output_type": "stream",
     "text": [
      "407/407 [==============================] - 54s 85ms/step - loss: 2.3493 - accuracy: 0.4111 - val_loss: 1.5089 - val_accuracy: 0.6985\n",
      "Epoch 2/10\n",
      "407/407 [==============================] - 43s 83ms/step - loss: 1.1842 - accuracy: 0.7261 - val_loss: 0.7896 - val_accuracy: 0.8295\n",
      "Epoch 3/10\n",
      "407/407 [==============================] - 43s 84ms/step - loss: 0.7570 - accuracy: 0.8074 - val_loss: 0.5713 - val_accuracy: 0.8648\n",
      "Epoch 4/10\n",
      "407/407 [==============================] - 43s 83ms/step - loss: 0.5978 - accuracy: 0.8404 - val_loss: 0.4758 - val_accuracy: 0.8898\n",
      "Epoch 5/10\n",
      "407/407 [==============================] - 43s 84ms/step - loss: 0.4877 - accuracy: 0.8646 - val_loss: 0.4207 - val_accuracy: 0.8946\n",
      "Epoch 6/10\n",
      "407/407 [==============================] - 43s 83ms/step - loss: 0.4304 - accuracy: 0.8785 - val_loss: 0.3920 - val_accuracy: 0.9013\n",
      "Epoch 7/10\n",
      "407/407 [==============================] - 42s 83ms/step - loss: 0.3881 - accuracy: 0.8884 - val_loss: 0.3716 - val_accuracy: 0.8995\n",
      "Epoch 8/10\n",
      "407/407 [==============================] - 43s 83ms/step - loss: 0.3513 - accuracy: 0.9010 - val_loss: 0.3506 - val_accuracy: 0.9019\n",
      "Epoch 9/10\n",
      "407/407 [==============================] - 42s 83ms/step - loss: 0.3177 - accuracy: 0.9081 - val_loss: 0.3366 - val_accuracy: 0.9050\n",
      "Epoch 10/10\n",
      "407/407 [==============================] - 42s 83ms/step - loss: 0.2843 - accuracy: 0.9173 - val_loss: 0.3343 - val_accuracy: 0.9032\n",
      "lr: 0.001000, weight_decay:0.000010\n",
      "Epoch 1/10\n"
     ]
    },
    {
     "name": "stderr",
     "output_type": "stream",
     "text": [
      "2024-03-13 10:10:30.030954: E tensorflow/core/grappler/optimizers/meta_optimizer.cc:961] layout failed: INVALID_ARGUMENT: Size of values 0 does not match size of permutation 4 @ fanin shape inmodel_19/block1b_drop/dropout/SelectV2-2-TransposeNHWCToNCHW-LayoutOptimizer\n"
     ]
    },
    {
     "name": "stdout",
     "output_type": "stream",
     "text": [
      "407/407 [==============================] - 54s 85ms/step - loss: 2.3392 - accuracy: 0.4203 - val_loss: 1.5006 - val_accuracy: 0.7229\n",
      "Epoch 2/10\n",
      "407/407 [==============================] - 42s 83ms/step - loss: 1.1799 - accuracy: 0.7214 - val_loss: 0.7974 - val_accuracy: 0.8264\n",
      "Epoch 3/10\n",
      "407/407 [==============================] - 42s 83ms/step - loss: 0.7454 - accuracy: 0.8101 - val_loss: 0.5786 - val_accuracy: 0.8593\n",
      "Epoch 4/10\n",
      "407/407 [==============================] - 43s 83ms/step - loss: 0.5905 - accuracy: 0.8410 - val_loss: 0.4845 - val_accuracy: 0.8806\n",
      "Epoch 5/10\n",
      "407/407 [==============================] - 42s 83ms/step - loss: 0.5037 - accuracy: 0.8605 - val_loss: 0.4255 - val_accuracy: 0.8898\n",
      "Epoch 6/10\n",
      "407/407 [==============================] - 43s 83ms/step - loss: 0.4329 - accuracy: 0.8779 - val_loss: 0.3902 - val_accuracy: 0.8940\n",
      "Epoch 7/10\n",
      "407/407 [==============================] - 42s 83ms/step - loss: 0.3807 - accuracy: 0.8924 - val_loss: 0.3776 - val_accuracy: 0.8934\n",
      "Epoch 8/10\n",
      "407/407 [==============================] - 43s 83ms/step - loss: 0.3512 - accuracy: 0.8998 - val_loss: 0.3530 - val_accuracy: 0.9013\n",
      "Epoch 9/10\n",
      "407/407 [==============================] - 42s 83ms/step - loss: 0.3133 - accuracy: 0.9095 - val_loss: 0.3369 - val_accuracy: 0.9032\n",
      "Epoch 10/10\n",
      "407/407 [==============================] - 42s 83ms/step - loss: 0.2895 - accuracy: 0.9178 - val_loss: 0.3308 - val_accuracy: 0.9026\n",
      "lr: 0.001000, weight_decay:0.000032\n",
      "Epoch 1/10\n"
     ]
    },
    {
     "name": "stderr",
     "output_type": "stream",
     "text": [
      "2024-03-13 10:17:46.705643: E tensorflow/core/grappler/optimizers/meta_optimizer.cc:961] layout failed: INVALID_ARGUMENT: Size of values 0 does not match size of permutation 4 @ fanin shape inmodel_20/block1b_drop/dropout/SelectV2-2-TransposeNHWCToNCHW-LayoutOptimizer\n"
     ]
    },
    {
     "name": "stdout",
     "output_type": "stream",
     "text": [
      "407/407 [==============================] - 54s 85ms/step - loss: 2.3292 - accuracy: 0.4146 - val_loss: 1.4877 - val_accuracy: 0.7211\n",
      "Epoch 2/10\n",
      "407/407 [==============================] - 42s 83ms/step - loss: 1.1775 - accuracy: 0.7217 - val_loss: 0.7913 - val_accuracy: 0.8258\n",
      "Epoch 3/10\n",
      "407/407 [==============================] - 43s 83ms/step - loss: 0.7592 - accuracy: 0.8048 - val_loss: 0.5883 - val_accuracy: 0.8538\n",
      "Epoch 4/10\n",
      "407/407 [==============================] - 42s 83ms/step - loss: 0.5859 - accuracy: 0.8406 - val_loss: 0.4919 - val_accuracy: 0.8788\n",
      "Epoch 5/10\n",
      "407/407 [==============================] - 42s 83ms/step - loss: 0.4946 - accuracy: 0.8615 - val_loss: 0.4378 - val_accuracy: 0.8843\n",
      "Epoch 6/10\n",
      "407/407 [==============================] - 43s 83ms/step - loss: 0.4258 - accuracy: 0.8796 - val_loss: 0.3996 - val_accuracy: 0.8928\n",
      "Epoch 7/10\n",
      "407/407 [==============================] - 42s 83ms/step - loss: 0.3744 - accuracy: 0.8931 - val_loss: 0.3785 - val_accuracy: 0.8971\n",
      "Epoch 8/10\n",
      "407/407 [==============================] - 42s 83ms/step - loss: 0.3441 - accuracy: 0.9031 - val_loss: 0.3598 - val_accuracy: 0.8983\n",
      "Epoch 9/10\n",
      "407/407 [==============================] - 42s 83ms/step - loss: 0.3194 - accuracy: 0.9092 - val_loss: 0.3463 - val_accuracy: 0.9032\n",
      "Epoch 10/10\n",
      "407/407 [==============================] - 43s 83ms/step - loss: 0.2897 - accuracy: 0.9170 - val_loss: 0.3318 - val_accuracy: 0.9068\n",
      "lr: 0.001000, weight_decay:0.000100\n",
      "Epoch 1/10\n"
     ]
    },
    {
     "name": "stderr",
     "output_type": "stream",
     "text": [
      "2024-03-13 10:25:04.219205: E tensorflow/core/grappler/optimizers/meta_optimizer.cc:961] layout failed: INVALID_ARGUMENT: Size of values 0 does not match size of permutation 4 @ fanin shape inmodel_21/block1b_drop/dropout/SelectV2-2-TransposeNHWCToNCHW-LayoutOptimizer\n"
     ]
    },
    {
     "name": "stdout",
     "output_type": "stream",
     "text": [
      "407/407 [==============================] - 56s 90ms/step - loss: 2.3433 - accuracy: 0.4103 - val_loss: 1.5211 - val_accuracy: 0.6955\n",
      "Epoch 2/10\n",
      "407/407 [==============================] - 43s 83ms/step - loss: 1.1967 - accuracy: 0.7154 - val_loss: 0.8149 - val_accuracy: 0.8185\n",
      "Epoch 3/10\n",
      "407/407 [==============================] - 43s 83ms/step - loss: 0.7770 - accuracy: 0.7970 - val_loss: 0.5839 - val_accuracy: 0.8544\n",
      "Epoch 4/10\n",
      "407/407 [==============================] - 42s 83ms/step - loss: 0.5899 - accuracy: 0.8389 - val_loss: 0.4889 - val_accuracy: 0.8770\n",
      "Epoch 5/10\n",
      "407/407 [==============================] - 42s 83ms/step - loss: 0.4979 - accuracy: 0.8593 - val_loss: 0.4371 - val_accuracy: 0.8886\n",
      "Epoch 6/10\n",
      "407/407 [==============================] - 43s 83ms/step - loss: 0.4396 - accuracy: 0.8741 - val_loss: 0.3994 - val_accuracy: 0.8892\n",
      "Epoch 7/10\n",
      "407/407 [==============================] - 43s 83ms/step - loss: 0.3870 - accuracy: 0.8881 - val_loss: 0.3740 - val_accuracy: 0.8965\n",
      "Epoch 8/10\n",
      "407/407 [==============================] - 43s 83ms/step - loss: 0.3498 - accuracy: 0.8981 - val_loss: 0.3515 - val_accuracy: 0.8995\n",
      "Epoch 9/10\n",
      "407/407 [==============================] - 43s 83ms/step - loss: 0.3178 - accuracy: 0.9083 - val_loss: 0.3397 - val_accuracy: 0.9019\n",
      "Epoch 10/10\n",
      "407/407 [==============================] - 43s 83ms/step - loss: 0.2883 - accuracy: 0.9158 - val_loss: 0.3325 - val_accuracy: 0.9056\n",
      "lr: 0.001000, weight_decay:0.000316\n",
      "Epoch 1/10\n"
     ]
    },
    {
     "name": "stderr",
     "output_type": "stream",
     "text": [
      "2024-03-13 10:32:24.773969: E tensorflow/core/grappler/optimizers/meta_optimizer.cc:961] layout failed: INVALID_ARGUMENT: Size of values 0 does not match size of permutation 4 @ fanin shape inmodel_22/block1b_drop/dropout/SelectV2-2-TransposeNHWCToNCHW-LayoutOptimizer\n"
     ]
    },
    {
     "name": "stdout",
     "output_type": "stream",
     "text": [
      "407/407 [==============================] - 54s 84ms/step - loss: 2.3711 - accuracy: 0.4109 - val_loss: 1.5299 - val_accuracy: 0.7168\n",
      "Epoch 2/10\n",
      "407/407 [==============================] - 42s 83ms/step - loss: 1.1923 - accuracy: 0.7179 - val_loss: 0.8163 - val_accuracy: 0.8161\n",
      "Epoch 3/10\n",
      "407/407 [==============================] - 42s 83ms/step - loss: 0.7662 - accuracy: 0.8025 - val_loss: 0.5998 - val_accuracy: 0.8569\n",
      "Epoch 4/10\n",
      "407/407 [==============================] - 42s 83ms/step - loss: 0.6010 - accuracy: 0.8354 - val_loss: 0.4972 - val_accuracy: 0.8794\n",
      "Epoch 5/10\n",
      "407/407 [==============================] - 42s 83ms/step - loss: 0.5023 - accuracy: 0.8611 - val_loss: 0.4415 - val_accuracy: 0.8898\n",
      "Epoch 6/10\n",
      "407/407 [==============================] - 43s 83ms/step - loss: 0.4390 - accuracy: 0.8738 - val_loss: 0.4032 - val_accuracy: 0.8916\n",
      "Epoch 7/10\n",
      "407/407 [==============================] - 43s 83ms/step - loss: 0.3861 - accuracy: 0.8898 - val_loss: 0.3732 - val_accuracy: 0.8965\n",
      "Epoch 8/10\n",
      "407/407 [==============================] - 43s 83ms/step - loss: 0.3552 - accuracy: 0.8979 - val_loss: 0.3629 - val_accuracy: 0.8995\n",
      "Epoch 9/10\n",
      "407/407 [==============================] - 43s 84ms/step - loss: 0.3148 - accuracy: 0.9111 - val_loss: 0.3495 - val_accuracy: 0.9044\n",
      "Epoch 10/10\n",
      "407/407 [==============================] - 43s 83ms/step - loss: 0.2928 - accuracy: 0.9140 - val_loss: 0.3528 - val_accuracy: 0.9013\n",
      "lr: 0.001000, weight_decay:0.001000\n",
      "Epoch 1/10\n"
     ]
    },
    {
     "name": "stderr",
     "output_type": "stream",
     "text": [
      "2024-03-13 10:39:42.134542: E tensorflow/core/grappler/optimizers/meta_optimizer.cc:961] layout failed: INVALID_ARGUMENT: Size of values 0 does not match size of permutation 4 @ fanin shape inmodel_23/block1b_drop/dropout/SelectV2-2-TransposeNHWCToNCHW-LayoutOptimizer\n"
     ]
    },
    {
     "name": "stdout",
     "output_type": "stream",
     "text": [
      "407/407 [==============================] - 53s 84ms/step - loss: 2.3593 - accuracy: 0.4032 - val_loss: 1.5104 - val_accuracy: 0.6985\n",
      "Epoch 2/10\n",
      "407/407 [==============================] - 42s 83ms/step - loss: 1.2002 - accuracy: 0.7178 - val_loss: 0.8076 - val_accuracy: 0.8325\n",
      "Epoch 3/10\n",
      "407/407 [==============================] - 43s 83ms/step - loss: 0.7742 - accuracy: 0.7994 - val_loss: 0.5890 - val_accuracy: 0.8587\n",
      "Epoch 4/10\n",
      "407/407 [==============================] - 42s 83ms/step - loss: 0.5979 - accuracy: 0.8375 - val_loss: 0.4815 - val_accuracy: 0.8721\n",
      "Epoch 5/10\n",
      "407/407 [==============================] - 42s 83ms/step - loss: 0.5006 - accuracy: 0.8594 - val_loss: 0.4245 - val_accuracy: 0.8867\n",
      "Epoch 6/10\n",
      "407/407 [==============================] - 42s 83ms/step - loss: 0.4308 - accuracy: 0.8800 - val_loss: 0.3959 - val_accuracy: 0.8977\n",
      "Epoch 7/10\n",
      "407/407 [==============================] - 42s 83ms/step - loss: 0.3949 - accuracy: 0.8859 - val_loss: 0.3714 - val_accuracy: 0.8995\n",
      "Epoch 8/10\n",
      "407/407 [==============================] - 43s 83ms/step - loss: 0.3473 - accuracy: 0.9010 - val_loss: 0.3652 - val_accuracy: 0.8977\n",
      "Epoch 9/10\n",
      "407/407 [==============================] - 43s 83ms/step - loss: 0.3229 - accuracy: 0.9056 - val_loss: 0.3400 - val_accuracy: 0.9056\n",
      "Epoch 10/10\n",
      "407/407 [==============================] - 42s 83ms/step - loss: 0.2921 - accuracy: 0.9175 - val_loss: 0.3345 - val_accuracy: 0.9080\n",
      "lr: 0.003162, weight_decay:0.000000\n",
      "Epoch 1/10\n"
     ]
    },
    {
     "name": "stderr",
     "output_type": "stream",
     "text": [
      "2024-03-13 10:46:58.917254: E tensorflow/core/grappler/optimizers/meta_optimizer.cc:961] layout failed: INVALID_ARGUMENT: Size of values 0 does not match size of permutation 4 @ fanin shape inmodel_24/block1b_drop/dropout/SelectV2-2-TransposeNHWCToNCHW-LayoutOptimizer\n"
     ]
    },
    {
     "name": "stdout",
     "output_type": "stream",
     "text": [
      "407/407 [==============================] - 53s 84ms/step - loss: 1.4733 - accuracy: 0.6274 - val_loss: 0.5920 - val_accuracy: 0.8502\n",
      "Epoch 2/10\n",
      "407/407 [==============================] - 42s 82ms/step - loss: 0.5311 - accuracy: 0.8494 - val_loss: 0.3937 - val_accuracy: 0.8983\n",
      "Epoch 3/10\n",
      "407/407 [==============================] - 42s 82ms/step - loss: 0.3843 - accuracy: 0.8870 - val_loss: 0.3387 - val_accuracy: 0.9026\n",
      "Epoch 4/10\n",
      "407/407 [==============================] - 42s 83ms/step - loss: 0.3112 - accuracy: 0.9075 - val_loss: 0.3076 - val_accuracy: 0.9117\n",
      "Epoch 5/10\n",
      "407/407 [==============================] - 42s 82ms/step - loss: 0.2483 - accuracy: 0.9258 - val_loss: 0.2928 - val_accuracy: 0.9166\n",
      "Epoch 6/10\n",
      "407/407 [==============================] - 42s 83ms/step - loss: 0.2029 - accuracy: 0.9416 - val_loss: 0.2989 - val_accuracy: 0.9135\n",
      "Epoch 7/10\n",
      "407/407 [==============================] - 42s 83ms/step - loss: 0.1813 - accuracy: 0.9458 - val_loss: 0.2875 - val_accuracy: 0.9135\n",
      "Epoch 8/10\n",
      "407/407 [==============================] - 43s 83ms/step - loss: 0.1464 - accuracy: 0.9575 - val_loss: 0.2849 - val_accuracy: 0.9111\n",
      "Epoch 9/10\n",
      "407/407 [==============================] - 42s 82ms/step - loss: 0.1242 - accuracy: 0.9634 - val_loss: 0.2824 - val_accuracy: 0.9135\n",
      "Epoch 10/10\n",
      "407/407 [==============================] - 42s 82ms/step - loss: 0.1070 - accuracy: 0.9692 - val_loss: 0.2900 - val_accuracy: 0.9178\n",
      "lr: 0.003162, weight_decay:0.000001\n",
      "Epoch 1/10\n"
     ]
    },
    {
     "name": "stderr",
     "output_type": "stream",
     "text": [
      "2024-03-13 10:54:13.457553: E tensorflow/core/grappler/optimizers/meta_optimizer.cc:961] layout failed: INVALID_ARGUMENT: Size of values 0 does not match size of permutation 4 @ fanin shape inmodel_25/block1b_drop/dropout/SelectV2-2-TransposeNHWCToNCHW-LayoutOptimizer\n"
     ]
    },
    {
     "name": "stdout",
     "output_type": "stream",
     "text": [
      "407/407 [==============================] - 54s 84ms/step - loss: 1.4519 - accuracy: 0.6309 - val_loss: 0.5863 - val_accuracy: 0.8490\n",
      "Epoch 2/10\n",
      "407/407 [==============================] - 42s 83ms/step - loss: 0.5330 - accuracy: 0.8498 - val_loss: 0.4081 - val_accuracy: 0.8916\n",
      "Epoch 3/10\n",
      "407/407 [==============================] - 43s 83ms/step - loss: 0.3762 - accuracy: 0.8905 - val_loss: 0.3507 - val_accuracy: 0.9074\n",
      "Epoch 4/10\n",
      "407/407 [==============================] - 42s 83ms/step - loss: 0.2984 - accuracy: 0.9125 - val_loss: 0.3311 - val_accuracy: 0.9093\n",
      "Epoch 5/10\n",
      "407/407 [==============================] - 43s 83ms/step - loss: 0.2431 - accuracy: 0.9278 - val_loss: 0.3015 - val_accuracy: 0.9166\n",
      "Epoch 6/10\n",
      "407/407 [==============================] - 42s 83ms/step - loss: 0.2015 - accuracy: 0.9408 - val_loss: 0.3154 - val_accuracy: 0.9074\n",
      "Epoch 7/10\n",
      "407/407 [==============================] - 42s 83ms/step - loss: 0.1745 - accuracy: 0.9475 - val_loss: 0.2802 - val_accuracy: 0.9196\n",
      "Epoch 8/10\n",
      "407/407 [==============================] - 43s 84ms/step - loss: 0.1422 - accuracy: 0.9588 - val_loss: 0.3016 - val_accuracy: 0.9147\n",
      "Epoch 9/10\n",
      "407/407 [==============================] - 43s 84ms/step - loss: 0.1272 - accuracy: 0.9631 - val_loss: 0.2788 - val_accuracy: 0.9166\n",
      "Epoch 10/10\n",
      "407/407 [==============================] - 42s 83ms/step - loss: 0.1068 - accuracy: 0.9691 - val_loss: 0.2937 - val_accuracy: 0.9184\n",
      "lr: 0.003162, weight_decay:0.000003\n",
      "Epoch 1/10\n"
     ]
    },
    {
     "name": "stderr",
     "output_type": "stream",
     "text": [
      "2024-03-13 11:01:33.831936: E tensorflow/core/grappler/optimizers/meta_optimizer.cc:961] layout failed: INVALID_ARGUMENT: Size of values 0 does not match size of permutation 4 @ fanin shape inmodel_26/block1b_drop/dropout/SelectV2-2-TransposeNHWCToNCHW-LayoutOptimizer\n"
     ]
    },
    {
     "name": "stdout",
     "output_type": "stream",
     "text": [
      "407/407 [==============================] - 57s 85ms/step - loss: 1.4603 - accuracy: 0.6314 - val_loss: 0.5848 - val_accuracy: 0.8605\n",
      "Epoch 2/10\n",
      "407/407 [==============================] - 43s 83ms/step - loss: 0.5284 - accuracy: 0.8505 - val_loss: 0.4018 - val_accuracy: 0.8886\n",
      "Epoch 3/10\n",
      "407/407 [==============================] - 43s 83ms/step - loss: 0.3891 - accuracy: 0.8876 - val_loss: 0.3673 - val_accuracy: 0.8928\n",
      "Epoch 4/10\n",
      "407/407 [==============================] - 43s 83ms/step - loss: 0.3003 - accuracy: 0.9111 - val_loss: 0.3282 - val_accuracy: 0.9086\n",
      "Epoch 5/10\n",
      "407/407 [==============================] - 43s 83ms/step - loss: 0.2485 - accuracy: 0.9290 - val_loss: 0.3078 - val_accuracy: 0.9129\n",
      "Epoch 6/10\n",
      "407/407 [==============================] - 42s 83ms/step - loss: 0.1938 - accuracy: 0.9405 - val_loss: 0.3020 - val_accuracy: 0.9117\n",
      "Epoch 7/10\n",
      "407/407 [==============================] - 43s 83ms/step - loss: 0.1732 - accuracy: 0.9471 - val_loss: 0.2944 - val_accuracy: 0.9166\n",
      "Epoch 8/10\n",
      "407/407 [==============================] - 43s 83ms/step - loss: 0.1452 - accuracy: 0.9563 - val_loss: 0.2922 - val_accuracy: 0.9196\n",
      "Epoch 9/10\n",
      "407/407 [==============================] - 42s 83ms/step - loss: 0.1246 - accuracy: 0.9602 - val_loss: 0.2923 - val_accuracy: 0.9135\n",
      "Epoch 10/10\n",
      "407/407 [==============================] - 43s 84ms/step - loss: 0.1092 - accuracy: 0.9685 - val_loss: 0.2903 - val_accuracy: 0.9233\n",
      "lr: 0.003162, weight_decay:0.000010\n",
      "Epoch 1/10\n"
     ]
    },
    {
     "name": "stderr",
     "output_type": "stream",
     "text": [
      "2024-03-13 11:08:52.404236: E tensorflow/core/grappler/optimizers/meta_optimizer.cc:961] layout failed: INVALID_ARGUMENT: Size of values 0 does not match size of permutation 4 @ fanin shape inmodel_27/block1b_drop/dropout/SelectV2-2-TransposeNHWCToNCHW-LayoutOptimizer\n"
     ]
    },
    {
     "name": "stdout",
     "output_type": "stream",
     "text": [
      "407/407 [==============================] - 54s 85ms/step - loss: 1.4581 - accuracy: 0.6314 - val_loss: 0.5778 - val_accuracy: 0.8581\n",
      "Epoch 2/10\n",
      "407/407 [==============================] - 43s 83ms/step - loss: 0.5320 - accuracy: 0.8488 - val_loss: 0.4102 - val_accuracy: 0.8867\n",
      "Epoch 3/10\n",
      "407/407 [==============================] - 43s 84ms/step - loss: 0.3819 - accuracy: 0.8905 - val_loss: 0.3572 - val_accuracy: 0.8989\n",
      "Epoch 4/10\n",
      "407/407 [==============================] - 43s 83ms/step - loss: 0.2984 - accuracy: 0.9122 - val_loss: 0.3305 - val_accuracy: 0.9062\n",
      "Epoch 5/10\n",
      "407/407 [==============================] - 43s 83ms/step - loss: 0.2447 - accuracy: 0.9276 - val_loss: 0.3035 - val_accuracy: 0.9160\n",
      "Epoch 6/10\n",
      "407/407 [==============================] - 43s 83ms/step - loss: 0.1998 - accuracy: 0.9425 - val_loss: 0.2991 - val_accuracy: 0.9105\n",
      "Epoch 7/10\n",
      "407/407 [==============================] - 42s 83ms/step - loss: 0.1657 - accuracy: 0.9503 - val_loss: 0.2893 - val_accuracy: 0.9153\n",
      "Epoch 8/10\n",
      "407/407 [==============================] - 42s 83ms/step - loss: 0.1448 - accuracy: 0.9558 - val_loss: 0.2870 - val_accuracy: 0.9214\n",
      "Epoch 9/10\n",
      "407/407 [==============================] - 42s 83ms/step - loss: 0.1276 - accuracy: 0.9625 - val_loss: 0.2849 - val_accuracy: 0.9251\n",
      "Epoch 10/10\n",
      "407/407 [==============================] - 43s 83ms/step - loss: 0.1074 - accuracy: 0.9667 - val_loss: 0.2893 - val_accuracy: 0.9135\n",
      "lr: 0.003162, weight_decay:0.000032\n",
      "Epoch 1/10\n"
     ]
    },
    {
     "name": "stderr",
     "output_type": "stream",
     "text": [
      "2024-03-13 11:16:10.187475: E tensorflow/core/grappler/optimizers/meta_optimizer.cc:961] layout failed: INVALID_ARGUMENT: Size of values 0 does not match size of permutation 4 @ fanin shape inmodel_28/block1b_drop/dropout/SelectV2-2-TransposeNHWCToNCHW-LayoutOptimizer\n"
     ]
    },
    {
     "name": "stdout",
     "output_type": "stream",
     "text": [
      "407/407 [==============================] - 54s 85ms/step - loss: 1.4548 - accuracy: 0.6340 - val_loss: 0.5760 - val_accuracy: 0.8593\n",
      "Epoch 2/10\n",
      "407/407 [==============================] - 42s 83ms/step - loss: 0.5347 - accuracy: 0.8493 - val_loss: 0.3947 - val_accuracy: 0.8989\n",
      "Epoch 3/10\n",
      "407/407 [==============================] - 42s 83ms/step - loss: 0.3844 - accuracy: 0.8857 - val_loss: 0.3766 - val_accuracy: 0.8910\n",
      "Epoch 4/10\n",
      "407/407 [==============================] - 43s 83ms/step - loss: 0.2998 - accuracy: 0.9122 - val_loss: 0.3247 - val_accuracy: 0.9117\n",
      "Epoch 5/10\n",
      "407/407 [==============================] - 43s 83ms/step - loss: 0.2421 - accuracy: 0.9291 - val_loss: 0.3100 - val_accuracy: 0.9160\n",
      "Epoch 6/10\n",
      "407/407 [==============================] - 43s 83ms/step - loss: 0.1987 - accuracy: 0.9422 - val_loss: 0.3068 - val_accuracy: 0.9129\n",
      "Epoch 7/10\n",
      "407/407 [==============================] - 42s 83ms/step - loss: 0.1726 - accuracy: 0.9483 - val_loss: 0.3302 - val_accuracy: 0.9026\n",
      "Epoch 8/10\n",
      "407/407 [==============================] - 43s 83ms/step - loss: 0.1494 - accuracy: 0.9547 - val_loss: 0.2904 - val_accuracy: 0.9117\n",
      "Epoch 9/10\n",
      "407/407 [==============================] - 43s 83ms/step - loss: 0.1191 - accuracy: 0.9653 - val_loss: 0.2973 - val_accuracy: 0.9184\n",
      "Epoch 10/10\n",
      "407/407 [==============================] - 43s 83ms/step - loss: 0.1083 - accuracy: 0.9682 - val_loss: 0.2983 - val_accuracy: 0.9184\n",
      "lr: 0.003162, weight_decay:0.000100\n",
      "Epoch 1/10\n"
     ]
    },
    {
     "name": "stderr",
     "output_type": "stream",
     "text": [
      "2024-03-13 11:23:28.083268: E tensorflow/core/grappler/optimizers/meta_optimizer.cc:961] layout failed: INVALID_ARGUMENT: Size of values 0 does not match size of permutation 4 @ fanin shape inmodel_29/block1b_drop/dropout/SelectV2-2-TransposeNHWCToNCHW-LayoutOptimizer\n"
     ]
    },
    {
     "name": "stdout",
     "output_type": "stream",
     "text": [
      "407/407 [==============================] - 53s 84ms/step - loss: 1.4699 - accuracy: 0.6304 - val_loss: 0.5746 - val_accuracy: 0.8551\n",
      "Epoch 2/10\n",
      "407/407 [==============================] - 42s 83ms/step - loss: 0.5424 - accuracy: 0.8483 - val_loss: 0.3980 - val_accuracy: 0.8892\n",
      "Epoch 3/10\n",
      "407/407 [==============================] - 43s 83ms/step - loss: 0.3792 - accuracy: 0.8875 - val_loss: 0.3490 - val_accuracy: 0.8959\n",
      "Epoch 4/10\n",
      "407/407 [==============================] - 42s 83ms/step - loss: 0.3085 - accuracy: 0.9091 - val_loss: 0.3289 - val_accuracy: 0.9062\n",
      "Epoch 5/10\n",
      "407/407 [==============================] - 42s 83ms/step - loss: 0.2384 - accuracy: 0.9301 - val_loss: 0.3064 - val_accuracy: 0.9086\n",
      "Epoch 6/10\n",
      "407/407 [==============================] - 43s 83ms/step - loss: 0.2092 - accuracy: 0.9392 - val_loss: 0.2927 - val_accuracy: 0.9105\n",
      "Epoch 7/10\n",
      "407/407 [==============================] - 43s 83ms/step - loss: 0.1697 - accuracy: 0.9515 - val_loss: 0.2889 - val_accuracy: 0.9184\n",
      "Epoch 8/10\n",
      "407/407 [==============================] - 42s 83ms/step - loss: 0.1463 - accuracy: 0.9575 - val_loss: 0.2890 - val_accuracy: 0.9160\n",
      "Epoch 9/10\n",
      "407/407 [==============================] - 43s 83ms/step - loss: 0.1230 - accuracy: 0.9626 - val_loss: 0.2792 - val_accuracy: 0.9251\n",
      "Epoch 10/10\n",
      "407/407 [==============================] - 43s 83ms/step - loss: 0.1009 - accuracy: 0.9705 - val_loss: 0.2862 - val_accuracy: 0.9178\n",
      "lr: 0.003162, weight_decay:0.000316\n",
      "Epoch 1/10\n"
     ]
    },
    {
     "name": "stderr",
     "output_type": "stream",
     "text": [
      "2024-03-13 11:30:44.970499: E tensorflow/core/grappler/optimizers/meta_optimizer.cc:961] layout failed: INVALID_ARGUMENT: Size of values 0 does not match size of permutation 4 @ fanin shape inmodel_30/block1b_drop/dropout/SelectV2-2-TransposeNHWCToNCHW-LayoutOptimizer\n"
     ]
    },
    {
     "name": "stdout",
     "output_type": "stream",
     "text": [
      "407/407 [==============================] - 54s 85ms/step - loss: 1.4718 - accuracy: 0.6280 - val_loss: 0.5956 - val_accuracy: 0.8459\n",
      "Epoch 2/10\n",
      "407/407 [==============================] - 43s 83ms/step - loss: 0.5302 - accuracy: 0.8478 - val_loss: 0.4171 - val_accuracy: 0.8867\n",
      "Epoch 3/10\n",
      "407/407 [==============================] - 43s 83ms/step - loss: 0.3813 - accuracy: 0.8856 - val_loss: 0.3623 - val_accuracy: 0.8995\n",
      "Epoch 4/10\n",
      "407/407 [==============================] - 42s 83ms/step - loss: 0.3000 - accuracy: 0.9122 - val_loss: 0.3215 - val_accuracy: 0.9056\n",
      "Epoch 5/10\n",
      "407/407 [==============================] - 43s 83ms/step - loss: 0.2421 - accuracy: 0.9265 - val_loss: 0.3034 - val_accuracy: 0.9086\n",
      "Epoch 6/10\n",
      "407/407 [==============================] - 43s 83ms/step - loss: 0.2046 - accuracy: 0.9390 - val_loss: 0.2954 - val_accuracy: 0.9147\n",
      "Epoch 7/10\n",
      "407/407 [==============================] - 42s 83ms/step - loss: 0.1756 - accuracy: 0.9482 - val_loss: 0.2920 - val_accuracy: 0.9196\n",
      "Epoch 8/10\n",
      "407/407 [==============================] - 42s 83ms/step - loss: 0.1539 - accuracy: 0.9542 - val_loss: 0.2792 - val_accuracy: 0.9208\n",
      "Epoch 9/10\n",
      "407/407 [==============================] - 43s 84ms/step - loss: 0.1249 - accuracy: 0.9622 - val_loss: 0.2806 - val_accuracy: 0.9227\n",
      "Epoch 10/10\n",
      "407/407 [==============================] - 42s 83ms/step - loss: 0.1124 - accuracy: 0.9679 - val_loss: 0.2669 - val_accuracy: 0.9257\n",
      "lr: 0.003162, weight_decay:0.001000\n",
      "Epoch 1/10\n"
     ]
    },
    {
     "name": "stderr",
     "output_type": "stream",
     "text": [
      "2024-03-13 11:38:02.540228: E tensorflow/core/grappler/optimizers/meta_optimizer.cc:961] layout failed: INVALID_ARGUMENT: Size of values 0 does not match size of permutation 4 @ fanin shape inmodel_31/block1b_drop/dropout/SelectV2-2-TransposeNHWCToNCHW-LayoutOptimizer\n"
     ]
    },
    {
     "name": "stdout",
     "output_type": "stream",
     "text": [
      "407/407 [==============================] - 54s 84ms/step - loss: 1.4297 - accuracy: 0.6405 - val_loss: 0.6036 - val_accuracy: 0.8502\n",
      "Epoch 2/10\n",
      "407/407 [==============================] - 43s 84ms/step - loss: 0.5333 - accuracy: 0.8517 - val_loss: 0.4123 - val_accuracy: 0.8873\n",
      "Epoch 3/10\n",
      "407/407 [==============================] - 42s 83ms/step - loss: 0.3826 - accuracy: 0.8879 - val_loss: 0.3619 - val_accuracy: 0.8983\n",
      "Epoch 4/10\n",
      "407/407 [==============================] - 43s 83ms/step - loss: 0.3029 - accuracy: 0.9087 - val_loss: 0.3408 - val_accuracy: 0.9038\n",
      "Epoch 5/10\n",
      "407/407 [==============================] - 42s 83ms/step - loss: 0.2356 - accuracy: 0.9311 - val_loss: 0.3208 - val_accuracy: 0.9038\n",
      "Epoch 6/10\n",
      "407/407 [==============================] - 43s 83ms/step - loss: 0.1959 - accuracy: 0.9425 - val_loss: 0.3199 - val_accuracy: 0.9105\n",
      "Epoch 7/10\n",
      "407/407 [==============================] - 43s 84ms/step - loss: 0.1741 - accuracy: 0.9488 - val_loss: 0.3039 - val_accuracy: 0.9074\n",
      "Epoch 8/10\n",
      "407/407 [==============================] - 43s 83ms/step - loss: 0.1436 - accuracy: 0.9583 - val_loss: 0.2781 - val_accuracy: 0.9184\n",
      "Epoch 9/10\n",
      "407/407 [==============================] - 43s 83ms/step - loss: 0.1232 - accuracy: 0.9642 - val_loss: 0.2928 - val_accuracy: 0.9135\n",
      "Epoch 10/10\n",
      "407/407 [==============================] - 42s 83ms/step - loss: 0.1032 - accuracy: 0.9691 - val_loss: 0.3039 - val_accuracy: 0.9123\n",
      "lr: 0.010000, weight_decay:0.000000\n",
      "Epoch 1/10\n"
     ]
    },
    {
     "name": "stderr",
     "output_type": "stream",
     "text": [
      "2024-03-13 11:45:23.850228: E tensorflow/core/grappler/optimizers/meta_optimizer.cc:961] layout failed: INVALID_ARGUMENT: Size of values 0 does not match size of permutation 4 @ fanin shape inmodel_32/block1b_drop/dropout/SelectV2-2-TransposeNHWCToNCHW-LayoutOptimizer\n"
     ]
    },
    {
     "name": "stdout",
     "output_type": "stream",
     "text": [
      "407/407 [==============================] - 57s 84ms/step - loss: 0.9366 - accuracy: 0.7450 - val_loss: 0.4177 - val_accuracy: 0.8788\n",
      "Epoch 2/10\n",
      "407/407 [==============================] - 42s 83ms/step - loss: 0.3791 - accuracy: 0.8878 - val_loss: 0.3551 - val_accuracy: 0.8934\n",
      "Epoch 3/10\n",
      "407/407 [==============================] - 42s 83ms/step - loss: 0.2525 - accuracy: 0.9235 - val_loss: 0.3318 - val_accuracy: 0.8971\n",
      "Epoch 4/10\n",
      "407/407 [==============================] - 42s 82ms/step - loss: 0.1876 - accuracy: 0.9422 - val_loss: 0.3175 - val_accuracy: 0.9160\n",
      "Epoch 5/10\n",
      "407/407 [==============================] - 42s 82ms/step - loss: 0.1329 - accuracy: 0.9604 - val_loss: 0.3198 - val_accuracy: 0.9086\n",
      "Epoch 6/10\n",
      "407/407 [==============================] - 42s 82ms/step - loss: 0.1091 - accuracy: 0.9662 - val_loss: 0.2980 - val_accuracy: 0.9227\n",
      "Epoch 7/10\n",
      "407/407 [==============================] - 42s 83ms/step - loss: 0.0916 - accuracy: 0.9709 - val_loss: 0.3312 - val_accuracy: 0.9172\n",
      "Epoch 8/10\n",
      "407/407 [==============================] - 42s 82ms/step - loss: 0.0794 - accuracy: 0.9748 - val_loss: 0.3251 - val_accuracy: 0.9166\n",
      "Epoch 9/10\n",
      "407/407 [==============================] - 42s 82ms/step - loss: 0.0696 - accuracy: 0.9778 - val_loss: 0.3412 - val_accuracy: 0.9117\n",
      "Epoch 10/10\n",
      "407/407 [==============================] - 42s 83ms/step - loss: 0.0587 - accuracy: 0.9831 - val_loss: 0.3350 - val_accuracy: 0.9147\n",
      "lr: 0.010000, weight_decay:0.000001\n",
      "Epoch 1/10\n"
     ]
    },
    {
     "name": "stderr",
     "output_type": "stream",
     "text": [
      "2024-03-13 11:52:38.718679: E tensorflow/core/grappler/optimizers/meta_optimizer.cc:961] layout failed: INVALID_ARGUMENT: Size of values 0 does not match size of permutation 4 @ fanin shape inmodel_33/block1b_drop/dropout/SelectV2-2-TransposeNHWCToNCHW-LayoutOptimizer\n"
     ]
    },
    {
     "name": "stdout",
     "output_type": "stream",
     "text": [
      "407/407 [==============================] - 54s 85ms/step - loss: 0.9247 - accuracy: 0.7494 - val_loss: 0.3972 - val_accuracy: 0.8910\n",
      "Epoch 2/10\n",
      "407/407 [==============================] - 43s 83ms/step - loss: 0.3845 - accuracy: 0.8849 - val_loss: 0.3872 - val_accuracy: 0.8886\n",
      "Epoch 3/10\n",
      "407/407 [==============================] - 43s 83ms/step - loss: 0.2568 - accuracy: 0.9219 - val_loss: 0.3842 - val_accuracy: 0.8916\n",
      "Epoch 4/10\n",
      "407/407 [==============================] - 42s 83ms/step - loss: 0.1883 - accuracy: 0.9417 - val_loss: 0.3256 - val_accuracy: 0.9062\n",
      "Epoch 5/10\n",
      "407/407 [==============================] - 43s 83ms/step - loss: 0.1426 - accuracy: 0.9542 - val_loss: 0.3352 - val_accuracy: 0.8995\n",
      "Epoch 6/10\n",
      "407/407 [==============================] - 42s 83ms/step - loss: 0.1200 - accuracy: 0.9627 - val_loss: 0.4130 - val_accuracy: 0.9007\n",
      "Epoch 7/10\n",
      "407/407 [==============================] - 42s 83ms/step - loss: 0.0945 - accuracy: 0.9706 - val_loss: 0.3563 - val_accuracy: 0.9093\n",
      "Epoch 8/10\n",
      "407/407 [==============================] - 43s 83ms/step - loss: 0.0747 - accuracy: 0.9764 - val_loss: 0.3847 - val_accuracy: 0.8946\n",
      "Epoch 9/10\n",
      "407/407 [==============================] - 43s 83ms/step - loss: 0.0688 - accuracy: 0.9794 - val_loss: 0.3512 - val_accuracy: 0.9117\n",
      "Epoch 10/10\n",
      "407/407 [==============================] - 42s 83ms/step - loss: 0.0606 - accuracy: 0.9814 - val_loss: 0.3764 - val_accuracy: 0.9105\n",
      "lr: 0.010000, weight_decay:0.000003\n",
      "Epoch 1/10\n"
     ]
    },
    {
     "name": "stderr",
     "output_type": "stream",
     "text": [
      "2024-03-13 11:59:56.437971: E tensorflow/core/grappler/optimizers/meta_optimizer.cc:961] layout failed: INVALID_ARGUMENT: Size of values 0 does not match size of permutation 4 @ fanin shape inmodel_34/block1b_drop/dropout/SelectV2-2-TransposeNHWCToNCHW-LayoutOptimizer\n"
     ]
    },
    {
     "name": "stdout",
     "output_type": "stream",
     "text": [
      "407/407 [==============================] - 54s 85ms/step - loss: 0.9343 - accuracy: 0.7397 - val_loss: 0.4484 - val_accuracy: 0.8654\n",
      "Epoch 2/10\n",
      "407/407 [==============================] - 42s 83ms/step - loss: 0.3604 - accuracy: 0.8910 - val_loss: 0.3992 - val_accuracy: 0.8764\n",
      "Epoch 3/10\n",
      "407/407 [==============================] - 42s 83ms/step - loss: 0.2606 - accuracy: 0.9179 - val_loss: 0.3591 - val_accuracy: 0.8892\n",
      "Epoch 4/10\n",
      "407/407 [==============================] - 43s 83ms/step - loss: 0.1846 - accuracy: 0.9428 - val_loss: 0.3417 - val_accuracy: 0.9062\n",
      "Epoch 5/10\n",
      "407/407 [==============================] - 43s 84ms/step - loss: 0.1457 - accuracy: 0.9541 - val_loss: 0.3388 - val_accuracy: 0.9038\n",
      "Epoch 6/10\n",
      "407/407 [==============================] - 43s 84ms/step - loss: 0.1153 - accuracy: 0.9645 - val_loss: 0.3218 - val_accuracy: 0.9086\n",
      "Epoch 7/10\n",
      "407/407 [==============================] - 43s 83ms/step - loss: 0.1019 - accuracy: 0.9698 - val_loss: 0.3658 - val_accuracy: 0.9080\n",
      "Epoch 8/10\n",
      "407/407 [==============================] - 43s 84ms/step - loss: 0.0809 - accuracy: 0.9747 - val_loss: 0.3663 - val_accuracy: 0.9062\n",
      "Epoch 9/10\n",
      "407/407 [==============================] - 42s 83ms/step - loss: 0.0787 - accuracy: 0.9764 - val_loss: 0.3639 - val_accuracy: 0.9074\n",
      "Epoch 10/10\n",
      "407/407 [==============================] - 43s 84ms/step - loss: 0.0685 - accuracy: 0.9788 - val_loss: 0.3398 - val_accuracy: 0.9172\n",
      "lr: 0.010000, weight_decay:0.000010\n",
      "Epoch 1/10\n"
     ]
    },
    {
     "name": "stderr",
     "output_type": "stream",
     "text": [
      "2024-03-13 12:07:14.567313: E tensorflow/core/grappler/optimizers/meta_optimizer.cc:961] layout failed: INVALID_ARGUMENT: Size of values 0 does not match size of permutation 4 @ fanin shape inmodel_35/block1b_drop/dropout/SelectV2-2-TransposeNHWCToNCHW-LayoutOptimizer\n"
     ]
    },
    {
     "name": "stdout",
     "output_type": "stream",
     "text": [
      "407/407 [==============================] - 54s 84ms/step - loss: 0.9315 - accuracy: 0.7439 - val_loss: 0.4123 - val_accuracy: 0.8727\n",
      "Epoch 2/10\n",
      "407/407 [==============================] - 42s 83ms/step - loss: 0.3758 - accuracy: 0.8853 - val_loss: 0.3558 - val_accuracy: 0.8952\n",
      "Epoch 3/10\n",
      "407/407 [==============================] - 43s 83ms/step - loss: 0.2588 - accuracy: 0.9209 - val_loss: 0.3715 - val_accuracy: 0.8892\n",
      "Epoch 4/10\n",
      "407/407 [==============================] - 43s 84ms/step - loss: 0.1961 - accuracy: 0.9392 - val_loss: 0.3126 - val_accuracy: 0.9062\n",
      "Epoch 5/10\n",
      "407/407 [==============================] - 42s 83ms/step - loss: 0.1363 - accuracy: 0.9582 - val_loss: 0.3424 - val_accuracy: 0.9007\n",
      "Epoch 6/10\n",
      "407/407 [==============================] - 43s 83ms/step - loss: 0.1149 - accuracy: 0.9651 - val_loss: 0.3204 - val_accuracy: 0.9099\n",
      "Epoch 7/10\n",
      "407/407 [==============================] - 43s 83ms/step - loss: 0.0900 - accuracy: 0.9718 - val_loss: 0.3439 - val_accuracy: 0.9153\n",
      "Epoch 8/10\n",
      "407/407 [==============================] - 43s 83ms/step - loss: 0.0751 - accuracy: 0.9768 - val_loss: 0.3652 - val_accuracy: 0.9074\n",
      "Epoch 9/10\n",
      "407/407 [==============================] - 42s 83ms/step - loss: 0.0668 - accuracy: 0.9796 - val_loss: 0.3342 - val_accuracy: 0.9166\n",
      "Epoch 10/10\n",
      "407/407 [==============================] - 42s 83ms/step - loss: 0.0556 - accuracy: 0.9820 - val_loss: 0.3130 - val_accuracy: 0.9196\n",
      "lr: 0.010000, weight_decay:0.000032\n",
      "Epoch 1/10\n"
     ]
    },
    {
     "name": "stderr",
     "output_type": "stream",
     "text": [
      "2024-03-13 12:14:32.024370: E tensorflow/core/grappler/optimizers/meta_optimizer.cc:961] layout failed: INVALID_ARGUMENT: Size of values 0 does not match size of permutation 4 @ fanin shape inmodel_36/block1b_drop/dropout/SelectV2-2-TransposeNHWCToNCHW-LayoutOptimizer\n"
     ]
    },
    {
     "name": "stdout",
     "output_type": "stream",
     "text": [
      "407/407 [==============================] - 54s 84ms/step - loss: 0.9146 - accuracy: 0.7469 - val_loss: 0.4372 - val_accuracy: 0.8697\n",
      "Epoch 2/10\n",
      "407/407 [==============================] - 43s 83ms/step - loss: 0.3819 - accuracy: 0.8844 - val_loss: 0.3339 - val_accuracy: 0.9062\n",
      "Epoch 3/10\n",
      "407/407 [==============================] - 43s 84ms/step - loss: 0.2635 - accuracy: 0.9195 - val_loss: 0.3251 - val_accuracy: 0.9074\n",
      "Epoch 4/10\n",
      "407/407 [==============================] - 43s 83ms/step - loss: 0.1901 - accuracy: 0.9415 - val_loss: 0.3490 - val_accuracy: 0.9013\n",
      "Epoch 5/10\n",
      "407/407 [==============================] - 43s 84ms/step - loss: 0.1400 - accuracy: 0.9575 - val_loss: 0.3252 - val_accuracy: 0.9080\n",
      "Epoch 6/10\n",
      "407/407 [==============================] - 43s 83ms/step - loss: 0.1079 - accuracy: 0.9673 - val_loss: 0.3325 - val_accuracy: 0.9056\n",
      "Epoch 7/10\n",
      "407/407 [==============================] - 43s 83ms/step - loss: 0.1010 - accuracy: 0.9675 - val_loss: 0.3514 - val_accuracy: 0.8971\n",
      "Epoch 8/10\n",
      "407/407 [==============================] - 43s 84ms/step - loss: 0.0826 - accuracy: 0.9737 - val_loss: 0.3816 - val_accuracy: 0.9007\n",
      "Epoch 9/10\n",
      "407/407 [==============================] - 43s 84ms/step - loss: 0.0674 - accuracy: 0.9792 - val_loss: 0.3400 - val_accuracy: 0.9123\n",
      "Epoch 10/10\n",
      "407/407 [==============================] - 43s 84ms/step - loss: 0.0579 - accuracy: 0.9814 - val_loss: 0.3619 - val_accuracy: 0.9111\n",
      "lr: 0.010000, weight_decay:0.000100\n",
      "Epoch 1/10\n"
     ]
    },
    {
     "name": "stderr",
     "output_type": "stream",
     "text": [
      "2024-03-13 12:21:50.604878: E tensorflow/core/grappler/optimizers/meta_optimizer.cc:961] layout failed: INVALID_ARGUMENT: Size of values 0 does not match size of permutation 4 @ fanin shape inmodel_37/block1b_drop/dropout/SelectV2-2-TransposeNHWCToNCHW-LayoutOptimizer\n"
     ]
    },
    {
     "name": "stdout",
     "output_type": "stream",
     "text": [
      "407/407 [==============================] - 54s 85ms/step - loss: 0.9290 - accuracy: 0.7452 - val_loss: 0.5096 - val_accuracy: 0.8526\n",
      "Epoch 2/10\n",
      "407/407 [==============================] - 43s 83ms/step - loss: 0.3730 - accuracy: 0.8898 - val_loss: 0.4124 - val_accuracy: 0.8825\n",
      "Epoch 3/10\n",
      "407/407 [==============================] - 43s 84ms/step - loss: 0.2599 - accuracy: 0.9234 - val_loss: 0.3715 - val_accuracy: 0.8904\n",
      "Epoch 4/10\n",
      "407/407 [==============================] - 43s 83ms/step - loss: 0.1962 - accuracy: 0.9401 - val_loss: 0.3497 - val_accuracy: 0.9050\n",
      "Epoch 5/10\n",
      "407/407 [==============================] - 43s 84ms/step - loss: 0.1500 - accuracy: 0.9534 - val_loss: 0.3702 - val_accuracy: 0.8959\n",
      "Epoch 6/10\n",
      "407/407 [==============================] - 43s 83ms/step - loss: 0.1151 - accuracy: 0.9645 - val_loss: 0.3482 - val_accuracy: 0.9032\n",
      "Epoch 7/10\n",
      "407/407 [==============================] - 43s 84ms/step - loss: 0.0944 - accuracy: 0.9702 - val_loss: 0.3503 - val_accuracy: 0.9007\n",
      "Epoch 8/10\n",
      "407/407 [==============================] - 43s 84ms/step - loss: 0.0774 - accuracy: 0.9771 - val_loss: 0.3436 - val_accuracy: 0.9105\n",
      "Epoch 9/10\n",
      "407/407 [==============================] - 43s 83ms/step - loss: 0.0719 - accuracy: 0.9778 - val_loss: 0.3952 - val_accuracy: 0.9007\n",
      "Epoch 10/10\n",
      "407/407 [==============================] - 43s 84ms/step - loss: 0.0559 - accuracy: 0.9836 - val_loss: 0.3615 - val_accuracy: 0.9093\n",
      "lr: 0.010000, weight_decay:0.000316\n",
      "Epoch 1/10\n"
     ]
    },
    {
     "name": "stderr",
     "output_type": "stream",
     "text": [
      "2024-03-13 12:29:13.697872: E tensorflow/core/grappler/optimizers/meta_optimizer.cc:961] layout failed: INVALID_ARGUMENT: Size of values 0 does not match size of permutation 4 @ fanin shape inmodel_38/block1b_drop/dropout/SelectV2-2-TransposeNHWCToNCHW-LayoutOptimizer\n"
     ]
    },
    {
     "name": "stdout",
     "output_type": "stream",
     "text": [
      "407/407 [==============================] - 58s 85ms/step - loss: 0.9341 - accuracy: 0.7444 - val_loss: 0.4376 - val_accuracy: 0.8685\n",
      "Epoch 2/10\n",
      "407/407 [==============================] - 43s 83ms/step - loss: 0.3713 - accuracy: 0.8893 - val_loss: 0.3853 - val_accuracy: 0.8879\n",
      "Epoch 3/10\n",
      "407/407 [==============================] - 43s 84ms/step - loss: 0.2588 - accuracy: 0.9192 - val_loss: 0.3155 - val_accuracy: 0.9105\n",
      "Epoch 4/10\n",
      "407/407 [==============================] - 43s 83ms/step - loss: 0.1838 - accuracy: 0.9425 - val_loss: 0.3115 - val_accuracy: 0.9123\n",
      "Epoch 5/10\n",
      "407/407 [==============================] - 43s 84ms/step - loss: 0.1455 - accuracy: 0.9550 - val_loss: 0.3201 - val_accuracy: 0.9093\n",
      "Epoch 6/10\n",
      "407/407 [==============================] - 42s 83ms/step - loss: 0.1156 - accuracy: 0.9629 - val_loss: 0.3025 - val_accuracy: 0.9153\n",
      "Epoch 7/10\n",
      "407/407 [==============================] - 43s 84ms/step - loss: 0.0944 - accuracy: 0.9709 - val_loss: 0.3321 - val_accuracy: 0.9129\n",
      "Epoch 8/10\n",
      "407/407 [==============================] - 43s 84ms/step - loss: 0.0847 - accuracy: 0.9731 - val_loss: 0.3296 - val_accuracy: 0.9184\n",
      "Epoch 9/10\n",
      "407/407 [==============================] - 43s 83ms/step - loss: 0.0660 - accuracy: 0.9775 - val_loss: 0.3186 - val_accuracy: 0.9172\n",
      "Epoch 10/10\n",
      "407/407 [==============================] - 43s 83ms/step - loss: 0.0583 - accuracy: 0.9815 - val_loss: 0.3067 - val_accuracy: 0.9190\n",
      "lr: 0.010000, weight_decay:0.001000\n",
      "Epoch 1/10\n"
     ]
    },
    {
     "name": "stderr",
     "output_type": "stream",
     "text": [
      "2024-03-13 12:36:32.633556: E tensorflow/core/grappler/optimizers/meta_optimizer.cc:961] layout failed: INVALID_ARGUMENT: Size of values 0 does not match size of permutation 4 @ fanin shape inmodel_39/block1b_drop/dropout/SelectV2-2-TransposeNHWCToNCHW-LayoutOptimizer\n"
     ]
    },
    {
     "name": "stdout",
     "output_type": "stream",
     "text": [
      "407/407 [==============================] - 54s 85ms/step - loss: 0.9349 - accuracy: 0.7457 - val_loss: 0.4204 - val_accuracy: 0.8752\n",
      "Epoch 2/10\n",
      "407/407 [==============================] - 43s 84ms/step - loss: 0.3713 - accuracy: 0.8897 - val_loss: 0.3408 - val_accuracy: 0.8989\n",
      "Epoch 3/10\n",
      "407/407 [==============================] - 43s 83ms/step - loss: 0.2551 - accuracy: 0.9220 - val_loss: 0.3859 - val_accuracy: 0.8898\n",
      "Epoch 4/10\n",
      "407/407 [==============================] - 43s 83ms/step - loss: 0.1853 - accuracy: 0.9412 - val_loss: 0.3713 - val_accuracy: 0.8977\n",
      "Epoch 5/10\n",
      "407/407 [==============================] - 43s 83ms/step - loss: 0.1377 - accuracy: 0.9574 - val_loss: 0.3893 - val_accuracy: 0.9001\n",
      "Epoch 6/10\n",
      "407/407 [==============================] - 42s 83ms/step - loss: 0.1210 - accuracy: 0.9638 - val_loss: 0.3559 - val_accuracy: 0.9062\n",
      "Epoch 7/10\n",
      "407/407 [==============================] - 43s 83ms/step - loss: 0.0925 - accuracy: 0.9716 - val_loss: 0.3364 - val_accuracy: 0.9196\n",
      "Epoch 8/10\n",
      "407/407 [==============================] - 43s 83ms/step - loss: 0.0823 - accuracy: 0.9741 - val_loss: 0.3731 - val_accuracy: 0.9123\n",
      "Epoch 9/10\n",
      "407/407 [==============================] - 43s 83ms/step - loss: 0.0794 - accuracy: 0.9745 - val_loss: 0.3629 - val_accuracy: 0.9117\n",
      "Epoch 10/10\n",
      "407/407 [==============================] - 43s 84ms/step - loss: 0.0683 - accuracy: 0.9782 - val_loss: 0.3810 - val_accuracy: 0.9099\n",
      "lr: 0.031623, weight_decay:0.000000\n",
      "Epoch 1/10\n"
     ]
    },
    {
     "name": "stderr",
     "output_type": "stream",
     "text": [
      "2024-03-13 12:43:51.318810: E tensorflow/core/grappler/optimizers/meta_optimizer.cc:961] layout failed: INVALID_ARGUMENT: Size of values 0 does not match size of permutation 4 @ fanin shape inmodel_40/block1b_drop/dropout/SelectV2-2-TransposeNHWCToNCHW-LayoutOptimizer\n"
     ]
    },
    {
     "name": "stdout",
     "output_type": "stream",
     "text": [
      "407/407 [==============================] - 53s 84ms/step - loss: 0.9684 - accuracy: 0.7184 - val_loss: 0.7467 - val_accuracy: 0.7759\n",
      "Epoch 2/10\n",
      "407/407 [==============================] - 42s 82ms/step - loss: 0.5566 - accuracy: 0.8304 - val_loss: 0.5655 - val_accuracy: 0.8319\n",
      "Epoch 3/10\n",
      "407/407 [==============================] - 42s 83ms/step - loss: 0.3816 - accuracy: 0.8816 - val_loss: 0.7286 - val_accuracy: 0.7990\n",
      "Epoch 4/10\n",
      "407/407 [==============================] - 42s 82ms/step - loss: 0.2991 - accuracy: 0.9070 - val_loss: 0.5625 - val_accuracy: 0.8441\n",
      "Epoch 5/10\n",
      "407/407 [==============================] - 42s 83ms/step - loss: 0.2332 - accuracy: 0.9251 - val_loss: 0.5026 - val_accuracy: 0.8770\n",
      "Epoch 6/10\n",
      "407/407 [==============================] - 42s 82ms/step - loss: 0.2021 - accuracy: 0.9326 - val_loss: 0.5084 - val_accuracy: 0.8563\n",
      "Epoch 7/10\n",
      "407/407 [==============================] - 42s 83ms/step - loss: 0.1654 - accuracy: 0.9473 - val_loss: 0.6577 - val_accuracy: 0.8417\n",
      "Epoch 8/10\n",
      "407/407 [==============================] - 42s 82ms/step - loss: 0.1331 - accuracy: 0.9585 - val_loss: 0.4657 - val_accuracy: 0.8819\n",
      "Epoch 9/10\n",
      "407/407 [==============================] - 42s 83ms/step - loss: 0.1162 - accuracy: 0.9616 - val_loss: 0.6861 - val_accuracy: 0.8289\n",
      "Epoch 10/10\n",
      "407/407 [==============================] - 42s 83ms/step - loss: 0.1204 - accuracy: 0.9593 - val_loss: 0.5133 - val_accuracy: 0.8764\n",
      "lr: 0.031623, weight_decay:0.000001\n",
      "Epoch 1/10\n"
     ]
    },
    {
     "name": "stderr",
     "output_type": "stream",
     "text": [
      "2024-03-13 12:51:05.717988: E tensorflow/core/grappler/optimizers/meta_optimizer.cc:961] layout failed: INVALID_ARGUMENT: Size of values 0 does not match size of permutation 4 @ fanin shape inmodel_41/block1b_drop/dropout/SelectV2-2-TransposeNHWCToNCHW-LayoutOptimizer\n"
     ]
    },
    {
     "name": "stdout",
     "output_type": "stream",
     "text": [
      "407/407 [==============================] - 54s 85ms/step - loss: 0.9565 - accuracy: 0.7264 - val_loss: 0.7805 - val_accuracy: 0.7753\n",
      "Epoch 2/10\n",
      "407/407 [==============================] - 42s 83ms/step - loss: 0.5384 - accuracy: 0.8361 - val_loss: 0.5738 - val_accuracy: 0.8465\n",
      "Epoch 3/10\n",
      "407/407 [==============================] - 43s 83ms/step - loss: 0.3854 - accuracy: 0.8788 - val_loss: 0.6281 - val_accuracy: 0.8258\n",
      "Epoch 4/10\n",
      "407/407 [==============================] - 43s 83ms/step - loss: 0.2965 - accuracy: 0.9063 - val_loss: 0.5948 - val_accuracy: 0.8441\n",
      "Epoch 5/10\n",
      "407/407 [==============================] - 43s 84ms/step - loss: 0.2427 - accuracy: 0.9205 - val_loss: 0.4785 - val_accuracy: 0.8544\n",
      "Epoch 6/10\n",
      "407/407 [==============================] - 43s 84ms/step - loss: 0.1953 - accuracy: 0.9371 - val_loss: 0.5412 - val_accuracy: 0.8520\n",
      "Epoch 7/10\n",
      "407/407 [==============================] - 43s 84ms/step - loss: 0.1660 - accuracy: 0.9475 - val_loss: 0.4919 - val_accuracy: 0.8654\n",
      "Epoch 8/10\n",
      "407/407 [==============================] - 43s 84ms/step - loss: 0.1518 - accuracy: 0.9498 - val_loss: 0.4643 - val_accuracy: 0.8904\n",
      "Epoch 9/10\n",
      "407/407 [==============================] - 43s 84ms/step - loss: 0.1127 - accuracy: 0.9633 - val_loss: 0.5084 - val_accuracy: 0.8776\n",
      "Epoch 10/10\n",
      "407/407 [==============================] - 43s 83ms/step - loss: 0.1087 - accuracy: 0.9668 - val_loss: 0.5732 - val_accuracy: 0.8618\n",
      "lr: 0.031623, weight_decay:0.000003\n",
      "Epoch 1/10\n"
     ]
    },
    {
     "name": "stderr",
     "output_type": "stream",
     "text": [
      "2024-03-13 12:58:24.007581: E tensorflow/core/grappler/optimizers/meta_optimizer.cc:961] layout failed: INVALID_ARGUMENT: Size of values 0 does not match size of permutation 4 @ fanin shape inmodel_42/block1b_drop/dropout/SelectV2-2-TransposeNHWCToNCHW-LayoutOptimizer\n"
     ]
    },
    {
     "name": "stdout",
     "output_type": "stream",
     "text": [
      "407/407 [==============================] - 54s 85ms/step - loss: 0.9826 - accuracy: 0.7170 - val_loss: 0.6699 - val_accuracy: 0.7984\n",
      "Epoch 2/10\n",
      "407/407 [==============================] - 43s 84ms/step - loss: 0.5351 - accuracy: 0.8370 - val_loss: 0.7063 - val_accuracy: 0.7935\n",
      "Epoch 3/10\n",
      "407/407 [==============================] - 43s 83ms/step - loss: 0.3947 - accuracy: 0.8758 - val_loss: 0.5932 - val_accuracy: 0.8313\n",
      "Epoch 4/10\n",
      "407/407 [==============================] - 42s 83ms/step - loss: 0.3016 - accuracy: 0.9036 - val_loss: 0.5499 - val_accuracy: 0.8544\n",
      "Epoch 5/10\n",
      "407/407 [==============================] - 43s 84ms/step - loss: 0.2482 - accuracy: 0.9188 - val_loss: 0.5128 - val_accuracy: 0.8532\n",
      "Epoch 6/10\n",
      "407/407 [==============================] - 43s 84ms/step - loss: 0.1789 - accuracy: 0.9440 - val_loss: 0.6594 - val_accuracy: 0.8404\n",
      "Epoch 7/10\n",
      "407/407 [==============================] - 43s 84ms/step - loss: 0.1797 - accuracy: 0.9408 - val_loss: 0.4605 - val_accuracy: 0.8685\n",
      "Epoch 8/10\n",
      "407/407 [==============================] - 43s 84ms/step - loss: 0.1293 - accuracy: 0.9585 - val_loss: 0.4794 - val_accuracy: 0.8837\n",
      "Epoch 9/10\n",
      "407/407 [==============================] - 43s 84ms/step - loss: 0.1223 - accuracy: 0.9603 - val_loss: 0.5193 - val_accuracy: 0.8703\n",
      "Epoch 10/10\n",
      "407/407 [==============================] - 43s 84ms/step - loss: 0.1243 - accuracy: 0.9592 - val_loss: 0.6097 - val_accuracy: 0.8508\n",
      "lr: 0.031623, weight_decay:0.000010\n",
      "Epoch 1/10\n"
     ]
    },
    {
     "name": "stderr",
     "output_type": "stream",
     "text": [
      "2024-03-13 13:05:42.902802: E tensorflow/core/grappler/optimizers/meta_optimizer.cc:961] layout failed: INVALID_ARGUMENT: Size of values 0 does not match size of permutation 4 @ fanin shape inmodel_43/block1b_drop/dropout/SelectV2-2-TransposeNHWCToNCHW-LayoutOptimizer\n"
     ]
    },
    {
     "name": "stdout",
     "output_type": "stream",
     "text": [
      "407/407 [==============================] - 54s 85ms/step - loss: 0.9737 - accuracy: 0.7167 - val_loss: 0.7204 - val_accuracy: 0.7801\n",
      "Epoch 2/10\n",
      "407/407 [==============================] - 43s 84ms/step - loss: 0.5509 - accuracy: 0.8327 - val_loss: 0.5739 - val_accuracy: 0.8295\n",
      "Epoch 3/10\n",
      "407/407 [==============================] - 43s 83ms/step - loss: 0.3866 - accuracy: 0.8821 - val_loss: 0.6241 - val_accuracy: 0.8124\n",
      "Epoch 4/10\n",
      "407/407 [==============================] - 43s 83ms/step - loss: 0.3014 - accuracy: 0.9018 - val_loss: 0.5772 - val_accuracy: 0.8471\n",
      "Epoch 5/10\n",
      "407/407 [==============================] - 43s 83ms/step - loss: 0.2439 - accuracy: 0.9195 - val_loss: 0.7062 - val_accuracy: 0.8088\n",
      "Epoch 6/10\n",
      "407/407 [==============================] - 43s 83ms/step - loss: 0.2232 - accuracy: 0.9264 - val_loss: 0.6307 - val_accuracy: 0.8356\n",
      "Epoch 7/10\n",
      "407/407 [==============================] - 43s 83ms/step - loss: 0.1763 - accuracy: 0.9418 - val_loss: 0.5038 - val_accuracy: 0.8691\n",
      "Epoch 8/10\n",
      "407/407 [==============================] - 43s 83ms/step - loss: 0.1437 - accuracy: 0.9525 - val_loss: 0.5246 - val_accuracy: 0.8678\n",
      "Epoch 9/10\n",
      "407/407 [==============================] - 43s 83ms/step - loss: 0.1149 - accuracy: 0.9644 - val_loss: 0.5800 - val_accuracy: 0.8636\n",
      "Epoch 10/10\n",
      "407/407 [==============================] - 43s 83ms/step - loss: 0.1075 - accuracy: 0.9667 - val_loss: 0.7131 - val_accuracy: 0.8398\n",
      "lr: 0.031623, weight_decay:0.000032\n",
      "Epoch 1/10\n"
     ]
    },
    {
     "name": "stderr",
     "output_type": "stream",
     "text": [
      "2024-03-13 13:13:01.475785: E tensorflow/core/grappler/optimizers/meta_optimizer.cc:961] layout failed: INVALID_ARGUMENT: Size of values 0 does not match size of permutation 4 @ fanin shape inmodel_44/block1b_drop/dropout/SelectV2-2-TransposeNHWCToNCHW-LayoutOptimizer\n"
     ]
    },
    {
     "name": "stdout",
     "output_type": "stream",
     "text": [
      "407/407 [==============================] - 54s 85ms/step - loss: 0.9688 - accuracy: 0.7201 - val_loss: 0.7192 - val_accuracy: 0.7856\n",
      "Epoch 2/10\n",
      "407/407 [==============================] - 43s 83ms/step - loss: 0.5302 - accuracy: 0.8414 - val_loss: 0.5526 - val_accuracy: 0.8331\n",
      "Epoch 3/10\n",
      "407/407 [==============================] - 43s 83ms/step - loss: 0.4027 - accuracy: 0.8746 - val_loss: 0.5402 - val_accuracy: 0.8532\n",
      "Epoch 4/10\n",
      "407/407 [==============================] - 43s 83ms/step - loss: 0.3004 - accuracy: 0.9053 - val_loss: 0.5496 - val_accuracy: 0.8447\n",
      "Epoch 5/10\n",
      "407/407 [==============================] - 43s 83ms/step - loss: 0.2452 - accuracy: 0.9231 - val_loss: 0.5491 - val_accuracy: 0.8587\n",
      "Epoch 6/10\n",
      "407/407 [==============================] - 43s 83ms/step - loss: 0.1988 - accuracy: 0.9341 - val_loss: 0.5182 - val_accuracy: 0.8611\n",
      "Epoch 7/10\n",
      "407/407 [==============================] - 43s 83ms/step - loss: 0.1646 - accuracy: 0.9470 - val_loss: 0.5049 - val_accuracy: 0.8721\n",
      "Epoch 8/10\n",
      "407/407 [==============================] - 42s 83ms/step - loss: 0.1374 - accuracy: 0.9536 - val_loss: 0.5854 - val_accuracy: 0.8557\n",
      "Epoch 9/10\n",
      "407/407 [==============================] - 42s 83ms/step - loss: 0.1170 - accuracy: 0.9618 - val_loss: 0.6186 - val_accuracy: 0.8538\n",
      "Epoch 10/10\n",
      "407/407 [==============================] - 42s 82ms/step - loss: 0.1122 - accuracy: 0.9632 - val_loss: 0.5551 - val_accuracy: 0.8654\n",
      "lr: 0.031623, weight_decay:0.000100\n",
      "Epoch 1/10\n"
     ]
    },
    {
     "name": "stderr",
     "output_type": "stream",
     "text": [
      "2024-03-13 13:20:19.092930: E tensorflow/core/grappler/optimizers/meta_optimizer.cc:961] layout failed: INVALID_ARGUMENT: Size of values 0 does not match size of permutation 4 @ fanin shape inmodel_45/block1b_drop/dropout/SelectV2-2-TransposeNHWCToNCHW-LayoutOptimizer\n"
     ]
    },
    {
     "name": "stdout",
     "output_type": "stream",
     "text": [
      "407/407 [==============================] - 55s 85ms/step - loss: 0.9905 - accuracy: 0.7107 - val_loss: 0.7144 - val_accuracy: 0.7996\n",
      "Epoch 2/10\n",
      "407/407 [==============================] - 43s 83ms/step - loss: 0.5288 - accuracy: 0.8393 - val_loss: 0.6652 - val_accuracy: 0.8063\n",
      "Epoch 3/10\n",
      "407/407 [==============================] - 43s 84ms/step - loss: 0.3871 - accuracy: 0.8769 - val_loss: 0.5087 - val_accuracy: 0.8538\n",
      "Epoch 4/10\n",
      "407/407 [==============================] - 42s 83ms/step - loss: 0.3005 - accuracy: 0.9074 - val_loss: 0.5100 - val_accuracy: 0.8587\n",
      "Epoch 5/10\n",
      "407/407 [==============================] - 42s 83ms/step - loss: 0.2380 - accuracy: 0.9210 - val_loss: 0.6206 - val_accuracy: 0.8392\n",
      "Epoch 6/10\n",
      "407/407 [==============================] - 42s 83ms/step - loss: 0.1973 - accuracy: 0.9356 - val_loss: 0.5388 - val_accuracy: 0.8551\n",
      "Epoch 7/10\n",
      "407/407 [==============================] - 43s 83ms/step - loss: 0.1468 - accuracy: 0.9530 - val_loss: 0.5474 - val_accuracy: 0.8575\n",
      "Epoch 8/10\n",
      "407/407 [==============================] - 42s 83ms/step - loss: 0.1347 - accuracy: 0.9582 - val_loss: 0.5004 - val_accuracy: 0.8752\n",
      "Epoch 9/10\n",
      "407/407 [==============================] - 43s 84ms/step - loss: 0.1147 - accuracy: 0.9642 - val_loss: 0.6030 - val_accuracy: 0.8551\n",
      "Epoch 10/10\n",
      "407/407 [==============================] - 43s 83ms/step - loss: 0.1170 - accuracy: 0.9608 - val_loss: 0.5531 - val_accuracy: 0.8678\n",
      "lr: 0.031623, weight_decay:0.000316\n",
      "Epoch 1/10\n"
     ]
    },
    {
     "name": "stderr",
     "output_type": "stream",
     "text": [
      "2024-03-13 13:27:38.172395: E tensorflow/core/grappler/optimizers/meta_optimizer.cc:961] layout failed: INVALID_ARGUMENT: Size of values 0 does not match size of permutation 4 @ fanin shape inmodel_46/block1b_drop/dropout/SelectV2-2-TransposeNHWCToNCHW-LayoutOptimizer\n"
     ]
    },
    {
     "name": "stdout",
     "output_type": "stream",
     "text": [
      "407/407 [==============================] - 59s 97ms/step - loss: 0.9813 - accuracy: 0.7174 - val_loss: 0.6532 - val_accuracy: 0.8051\n",
      "Epoch 2/10\n",
      "407/407 [==============================] - 43s 83ms/step - loss: 0.5365 - accuracy: 0.8379 - val_loss: 0.7245 - val_accuracy: 0.7899\n",
      "Epoch 3/10\n",
      "407/407 [==============================] - 43s 83ms/step - loss: 0.4011 - accuracy: 0.8737 - val_loss: 0.5559 - val_accuracy: 0.8490\n",
      "Epoch 4/10\n",
      "407/407 [==============================] - 43s 84ms/step - loss: 0.2952 - accuracy: 0.9078 - val_loss: 0.5066 - val_accuracy: 0.8672\n",
      "Epoch 5/10\n",
      "407/407 [==============================] - 43s 83ms/step - loss: 0.2510 - accuracy: 0.9196 - val_loss: 0.5779 - val_accuracy: 0.8544\n",
      "Epoch 6/10\n",
      "407/407 [==============================] - 43s 84ms/step - loss: 0.2118 - accuracy: 0.9343 - val_loss: 0.5278 - val_accuracy: 0.8587\n",
      "Epoch 7/10\n",
      "407/407 [==============================] - 42s 83ms/step - loss: 0.1925 - accuracy: 0.9365 - val_loss: 0.5684 - val_accuracy: 0.8575\n",
      "Epoch 8/10\n",
      "407/407 [==============================] - 43s 83ms/step - loss: 0.1554 - accuracy: 0.9507 - val_loss: 0.5514 - val_accuracy: 0.8630\n",
      "Epoch 9/10\n",
      "407/407 [==============================] - 43s 83ms/step - loss: 0.1399 - accuracy: 0.9570 - val_loss: 0.5230 - val_accuracy: 0.8678\n",
      "Epoch 10/10\n",
      "407/407 [==============================] - 43s 83ms/step - loss: 0.1117 - accuracy: 0.9642 - val_loss: 0.5313 - val_accuracy: 0.8758\n",
      "lr: 0.031623, weight_decay:0.001000\n",
      "Epoch 1/10\n"
     ]
    },
    {
     "name": "stderr",
     "output_type": "stream",
     "text": [
      "2024-03-13 13:35:01.770802: E tensorflow/core/grappler/optimizers/meta_optimizer.cc:961] layout failed: INVALID_ARGUMENT: Size of values 0 does not match size of permutation 4 @ fanin shape inmodel_47/block1b_drop/dropout/SelectV2-2-TransposeNHWCToNCHW-LayoutOptimizer\n"
     ]
    },
    {
     "name": "stdout",
     "output_type": "stream",
     "text": [
      "407/407 [==============================] - 54s 84ms/step - loss: 0.9678 - accuracy: 0.7247 - val_loss: 0.7346 - val_accuracy: 0.7875\n",
      "Epoch 2/10\n",
      "407/407 [==============================] - 42s 83ms/step - loss: 0.5413 - accuracy: 0.8378 - val_loss: 0.7630 - val_accuracy: 0.7838\n",
      "Epoch 3/10\n",
      "407/407 [==============================] - 43s 83ms/step - loss: 0.4081 - accuracy: 0.8738 - val_loss: 0.5231 - val_accuracy: 0.8471\n",
      "Epoch 4/10\n",
      "407/407 [==============================] - 43s 83ms/step - loss: 0.3115 - accuracy: 0.9019 - val_loss: 0.5903 - val_accuracy: 0.8404\n",
      "Epoch 5/10\n",
      "407/407 [==============================] - 43s 83ms/step - loss: 0.2776 - accuracy: 0.9132 - val_loss: 0.5860 - val_accuracy: 0.8301\n",
      "Epoch 6/10\n",
      "407/407 [==============================] - 43s 83ms/step - loss: 0.2278 - accuracy: 0.9251 - val_loss: 0.5078 - val_accuracy: 0.8611\n",
      "Epoch 7/10\n",
      "407/407 [==============================] - 43s 83ms/step - loss: 0.1863 - accuracy: 0.9374 - val_loss: 0.4957 - val_accuracy: 0.8721\n",
      "Epoch 8/10\n",
      "407/407 [==============================] - 43s 84ms/step - loss: 0.1681 - accuracy: 0.9457 - val_loss: 0.7241 - val_accuracy: 0.8021\n",
      "Epoch 9/10\n",
      "407/407 [==============================] - 43s 83ms/step - loss: 0.1700 - accuracy: 0.9455 - val_loss: 0.6872 - val_accuracy: 0.8307\n",
      "Epoch 10/10\n",
      "407/407 [==============================] - 43s 84ms/step - loss: 0.1483 - accuracy: 0.9526 - val_loss: 0.5103 - val_accuracy: 0.8745\n",
      "lr: 0.100000, weight_decay:0.000000\n",
      "Epoch 1/10\n"
     ]
    },
    {
     "name": "stderr",
     "output_type": "stream",
     "text": [
      "2024-03-13 13:42:20.213589: E tensorflow/core/grappler/optimizers/meta_optimizer.cc:961] layout failed: INVALID_ARGUMENT: Size of values 0 does not match size of permutation 4 @ fanin shape inmodel_48/block1b_drop/dropout/SelectV2-2-TransposeNHWCToNCHW-LayoutOptimizer\n"
     ]
    },
    {
     "name": "stdout",
     "output_type": "stream",
     "text": [
      "407/407 [==============================] - 54s 84ms/step - loss: 1.7860 - accuracy: 0.4875 - val_loss: 1.5319 - val_accuracy: 0.5597\n",
      "Epoch 2/10\n",
      "407/407 [==============================] - 42s 83ms/step - loss: 1.1071 - accuracy: 0.6697 - val_loss: 1.0867 - val_accuracy: 0.6803\n",
      "Epoch 3/10\n",
      "407/407 [==============================] - 42s 82ms/step - loss: 0.8507 - accuracy: 0.7431 - val_loss: 0.8721 - val_accuracy: 0.7491\n",
      "Epoch 4/10\n",
      "407/407 [==============================] - 42s 83ms/step - loss: 0.6976 - accuracy: 0.7869 - val_loss: 0.9468 - val_accuracy: 0.7497\n",
      "Epoch 5/10\n",
      "407/407 [==============================] - 42s 83ms/step - loss: 0.6067 - accuracy: 0.8114 - val_loss: 0.8882 - val_accuracy: 0.7473\n",
      "Epoch 6/10\n",
      "407/407 [==============================] - 42s 82ms/step - loss: 0.5113 - accuracy: 0.8381 - val_loss: 0.8926 - val_accuracy: 0.7698\n",
      "Epoch 7/10\n",
      "407/407 [==============================] - 42s 82ms/step - loss: 0.4486 - accuracy: 0.8605 - val_loss: 0.6601 - val_accuracy: 0.8100\n",
      "Epoch 8/10\n",
      " 32/407 [=>............................] - ETA: 31s - loss: 0.4036 - accuracy: 0.8867"
     ]
    },
    {
     "ename": "KeyboardInterrupt",
     "evalue": "",
     "output_type": "error",
     "traceback": [
      "\u001b[0;31m---------------------------------------------------------------------------\u001b[0m",
      "\u001b[0;31mKeyboardInterrupt\u001b[0m                         Traceback (most recent call last)",
      "Cell \u001b[0;32mIn[9], line 3\u001b[0m\n\u001b[1;32m      1\u001b[0m \u001b[38;5;28;01mfor\u001b[39;00m lr \u001b[38;5;129;01min\u001b[39;00m lr_list:\n\u001b[1;32m      2\u001b[0m     \u001b[38;5;28;01mfor\u001b[39;00m wd \u001b[38;5;129;01min\u001b[39;00m wd_list:\n\u001b[0;32m----> 3\u001b[0m         \u001b[43mtrain\u001b[49m\u001b[43m(\u001b[49m\u001b[43mlr\u001b[49m\u001b[43m,\u001b[49m\u001b[43m \u001b[49m\u001b[43mwd\u001b[49m\u001b[43m,\u001b[49m\u001b[43m \u001b[49m\u001b[43mmax_epochs\u001b[49m\u001b[43m)\u001b[49m\n",
      "Cell \u001b[0;32mIn[7], line 15\u001b[0m, in \u001b[0;36mtrain\u001b[0;34m(lr, weight_decay, max_epochs)\u001b[0m\n\u001b[1;32m     12\u001b[0m optimizer \u001b[38;5;241m=\u001b[39m SGD(learning_rate\u001b[38;5;241m=\u001b[39mlr, momentum\u001b[38;5;241m=\u001b[39m\u001b[38;5;241m0.9\u001b[39m, nesterov\u001b[38;5;241m=\u001b[39m\u001b[38;5;28;01mTrue\u001b[39;00m, weight_decay\u001b[38;5;241m=\u001b[39mweight_decay)\n\u001b[1;32m     13\u001b[0m model\u001b[38;5;241m.\u001b[39mcompile(loss\u001b[38;5;241m=\u001b[39m\u001b[38;5;124m\"\u001b[39m\u001b[38;5;124msparse_categorical_crossentropy\u001b[39m\u001b[38;5;124m\"\u001b[39m, optimizer\u001b[38;5;241m=\u001b[39moptimizer,\n\u001b[1;32m     14\u001b[0m               metrics\u001b[38;5;241m=\u001b[39m[\u001b[38;5;124m\"\u001b[39m\u001b[38;5;124maccuracy\u001b[39m\u001b[38;5;124m\"\u001b[39m])\n\u001b[0;32m---> 15\u001b[0m history \u001b[38;5;241m=\u001b[39m \u001b[43mmodel\u001b[49m\u001b[38;5;241;43m.\u001b[39;49m\u001b[43mfit\u001b[49m\u001b[43m(\u001b[49m\u001b[43mtrain_ds\u001b[49m\u001b[43m,\u001b[49m\u001b[43m \u001b[49m\u001b[43mvalidation_data\u001b[49m\u001b[38;5;241;43m=\u001b[39;49m\u001b[43mval_ds\u001b[49m\u001b[43m,\u001b[49m\u001b[43m \u001b[49m\u001b[43mepochs\u001b[49m\u001b[38;5;241;43m=\u001b[39;49m\u001b[43mmax_epochs\u001b[49m\u001b[43m)\u001b[49m\n\u001b[1;32m     17\u001b[0m \u001b[38;5;28;01mreturn\u001b[39;00m history\n",
      "File \u001b[0;32m~/AI/projects/open-waste/.venv/lib/python3.10/site-packages/keras/src/utils/traceback_utils.py:65\u001b[0m, in \u001b[0;36mfilter_traceback.<locals>.error_handler\u001b[0;34m(*args, **kwargs)\u001b[0m\n\u001b[1;32m     63\u001b[0m filtered_tb \u001b[38;5;241m=\u001b[39m \u001b[38;5;28;01mNone\u001b[39;00m\n\u001b[1;32m     64\u001b[0m \u001b[38;5;28;01mtry\u001b[39;00m:\n\u001b[0;32m---> 65\u001b[0m     \u001b[38;5;28;01mreturn\u001b[39;00m \u001b[43mfn\u001b[49m\u001b[43m(\u001b[49m\u001b[38;5;241;43m*\u001b[39;49m\u001b[43margs\u001b[49m\u001b[43m,\u001b[49m\u001b[43m \u001b[49m\u001b[38;5;241;43m*\u001b[39;49m\u001b[38;5;241;43m*\u001b[39;49m\u001b[43mkwargs\u001b[49m\u001b[43m)\u001b[49m\n\u001b[1;32m     66\u001b[0m \u001b[38;5;28;01mexcept\u001b[39;00m \u001b[38;5;167;01mException\u001b[39;00m \u001b[38;5;28;01mas\u001b[39;00m e:\n\u001b[1;32m     67\u001b[0m     filtered_tb \u001b[38;5;241m=\u001b[39m _process_traceback_frames(e\u001b[38;5;241m.\u001b[39m__traceback__)\n",
      "File \u001b[0;32m~/AI/projects/open-waste/.venv/lib/python3.10/site-packages/keras/src/engine/training.py:1807\u001b[0m, in \u001b[0;36mModel.fit\u001b[0;34m(self, x, y, batch_size, epochs, verbose, callbacks, validation_split, validation_data, shuffle, class_weight, sample_weight, initial_epoch, steps_per_epoch, validation_steps, validation_batch_size, validation_freq, max_queue_size, workers, use_multiprocessing)\u001b[0m\n\u001b[1;32m   1799\u001b[0m \u001b[38;5;28;01mwith\u001b[39;00m tf\u001b[38;5;241m.\u001b[39mprofiler\u001b[38;5;241m.\u001b[39mexperimental\u001b[38;5;241m.\u001b[39mTrace(\n\u001b[1;32m   1800\u001b[0m     \u001b[38;5;124m\"\u001b[39m\u001b[38;5;124mtrain\u001b[39m\u001b[38;5;124m\"\u001b[39m,\n\u001b[1;32m   1801\u001b[0m     epoch_num\u001b[38;5;241m=\u001b[39mepoch,\n\u001b[0;32m   (...)\u001b[0m\n\u001b[1;32m   1804\u001b[0m     _r\u001b[38;5;241m=\u001b[39m\u001b[38;5;241m1\u001b[39m,\n\u001b[1;32m   1805\u001b[0m ):\n\u001b[1;32m   1806\u001b[0m     callbacks\u001b[38;5;241m.\u001b[39mon_train_batch_begin(step)\n\u001b[0;32m-> 1807\u001b[0m     tmp_logs \u001b[38;5;241m=\u001b[39m \u001b[38;5;28;43mself\u001b[39;49m\u001b[38;5;241;43m.\u001b[39;49m\u001b[43mtrain_function\u001b[49m\u001b[43m(\u001b[49m\u001b[43miterator\u001b[49m\u001b[43m)\u001b[49m\n\u001b[1;32m   1808\u001b[0m     \u001b[38;5;28;01mif\u001b[39;00m data_handler\u001b[38;5;241m.\u001b[39mshould_sync:\n\u001b[1;32m   1809\u001b[0m         context\u001b[38;5;241m.\u001b[39masync_wait()\n",
      "File \u001b[0;32m~/AI/projects/open-waste/.venv/lib/python3.10/site-packages/tensorflow/python/util/traceback_utils.py:150\u001b[0m, in \u001b[0;36mfilter_traceback.<locals>.error_handler\u001b[0;34m(*args, **kwargs)\u001b[0m\n\u001b[1;32m    148\u001b[0m filtered_tb \u001b[38;5;241m=\u001b[39m \u001b[38;5;28;01mNone\u001b[39;00m\n\u001b[1;32m    149\u001b[0m \u001b[38;5;28;01mtry\u001b[39;00m:\n\u001b[0;32m--> 150\u001b[0m   \u001b[38;5;28;01mreturn\u001b[39;00m \u001b[43mfn\u001b[49m\u001b[43m(\u001b[49m\u001b[38;5;241;43m*\u001b[39;49m\u001b[43margs\u001b[49m\u001b[43m,\u001b[49m\u001b[43m \u001b[49m\u001b[38;5;241;43m*\u001b[39;49m\u001b[38;5;241;43m*\u001b[39;49m\u001b[43mkwargs\u001b[49m\u001b[43m)\u001b[49m\n\u001b[1;32m    151\u001b[0m \u001b[38;5;28;01mexcept\u001b[39;00m \u001b[38;5;167;01mException\u001b[39;00m \u001b[38;5;28;01mas\u001b[39;00m e:\n\u001b[1;32m    152\u001b[0m   filtered_tb \u001b[38;5;241m=\u001b[39m _process_traceback_frames(e\u001b[38;5;241m.\u001b[39m__traceback__)\n",
      "File \u001b[0;32m~/AI/projects/open-waste/.venv/lib/python3.10/site-packages/tensorflow/python/eager/polymorphic_function/polymorphic_function.py:832\u001b[0m, in \u001b[0;36mFunction.__call__\u001b[0;34m(self, *args, **kwds)\u001b[0m\n\u001b[1;32m    829\u001b[0m compiler \u001b[38;5;241m=\u001b[39m \u001b[38;5;124m\"\u001b[39m\u001b[38;5;124mxla\u001b[39m\u001b[38;5;124m\"\u001b[39m \u001b[38;5;28;01mif\u001b[39;00m \u001b[38;5;28mself\u001b[39m\u001b[38;5;241m.\u001b[39m_jit_compile \u001b[38;5;28;01melse\u001b[39;00m \u001b[38;5;124m\"\u001b[39m\u001b[38;5;124mnonXla\u001b[39m\u001b[38;5;124m\"\u001b[39m\n\u001b[1;32m    831\u001b[0m \u001b[38;5;28;01mwith\u001b[39;00m OptionalXlaContext(\u001b[38;5;28mself\u001b[39m\u001b[38;5;241m.\u001b[39m_jit_compile):\n\u001b[0;32m--> 832\u001b[0m   result \u001b[38;5;241m=\u001b[39m \u001b[38;5;28;43mself\u001b[39;49m\u001b[38;5;241;43m.\u001b[39;49m\u001b[43m_call\u001b[49m\u001b[43m(\u001b[49m\u001b[38;5;241;43m*\u001b[39;49m\u001b[43margs\u001b[49m\u001b[43m,\u001b[49m\u001b[43m \u001b[49m\u001b[38;5;241;43m*\u001b[39;49m\u001b[38;5;241;43m*\u001b[39;49m\u001b[43mkwds\u001b[49m\u001b[43m)\u001b[49m\n\u001b[1;32m    834\u001b[0m new_tracing_count \u001b[38;5;241m=\u001b[39m \u001b[38;5;28mself\u001b[39m\u001b[38;5;241m.\u001b[39mexperimental_get_tracing_count()\n\u001b[1;32m    835\u001b[0m without_tracing \u001b[38;5;241m=\u001b[39m (tracing_count \u001b[38;5;241m==\u001b[39m new_tracing_count)\n",
      "File \u001b[0;32m~/AI/projects/open-waste/.venv/lib/python3.10/site-packages/tensorflow/python/eager/polymorphic_function/polymorphic_function.py:868\u001b[0m, in \u001b[0;36mFunction._call\u001b[0;34m(self, *args, **kwds)\u001b[0m\n\u001b[1;32m    865\u001b[0m   \u001b[38;5;28mself\u001b[39m\u001b[38;5;241m.\u001b[39m_lock\u001b[38;5;241m.\u001b[39mrelease()\n\u001b[1;32m    866\u001b[0m   \u001b[38;5;66;03m# In this case we have created variables on the first call, so we run the\u001b[39;00m\n\u001b[1;32m    867\u001b[0m   \u001b[38;5;66;03m# defunned version which is guaranteed to never create variables.\u001b[39;00m\n\u001b[0;32m--> 868\u001b[0m   \u001b[38;5;28;01mreturn\u001b[39;00m \u001b[43mtracing_compilation\u001b[49m\u001b[38;5;241;43m.\u001b[39;49m\u001b[43mcall_function\u001b[49m\u001b[43m(\u001b[49m\n\u001b[1;32m    869\u001b[0m \u001b[43m      \u001b[49m\u001b[43margs\u001b[49m\u001b[43m,\u001b[49m\u001b[43m \u001b[49m\u001b[43mkwds\u001b[49m\u001b[43m,\u001b[49m\u001b[43m \u001b[49m\u001b[38;5;28;43mself\u001b[39;49m\u001b[38;5;241;43m.\u001b[39;49m\u001b[43m_no_variable_creation_config\u001b[49m\n\u001b[1;32m    870\u001b[0m \u001b[43m  \u001b[49m\u001b[43m)\u001b[49m\n\u001b[1;32m    871\u001b[0m \u001b[38;5;28;01melif\u001b[39;00m \u001b[38;5;28mself\u001b[39m\u001b[38;5;241m.\u001b[39m_variable_creation_config \u001b[38;5;129;01mis\u001b[39;00m \u001b[38;5;129;01mnot\u001b[39;00m \u001b[38;5;28;01mNone\u001b[39;00m:\n\u001b[1;32m    872\u001b[0m   \u001b[38;5;66;03m# Release the lock early so that multiple threads can perform the call\u001b[39;00m\n\u001b[1;32m    873\u001b[0m   \u001b[38;5;66;03m# in parallel.\u001b[39;00m\n\u001b[1;32m    874\u001b[0m   \u001b[38;5;28mself\u001b[39m\u001b[38;5;241m.\u001b[39m_lock\u001b[38;5;241m.\u001b[39mrelease()\n",
      "File \u001b[0;32m~/AI/projects/open-waste/.venv/lib/python3.10/site-packages/tensorflow/python/eager/polymorphic_function/tracing_compilation.py:139\u001b[0m, in \u001b[0;36mcall_function\u001b[0;34m(args, kwargs, tracing_options)\u001b[0m\n\u001b[1;32m    137\u001b[0m bound_args \u001b[38;5;241m=\u001b[39m function\u001b[38;5;241m.\u001b[39mfunction_type\u001b[38;5;241m.\u001b[39mbind(\u001b[38;5;241m*\u001b[39margs, \u001b[38;5;241m*\u001b[39m\u001b[38;5;241m*\u001b[39mkwargs)\n\u001b[1;32m    138\u001b[0m flat_inputs \u001b[38;5;241m=\u001b[39m function\u001b[38;5;241m.\u001b[39mfunction_type\u001b[38;5;241m.\u001b[39munpack_inputs(bound_args)\n\u001b[0;32m--> 139\u001b[0m \u001b[38;5;28;01mreturn\u001b[39;00m \u001b[43mfunction\u001b[49m\u001b[38;5;241;43m.\u001b[39;49m\u001b[43m_call_flat\u001b[49m\u001b[43m(\u001b[49m\u001b[43m  \u001b[49m\u001b[38;5;66;43;03m# pylint: disable=protected-access\u001b[39;49;00m\n\u001b[1;32m    140\u001b[0m \u001b[43m    \u001b[49m\u001b[43mflat_inputs\u001b[49m\u001b[43m,\u001b[49m\u001b[43m \u001b[49m\u001b[43mcaptured_inputs\u001b[49m\u001b[38;5;241;43m=\u001b[39;49m\u001b[43mfunction\u001b[49m\u001b[38;5;241;43m.\u001b[39;49m\u001b[43mcaptured_inputs\u001b[49m\n\u001b[1;32m    141\u001b[0m \u001b[43m\u001b[49m\u001b[43m)\u001b[49m\n",
      "File \u001b[0;32m~/AI/projects/open-waste/.venv/lib/python3.10/site-packages/tensorflow/python/eager/polymorphic_function/concrete_function.py:1323\u001b[0m, in \u001b[0;36mConcreteFunction._call_flat\u001b[0;34m(self, tensor_inputs, captured_inputs)\u001b[0m\n\u001b[1;32m   1319\u001b[0m possible_gradient_type \u001b[38;5;241m=\u001b[39m gradients_util\u001b[38;5;241m.\u001b[39mPossibleTapeGradientTypes(args)\n\u001b[1;32m   1320\u001b[0m \u001b[38;5;28;01mif\u001b[39;00m (possible_gradient_type \u001b[38;5;241m==\u001b[39m gradients_util\u001b[38;5;241m.\u001b[39mPOSSIBLE_GRADIENT_TYPES_NONE\n\u001b[1;32m   1321\u001b[0m     \u001b[38;5;129;01mand\u001b[39;00m executing_eagerly):\n\u001b[1;32m   1322\u001b[0m   \u001b[38;5;66;03m# No tape is watching; skip to running the function.\u001b[39;00m\n\u001b[0;32m-> 1323\u001b[0m   \u001b[38;5;28;01mreturn\u001b[39;00m \u001b[38;5;28;43mself\u001b[39;49m\u001b[38;5;241;43m.\u001b[39;49m\u001b[43m_inference_function\u001b[49m\u001b[38;5;241;43m.\u001b[39;49m\u001b[43mcall_preflattened\u001b[49m\u001b[43m(\u001b[49m\u001b[43margs\u001b[49m\u001b[43m)\u001b[49m\n\u001b[1;32m   1324\u001b[0m forward_backward \u001b[38;5;241m=\u001b[39m \u001b[38;5;28mself\u001b[39m\u001b[38;5;241m.\u001b[39m_select_forward_and_backward_functions(\n\u001b[1;32m   1325\u001b[0m     args,\n\u001b[1;32m   1326\u001b[0m     possible_gradient_type,\n\u001b[1;32m   1327\u001b[0m     executing_eagerly)\n\u001b[1;32m   1328\u001b[0m forward_function, args_with_tangents \u001b[38;5;241m=\u001b[39m forward_backward\u001b[38;5;241m.\u001b[39mforward()\n",
      "File \u001b[0;32m~/AI/projects/open-waste/.venv/lib/python3.10/site-packages/tensorflow/python/eager/polymorphic_function/atomic_function.py:216\u001b[0m, in \u001b[0;36mAtomicFunction.call_preflattened\u001b[0;34m(self, args)\u001b[0m\n\u001b[1;32m    214\u001b[0m \u001b[38;5;28;01mdef\u001b[39;00m \u001b[38;5;21mcall_preflattened\u001b[39m(\u001b[38;5;28mself\u001b[39m, args: Sequence[core\u001b[38;5;241m.\u001b[39mTensor]) \u001b[38;5;241m-\u001b[39m\u001b[38;5;241m>\u001b[39m Any:\n\u001b[1;32m    215\u001b[0m \u001b[38;5;250m  \u001b[39m\u001b[38;5;124;03m\"\"\"Calls with flattened tensor inputs and returns the structured output.\"\"\"\u001b[39;00m\n\u001b[0;32m--> 216\u001b[0m   flat_outputs \u001b[38;5;241m=\u001b[39m \u001b[38;5;28;43mself\u001b[39;49m\u001b[38;5;241;43m.\u001b[39;49m\u001b[43mcall_flat\u001b[49m\u001b[43m(\u001b[49m\u001b[38;5;241;43m*\u001b[39;49m\u001b[43margs\u001b[49m\u001b[43m)\u001b[49m\n\u001b[1;32m    217\u001b[0m   \u001b[38;5;28;01mreturn\u001b[39;00m \u001b[38;5;28mself\u001b[39m\u001b[38;5;241m.\u001b[39mfunction_type\u001b[38;5;241m.\u001b[39mpack_output(flat_outputs)\n",
      "File \u001b[0;32m~/AI/projects/open-waste/.venv/lib/python3.10/site-packages/tensorflow/python/eager/polymorphic_function/atomic_function.py:251\u001b[0m, in \u001b[0;36mAtomicFunction.call_flat\u001b[0;34m(self, *args)\u001b[0m\n\u001b[1;32m    249\u001b[0m \u001b[38;5;28;01mwith\u001b[39;00m record\u001b[38;5;241m.\u001b[39mstop_recording():\n\u001b[1;32m    250\u001b[0m   \u001b[38;5;28;01mif\u001b[39;00m \u001b[38;5;28mself\u001b[39m\u001b[38;5;241m.\u001b[39m_bound_context\u001b[38;5;241m.\u001b[39mexecuting_eagerly():\n\u001b[0;32m--> 251\u001b[0m     outputs \u001b[38;5;241m=\u001b[39m \u001b[38;5;28;43mself\u001b[39;49m\u001b[38;5;241;43m.\u001b[39;49m\u001b[43m_bound_context\u001b[49m\u001b[38;5;241;43m.\u001b[39;49m\u001b[43mcall_function\u001b[49m\u001b[43m(\u001b[49m\n\u001b[1;32m    252\u001b[0m \u001b[43m        \u001b[49m\u001b[38;5;28;43mself\u001b[39;49m\u001b[38;5;241;43m.\u001b[39;49m\u001b[43mname\u001b[49m\u001b[43m,\u001b[49m\n\u001b[1;32m    253\u001b[0m \u001b[43m        \u001b[49m\u001b[38;5;28;43mlist\u001b[39;49m\u001b[43m(\u001b[49m\u001b[43margs\u001b[49m\u001b[43m)\u001b[49m\u001b[43m,\u001b[49m\n\u001b[1;32m    254\u001b[0m \u001b[43m        \u001b[49m\u001b[38;5;28;43mlen\u001b[39;49m\u001b[43m(\u001b[49m\u001b[38;5;28;43mself\u001b[39;49m\u001b[38;5;241;43m.\u001b[39;49m\u001b[43mfunction_type\u001b[49m\u001b[38;5;241;43m.\u001b[39;49m\u001b[43mflat_outputs\u001b[49m\u001b[43m)\u001b[49m\u001b[43m,\u001b[49m\n\u001b[1;32m    255\u001b[0m \u001b[43m    \u001b[49m\u001b[43m)\u001b[49m\n\u001b[1;32m    256\u001b[0m   \u001b[38;5;28;01melse\u001b[39;00m:\n\u001b[1;32m    257\u001b[0m     outputs \u001b[38;5;241m=\u001b[39m make_call_op_in_graph(\n\u001b[1;32m    258\u001b[0m         \u001b[38;5;28mself\u001b[39m,\n\u001b[1;32m    259\u001b[0m         \u001b[38;5;28mlist\u001b[39m(args),\n\u001b[1;32m    260\u001b[0m         \u001b[38;5;28mself\u001b[39m\u001b[38;5;241m.\u001b[39m_bound_context\u001b[38;5;241m.\u001b[39mfunction_call_options\u001b[38;5;241m.\u001b[39mas_attrs(),\n\u001b[1;32m    261\u001b[0m     )\n",
      "File \u001b[0;32m~/AI/projects/open-waste/.venv/lib/python3.10/site-packages/tensorflow/python/eager/context.py:1486\u001b[0m, in \u001b[0;36mContext.call_function\u001b[0;34m(self, name, tensor_inputs, num_outputs)\u001b[0m\n\u001b[1;32m   1484\u001b[0m cancellation_context \u001b[38;5;241m=\u001b[39m cancellation\u001b[38;5;241m.\u001b[39mcontext()\n\u001b[1;32m   1485\u001b[0m \u001b[38;5;28;01mif\u001b[39;00m cancellation_context \u001b[38;5;129;01mis\u001b[39;00m \u001b[38;5;28;01mNone\u001b[39;00m:\n\u001b[0;32m-> 1486\u001b[0m   outputs \u001b[38;5;241m=\u001b[39m \u001b[43mexecute\u001b[49m\u001b[38;5;241;43m.\u001b[39;49m\u001b[43mexecute\u001b[49m\u001b[43m(\u001b[49m\n\u001b[1;32m   1487\u001b[0m \u001b[43m      \u001b[49m\u001b[43mname\u001b[49m\u001b[38;5;241;43m.\u001b[39;49m\u001b[43mdecode\u001b[49m\u001b[43m(\u001b[49m\u001b[38;5;124;43m\"\u001b[39;49m\u001b[38;5;124;43mutf-8\u001b[39;49m\u001b[38;5;124;43m\"\u001b[39;49m\u001b[43m)\u001b[49m\u001b[43m,\u001b[49m\n\u001b[1;32m   1488\u001b[0m \u001b[43m      \u001b[49m\u001b[43mnum_outputs\u001b[49m\u001b[38;5;241;43m=\u001b[39;49m\u001b[43mnum_outputs\u001b[49m\u001b[43m,\u001b[49m\n\u001b[1;32m   1489\u001b[0m \u001b[43m      \u001b[49m\u001b[43minputs\u001b[49m\u001b[38;5;241;43m=\u001b[39;49m\u001b[43mtensor_inputs\u001b[49m\u001b[43m,\u001b[49m\n\u001b[1;32m   1490\u001b[0m \u001b[43m      \u001b[49m\u001b[43mattrs\u001b[49m\u001b[38;5;241;43m=\u001b[39;49m\u001b[43mattrs\u001b[49m\u001b[43m,\u001b[49m\n\u001b[1;32m   1491\u001b[0m \u001b[43m      \u001b[49m\u001b[43mctx\u001b[49m\u001b[38;5;241;43m=\u001b[39;49m\u001b[38;5;28;43mself\u001b[39;49m\u001b[43m,\u001b[49m\n\u001b[1;32m   1492\u001b[0m \u001b[43m  \u001b[49m\u001b[43m)\u001b[49m\n\u001b[1;32m   1493\u001b[0m \u001b[38;5;28;01melse\u001b[39;00m:\n\u001b[1;32m   1494\u001b[0m   outputs \u001b[38;5;241m=\u001b[39m execute\u001b[38;5;241m.\u001b[39mexecute_with_cancellation(\n\u001b[1;32m   1495\u001b[0m       name\u001b[38;5;241m.\u001b[39mdecode(\u001b[38;5;124m\"\u001b[39m\u001b[38;5;124mutf-8\u001b[39m\u001b[38;5;124m\"\u001b[39m),\n\u001b[1;32m   1496\u001b[0m       num_outputs\u001b[38;5;241m=\u001b[39mnum_outputs,\n\u001b[0;32m   (...)\u001b[0m\n\u001b[1;32m   1500\u001b[0m       cancellation_manager\u001b[38;5;241m=\u001b[39mcancellation_context,\n\u001b[1;32m   1501\u001b[0m   )\n",
      "File \u001b[0;32m~/AI/projects/open-waste/.venv/lib/python3.10/site-packages/tensorflow/python/eager/execute.py:53\u001b[0m, in \u001b[0;36mquick_execute\u001b[0;34m(op_name, num_outputs, inputs, attrs, ctx, name)\u001b[0m\n\u001b[1;32m     51\u001b[0m \u001b[38;5;28;01mtry\u001b[39;00m:\n\u001b[1;32m     52\u001b[0m   ctx\u001b[38;5;241m.\u001b[39mensure_initialized()\n\u001b[0;32m---> 53\u001b[0m   tensors \u001b[38;5;241m=\u001b[39m \u001b[43mpywrap_tfe\u001b[49m\u001b[38;5;241;43m.\u001b[39;49m\u001b[43mTFE_Py_Execute\u001b[49m\u001b[43m(\u001b[49m\u001b[43mctx\u001b[49m\u001b[38;5;241;43m.\u001b[39;49m\u001b[43m_handle\u001b[49m\u001b[43m,\u001b[49m\u001b[43m \u001b[49m\u001b[43mdevice_name\u001b[49m\u001b[43m,\u001b[49m\u001b[43m \u001b[49m\u001b[43mop_name\u001b[49m\u001b[43m,\u001b[49m\n\u001b[1;32m     54\u001b[0m \u001b[43m                                      \u001b[49m\u001b[43minputs\u001b[49m\u001b[43m,\u001b[49m\u001b[43m \u001b[49m\u001b[43mattrs\u001b[49m\u001b[43m,\u001b[49m\u001b[43m \u001b[49m\u001b[43mnum_outputs\u001b[49m\u001b[43m)\u001b[49m\n\u001b[1;32m     55\u001b[0m \u001b[38;5;28;01mexcept\u001b[39;00m core\u001b[38;5;241m.\u001b[39m_NotOkStatusException \u001b[38;5;28;01mas\u001b[39;00m e:\n\u001b[1;32m     56\u001b[0m   \u001b[38;5;28;01mif\u001b[39;00m name \u001b[38;5;129;01mis\u001b[39;00m \u001b[38;5;129;01mnot\u001b[39;00m \u001b[38;5;28;01mNone\u001b[39;00m:\n",
      "\u001b[0;31mKeyboardInterrupt\u001b[0m: "
     ]
    }
   ],
   "source": [
    "for lr in lr_list:\n",
    "    for wd in wd_list:\n",
    "        train(lr, wd, max_epochs)"
   ]
  }
 ],
 "metadata": {
  "kernelspec": {
   "display_name": "Python 3 (ipykernel)",
   "language": "python",
   "name": "python3"
  },
  "language_info": {
   "codemirror_mode": {
    "name": "ipython",
    "version": 3
   },
   "file_extension": ".py",
   "mimetype": "text/x-python",
   "name": "python",
   "nbconvert_exporter": "python",
   "pygments_lexer": "ipython3",
   "version": "3.10.12"
  }
 },
 "nbformat": 4,
 "nbformat_minor": 5
}
