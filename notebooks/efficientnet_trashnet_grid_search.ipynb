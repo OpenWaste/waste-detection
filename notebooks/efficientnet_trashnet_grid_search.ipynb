{
 "cells": [
  {
   "cell_type": "code",
   "execution_count": 1,
   "id": "f25d43e5-caf0-4864-8c23-35d9d6957f42",
   "metadata": {},
   "outputs": [],
   "source": [
    "import os\n",
    "os.environ['TF_CPP_MIN_LOG_LEVEL'] = '2' "
   ]
  },
  {
   "cell_type": "code",
   "execution_count": 2,
   "id": "762fd262-fb69-42ba-8987-a1aaa6aa26d0",
   "metadata": {},
   "outputs": [
    {
     "name": "stderr",
     "output_type": "stream",
     "text": [
      "2024-03-14 13:26:55.742272: E external/local_xla/xla/stream_executor/cuda/cuda_dnn.cc:9261] Unable to register cuDNN factory: Attempting to register factory for plugin cuDNN when one has already been registered\n",
      "2024-03-14 13:26:55.742293: E external/local_xla/xla/stream_executor/cuda/cuda_fft.cc:607] Unable to register cuFFT factory: Attempting to register factory for plugin cuFFT when one has already been registered\n",
      "2024-03-14 13:26:55.742794: E external/local_xla/xla/stream_executor/cuda/cuda_blas.cc:1515] Unable to register cuBLAS factory: Attempting to register factory for plugin cuBLAS when one has already been registered\n"
     ]
    }
   ],
   "source": [
    "import numpy as np\n",
    "import tensorflow as tf\n",
    "\n",
    "from tensorflow.keras import Sequential\n",
    "from tensorflow.keras import Model\n",
    "from tensorflow.keras.layers import (RandomFlip, RandomRotation, RandomContrast, \n",
    "                                    GlobalAveragePooling2D, Dense, BatchNormalization)\n",
    "from tensorflow.keras.callbacks import ModelCheckpoint\n",
    "from tensorflow.keras.utils import image_dataset_from_directory\n",
    "from tensorflow.keras.applications.efficientnet_v2 import EfficientNetV2B2\n",
    "from tensorflow.keras.optimizers import SGD"
   ]
  },
  {
   "cell_type": "code",
   "execution_count": 3,
   "id": "9bb23561-da4f-4be1-a43a-6866a99597a9",
   "metadata": {},
   "outputs": [],
   "source": [
    "seed = 42\n",
    "dataset_path = '/home/deeplearning/AI/datasets/TrashNet'\n",
    "epochs = 30\n",
    "batch_size = 32\n",
    "img_height = 224\n",
    "img_width = 224"
   ]
  },
  {
   "cell_type": "code",
   "execution_count": 4,
   "id": "7a79e103-d1cb-4bc5-9685-5945a3718ed0",
   "metadata": {},
   "outputs": [],
   "source": [
    "data_augmentation = Sequential([\n",
    "    RandomFlip(mode=\"horizontal\", seed=seed),\n",
    "    RandomRotation(factor=0.05, seed=seed),\n",
    "    RandomContrast(factor=0.2, seed=seed)\n",
    "])"
   ]
  },
  {
   "cell_type": "code",
   "execution_count": 5,
   "id": "7f0d9dee-7bee-46ea-9614-65eb7abce969",
   "metadata": {},
   "outputs": [
    {
     "name": "stdout",
     "output_type": "stream",
     "text": [
      "Found 1768 files belonging to 6 classes.\n",
      "Found 328 files belonging to 6 classes.\n"
     ]
    }
   ],
   "source": [
    "train_ds_raw = image_dataset_from_directory(dataset_path + '/train', batch_size=batch_size)\n",
    "train_ds = train_ds_raw.map(lambda img, label: (data_augmentation(img), label)).shuffle(100, seed=seed).prefetch(tf.data.AUTOTUNE)\n",
    "\n",
    "val_ds = image_dataset_from_directory(dataset_path + '/val', batch_size=batch_size)"
   ]
  },
  {
   "cell_type": "code",
   "execution_count": 6,
   "id": "de76da15-e2b6-4426-b8fa-e0df4926ba23",
   "metadata": {},
   "outputs": [],
   "source": [
    "class_names = train_ds_raw.class_names\n",
    "n_classes = len(class_names)"
   ]
  },
  {
   "cell_type": "code",
   "execution_count": 7,
   "id": "618be6f4-5e4c-4ef6-afd6-81cdc61d5f18",
   "metadata": {},
   "outputs": [],
   "source": [
    "def train(lr, weight_decay, max_epochs):\n",
    "    print(f'lr: {lr:.6f}, weight_decay:{weight_decay:.6f}')\n",
    "    base_model = EfficientNetV2B2(weights=\"imagenet\", include_top=False)\n",
    "    avg = GlobalAveragePooling2D()(base_model.output)\n",
    "    output = Dense(n_classes, activation=\"softmax\")(avg)\n",
    "    model = Model(inputs=base_model.input, outputs=output)\n",
    "\n",
    "    for layer in model.layers:\n",
    "        if isinstance(layer, BatchNormalization):\n",
    "            layer.momentum = 0.90 # max(1 − 10/s, 0.9), where s is the number of steps per epoch, for this dataset and batch size, s= 56\n",
    "\n",
    "    optimizer = SGD(learning_rate=lr, momentum=0.9, nesterov=True, weight_decay=weight_decay)\n",
    "    model.compile(loss=\"sparse_categorical_crossentropy\", optimizer=optimizer,\n",
    "                  metrics=[\"accuracy\"])\n",
    "    history = model.fit(train_ds, validation_data=val_ds, epochs=max_epochs)\n",
    "\n",
    "    return history"
   ]
  },
  {
   "cell_type": "code",
   "execution_count": 8,
   "id": "ad57e673-e4b3-485e-9ea8-6e550c8979d3",
   "metadata": {},
   "outputs": [],
   "source": [
    "max_epochs = 10\n",
    "min_lr, max_lr = -4, -1\n",
    "min_wd, max_wd = -6, -3\n",
    "lr_list = np.logspace(min_lr, max_lr, 7).tolist()\n",
    "wd_list = [0] + np.logspace(min_wd, max_wd, 7).tolist()"
   ]
  },
  {
   "cell_type": "code",
   "execution_count": 9,
   "id": "ec04ae31-41be-40f7-a624-c18a6554056a",
   "metadata": {},
   "outputs": [
    {
     "name": "stdout",
     "output_type": "stream",
     "text": [
      "lr: 0.000100, weight_decay:0.000000\n",
      "Epoch 1/10\n"
     ]
    },
    {
     "name": "stderr",
     "output_type": "stream",
     "text": [
      "2024-03-14 13:27:04.524900: E tensorflow/core/grappler/optimizers/meta_optimizer.cc:961] layout failed: INVALID_ARGUMENT: Size of values 0 does not match size of permutation 4 @ fanin shape inmodel/block1b_drop/dropout/SelectV2-2-TransposeNHWCToNCHW-LayoutOptimizer\n",
      "WARNING: All log messages before absl::InitializeLog() is called are written to STDERR\n",
      "I0000 00:00:1710437230.672582  671268 device_compiler.h:186] Compiled cluster using XLA!  This line is logged at most once for the lifetime of the process.\n"
     ]
    },
    {
     "name": "stdout",
     "output_type": "stream",
     "text": [
      "56/56 [==============================] - 22s 76ms/step - loss: 1.8345 - accuracy: 0.1618 - val_loss: 1.7796 - val_accuracy: 0.2348\n",
      "Epoch 2/10\n",
      "56/56 [==============================] - 7s 55ms/step - loss: 1.7798 - accuracy: 0.2087 - val_loss: 1.7326 - val_accuracy: 0.2744\n",
      "Epoch 3/10\n",
      "56/56 [==============================] - 7s 53ms/step - loss: 1.7379 - accuracy: 0.2794 - val_loss: 1.6884 - val_accuracy: 0.3415\n",
      "Epoch 4/10\n",
      "56/56 [==============================] - 7s 56ms/step - loss: 1.6892 - accuracy: 0.3326 - val_loss: 1.6590 - val_accuracy: 0.3628\n",
      "Epoch 5/10\n",
      "56/56 [==============================] - 7s 54ms/step - loss: 1.6533 - accuracy: 0.3744 - val_loss: 1.6226 - val_accuracy: 0.4421\n",
      "Epoch 6/10\n",
      "56/56 [==============================] - 7s 54ms/step - loss: 1.6125 - accuracy: 0.4259 - val_loss: 1.5844 - val_accuracy: 0.4909\n",
      "Epoch 7/10\n",
      "56/56 [==============================] - 7s 55ms/step - loss: 1.5875 - accuracy: 0.4548 - val_loss: 1.5522 - val_accuracy: 0.5427\n",
      "Epoch 8/10\n",
      "56/56 [==============================] - 8s 56ms/step - loss: 1.5489 - accuracy: 0.4723 - val_loss: 1.5189 - val_accuracy: 0.5732\n",
      "Epoch 9/10\n",
      "56/56 [==============================] - 7s 55ms/step - loss: 1.5043 - accuracy: 0.5209 - val_loss: 1.4857 - val_accuracy: 0.5823\n",
      "Epoch 10/10\n",
      "56/56 [==============================] - 8s 55ms/step - loss: 1.4705 - accuracy: 0.5532 - val_loss: 1.4425 - val_accuracy: 0.6037\n",
      "lr: 0.000100, weight_decay:0.000001\n",
      "Epoch 1/10\n"
     ]
    },
    {
     "name": "stderr",
     "output_type": "stream",
     "text": [
      "2024-03-14 13:28:34.157158: E tensorflow/core/grappler/optimizers/meta_optimizer.cc:961] layout failed: INVALID_ARGUMENT: Size of values 0 does not match size of permutation 4 @ fanin shape inmodel_1/block1b_drop/dropout/SelectV2-2-TransposeNHWCToNCHW-LayoutOptimizer\n"
     ]
    },
    {
     "name": "stdout",
     "output_type": "stream",
     "text": [
      "56/56 [==============================] - 19s 68ms/step - loss: 1.8181 - accuracy: 0.1810 - val_loss: 1.7905 - val_accuracy: 0.2226\n",
      "Epoch 2/10\n",
      "56/56 [==============================] - 8s 57ms/step - loss: 1.7717 - accuracy: 0.2432 - val_loss: 1.7480 - val_accuracy: 0.2500\n",
      "Epoch 3/10\n",
      "56/56 [==============================] - 8s 58ms/step - loss: 1.7304 - accuracy: 0.2647 - val_loss: 1.7025 - val_accuracy: 0.2866\n",
      "Epoch 4/10\n",
      "56/56 [==============================] - 8s 59ms/step - loss: 1.6838 - accuracy: 0.3303 - val_loss: 1.6668 - val_accuracy: 0.3232\n",
      "Epoch 5/10\n",
      "56/56 [==============================] - 8s 57ms/step - loss: 1.6439 - accuracy: 0.3739 - val_loss: 1.6253 - val_accuracy: 0.3811\n",
      "Epoch 6/10\n",
      "56/56 [==============================] - 7s 56ms/step - loss: 1.6019 - accuracy: 0.4202 - val_loss: 1.5854 - val_accuracy: 0.4207\n",
      "Epoch 7/10\n",
      "56/56 [==============================] - 8s 57ms/step - loss: 1.5693 - accuracy: 0.4468 - val_loss: 1.5422 - val_accuracy: 0.4604\n",
      "Epoch 8/10\n",
      "56/56 [==============================] - 8s 56ms/step - loss: 1.5302 - accuracy: 0.4830 - val_loss: 1.5234 - val_accuracy: 0.4848\n",
      "Epoch 9/10\n",
      "56/56 [==============================] - 7s 57ms/step - loss: 1.5015 - accuracy: 0.5068 - val_loss: 1.4889 - val_accuracy: 0.4970\n",
      "Epoch 10/10\n",
      "56/56 [==============================] - 8s 56ms/step - loss: 1.4657 - accuracy: 0.5424 - val_loss: 1.4506 - val_accuracy: 0.5335\n",
      "lr: 0.000100, weight_decay:0.000003\n",
      "Epoch 1/10\n"
     ]
    },
    {
     "name": "stderr",
     "output_type": "stream",
     "text": [
      "2024-03-14 13:30:01.925192: E tensorflow/core/grappler/optimizers/meta_optimizer.cc:961] layout failed: INVALID_ARGUMENT: Size of values 0 does not match size of permutation 4 @ fanin shape inmodel_2/block1b_drop/dropout/SelectV2-2-TransposeNHWCToNCHW-LayoutOptimizer\n"
     ]
    },
    {
     "name": "stdout",
     "output_type": "stream",
     "text": [
      "56/56 [==============================] - 19s 68ms/step - loss: 1.8600 - accuracy: 0.1374 - val_loss: 1.8584 - val_accuracy: 0.1433\n",
      "Epoch 2/10\n",
      "56/56 [==============================] - 8s 58ms/step - loss: 1.8100 - accuracy: 0.1889 - val_loss: 1.8087 - val_accuracy: 0.1768\n",
      "Epoch 3/10\n",
      "56/56 [==============================] - 8s 58ms/step - loss: 1.7519 - accuracy: 0.2489 - val_loss: 1.7676 - val_accuracy: 0.2195\n",
      "Epoch 4/10\n",
      "56/56 [==============================] - 7s 57ms/step - loss: 1.7208 - accuracy: 0.2732 - val_loss: 1.7227 - val_accuracy: 0.2713\n",
      "Epoch 5/10\n",
      "56/56 [==============================] - 7s 57ms/step - loss: 1.6735 - accuracy: 0.3309 - val_loss: 1.6789 - val_accuracy: 0.3232\n",
      "Epoch 6/10\n",
      "56/56 [==============================] - 8s 57ms/step - loss: 1.6319 - accuracy: 0.3795 - val_loss: 1.6447 - val_accuracy: 0.3811\n",
      "Epoch 7/10\n",
      "56/56 [==============================] - 7s 57ms/step - loss: 1.5929 - accuracy: 0.4208 - val_loss: 1.6059 - val_accuracy: 0.4329\n",
      "Epoch 8/10\n",
      "56/56 [==============================] - 8s 58ms/step - loss: 1.5501 - accuracy: 0.4762 - val_loss: 1.5630 - val_accuracy: 0.4573\n",
      "Epoch 9/10\n",
      "56/56 [==============================] - 8s 58ms/step - loss: 1.5210 - accuracy: 0.5028 - val_loss: 1.5270 - val_accuracy: 0.5213\n",
      "Epoch 10/10\n",
      "56/56 [==============================] - 7s 56ms/step - loss: 1.4845 - accuracy: 0.5238 - val_loss: 1.4902 - val_accuracy: 0.5366\n",
      "lr: 0.000100, weight_decay:0.000010\n",
      "Epoch 1/10\n"
     ]
    },
    {
     "name": "stderr",
     "output_type": "stream",
     "text": [
      "2024-03-14 13:31:29.546361: E tensorflow/core/grappler/optimizers/meta_optimizer.cc:961] layout failed: INVALID_ARGUMENT: Size of values 0 does not match size of permutation 4 @ fanin shape inmodel_3/block1b_drop/dropout/SelectV2-2-TransposeNHWCToNCHW-LayoutOptimizer\n"
     ]
    },
    {
     "name": "stdout",
     "output_type": "stream",
     "text": [
      "56/56 [==============================] - 19s 77ms/step - loss: 1.8416 - accuracy: 0.1635 - val_loss: 1.8073 - val_accuracy: 0.2134\n",
      "Epoch 2/10\n",
      "56/56 [==============================] - 8s 57ms/step - loss: 1.7937 - accuracy: 0.2195 - val_loss: 1.7569 - val_accuracy: 0.2561\n",
      "Epoch 3/10\n",
      "56/56 [==============================] - 8s 59ms/step - loss: 1.7372 - accuracy: 0.2641 - val_loss: 1.7203 - val_accuracy: 0.2805\n",
      "Epoch 4/10\n",
      "56/56 [==============================] - 8s 57ms/step - loss: 1.6997 - accuracy: 0.2975 - val_loss: 1.6797 - val_accuracy: 0.3262\n",
      "Epoch 5/10\n",
      "56/56 [==============================] - 8s 58ms/step - loss: 1.6586 - accuracy: 0.3382 - val_loss: 1.6461 - val_accuracy: 0.3506\n",
      "Epoch 6/10\n",
      "56/56 [==============================] - 8s 59ms/step - loss: 1.6143 - accuracy: 0.3982 - val_loss: 1.6065 - val_accuracy: 0.3872\n",
      "Epoch 7/10\n",
      "56/56 [==============================] - 8s 59ms/step - loss: 1.5832 - accuracy: 0.4276 - val_loss: 1.5794 - val_accuracy: 0.4207\n",
      "Epoch 8/10\n",
      "56/56 [==============================] - 8s 57ms/step - loss: 1.5550 - accuracy: 0.4632 - val_loss: 1.5419 - val_accuracy: 0.4543\n",
      "Epoch 9/10\n",
      "56/56 [==============================] - 8s 59ms/step - loss: 1.5200 - accuracy: 0.4887 - val_loss: 1.5078 - val_accuracy: 0.4848\n",
      "Epoch 10/10\n",
      "56/56 [==============================] - 8s 59ms/step - loss: 1.4764 - accuracy: 0.5198 - val_loss: 1.4742 - val_accuracy: 0.5000\n",
      "lr: 0.000100, weight_decay:0.000032\n",
      "Epoch 1/10\n"
     ]
    },
    {
     "name": "stderr",
     "output_type": "stream",
     "text": [
      "2024-03-14 13:32:58.299772: E tensorflow/core/grappler/optimizers/meta_optimizer.cc:961] layout failed: INVALID_ARGUMENT: Size of values 0 does not match size of permutation 4 @ fanin shape inmodel_4/block1b_drop/dropout/SelectV2-2-TransposeNHWCToNCHW-LayoutOptimizer\n"
     ]
    },
    {
     "name": "stdout",
     "output_type": "stream",
     "text": [
      "56/56 [==============================] - 19s 69ms/step - loss: 1.8410 - accuracy: 0.1601 - val_loss: 1.8095 - val_accuracy: 0.1616\n",
      "Epoch 2/10\n",
      "56/56 [==============================] - 8s 58ms/step - loss: 1.7858 - accuracy: 0.2081 - val_loss: 1.7626 - val_accuracy: 0.2073\n",
      "Epoch 3/10\n",
      "56/56 [==============================] - 8s 59ms/step - loss: 1.7486 - accuracy: 0.2540 - val_loss: 1.7208 - val_accuracy: 0.2256\n",
      "Epoch 4/10\n",
      "56/56 [==============================] - 8s 58ms/step - loss: 1.7025 - accuracy: 0.3020 - val_loss: 1.6753 - val_accuracy: 0.3262\n",
      "Epoch 5/10\n",
      "56/56 [==============================] - 8s 59ms/step - loss: 1.6563 - accuracy: 0.3462 - val_loss: 1.6443 - val_accuracy: 0.3384\n",
      "Epoch 6/10\n",
      "56/56 [==============================] - 8s 60ms/step - loss: 1.6186 - accuracy: 0.3824 - val_loss: 1.6049 - val_accuracy: 0.3963\n",
      "Epoch 7/10\n",
      "56/56 [==============================] - 8s 58ms/step - loss: 1.5742 - accuracy: 0.4440 - val_loss: 1.5686 - val_accuracy: 0.4360\n",
      "Epoch 8/10\n",
      "56/56 [==============================] - 8s 59ms/step - loss: 1.5367 - accuracy: 0.4813 - val_loss: 1.5324 - val_accuracy: 0.4970\n",
      "Epoch 9/10\n",
      "56/56 [==============================] - 8s 58ms/step - loss: 1.5017 - accuracy: 0.5062 - val_loss: 1.5054 - val_accuracy: 0.5030\n",
      "Epoch 10/10\n",
      "56/56 [==============================] - 8s 59ms/step - loss: 1.4735 - accuracy: 0.5170 - val_loss: 1.4633 - val_accuracy: 0.5274\n",
      "lr: 0.000100, weight_decay:0.000100\n",
      "Epoch 1/10\n"
     ]
    },
    {
     "name": "stderr",
     "output_type": "stream",
     "text": [
      "2024-03-14 13:34:27.318936: E tensorflow/core/grappler/optimizers/meta_optimizer.cc:961] layout failed: INVALID_ARGUMENT: Size of values 0 does not match size of permutation 4 @ fanin shape inmodel_5/block1b_drop/dropout/SelectV2-2-TransposeNHWCToNCHW-LayoutOptimizer\n"
     ]
    },
    {
     "name": "stdout",
     "output_type": "stream",
     "text": [
      "56/56 [==============================] - 19s 71ms/step - loss: 1.8388 - accuracy: 0.1691 - val_loss: 1.8311 - val_accuracy: 0.1951\n",
      "Epoch 2/10\n",
      "56/56 [==============================] - 8s 60ms/step - loss: 1.8021 - accuracy: 0.2036 - val_loss: 1.7863 - val_accuracy: 0.2378\n",
      "Epoch 3/10\n",
      "56/56 [==============================] - 8s 61ms/step - loss: 1.7560 - accuracy: 0.2489 - val_loss: 1.7410 - val_accuracy: 0.2774\n",
      "Epoch 4/10\n",
      "56/56 [==============================] - 8s 59ms/step - loss: 1.7141 - accuracy: 0.2936 - val_loss: 1.7005 - val_accuracy: 0.3262\n",
      "Epoch 5/10\n",
      "56/56 [==============================] - 8s 62ms/step - loss: 1.6660 - accuracy: 0.3620 - val_loss: 1.6642 - val_accuracy: 0.3567\n",
      "Epoch 6/10\n",
      "56/56 [==============================] - 8s 61ms/step - loss: 1.6312 - accuracy: 0.4106 - val_loss: 1.6231 - val_accuracy: 0.4116\n",
      "Epoch 7/10\n",
      "56/56 [==============================] - 8s 61ms/step - loss: 1.5917 - accuracy: 0.4508 - val_loss: 1.5852 - val_accuracy: 0.4482\n",
      "Epoch 8/10\n",
      "56/56 [==============================] - 8s 59ms/step - loss: 1.5475 - accuracy: 0.4729 - val_loss: 1.5504 - val_accuracy: 0.4573\n",
      "Epoch 9/10\n",
      "56/56 [==============================] - 8s 61ms/step - loss: 1.5182 - accuracy: 0.5192 - val_loss: 1.5167 - val_accuracy: 0.5183\n",
      "Epoch 10/10\n",
      "56/56 [==============================] - 8s 61ms/step - loss: 1.4856 - accuracy: 0.5345 - val_loss: 1.4818 - val_accuracy: 0.5457\n",
      "lr: 0.000100, weight_decay:0.000316\n",
      "Epoch 1/10\n"
     ]
    },
    {
     "name": "stderr",
     "output_type": "stream",
     "text": [
      "2024-03-14 13:35:57.546501: E tensorflow/core/grappler/optimizers/meta_optimizer.cc:961] layout failed: INVALID_ARGUMENT: Size of values 0 does not match size of permutation 4 @ fanin shape inmodel_6/block1b_drop/dropout/SelectV2-2-TransposeNHWCToNCHW-LayoutOptimizer\n"
     ]
    },
    {
     "name": "stdout",
     "output_type": "stream",
     "text": [
      "56/56 [==============================] - 20s 72ms/step - loss: 1.8450 - accuracy: 0.1550 - val_loss: 1.8433 - val_accuracy: 0.1890\n",
      "Epoch 2/10\n",
      "56/56 [==============================] - 8s 59ms/step - loss: 1.7895 - accuracy: 0.2031 - val_loss: 1.7938 - val_accuracy: 0.2195\n",
      "Epoch 3/10\n",
      "56/56 [==============================] - 8s 61ms/step - loss: 1.7492 - accuracy: 0.2574 - val_loss: 1.7504 - val_accuracy: 0.2744\n",
      "Epoch 4/10\n",
      "56/56 [==============================] - 8s 60ms/step - loss: 1.6983 - accuracy: 0.2986 - val_loss: 1.7120 - val_accuracy: 0.3079\n",
      "Epoch 5/10\n",
      "56/56 [==============================] - 8s 60ms/step - loss: 1.6701 - accuracy: 0.3535 - val_loss: 1.6775 - val_accuracy: 0.3476\n",
      "Epoch 6/10\n",
      "56/56 [==============================] - 8s 58ms/step - loss: 1.6319 - accuracy: 0.3846 - val_loss: 1.6374 - val_accuracy: 0.3750\n",
      "Epoch 7/10\n",
      "56/56 [==============================] - 8s 57ms/step - loss: 1.5851 - accuracy: 0.4446 - val_loss: 1.6045 - val_accuracy: 0.4268\n",
      "Epoch 8/10\n",
      "56/56 [==============================] - 8s 59ms/step - loss: 1.5550 - accuracy: 0.4887 - val_loss: 1.5647 - val_accuracy: 0.4634\n",
      "Epoch 9/10\n",
      "56/56 [==============================] - 8s 61ms/step - loss: 1.5172 - accuracy: 0.5153 - val_loss: 1.5258 - val_accuracy: 0.4848\n",
      "Epoch 10/10\n",
      "56/56 [==============================] - 8s 61ms/step - loss: 1.4986 - accuracy: 0.5232 - val_loss: 1.4929 - val_accuracy: 0.5061\n",
      "lr: 0.000100, weight_decay:0.001000\n",
      "Epoch 1/10\n"
     ]
    },
    {
     "name": "stderr",
     "output_type": "stream",
     "text": [
      "2024-03-14 13:37:26.761936: E tensorflow/core/grappler/optimizers/meta_optimizer.cc:961] layout failed: INVALID_ARGUMENT: Size of values 0 does not match size of permutation 4 @ fanin shape inmodel_7/block1b_drop/dropout/SelectV2-2-TransposeNHWCToNCHW-LayoutOptimizer\n"
     ]
    },
    {
     "name": "stdout",
     "output_type": "stream",
     "text": [
      "56/56 [==============================] - 20s 85ms/step - loss: 1.8176 - accuracy: 0.1787 - val_loss: 1.7957 - val_accuracy: 0.1829\n",
      "Epoch 2/10\n",
      "56/56 [==============================] - 8s 58ms/step - loss: 1.7689 - accuracy: 0.2240 - val_loss: 1.7529 - val_accuracy: 0.2165\n",
      "Epoch 3/10\n",
      "56/56 [==============================] - 8s 60ms/step - loss: 1.7290 - accuracy: 0.2771 - val_loss: 1.7138 - val_accuracy: 0.2652\n",
      "Epoch 4/10\n",
      "56/56 [==============================] - 8s 59ms/step - loss: 1.6780 - accuracy: 0.3331 - val_loss: 1.6799 - val_accuracy: 0.3354\n",
      "Epoch 5/10\n",
      "56/56 [==============================] - 8s 58ms/step - loss: 1.6461 - accuracy: 0.3739 - val_loss: 1.6430 - val_accuracy: 0.3689\n",
      "Epoch 6/10\n",
      "56/56 [==============================] - 8s 59ms/step - loss: 1.6086 - accuracy: 0.4135 - val_loss: 1.6057 - val_accuracy: 0.4146\n",
      "Epoch 7/10\n",
      "56/56 [==============================] - 8s 60ms/step - loss: 1.5691 - accuracy: 0.4695 - val_loss: 1.5704 - val_accuracy: 0.4573\n",
      "Epoch 8/10\n",
      "56/56 [==============================] - 8s 61ms/step - loss: 1.5346 - accuracy: 0.4943 - val_loss: 1.5332 - val_accuracy: 0.5030\n",
      "Epoch 9/10\n",
      "56/56 [==============================] - 8s 60ms/step - loss: 1.4994 - accuracy: 0.5170 - val_loss: 1.4968 - val_accuracy: 0.5244\n",
      "Epoch 10/10\n",
      "56/56 [==============================] - 8s 61ms/step - loss: 1.4696 - accuracy: 0.5475 - val_loss: 1.4719 - val_accuracy: 0.5427\n",
      "lr: 0.000316, weight_decay:0.000000\n",
      "Epoch 1/10\n"
     ]
    },
    {
     "name": "stderr",
     "output_type": "stream",
     "text": [
      "2024-03-14 13:38:56.862785: E tensorflow/core/grappler/optimizers/meta_optimizer.cc:961] layout failed: INVALID_ARGUMENT: Size of values 0 does not match size of permutation 4 @ fanin shape inmodel_8/block1b_drop/dropout/SelectV2-2-TransposeNHWCToNCHW-LayoutOptimizer\n"
     ]
    },
    {
     "name": "stdout",
     "output_type": "stream",
     "text": [
      "56/56 [==============================] - 19s 67ms/step - loss: 1.7617 - accuracy: 0.2240 - val_loss: 1.6728 - val_accuracy: 0.3445\n",
      "Epoch 2/10\n",
      "56/56 [==============================] - 8s 55ms/step - loss: 1.6399 - accuracy: 0.3829 - val_loss: 1.5639 - val_accuracy: 0.4756\n",
      "Epoch 3/10\n",
      "56/56 [==============================] - 8s 55ms/step - loss: 1.5235 - accuracy: 0.4938 - val_loss: 1.4441 - val_accuracy: 0.6098\n",
      "Epoch 4/10\n",
      "56/56 [==============================] - 7s 55ms/step - loss: 1.4158 - accuracy: 0.5860 - val_loss: 1.3430 - val_accuracy: 0.6707\n",
      "Epoch 5/10\n",
      "56/56 [==============================] - 7s 55ms/step - loss: 1.2991 - accuracy: 0.6414 - val_loss: 1.2541 - val_accuracy: 0.6738\n",
      "Epoch 6/10\n",
      "56/56 [==============================] - 7s 54ms/step - loss: 1.2231 - accuracy: 0.6623 - val_loss: 1.1730 - val_accuracy: 0.7012\n",
      "Epoch 7/10\n",
      "56/56 [==============================] - 8s 56ms/step - loss: 1.1373 - accuracy: 0.6946 - val_loss: 1.0917 - val_accuracy: 0.7195\n",
      "Epoch 8/10\n",
      "56/56 [==============================] - 7s 56ms/step - loss: 1.0587 - accuracy: 0.7070 - val_loss: 1.0173 - val_accuracy: 0.7409\n",
      "Epoch 9/10\n",
      "56/56 [==============================] - 7s 55ms/step - loss: 0.9753 - accuracy: 0.7426 - val_loss: 0.9530 - val_accuracy: 0.7652\n",
      "Epoch 10/10\n",
      "56/56 [==============================] - 7s 55ms/step - loss: 0.9244 - accuracy: 0.7376 - val_loss: 0.9020 - val_accuracy: 0.7683\n",
      "lr: 0.000316, weight_decay:0.000001\n",
      "Epoch 1/10\n"
     ]
    },
    {
     "name": "stderr",
     "output_type": "stream",
     "text": [
      "2024-03-14 13:40:24.863627: E tensorflow/core/grappler/optimizers/meta_optimizer.cc:961] layout failed: INVALID_ARGUMENT: Size of values 0 does not match size of permutation 4 @ fanin shape inmodel_9/block1b_drop/dropout/SelectV2-2-TransposeNHWCToNCHW-LayoutOptimizer\n"
     ]
    },
    {
     "name": "stdout",
     "output_type": "stream",
     "text": [
      "56/56 [==============================] - 20s 70ms/step - loss: 1.7938 - accuracy: 0.1895 - val_loss: 1.7173 - val_accuracy: 0.3018\n",
      "Epoch 2/10\n",
      "56/56 [==============================] - 8s 60ms/step - loss: 1.6723 - accuracy: 0.3428 - val_loss: 1.5949 - val_accuracy: 0.4329\n",
      "Epoch 3/10\n",
      "56/56 [==============================] - 8s 58ms/step - loss: 1.5546 - accuracy: 0.4689 - val_loss: 1.4961 - val_accuracy: 0.5305\n",
      "Epoch 4/10\n",
      "56/56 [==============================] - 8s 59ms/step - loss: 1.4481 - accuracy: 0.5486 - val_loss: 1.4092 - val_accuracy: 0.5945\n",
      "Epoch 5/10\n",
      "56/56 [==============================] - 8s 58ms/step - loss: 1.3606 - accuracy: 0.5973 - val_loss: 1.3124 - val_accuracy: 0.6189\n",
      "Epoch 6/10\n",
      "56/56 [==============================] - 8s 58ms/step - loss: 1.2743 - accuracy: 0.6454 - val_loss: 1.2448 - val_accuracy: 0.6372\n",
      "Epoch 7/10\n",
      "56/56 [==============================] - 8s 58ms/step - loss: 1.1917 - accuracy: 0.6595 - val_loss: 1.1583 - val_accuracy: 0.6738\n",
      "Epoch 8/10\n",
      "56/56 [==============================] - 8s 60ms/step - loss: 1.1095 - accuracy: 0.6951 - val_loss: 1.0873 - val_accuracy: 0.6677\n",
      "Epoch 9/10\n",
      "56/56 [==============================] - 8s 59ms/step - loss: 1.0472 - accuracy: 0.7115 - val_loss: 1.0309 - val_accuracy: 0.6799\n",
      "Epoch 10/10\n",
      "56/56 [==============================] - 8s 58ms/step - loss: 0.9770 - accuracy: 0.7336 - val_loss: 0.9726 - val_accuracy: 0.7043\n",
      "lr: 0.000316, weight_decay:0.000003\n",
      "Epoch 1/10\n"
     ]
    },
    {
     "name": "stderr",
     "output_type": "stream",
     "text": [
      "2024-03-14 13:41:53.352705: E tensorflow/core/grappler/optimizers/meta_optimizer.cc:961] layout failed: INVALID_ARGUMENT: Size of values 0 does not match size of permutation 4 @ fanin shape inmodel_10/block1b_drop/dropout/SelectV2-2-TransposeNHWCToNCHW-LayoutOptimizer\n"
     ]
    },
    {
     "name": "stdout",
     "output_type": "stream",
     "text": [
      "56/56 [==============================] - 19s 71ms/step - loss: 1.7501 - accuracy: 0.2415 - val_loss: 1.7166 - val_accuracy: 0.2500\n",
      "Epoch 2/10\n",
      "56/56 [==============================] - 8s 59ms/step - loss: 1.6223 - accuracy: 0.4061 - val_loss: 1.5904 - val_accuracy: 0.4085\n",
      "Epoch 3/10\n",
      "56/56 [==============================] - 8s 59ms/step - loss: 1.5063 - accuracy: 0.5192 - val_loss: 1.4890 - val_accuracy: 0.5366\n",
      "Epoch 4/10\n",
      "56/56 [==============================] - 8s 60ms/step - loss: 1.4141 - accuracy: 0.5798 - val_loss: 1.3931 - val_accuracy: 0.5915\n",
      "Epoch 5/10\n",
      "56/56 [==============================] - 8s 59ms/step - loss: 1.3075 - accuracy: 0.6318 - val_loss: 1.2919 - val_accuracy: 0.6433\n",
      "Epoch 6/10\n",
      "56/56 [==============================] - 8s 58ms/step - loss: 1.2141 - accuracy: 0.6702 - val_loss: 1.2074 - val_accuracy: 0.6646\n",
      "Epoch 7/10\n",
      "56/56 [==============================] - 8s 59ms/step - loss: 1.1467 - accuracy: 0.6957 - val_loss: 1.1382 - val_accuracy: 0.6860\n",
      "Epoch 8/10\n",
      "56/56 [==============================] - 8s 58ms/step - loss: 1.0614 - accuracy: 0.7183 - val_loss: 1.0763 - val_accuracy: 0.7012\n",
      "Epoch 9/10\n",
      "56/56 [==============================] - 8s 58ms/step - loss: 1.0037 - accuracy: 0.7296 - val_loss: 1.0179 - val_accuracy: 0.7104\n",
      "Epoch 10/10\n",
      "56/56 [==============================] - 8s 59ms/step - loss: 0.9429 - accuracy: 0.7285 - val_loss: 0.9637 - val_accuracy: 0.7348\n",
      "lr: 0.000316, weight_decay:0.000010\n",
      "Epoch 1/10\n"
     ]
    },
    {
     "name": "stderr",
     "output_type": "stream",
     "text": [
      "2024-03-14 13:43:22.214887: E tensorflow/core/grappler/optimizers/meta_optimizer.cc:961] layout failed: INVALID_ARGUMENT: Size of values 0 does not match size of permutation 4 @ fanin shape inmodel_11/block1b_drop/dropout/SelectV2-2-TransposeNHWCToNCHW-LayoutOptimizer\n"
     ]
    },
    {
     "name": "stdout",
     "output_type": "stream",
     "text": [
      "56/56 [==============================] - 19s 70ms/step - loss: 1.7486 - accuracy: 0.2562 - val_loss: 1.6524 - val_accuracy: 0.3628\n",
      "Epoch 2/10\n",
      "56/56 [==============================] - 8s 57ms/step - loss: 1.6265 - accuracy: 0.3840 - val_loss: 1.5432 - val_accuracy: 0.4939\n",
      "Epoch 3/10\n",
      "56/56 [==============================] - 8s 59ms/step - loss: 1.5070 - accuracy: 0.5062 - val_loss: 1.4432 - val_accuracy: 0.5549\n",
      "Epoch 4/10\n",
      "56/56 [==============================] - 8s 58ms/step - loss: 1.4014 - accuracy: 0.5820 - val_loss: 1.3492 - val_accuracy: 0.6098\n",
      "Epoch 5/10\n",
      "56/56 [==============================] - 8s 58ms/step - loss: 1.3121 - accuracy: 0.6199 - val_loss: 1.2626 - val_accuracy: 0.6402\n",
      "Epoch 6/10\n",
      "56/56 [==============================] - 8s 61ms/step - loss: 1.2238 - accuracy: 0.6465 - val_loss: 1.1800 - val_accuracy: 0.6768\n",
      "Epoch 7/10\n",
      "56/56 [==============================] - 8s 59ms/step - loss: 1.1404 - accuracy: 0.6793 - val_loss: 1.1076 - val_accuracy: 0.7012\n",
      "Epoch 8/10\n",
      "56/56 [==============================] - 8s 57ms/step - loss: 1.0717 - accuracy: 0.6906 - val_loss: 1.0555 - val_accuracy: 0.6982\n",
      "Epoch 9/10\n",
      "56/56 [==============================] - 8s 58ms/step - loss: 0.9992 - accuracy: 0.7121 - val_loss: 0.9977 - val_accuracy: 0.7104\n",
      "Epoch 10/10\n",
      "56/56 [==============================] - 8s 58ms/step - loss: 0.9397 - accuracy: 0.7296 - val_loss: 0.9381 - val_accuracy: 0.7256\n",
      "lr: 0.000316, weight_decay:0.000032\n",
      "Epoch 1/10\n"
     ]
    },
    {
     "name": "stderr",
     "output_type": "stream",
     "text": [
      "2024-03-14 13:44:52.124180: E tensorflow/core/grappler/optimizers/meta_optimizer.cc:961] layout failed: INVALID_ARGUMENT: Size of values 0 does not match size of permutation 4 @ fanin shape inmodel_12/block1b_drop/dropout/SelectV2-2-TransposeNHWCToNCHW-LayoutOptimizer\n"
     ]
    },
    {
     "name": "stdout",
     "output_type": "stream",
     "text": [
      "56/56 [==============================] - 19s 69ms/step - loss: 1.7645 - accuracy: 0.2477 - val_loss: 1.7092 - val_accuracy: 0.3140\n",
      "Epoch 2/10\n",
      "56/56 [==============================] - 8s 57ms/step - loss: 1.6391 - accuracy: 0.3874 - val_loss: 1.6002 - val_accuracy: 0.4482\n",
      "Epoch 3/10\n",
      "56/56 [==============================] - 8s 57ms/step - loss: 1.5200 - accuracy: 0.5175 - val_loss: 1.4911 - val_accuracy: 0.5274\n",
      "Epoch 4/10\n",
      "56/56 [==============================] - 8s 59ms/step - loss: 1.4137 - accuracy: 0.5882 - val_loss: 1.3899 - val_accuracy: 0.5823\n",
      "Epoch 5/10\n",
      "56/56 [==============================] - 8s 59ms/step - loss: 1.3312 - accuracy: 0.6307 - val_loss: 1.3030 - val_accuracy: 0.6159\n",
      "Epoch 6/10\n",
      "56/56 [==============================] - 8s 59ms/step - loss: 1.2371 - accuracy: 0.6595 - val_loss: 1.2201 - val_accuracy: 0.6433\n",
      "Epoch 7/10\n",
      "56/56 [==============================] - 8s 58ms/step - loss: 1.1350 - accuracy: 0.6985 - val_loss: 1.1492 - val_accuracy: 0.6585\n",
      "Epoch 8/10\n",
      "56/56 [==============================] - 8s 60ms/step - loss: 1.0772 - accuracy: 0.7098 - val_loss: 1.0747 - val_accuracy: 0.6768\n",
      "Epoch 9/10\n",
      "56/56 [==============================] - 8s 59ms/step - loss: 0.9998 - accuracy: 0.7223 - val_loss: 1.0019 - val_accuracy: 0.7073\n",
      "Epoch 10/10\n",
      "56/56 [==============================] - 8s 60ms/step - loss: 0.9416 - accuracy: 0.7562 - val_loss: 0.9424 - val_accuracy: 0.7287\n",
      "lr: 0.000316, weight_decay:0.000100\n",
      "Epoch 1/10\n"
     ]
    },
    {
     "name": "stderr",
     "output_type": "stream",
     "text": [
      "2024-03-14 13:46:20.681290: E tensorflow/core/grappler/optimizers/meta_optimizer.cc:961] layout failed: INVALID_ARGUMENT: Size of values 0 does not match size of permutation 4 @ fanin shape inmodel_13/block1b_drop/dropout/SelectV2-2-TransposeNHWCToNCHW-LayoutOptimizer\n"
     ]
    },
    {
     "name": "stdout",
     "output_type": "stream",
     "text": [
      "56/56 [==============================] - 19s 69ms/step - loss: 1.7390 - accuracy: 0.2517 - val_loss: 1.6700 - val_accuracy: 0.3140\n",
      "Epoch 2/10\n",
      "56/56 [==============================] - 8s 61ms/step - loss: 1.6250 - accuracy: 0.3693 - val_loss: 1.5563 - val_accuracy: 0.4482\n",
      "Epoch 3/10\n",
      "56/56 [==============================] - 8s 57ms/step - loss: 1.5087 - accuracy: 0.4898 - val_loss: 1.4485 - val_accuracy: 0.5396\n",
      "Epoch 4/10\n",
      "56/56 [==============================] - 8s 59ms/step - loss: 1.3995 - accuracy: 0.5667 - val_loss: 1.3423 - val_accuracy: 0.6098\n",
      "Epoch 5/10\n",
      "56/56 [==============================] - 7s 56ms/step - loss: 1.2899 - accuracy: 0.6437 - val_loss: 1.2509 - val_accuracy: 0.6585\n",
      "Epoch 6/10\n",
      "56/56 [==============================] - 8s 57ms/step - loss: 1.1980 - accuracy: 0.6697 - val_loss: 1.1634 - val_accuracy: 0.6982\n",
      "Epoch 7/10\n",
      "56/56 [==============================] - 8s 60ms/step - loss: 1.1109 - accuracy: 0.7014 - val_loss: 1.0764 - val_accuracy: 0.7104\n",
      "Epoch 8/10\n",
      "56/56 [==============================] - 8s 58ms/step - loss: 1.0319 - accuracy: 0.7183 - val_loss: 1.0095 - val_accuracy: 0.7226\n",
      "Epoch 9/10\n",
      "56/56 [==============================] - 8s 62ms/step - loss: 0.9617 - accuracy: 0.7387 - val_loss: 0.9575 - val_accuracy: 0.7378\n",
      "Epoch 10/10\n",
      "56/56 [==============================] - 8s 60ms/step - loss: 0.8997 - accuracy: 0.7472 - val_loss: 0.8958 - val_accuracy: 0.7622\n",
      "lr: 0.000316, weight_decay:0.000316\n",
      "Epoch 1/10\n"
     ]
    },
    {
     "name": "stderr",
     "output_type": "stream",
     "text": [
      "2024-03-14 13:47:51.090827: E tensorflow/core/grappler/optimizers/meta_optimizer.cc:961] layout failed: INVALID_ARGUMENT: Size of values 0 does not match size of permutation 4 @ fanin shape inmodel_14/block1b_drop/dropout/SelectV2-2-TransposeNHWCToNCHW-LayoutOptimizer\n"
     ]
    },
    {
     "name": "stdout",
     "output_type": "stream",
     "text": [
      "56/56 [==============================] - 20s 70ms/step - loss: 1.8153 - accuracy: 0.1793 - val_loss: 1.7272 - val_accuracy: 0.2439\n",
      "Epoch 2/10\n",
      "56/56 [==============================] - 8s 57ms/step - loss: 1.6789 - accuracy: 0.3354 - val_loss: 1.6090 - val_accuracy: 0.3994\n",
      "Epoch 3/10\n",
      "56/56 [==============================] - 8s 58ms/step - loss: 1.5682 - accuracy: 0.4553 - val_loss: 1.5038 - val_accuracy: 0.5000\n",
      "Epoch 4/10\n",
      "56/56 [==============================] - 8s 58ms/step - loss: 1.4627 - accuracy: 0.5577 - val_loss: 1.4116 - val_accuracy: 0.5579\n",
      "Epoch 5/10\n",
      "56/56 [==============================] - 8s 58ms/step - loss: 1.3684 - accuracy: 0.6256 - val_loss: 1.3315 - val_accuracy: 0.6159\n",
      "Epoch 6/10\n",
      "56/56 [==============================] - 8s 59ms/step - loss: 1.2775 - accuracy: 0.6567 - val_loss: 1.2301 - val_accuracy: 0.6707\n",
      "Epoch 7/10\n",
      "56/56 [==============================] - 8s 61ms/step - loss: 1.1953 - accuracy: 0.6663 - val_loss: 1.1626 - val_accuracy: 0.6951\n",
      "Epoch 8/10\n",
      "56/56 [==============================] - 8s 60ms/step - loss: 1.1218 - accuracy: 0.6912 - val_loss: 1.0827 - val_accuracy: 0.7317\n",
      "Epoch 9/10\n",
      "56/56 [==============================] - 8s 60ms/step - loss: 1.0430 - accuracy: 0.7245 - val_loss: 1.0121 - val_accuracy: 0.7348\n",
      "Epoch 10/10\n",
      "56/56 [==============================] - 8s 59ms/step - loss: 0.9748 - accuracy: 0.7410 - val_loss: 0.9549 - val_accuracy: 0.7409\n",
      "lr: 0.000316, weight_decay:0.001000\n",
      "Epoch 1/10\n"
     ]
    },
    {
     "name": "stderr",
     "output_type": "stream",
     "text": [
      "2024-03-14 13:49:20.062971: E tensorflow/core/grappler/optimizers/meta_optimizer.cc:961] layout failed: INVALID_ARGUMENT: Size of values 0 does not match size of permutation 4 @ fanin shape inmodel_15/block1b_drop/dropout/SelectV2-2-TransposeNHWCToNCHW-LayoutOptimizer\n"
     ]
    },
    {
     "name": "stdout",
     "output_type": "stream",
     "text": [
      "56/56 [==============================] - 19s 69ms/step - loss: 1.7820 - accuracy: 0.1991 - val_loss: 1.7265 - val_accuracy: 0.2500\n",
      "Epoch 2/10\n",
      "56/56 [==============================] - 8s 60ms/step - loss: 1.6530 - accuracy: 0.3196 - val_loss: 1.6005 - val_accuracy: 0.3841\n",
      "Epoch 3/10\n",
      "56/56 [==============================] - 8s 58ms/step - loss: 1.5298 - accuracy: 0.4655 - val_loss: 1.5040 - val_accuracy: 0.4817\n",
      "Epoch 4/10\n",
      "56/56 [==============================] - 8s 58ms/step - loss: 1.4245 - accuracy: 0.5452 - val_loss: 1.3938 - val_accuracy: 0.5427\n",
      "Epoch 5/10\n",
      "56/56 [==============================] - 8s 58ms/step - loss: 1.3194 - accuracy: 0.6086 - val_loss: 1.3020 - val_accuracy: 0.6128\n",
      "Epoch 6/10\n",
      "56/56 [==============================] - 8s 60ms/step - loss: 1.2303 - accuracy: 0.6567 - val_loss: 1.2109 - val_accuracy: 0.6341\n",
      "Epoch 7/10\n",
      "56/56 [==============================] - 8s 60ms/step - loss: 1.1563 - accuracy: 0.6736 - val_loss: 1.1256 - val_accuracy: 0.6707\n",
      "Epoch 8/10\n",
      "56/56 [==============================] - 8s 60ms/step - loss: 1.0749 - accuracy: 0.6963 - val_loss: 1.0580 - val_accuracy: 0.6768\n",
      "Epoch 9/10\n",
      "56/56 [==============================] - 8s 59ms/step - loss: 0.9986 - accuracy: 0.7308 - val_loss: 0.9963 - val_accuracy: 0.7012\n",
      "Epoch 10/10\n",
      "56/56 [==============================] - 8s 59ms/step - loss: 0.9452 - accuracy: 0.7432 - val_loss: 0.9320 - val_accuracy: 0.7195\n",
      "lr: 0.001000, weight_decay:0.000000\n",
      "Epoch 1/10\n"
     ]
    },
    {
     "name": "stderr",
     "output_type": "stream",
     "text": [
      "2024-03-14 13:50:48.999947: E tensorflow/core/grappler/optimizers/meta_optimizer.cc:961] layout failed: INVALID_ARGUMENT: Size of values 0 does not match size of permutation 4 @ fanin shape inmodel_16/block1b_drop/dropout/SelectV2-2-TransposeNHWCToNCHW-LayoutOptimizer\n"
     ]
    },
    {
     "name": "stdout",
     "output_type": "stream",
     "text": [
      "56/56 [==============================] - 19s 68ms/step - loss: 1.6789 - accuracy: 0.3433 - val_loss: 1.4906 - val_accuracy: 0.5366\n",
      "Epoch 2/10\n",
      "56/56 [==============================] - 8s 57ms/step - loss: 1.3396 - accuracy: 0.6250 - val_loss: 1.2043 - val_accuracy: 0.6616\n",
      "Epoch 3/10\n",
      "56/56 [==============================] - 7s 56ms/step - loss: 1.0799 - accuracy: 0.7025 - val_loss: 0.9797 - val_accuracy: 0.7073\n",
      "Epoch 4/10\n",
      "56/56 [==============================] - 8s 58ms/step - loss: 0.8941 - accuracy: 0.7460 - val_loss: 0.8332 - val_accuracy: 0.7622\n",
      "Epoch 5/10\n",
      "56/56 [==============================] - 7s 57ms/step - loss: 0.7648 - accuracy: 0.7647 - val_loss: 0.7262 - val_accuracy: 0.8018\n",
      "Epoch 6/10\n",
      "56/56 [==============================] - 8s 59ms/step - loss: 0.6643 - accuracy: 0.8037 - val_loss: 0.6452 - val_accuracy: 0.8171\n",
      "Epoch 7/10\n",
      "56/56 [==============================] - 8s 59ms/step - loss: 0.5935 - accuracy: 0.8252 - val_loss: 0.5831 - val_accuracy: 0.8262\n",
      "Epoch 8/10\n",
      "56/56 [==============================] - 8s 58ms/step - loss: 0.5392 - accuracy: 0.8320 - val_loss: 0.5140 - val_accuracy: 0.8476\n",
      "Epoch 9/10\n",
      "56/56 [==============================] - 7s 56ms/step - loss: 0.4760 - accuracy: 0.8490 - val_loss: 0.4750 - val_accuracy: 0.8567\n",
      "Epoch 10/10\n",
      "56/56 [==============================] - 8s 55ms/step - loss: 0.4445 - accuracy: 0.8620 - val_loss: 0.4456 - val_accuracy: 0.8780\n",
      "lr: 0.001000, weight_decay:0.000001\n",
      "Epoch 1/10\n"
     ]
    },
    {
     "name": "stderr",
     "output_type": "stream",
     "text": [
      "2024-03-14 13:52:16.682780: E tensorflow/core/grappler/optimizers/meta_optimizer.cc:961] layout failed: INVALID_ARGUMENT: Size of values 0 does not match size of permutation 4 @ fanin shape inmodel_17/block1b_drop/dropout/SelectV2-2-TransposeNHWCToNCHW-LayoutOptimizer\n"
     ]
    },
    {
     "name": "stdout",
     "output_type": "stream",
     "text": [
      "56/56 [==============================] - 19s 72ms/step - loss: 1.6835 - accuracy: 0.3343 - val_loss: 1.4677 - val_accuracy: 0.5183\n",
      "Epoch 2/10\n",
      "56/56 [==============================] - 8s 61ms/step - loss: 1.3538 - accuracy: 0.6001 - val_loss: 1.1872 - val_accuracy: 0.6799\n",
      "Epoch 3/10\n",
      "56/56 [==============================] - 8s 61ms/step - loss: 1.1026 - accuracy: 0.6867 - val_loss: 0.9688 - val_accuracy: 0.7195\n",
      "Epoch 4/10\n",
      "56/56 [==============================] - 8s 60ms/step - loss: 0.9076 - accuracy: 0.7257 - val_loss: 0.8251 - val_accuracy: 0.7561\n",
      "Epoch 5/10\n",
      "56/56 [==============================] - 8s 61ms/step - loss: 0.7760 - accuracy: 0.7670 - val_loss: 0.6981 - val_accuracy: 0.8049\n",
      "Epoch 6/10\n",
      "56/56 [==============================] - 8s 61ms/step - loss: 0.6696 - accuracy: 0.7998 - val_loss: 0.6127 - val_accuracy: 0.8171\n",
      "Epoch 7/10\n",
      "56/56 [==============================] - 8s 60ms/step - loss: 0.6068 - accuracy: 0.8071 - val_loss: 0.5478 - val_accuracy: 0.8537\n",
      "Epoch 8/10\n",
      "56/56 [==============================] - 8s 61ms/step - loss: 0.5378 - accuracy: 0.8467 - val_loss: 0.4915 - val_accuracy: 0.8659\n",
      "Epoch 9/10\n",
      "56/56 [==============================] - 8s 58ms/step - loss: 0.4839 - accuracy: 0.8592 - val_loss: 0.4628 - val_accuracy: 0.8841\n",
      "Epoch 10/10\n",
      "56/56 [==============================] - 8s 58ms/step - loss: 0.4348 - accuracy: 0.8750 - val_loss: 0.4261 - val_accuracy: 0.8933\n",
      "lr: 0.001000, weight_decay:0.000003\n",
      "Epoch 1/10\n"
     ]
    },
    {
     "name": "stderr",
     "output_type": "stream",
     "text": [
      "2024-03-14 13:53:48.092057: E tensorflow/core/grappler/optimizers/meta_optimizer.cc:961] layout failed: INVALID_ARGUMENT: Size of values 0 does not match size of permutation 4 @ fanin shape inmodel_18/block1b_drop/dropout/SelectV2-2-TransposeNHWCToNCHW-LayoutOptimizer\n"
     ]
    },
    {
     "name": "stdout",
     "output_type": "stream",
     "text": [
      "56/56 [==============================] - 19s 72ms/step - loss: 1.6913 - accuracy: 0.3281 - val_loss: 1.5153 - val_accuracy: 0.5122\n",
      "Epoch 2/10\n",
      "56/56 [==============================] - 8s 59ms/step - loss: 1.3566 - accuracy: 0.6103 - val_loss: 1.2343 - val_accuracy: 0.6372\n",
      "Epoch 3/10\n",
      "56/56 [==============================] - 8s 59ms/step - loss: 1.0886 - accuracy: 0.7002 - val_loss: 1.0083 - val_accuracy: 0.7104\n",
      "Epoch 4/10\n",
      "56/56 [==============================] - 8s 59ms/step - loss: 0.9003 - accuracy: 0.7415 - val_loss: 0.8591 - val_accuracy: 0.7256\n",
      "Epoch 5/10\n",
      "56/56 [==============================] - 8s 59ms/step - loss: 0.7641 - accuracy: 0.7805 - val_loss: 0.7488 - val_accuracy: 0.7805\n",
      "Epoch 6/10\n",
      "56/56 [==============================] - 8s 58ms/step - loss: 0.6743 - accuracy: 0.7969 - val_loss: 0.6535 - val_accuracy: 0.8079\n",
      "Epoch 7/10\n",
      "56/56 [==============================] - 8s 60ms/step - loss: 0.5683 - accuracy: 0.8252 - val_loss: 0.5969 - val_accuracy: 0.8323\n",
      "Epoch 8/10\n",
      "56/56 [==============================] - 8s 60ms/step - loss: 0.5163 - accuracy: 0.8462 - val_loss: 0.5513 - val_accuracy: 0.8323\n",
      "Epoch 9/10\n",
      "56/56 [==============================] - 8s 61ms/step - loss: 0.4724 - accuracy: 0.8575 - val_loss: 0.5056 - val_accuracy: 0.8537\n",
      "Epoch 10/10\n",
      "56/56 [==============================] - 8s 61ms/step - loss: 0.4320 - accuracy: 0.8637 - val_loss: 0.4722 - val_accuracy: 0.8598\n",
      "lr: 0.001000, weight_decay:0.000010\n",
      "Epoch 1/10\n"
     ]
    },
    {
     "name": "stderr",
     "output_type": "stream",
     "text": [
      "2024-03-14 13:55:17.082481: E tensorflow/core/grappler/optimizers/meta_optimizer.cc:961] layout failed: INVALID_ARGUMENT: Size of values 0 does not match size of permutation 4 @ fanin shape inmodel_19/block1b_drop/dropout/SelectV2-2-TransposeNHWCToNCHW-LayoutOptimizer\n"
     ]
    },
    {
     "name": "stdout",
     "output_type": "stream",
     "text": [
      "56/56 [==============================] - 19s 72ms/step - loss: 1.6558 - accuracy: 0.3563 - val_loss: 1.4965 - val_accuracy: 0.5091\n",
      "Epoch 2/10\n",
      "56/56 [==============================] - 8s 58ms/step - loss: 1.3362 - accuracy: 0.5990 - val_loss: 1.2158 - val_accuracy: 0.6585\n",
      "Epoch 3/10\n",
      "56/56 [==============================] - 8s 59ms/step - loss: 1.0818 - accuracy: 0.6963 - val_loss: 1.0122 - val_accuracy: 0.7317\n",
      "Epoch 4/10\n",
      "56/56 [==============================] - 8s 59ms/step - loss: 0.9112 - accuracy: 0.7313 - val_loss: 0.8663 - val_accuracy: 0.7652\n",
      "Epoch 5/10\n",
      "56/56 [==============================] - 8s 58ms/step - loss: 0.7637 - accuracy: 0.7755 - val_loss: 0.7425 - val_accuracy: 0.7774\n",
      "Epoch 6/10\n",
      "56/56 [==============================] - 8s 60ms/step - loss: 0.6671 - accuracy: 0.8009 - val_loss: 0.6768 - val_accuracy: 0.8110\n",
      "Epoch 7/10\n",
      "56/56 [==============================] - 8s 61ms/step - loss: 0.6079 - accuracy: 0.8139 - val_loss: 0.6079 - val_accuracy: 0.8323\n",
      "Epoch 8/10\n",
      "56/56 [==============================] - 8s 62ms/step - loss: 0.5402 - accuracy: 0.8320 - val_loss: 0.5667 - val_accuracy: 0.8293\n",
      "Epoch 9/10\n",
      "56/56 [==============================] - 8s 61ms/step - loss: 0.4788 - accuracy: 0.8518 - val_loss: 0.5126 - val_accuracy: 0.8537\n",
      "Epoch 10/10\n",
      "56/56 [==============================] - 8s 60ms/step - loss: 0.4397 - accuracy: 0.8648 - val_loss: 0.4824 - val_accuracy: 0.8537\n",
      "lr: 0.001000, weight_decay:0.000032\n",
      "Epoch 1/10\n"
     ]
    },
    {
     "name": "stderr",
     "output_type": "stream",
     "text": [
      "2024-03-14 13:56:46.368780: E tensorflow/core/grappler/optimizers/meta_optimizer.cc:961] layout failed: INVALID_ARGUMENT: Size of values 0 does not match size of permutation 4 @ fanin shape inmodel_20/block1b_drop/dropout/SelectV2-2-TransposeNHWCToNCHW-LayoutOptimizer\n"
     ]
    },
    {
     "name": "stdout",
     "output_type": "stream",
     "text": [
      "56/56 [==============================] - 19s 72ms/step - loss: 1.6666 - accuracy: 0.3445 - val_loss: 1.5254 - val_accuracy: 0.4939\n",
      "Epoch 2/10\n",
      "56/56 [==============================] - 8s 59ms/step - loss: 1.3533 - accuracy: 0.6154 - val_loss: 1.2351 - val_accuracy: 0.6433\n",
      "Epoch 3/10\n",
      "56/56 [==============================] - 8s 61ms/step - loss: 1.0864 - accuracy: 0.6934 - val_loss: 1.0098 - val_accuracy: 0.7134\n",
      "Epoch 4/10\n",
      "56/56 [==============================] - 8s 59ms/step - loss: 0.9011 - accuracy: 0.7393 - val_loss: 0.8394 - val_accuracy: 0.7561\n",
      "Epoch 5/10\n",
      "56/56 [==============================] - 8s 61ms/step - loss: 0.7548 - accuracy: 0.7845 - val_loss: 0.7058 - val_accuracy: 0.7896\n",
      "Epoch 6/10\n",
      "56/56 [==============================] - 8s 58ms/step - loss: 0.6490 - accuracy: 0.8054 - val_loss: 0.6411 - val_accuracy: 0.8201\n",
      "Epoch 7/10\n",
      "56/56 [==============================] - 8s 60ms/step - loss: 0.5780 - accuracy: 0.8382 - val_loss: 0.5648 - val_accuracy: 0.8415\n",
      "Epoch 8/10\n",
      "56/56 [==============================] - 8s 60ms/step - loss: 0.4951 - accuracy: 0.8546 - val_loss: 0.5142 - val_accuracy: 0.8537\n",
      "Epoch 9/10\n",
      "56/56 [==============================] - 8s 60ms/step - loss: 0.4644 - accuracy: 0.8558 - val_loss: 0.4682 - val_accuracy: 0.8689\n",
      "Epoch 10/10\n",
      "56/56 [==============================] - 8s 59ms/step - loss: 0.4284 - accuracy: 0.8699 - val_loss: 0.4324 - val_accuracy: 0.8872\n",
      "lr: 0.001000, weight_decay:0.000100\n",
      "Epoch 1/10\n"
     ]
    },
    {
     "name": "stderr",
     "output_type": "stream",
     "text": [
      "2024-03-14 13:58:15.384567: E tensorflow/core/grappler/optimizers/meta_optimizer.cc:961] layout failed: INVALID_ARGUMENT: Size of values 0 does not match size of permutation 4 @ fanin shape inmodel_21/block1b_drop/dropout/SelectV2-2-TransposeNHWCToNCHW-LayoutOptimizer\n"
     ]
    },
    {
     "name": "stdout",
     "output_type": "stream",
     "text": [
      "56/56 [==============================] - 21s 109ms/step - loss: 1.6782 - accuracy: 0.3213 - val_loss: 1.5086 - val_accuracy: 0.4726\n",
      "Epoch 2/10\n",
      "56/56 [==============================] - 8s 59ms/step - loss: 1.3359 - accuracy: 0.6239 - val_loss: 1.2212 - val_accuracy: 0.6402\n",
      "Epoch 3/10\n",
      "56/56 [==============================] - 8s 58ms/step - loss: 1.0865 - accuracy: 0.7121 - val_loss: 1.0218 - val_accuracy: 0.7012\n",
      "Epoch 4/10\n",
      "56/56 [==============================] - 8s 58ms/step - loss: 0.8969 - accuracy: 0.7472 - val_loss: 0.8490 - val_accuracy: 0.7530\n",
      "Epoch 5/10\n",
      "56/56 [==============================] - 8s 59ms/step - loss: 0.7777 - accuracy: 0.7800 - val_loss: 0.7441 - val_accuracy: 0.8110\n",
      "Epoch 6/10\n",
      "56/56 [==============================] - 8s 60ms/step - loss: 0.6731 - accuracy: 0.8037 - val_loss: 0.6502 - val_accuracy: 0.8354\n",
      "Epoch 7/10\n",
      "56/56 [==============================] - 8s 59ms/step - loss: 0.6021 - accuracy: 0.8235 - val_loss: 0.5695 - val_accuracy: 0.8537\n",
      "Epoch 8/10\n",
      "56/56 [==============================] - 8s 60ms/step - loss: 0.5319 - accuracy: 0.8450 - val_loss: 0.5138 - val_accuracy: 0.8720\n",
      "Epoch 9/10\n",
      "56/56 [==============================] - 8s 61ms/step - loss: 0.4832 - accuracy: 0.8563 - val_loss: 0.4773 - val_accuracy: 0.8689\n",
      "Epoch 10/10\n",
      "56/56 [==============================] - 8s 59ms/step - loss: 0.4264 - accuracy: 0.8750 - val_loss: 0.4299 - val_accuracy: 0.8841\n",
      "lr: 0.001000, weight_decay:0.000316\n",
      "Epoch 1/10\n"
     ]
    },
    {
     "name": "stderr",
     "output_type": "stream",
     "text": [
      "2024-03-14 13:59:46.799359: E tensorflow/core/grappler/optimizers/meta_optimizer.cc:961] layout failed: INVALID_ARGUMENT: Size of values 0 does not match size of permutation 4 @ fanin shape inmodel_22/block1b_drop/dropout/SelectV2-2-TransposeNHWCToNCHW-LayoutOptimizer\n"
     ]
    },
    {
     "name": "stdout",
     "output_type": "stream",
     "text": [
      "56/56 [==============================] - 19s 69ms/step - loss: 1.6908 - accuracy: 0.3054 - val_loss: 1.5195 - val_accuracy: 0.4604\n",
      "Epoch 2/10\n",
      "56/56 [==============================] - 8s 60ms/step - loss: 1.3552 - accuracy: 0.5871 - val_loss: 1.2370 - val_accuracy: 0.6585\n",
      "Epoch 3/10\n",
      "56/56 [==============================] - 8s 59ms/step - loss: 1.0942 - accuracy: 0.7014 - val_loss: 1.0111 - val_accuracy: 0.7073\n",
      "Epoch 4/10\n",
      "56/56 [==============================] - 8s 59ms/step - loss: 0.9066 - accuracy: 0.7500 - val_loss: 0.8427 - val_accuracy: 0.7348\n",
      "Epoch 5/10\n",
      "56/56 [==============================] - 8s 59ms/step - loss: 0.7559 - accuracy: 0.7805 - val_loss: 0.7403 - val_accuracy: 0.7744\n",
      "Epoch 6/10\n",
      "56/56 [==============================] - 8s 58ms/step - loss: 0.6607 - accuracy: 0.8083 - val_loss: 0.6500 - val_accuracy: 0.7957\n",
      "Epoch 7/10\n",
      "56/56 [==============================] - 8s 59ms/step - loss: 0.5831 - accuracy: 0.8275 - val_loss: 0.5846 - val_accuracy: 0.8262\n",
      "Epoch 8/10\n",
      "56/56 [==============================] - 8s 59ms/step - loss: 0.5230 - accuracy: 0.8450 - val_loss: 0.5201 - val_accuracy: 0.8415\n",
      "Epoch 9/10\n",
      "56/56 [==============================] - 8s 59ms/step - loss: 0.4588 - accuracy: 0.8688 - val_loss: 0.4810 - val_accuracy: 0.8598\n",
      "Epoch 10/10\n",
      "56/56 [==============================] - 8s 60ms/step - loss: 0.4116 - accuracy: 0.8807 - val_loss: 0.4639 - val_accuracy: 0.8750\n",
      "lr: 0.001000, weight_decay:0.001000\n",
      "Epoch 1/10\n"
     ]
    },
    {
     "name": "stderr",
     "output_type": "stream",
     "text": [
      "2024-03-14 14:01:16.066104: E tensorflow/core/grappler/optimizers/meta_optimizer.cc:961] layout failed: INVALID_ARGUMENT: Size of values 0 does not match size of permutation 4 @ fanin shape inmodel_23/block1b_drop/dropout/SelectV2-2-TransposeNHWCToNCHW-LayoutOptimizer\n"
     ]
    },
    {
     "name": "stdout",
     "output_type": "stream",
     "text": [
      "56/56 [==============================] - 19s 72ms/step - loss: 1.6711 - accuracy: 0.3348 - val_loss: 1.4760 - val_accuracy: 0.5396\n",
      "Epoch 2/10\n",
      "56/56 [==============================] - 8s 59ms/step - loss: 1.3292 - accuracy: 0.6222 - val_loss: 1.1764 - val_accuracy: 0.6707\n",
      "Epoch 3/10\n",
      "56/56 [==============================] - 8s 58ms/step - loss: 1.0629 - accuracy: 0.7240 - val_loss: 0.9656 - val_accuracy: 0.7409\n",
      "Epoch 4/10\n",
      "56/56 [==============================] - 8s 60ms/step - loss: 0.8748 - accuracy: 0.7596 - val_loss: 0.7987 - val_accuracy: 0.7805\n",
      "Epoch 5/10\n",
      "56/56 [==============================] - 8s 59ms/step - loss: 0.7422 - accuracy: 0.7856 - val_loss: 0.6808 - val_accuracy: 0.8232\n",
      "Epoch 6/10\n",
      "56/56 [==============================] - 8s 58ms/step - loss: 0.6342 - accuracy: 0.8111 - val_loss: 0.6149 - val_accuracy: 0.8445\n",
      "Epoch 7/10\n",
      "56/56 [==============================] - 8s 59ms/step - loss: 0.5827 - accuracy: 0.8326 - val_loss: 0.5473 - val_accuracy: 0.8598\n",
      "Epoch 8/10\n",
      "56/56 [==============================] - 8s 58ms/step - loss: 0.5205 - accuracy: 0.8422 - val_loss: 0.4914 - val_accuracy: 0.8659\n",
      "Epoch 9/10\n",
      "56/56 [==============================] - 8s 59ms/step - loss: 0.4673 - accuracy: 0.8563 - val_loss: 0.4641 - val_accuracy: 0.8598\n",
      "Epoch 10/10\n",
      "56/56 [==============================] - 8s 60ms/step - loss: 0.4242 - accuracy: 0.8671 - val_loss: 0.4365 - val_accuracy: 0.8811\n",
      "lr: 0.003162, weight_decay:0.000000\n",
      "Epoch 1/10\n"
     ]
    },
    {
     "name": "stderr",
     "output_type": "stream",
     "text": [
      "2024-03-14 14:02:45.034773: E tensorflow/core/grappler/optimizers/meta_optimizer.cc:961] layout failed: INVALID_ARGUMENT: Size of values 0 does not match size of permutation 4 @ fanin shape inmodel_24/block1b_drop/dropout/SelectV2-2-TransposeNHWCToNCHW-LayoutOptimizer\n"
     ]
    },
    {
     "name": "stdout",
     "output_type": "stream",
     "text": [
      "56/56 [==============================] - 19s 66ms/step - loss: 1.4554 - accuracy: 0.4977 - val_loss: 1.0293 - val_accuracy: 0.7104\n",
      "Epoch 2/10\n",
      "56/56 [==============================] - 7s 56ms/step - loss: 0.8296 - accuracy: 0.7381 - val_loss: 0.6466 - val_accuracy: 0.7988\n",
      "Epoch 3/10\n",
      "56/56 [==============================] - 7s 56ms/step - loss: 0.5678 - accuracy: 0.8184 - val_loss: 0.4745 - val_accuracy: 0.8628\n",
      "Epoch 4/10\n",
      "56/56 [==============================] - 8s 56ms/step - loss: 0.4268 - accuracy: 0.8665 - val_loss: 0.4111 - val_accuracy: 0.8750\n",
      "Epoch 5/10\n",
      "56/56 [==============================] - 7s 55ms/step - loss: 0.3582 - accuracy: 0.8903 - val_loss: 0.3641 - val_accuracy: 0.8841\n",
      "Epoch 6/10\n",
      "56/56 [==============================] - 7s 54ms/step - loss: 0.2678 - accuracy: 0.9186 - val_loss: 0.3374 - val_accuracy: 0.8902\n",
      "Epoch 7/10\n",
      "56/56 [==============================] - 8s 56ms/step - loss: 0.2169 - accuracy: 0.9367 - val_loss: 0.2806 - val_accuracy: 0.9177\n",
      "Epoch 8/10\n",
      "56/56 [==============================] - 7s 55ms/step - loss: 0.1835 - accuracy: 0.9417 - val_loss: 0.2628 - val_accuracy: 0.9055\n",
      "Epoch 9/10\n",
      "56/56 [==============================] - 8s 57ms/step - loss: 0.1506 - accuracy: 0.9548 - val_loss: 0.2344 - val_accuracy: 0.9207\n",
      "Epoch 10/10\n",
      "56/56 [==============================] - 8s 57ms/step - loss: 0.1388 - accuracy: 0.9638 - val_loss: 0.2527 - val_accuracy: 0.9177\n",
      "lr: 0.003162, weight_decay:0.000001\n",
      "Epoch 1/10\n"
     ]
    },
    {
     "name": "stderr",
     "output_type": "stream",
     "text": [
      "2024-03-14 14:04:11.991502: E tensorflow/core/grappler/optimizers/meta_optimizer.cc:961] layout failed: INVALID_ARGUMENT: Size of values 0 does not match size of permutation 4 @ fanin shape inmodel_25/block1b_drop/dropout/SelectV2-2-TransposeNHWCToNCHW-LayoutOptimizer\n"
     ]
    },
    {
     "name": "stdout",
     "output_type": "stream",
     "text": [
      "56/56 [==============================] - 19s 71ms/step - loss: 1.4497 - accuracy: 0.4881 - val_loss: 1.0223 - val_accuracy: 0.6982\n",
      "Epoch 2/10\n",
      "56/56 [==============================] - 8s 59ms/step - loss: 0.8064 - accuracy: 0.7545 - val_loss: 0.6335 - val_accuracy: 0.8232\n",
      "Epoch 3/10\n",
      "56/56 [==============================] - 8s 59ms/step - loss: 0.5407 - accuracy: 0.8382 - val_loss: 0.4940 - val_accuracy: 0.8598\n",
      "Epoch 4/10\n",
      "56/56 [==============================] - 8s 58ms/step - loss: 0.4291 - accuracy: 0.8648 - val_loss: 0.4013 - val_accuracy: 0.9024\n",
      "Epoch 5/10\n",
      "56/56 [==============================] - 8s 59ms/step - loss: 0.3424 - accuracy: 0.8993 - val_loss: 0.3527 - val_accuracy: 0.9055\n",
      "Epoch 6/10\n",
      "56/56 [==============================] - 8s 58ms/step - loss: 0.2710 - accuracy: 0.9174 - val_loss: 0.3064 - val_accuracy: 0.9207\n",
      "Epoch 7/10\n",
      "56/56 [==============================] - 8s 58ms/step - loss: 0.2183 - accuracy: 0.9383 - val_loss: 0.2973 - val_accuracy: 0.9207\n",
      "Epoch 8/10\n",
      "56/56 [==============================] - 8s 60ms/step - loss: 0.1847 - accuracy: 0.9474 - val_loss: 0.2620 - val_accuracy: 0.9238\n",
      "Epoch 9/10\n",
      "56/56 [==============================] - 8s 59ms/step - loss: 0.1518 - accuracy: 0.9519 - val_loss: 0.2557 - val_accuracy: 0.9146\n",
      "Epoch 10/10\n",
      "56/56 [==============================] - 8s 60ms/step - loss: 0.1321 - accuracy: 0.9666 - val_loss: 0.2666 - val_accuracy: 0.9238\n",
      "lr: 0.003162, weight_decay:0.000003\n",
      "Epoch 1/10\n"
     ]
    },
    {
     "name": "stderr",
     "output_type": "stream",
     "text": [
      "2024-03-14 14:05:43.766609: E tensorflow/core/grappler/optimizers/meta_optimizer.cc:961] layout failed: INVALID_ARGUMENT: Size of values 0 does not match size of permutation 4 @ fanin shape inmodel_26/block1b_drop/dropout/SelectV2-2-TransposeNHWCToNCHW-LayoutOptimizer\n"
     ]
    },
    {
     "name": "stdout",
     "output_type": "stream",
     "text": [
      "56/56 [==============================] - 22s 71ms/step - loss: 1.4212 - accuracy: 0.5096 - val_loss: 0.9911 - val_accuracy: 0.7226\n",
      "Epoch 2/10\n",
      "56/56 [==============================] - 8s 59ms/step - loss: 0.7840 - accuracy: 0.7647 - val_loss: 0.6308 - val_accuracy: 0.8262\n",
      "Epoch 3/10\n",
      "56/56 [==============================] - 8s 59ms/step - loss: 0.5419 - accuracy: 0.8247 - val_loss: 0.4739 - val_accuracy: 0.8689\n",
      "Epoch 4/10\n",
      "56/56 [==============================] - 8s 60ms/step - loss: 0.3907 - accuracy: 0.8824 - val_loss: 0.3517 - val_accuracy: 0.8933\n",
      "Epoch 5/10\n",
      "56/56 [==============================] - 8s 59ms/step - loss: 0.3111 - accuracy: 0.9072 - val_loss: 0.3165 - val_accuracy: 0.8994\n",
      "Epoch 6/10\n",
      "56/56 [==============================] - 8s 60ms/step - loss: 0.2505 - accuracy: 0.9282 - val_loss: 0.2838 - val_accuracy: 0.9207\n",
      "Epoch 7/10\n",
      "56/56 [==============================] - 8s 59ms/step - loss: 0.2163 - accuracy: 0.9372 - val_loss: 0.2781 - val_accuracy: 0.9085\n",
      "Epoch 8/10\n",
      "56/56 [==============================] - 8s 60ms/step - loss: 0.1813 - accuracy: 0.9429 - val_loss: 0.2497 - val_accuracy: 0.9146\n",
      "Epoch 9/10\n",
      "56/56 [==============================] - 8s 61ms/step - loss: 0.1516 - accuracy: 0.9581 - val_loss: 0.2260 - val_accuracy: 0.9268\n",
      "Epoch 10/10\n",
      "56/56 [==============================] - 8s 59ms/step - loss: 0.1258 - accuracy: 0.9666 - val_loss: 0.2582 - val_accuracy: 0.9024\n",
      "lr: 0.003162, weight_decay:0.000010\n",
      "Epoch 1/10\n"
     ]
    },
    {
     "name": "stderr",
     "output_type": "stream",
     "text": [
      "2024-03-14 14:07:13.219794: E tensorflow/core/grappler/optimizers/meta_optimizer.cc:961] layout failed: INVALID_ARGUMENT: Size of values 0 does not match size of permutation 4 @ fanin shape inmodel_27/block1b_drop/dropout/SelectV2-2-TransposeNHWCToNCHW-LayoutOptimizer\n"
     ]
    },
    {
     "name": "stdout",
     "output_type": "stream",
     "text": [
      "56/56 [==============================] - 19s 71ms/step - loss: 1.4582 - accuracy: 0.4921 - val_loss: 1.0220 - val_accuracy: 0.7226\n",
      "Epoch 2/10\n",
      "56/56 [==============================] - 8s 57ms/step - loss: 0.8185 - accuracy: 0.7653 - val_loss: 0.6341 - val_accuracy: 0.8171\n",
      "Epoch 3/10\n",
      "56/56 [==============================] - 8s 60ms/step - loss: 0.5461 - accuracy: 0.8303 - val_loss: 0.4975 - val_accuracy: 0.8689\n",
      "Epoch 4/10\n",
      "56/56 [==============================] - 8s 60ms/step - loss: 0.4243 - accuracy: 0.8705 - val_loss: 0.3795 - val_accuracy: 0.8902\n",
      "Epoch 5/10\n",
      "56/56 [==============================] - 8s 60ms/step - loss: 0.3424 - accuracy: 0.8982 - val_loss: 0.3114 - val_accuracy: 0.9177\n",
      "Epoch 6/10\n",
      "56/56 [==============================] - 8s 58ms/step - loss: 0.2691 - accuracy: 0.9265 - val_loss: 0.2827 - val_accuracy: 0.9177\n",
      "Epoch 7/10\n",
      "56/56 [==============================] - 8s 59ms/step - loss: 0.2216 - accuracy: 0.9378 - val_loss: 0.2570 - val_accuracy: 0.9177\n",
      "Epoch 8/10\n",
      "56/56 [==============================] - 8s 58ms/step - loss: 0.1721 - accuracy: 0.9525 - val_loss: 0.2497 - val_accuracy: 0.9146\n",
      "Epoch 9/10\n",
      "56/56 [==============================] - 8s 59ms/step - loss: 0.1432 - accuracy: 0.9627 - val_loss: 0.2137 - val_accuracy: 0.9360\n",
      "Epoch 10/10\n",
      "56/56 [==============================] - 8s 59ms/step - loss: 0.1354 - accuracy: 0.9649 - val_loss: 0.2048 - val_accuracy: 0.9360\n",
      "lr: 0.003162, weight_decay:0.000032\n",
      "Epoch 1/10\n"
     ]
    },
    {
     "name": "stderr",
     "output_type": "stream",
     "text": [
      "2024-03-14 14:08:41.873232: E tensorflow/core/grappler/optimizers/meta_optimizer.cc:961] layout failed: INVALID_ARGUMENT: Size of values 0 does not match size of permutation 4 @ fanin shape inmodel_28/block1b_drop/dropout/SelectV2-2-TransposeNHWCToNCHW-LayoutOptimizer\n"
     ]
    },
    {
     "name": "stdout",
     "output_type": "stream",
     "text": [
      "56/56 [==============================] - 19s 72ms/step - loss: 1.4395 - accuracy: 0.5023 - val_loss: 0.9906 - val_accuracy: 0.7348\n",
      "Epoch 2/10\n",
      "56/56 [==============================] - 8s 59ms/step - loss: 0.7816 - accuracy: 0.7822 - val_loss: 0.6342 - val_accuracy: 0.8293\n",
      "Epoch 3/10\n",
      "56/56 [==============================] - 8s 59ms/step - loss: 0.5301 - accuracy: 0.8354 - val_loss: 0.4778 - val_accuracy: 0.8750\n",
      "Epoch 4/10\n",
      "56/56 [==============================] - 8s 59ms/step - loss: 0.4102 - accuracy: 0.8631 - val_loss: 0.4155 - val_accuracy: 0.8720\n",
      "Epoch 5/10\n",
      "56/56 [==============================] - 8s 59ms/step - loss: 0.3288 - accuracy: 0.8971 - val_loss: 0.3738 - val_accuracy: 0.8963\n",
      "Epoch 6/10\n",
      "56/56 [==============================] - 8s 60ms/step - loss: 0.2586 - accuracy: 0.9236 - val_loss: 0.3036 - val_accuracy: 0.9085\n",
      "Epoch 7/10\n",
      "56/56 [==============================] - 8s 60ms/step - loss: 0.2215 - accuracy: 0.9355 - val_loss: 0.2942 - val_accuracy: 0.9085\n",
      "Epoch 8/10\n",
      "56/56 [==============================] - 8s 59ms/step - loss: 0.1891 - accuracy: 0.9446 - val_loss: 0.3437 - val_accuracy: 0.9024\n",
      "Epoch 9/10\n",
      "56/56 [==============================] - 8s 59ms/step - loss: 0.1450 - accuracy: 0.9559 - val_loss: 0.2657 - val_accuracy: 0.9116\n",
      "Epoch 10/10\n",
      "56/56 [==============================] - 8s 61ms/step - loss: 0.1278 - accuracy: 0.9638 - val_loss: 0.2425 - val_accuracy: 0.9329\n",
      "lr: 0.003162, weight_decay:0.000100\n",
      "Epoch 1/10\n"
     ]
    },
    {
     "name": "stderr",
     "output_type": "stream",
     "text": [
      "2024-03-14 14:10:10.838345: E tensorflow/core/grappler/optimizers/meta_optimizer.cc:961] layout failed: INVALID_ARGUMENT: Size of values 0 does not match size of permutation 4 @ fanin shape inmodel_29/block1b_drop/dropout/SelectV2-2-TransposeNHWCToNCHW-LayoutOptimizer\n"
     ]
    },
    {
     "name": "stdout",
     "output_type": "stream",
     "text": [
      "56/56 [==============================] - 19s 69ms/step - loss: 1.4483 - accuracy: 0.4859 - val_loss: 1.0140 - val_accuracy: 0.7012\n",
      "Epoch 2/10\n",
      "56/56 [==============================] - 8s 56ms/step - loss: 0.8027 - accuracy: 0.7596 - val_loss: 0.6571 - val_accuracy: 0.8110\n",
      "Epoch 3/10\n",
      "56/56 [==============================] - 8s 58ms/step - loss: 0.5485 - accuracy: 0.8314 - val_loss: 0.5187 - val_accuracy: 0.8598\n",
      "Epoch 4/10\n",
      "56/56 [==============================] - 7s 56ms/step - loss: 0.4079 - accuracy: 0.8778 - val_loss: 0.4069 - val_accuracy: 0.8872\n",
      "Epoch 5/10\n",
      "56/56 [==============================] - 8s 58ms/step - loss: 0.3255 - accuracy: 0.9021 - val_loss: 0.3535 - val_accuracy: 0.8963\n",
      "Epoch 6/10\n",
      "56/56 [==============================] - 8s 60ms/step - loss: 0.2669 - accuracy: 0.9214 - val_loss: 0.3030 - val_accuracy: 0.9116\n",
      "Epoch 7/10\n",
      "56/56 [==============================] - 8s 57ms/step - loss: 0.1976 - accuracy: 0.9446 - val_loss: 0.3144 - val_accuracy: 0.8994\n",
      "Epoch 8/10\n",
      "56/56 [==============================] - 8s 57ms/step - loss: 0.1879 - accuracy: 0.9395 - val_loss: 0.2798 - val_accuracy: 0.9085\n",
      "Epoch 9/10\n",
      "56/56 [==============================] - 8s 57ms/step - loss: 0.1521 - accuracy: 0.9598 - val_loss: 0.2745 - val_accuracy: 0.9024\n",
      "Epoch 10/10\n",
      "56/56 [==============================] - 8s 58ms/step - loss: 0.1328 - accuracy: 0.9593 - val_loss: 0.2626 - val_accuracy: 0.9024\n",
      "lr: 0.003162, weight_decay:0.000316\n",
      "Epoch 1/10\n"
     ]
    },
    {
     "name": "stderr",
     "output_type": "stream",
     "text": [
      "2024-03-14 14:11:39.012710: E tensorflow/core/grappler/optimizers/meta_optimizer.cc:961] layout failed: INVALID_ARGUMENT: Size of values 0 does not match size of permutation 4 @ fanin shape inmodel_30/block1b_drop/dropout/SelectV2-2-TransposeNHWCToNCHW-LayoutOptimizer\n"
     ]
    },
    {
     "name": "stdout",
     "output_type": "stream",
     "text": [
      "56/56 [==============================] - 19s 71ms/step - loss: 1.4655 - accuracy: 0.4864 - val_loss: 1.0451 - val_accuracy: 0.7043\n",
      "Epoch 2/10\n",
      "56/56 [==============================] - 8s 59ms/step - loss: 0.8293 - accuracy: 0.7636 - val_loss: 0.6566 - val_accuracy: 0.8079\n",
      "Epoch 3/10\n",
      "56/56 [==============================] - 8s 58ms/step - loss: 0.5722 - accuracy: 0.8139 - val_loss: 0.4956 - val_accuracy: 0.8354\n",
      "Epoch 4/10\n",
      "56/56 [==============================] - 8s 58ms/step - loss: 0.4197 - accuracy: 0.8710 - val_loss: 0.3985 - val_accuracy: 0.8659\n",
      "Epoch 5/10\n",
      "56/56 [==============================] - 8s 59ms/step - loss: 0.3265 - accuracy: 0.9072 - val_loss: 0.3801 - val_accuracy: 0.8780\n",
      "Epoch 6/10\n",
      "56/56 [==============================] - 8s 59ms/step - loss: 0.2740 - accuracy: 0.9118 - val_loss: 0.3294 - val_accuracy: 0.8872\n",
      "Epoch 7/10\n",
      "56/56 [==============================] - 8s 58ms/step - loss: 0.2211 - accuracy: 0.9350 - val_loss: 0.2785 - val_accuracy: 0.9055\n",
      "Epoch 8/10\n",
      "56/56 [==============================] - 8s 60ms/step - loss: 0.1688 - accuracy: 0.9553 - val_loss: 0.2874 - val_accuracy: 0.8902\n",
      "Epoch 9/10\n",
      "56/56 [==============================] - 8s 58ms/step - loss: 0.1495 - accuracy: 0.9598 - val_loss: 0.2713 - val_accuracy: 0.8963\n",
      "Epoch 10/10\n",
      "56/56 [==============================] - 8s 59ms/step - loss: 0.1314 - accuracy: 0.9638 - val_loss: 0.2438 - val_accuracy: 0.9207\n",
      "lr: 0.003162, weight_decay:0.001000\n",
      "Epoch 1/10\n"
     ]
    },
    {
     "name": "stderr",
     "output_type": "stream",
     "text": [
      "2024-03-14 14:13:07.628353: E tensorflow/core/grappler/optimizers/meta_optimizer.cc:961] layout failed: INVALID_ARGUMENT: Size of values 0 does not match size of permutation 4 @ fanin shape inmodel_31/block1b_drop/dropout/SelectV2-2-TransposeNHWCToNCHW-LayoutOptimizer\n"
     ]
    },
    {
     "name": "stdout",
     "output_type": "stream",
     "text": [
      "56/56 [==============================] - 19s 69ms/step - loss: 1.4503 - accuracy: 0.4898 - val_loss: 1.0168 - val_accuracy: 0.7012\n",
      "Epoch 2/10\n",
      "56/56 [==============================] - 8s 58ms/step - loss: 0.8054 - accuracy: 0.7619 - val_loss: 0.6302 - val_accuracy: 0.8232\n",
      "Epoch 3/10\n",
      "56/56 [==============================] - 8s 57ms/step - loss: 0.5473 - accuracy: 0.8298 - val_loss: 0.4485 - val_accuracy: 0.8780\n",
      "Epoch 4/10\n",
      "56/56 [==============================] - 8s 57ms/step - loss: 0.4109 - accuracy: 0.8761 - val_loss: 0.3678 - val_accuracy: 0.8872\n",
      "Epoch 5/10\n",
      "56/56 [==============================] - 8s 59ms/step - loss: 0.3173 - accuracy: 0.9061 - val_loss: 0.3107 - val_accuracy: 0.9177\n",
      "Epoch 6/10\n",
      "56/56 [==============================] - 8s 58ms/step - loss: 0.2549 - accuracy: 0.9225 - val_loss: 0.2923 - val_accuracy: 0.9238\n",
      "Epoch 7/10\n",
      "56/56 [==============================] - 8s 61ms/step - loss: 0.2127 - accuracy: 0.9372 - val_loss: 0.2620 - val_accuracy: 0.9238\n",
      "Epoch 8/10\n",
      "56/56 [==============================] - 8s 60ms/step - loss: 0.1707 - accuracy: 0.9542 - val_loss: 0.2373 - val_accuracy: 0.9451\n",
      "Epoch 9/10\n",
      "56/56 [==============================] - 8s 60ms/step - loss: 0.1473 - accuracy: 0.9649 - val_loss: 0.2526 - val_accuracy: 0.9329\n",
      "Epoch 10/10\n",
      "56/56 [==============================] - 8s 59ms/step - loss: 0.1331 - accuracy: 0.9632 - val_loss: 0.2289 - val_accuracy: 0.9299\n",
      "lr: 0.010000, weight_decay:0.000000\n",
      "Epoch 1/10\n"
     ]
    },
    {
     "name": "stderr",
     "output_type": "stream",
     "text": [
      "2024-03-14 14:14:39.998624: E tensorflow/core/grappler/optimizers/meta_optimizer.cc:961] layout failed: INVALID_ARGUMENT: Size of values 0 does not match size of permutation 4 @ fanin shape inmodel_32/block1b_drop/dropout/SelectV2-2-TransposeNHWCToNCHW-LayoutOptimizer\n"
     ]
    },
    {
     "name": "stdout",
     "output_type": "stream",
     "text": [
      "56/56 [==============================] - 22s 69ms/step - loss: 1.0750 - accuracy: 0.6250 - val_loss: 0.5282 - val_accuracy: 0.8476\n",
      "Epoch 2/10\n",
      "56/56 [==============================] - 7s 55ms/step - loss: 0.4359 - accuracy: 0.8529 - val_loss: 0.4324 - val_accuracy: 0.8445\n",
      "Epoch 3/10\n",
      "56/56 [==============================] - 8s 57ms/step - loss: 0.2586 - accuracy: 0.9157 - val_loss: 0.2848 - val_accuracy: 0.9024\n",
      "Epoch 4/10\n",
      "56/56 [==============================] - 8s 57ms/step - loss: 0.1595 - accuracy: 0.9531 - val_loss: 0.2516 - val_accuracy: 0.9268\n",
      "Epoch 5/10\n",
      "56/56 [==============================] - 8s 56ms/step - loss: 0.1172 - accuracy: 0.9615 - val_loss: 0.2627 - val_accuracy: 0.9177\n",
      "Epoch 6/10\n",
      "56/56 [==============================] - 7s 57ms/step - loss: 0.1016 - accuracy: 0.9695 - val_loss: 0.2365 - val_accuracy: 0.9177\n",
      "Epoch 7/10\n",
      "56/56 [==============================] - 8s 57ms/step - loss: 0.0867 - accuracy: 0.9745 - val_loss: 0.2387 - val_accuracy: 0.9238\n",
      "Epoch 8/10\n",
      "56/56 [==============================] - 8s 58ms/step - loss: 0.0566 - accuracy: 0.9853 - val_loss: 0.2001 - val_accuracy: 0.9421\n",
      "Epoch 9/10\n",
      "56/56 [==============================] - 7s 56ms/step - loss: 0.0578 - accuracy: 0.9836 - val_loss: 0.2104 - val_accuracy: 0.9329\n",
      "Epoch 10/10\n",
      "56/56 [==============================] - 8s 56ms/step - loss: 0.0524 - accuracy: 0.9859 - val_loss: 0.2027 - val_accuracy: 0.9512\n",
      "lr: 0.010000, weight_decay:0.000001\n",
      "Epoch 1/10\n"
     ]
    },
    {
     "name": "stderr",
     "output_type": "stream",
     "text": [
      "2024-03-14 14:16:07.614758: E tensorflow/core/grappler/optimizers/meta_optimizer.cc:961] layout failed: INVALID_ARGUMENT: Size of values 0 does not match size of permutation 4 @ fanin shape inmodel_33/block1b_drop/dropout/SelectV2-2-TransposeNHWCToNCHW-LayoutOptimizer\n"
     ]
    },
    {
     "name": "stdout",
     "output_type": "stream",
     "text": [
      "56/56 [==============================] - 19s 70ms/step - loss: 1.0756 - accuracy: 0.6205 - val_loss: 0.6007 - val_accuracy: 0.7835\n",
      "Epoch 2/10\n",
      "56/56 [==============================] - 8s 58ms/step - loss: 0.4447 - accuracy: 0.8462 - val_loss: 0.3602 - val_accuracy: 0.8720\n",
      "Epoch 3/10\n",
      "56/56 [==============================] - 8s 60ms/step - loss: 0.2538 - accuracy: 0.9140 - val_loss: 0.2934 - val_accuracy: 0.8902\n",
      "Epoch 4/10\n",
      "56/56 [==============================] - 8s 60ms/step - loss: 0.1776 - accuracy: 0.9468 - val_loss: 0.2427 - val_accuracy: 0.9329\n",
      "Epoch 5/10\n",
      "56/56 [==============================] - 8s 60ms/step - loss: 0.1353 - accuracy: 0.9598 - val_loss: 0.1693 - val_accuracy: 0.9482\n",
      "Epoch 6/10\n",
      "56/56 [==============================] - 8s 59ms/step - loss: 0.0856 - accuracy: 0.9723 - val_loss: 0.1894 - val_accuracy: 0.9421\n",
      "Epoch 7/10\n",
      "56/56 [==============================] - 8s 59ms/step - loss: 0.1059 - accuracy: 0.9706 - val_loss: 0.2359 - val_accuracy: 0.9299\n",
      "Epoch 8/10\n",
      "56/56 [==============================] - 8s 60ms/step - loss: 0.0752 - accuracy: 0.9729 - val_loss: 0.1554 - val_accuracy: 0.9390\n",
      "Epoch 9/10\n",
      "56/56 [==============================] - 8s 60ms/step - loss: 0.0941 - accuracy: 0.9661 - val_loss: 0.2010 - val_accuracy: 0.9390\n",
      "Epoch 10/10\n",
      "56/56 [==============================] - 8s 58ms/step - loss: 0.0490 - accuracy: 0.9859 - val_loss: 0.2623 - val_accuracy: 0.9116\n",
      "lr: 0.010000, weight_decay:0.000003\n",
      "Epoch 1/10\n"
     ]
    },
    {
     "name": "stderr",
     "output_type": "stream",
     "text": [
      "2024-03-14 14:17:36.713668: E tensorflow/core/grappler/optimizers/meta_optimizer.cc:961] layout failed: INVALID_ARGUMENT: Size of values 0 does not match size of permutation 4 @ fanin shape inmodel_34/block1b_drop/dropout/SelectV2-2-TransposeNHWCToNCHW-LayoutOptimizer\n"
     ]
    },
    {
     "name": "stdout",
     "output_type": "stream",
     "text": [
      "56/56 [==============================] - 19s 71ms/step - loss: 1.1044 - accuracy: 0.6075 - val_loss: 0.5941 - val_accuracy: 0.8110\n",
      "Epoch 2/10\n",
      "56/56 [==============================] - 8s 60ms/step - loss: 0.4340 - accuracy: 0.8592 - val_loss: 0.3616 - val_accuracy: 0.8902\n",
      "Epoch 3/10\n",
      "56/56 [==============================] - 8s 59ms/step - loss: 0.2555 - accuracy: 0.9191 - val_loss: 0.2534 - val_accuracy: 0.9299\n",
      "Epoch 4/10\n",
      "56/56 [==============================] - 8s 59ms/step - loss: 0.1609 - accuracy: 0.9514 - val_loss: 0.2317 - val_accuracy: 0.9238\n",
      "Epoch 5/10\n",
      "56/56 [==============================] - 8s 60ms/step - loss: 0.1086 - accuracy: 0.9666 - val_loss: 0.1995 - val_accuracy: 0.9421\n",
      "Epoch 6/10\n",
      "56/56 [==============================] - 8s 59ms/step - loss: 0.0724 - accuracy: 0.9813 - val_loss: 0.2049 - val_accuracy: 0.9482\n",
      "Epoch 7/10\n",
      "56/56 [==============================] - 8s 62ms/step - loss: 0.0617 - accuracy: 0.9819 - val_loss: 0.2106 - val_accuracy: 0.9268\n",
      "Epoch 8/10\n",
      "56/56 [==============================] - 8s 59ms/step - loss: 0.0525 - accuracy: 0.9825 - val_loss: 0.2066 - val_accuracy: 0.9421\n",
      "Epoch 9/10\n",
      "56/56 [==============================] - 8s 62ms/step - loss: 0.0320 - accuracy: 0.9910 - val_loss: 0.1795 - val_accuracy: 0.9421\n",
      "Epoch 10/10\n",
      "56/56 [==============================] - 8s 59ms/step - loss: 0.0587 - accuracy: 0.9802 - val_loss: 0.2945 - val_accuracy: 0.9238\n",
      "lr: 0.010000, weight_decay:0.000010\n",
      "Epoch 1/10\n"
     ]
    },
    {
     "name": "stderr",
     "output_type": "stream",
     "text": [
      "2024-03-14 14:19:05.921835: E tensorflow/core/grappler/optimizers/meta_optimizer.cc:961] layout failed: INVALID_ARGUMENT: Size of values 0 does not match size of permutation 4 @ fanin shape inmodel_35/block1b_drop/dropout/SelectV2-2-TransposeNHWCToNCHW-LayoutOptimizer\n"
     ]
    },
    {
     "name": "stdout",
     "output_type": "stream",
     "text": [
      "56/56 [==============================] - 19s 71ms/step - loss: 1.0748 - accuracy: 0.6171 - val_loss: 0.5076 - val_accuracy: 0.8323\n",
      "Epoch 2/10\n",
      "56/56 [==============================] - 8s 58ms/step - loss: 0.4322 - accuracy: 0.8512 - val_loss: 0.3658 - val_accuracy: 0.8994\n",
      "Epoch 3/10\n",
      "56/56 [==============================] - 8s 59ms/step - loss: 0.2429 - accuracy: 0.9344 - val_loss: 0.2565 - val_accuracy: 0.9116\n",
      "Epoch 4/10\n",
      "56/56 [==============================] - 8s 60ms/step - loss: 0.1851 - accuracy: 0.9440 - val_loss: 0.2263 - val_accuracy: 0.9177\n",
      "Epoch 5/10\n",
      "56/56 [==============================] - 8s 59ms/step - loss: 0.1197 - accuracy: 0.9672 - val_loss: 0.2453 - val_accuracy: 0.9268\n",
      "Epoch 6/10\n",
      "56/56 [==============================] - 8s 59ms/step - loss: 0.0928 - accuracy: 0.9717 - val_loss: 0.2326 - val_accuracy: 0.9329\n",
      "Epoch 7/10\n",
      "56/56 [==============================] - 8s 59ms/step - loss: 0.0668 - accuracy: 0.9819 - val_loss: 0.2096 - val_accuracy: 0.9299\n",
      "Epoch 8/10\n",
      "56/56 [==============================] - 8s 57ms/step - loss: 0.0595 - accuracy: 0.9881 - val_loss: 0.1981 - val_accuracy: 0.9299\n",
      "Epoch 9/10\n",
      "56/56 [==============================] - 8s 61ms/step - loss: 0.0540 - accuracy: 0.9864 - val_loss: 0.3024 - val_accuracy: 0.9238\n",
      "Epoch 10/10\n",
      "56/56 [==============================] - 8s 59ms/step - loss: 0.0543 - accuracy: 0.9830 - val_loss: 0.2679 - val_accuracy: 0.9329\n",
      "lr: 0.010000, weight_decay:0.000032\n",
      "Epoch 1/10\n"
     ]
    },
    {
     "name": "stderr",
     "output_type": "stream",
     "text": [
      "2024-03-14 14:20:35.123704: E tensorflow/core/grappler/optimizers/meta_optimizer.cc:961] layout failed: INVALID_ARGUMENT: Size of values 0 does not match size of permutation 4 @ fanin shape inmodel_36/block1b_drop/dropout/SelectV2-2-TransposeNHWCToNCHW-LayoutOptimizer\n"
     ]
    },
    {
     "name": "stdout",
     "output_type": "stream",
     "text": [
      "56/56 [==============================] - 19s 69ms/step - loss: 1.1085 - accuracy: 0.6216 - val_loss: 0.6016 - val_accuracy: 0.7957\n",
      "Epoch 2/10\n",
      "56/56 [==============================] - 8s 60ms/step - loss: 0.4485 - accuracy: 0.8518 - val_loss: 0.3688 - val_accuracy: 0.8841\n",
      "Epoch 3/10\n",
      "56/56 [==============================] - 8s 59ms/step - loss: 0.2505 - accuracy: 0.9225 - val_loss: 0.2758 - val_accuracy: 0.9146\n",
      "Epoch 4/10\n",
      "56/56 [==============================] - 8s 58ms/step - loss: 0.1440 - accuracy: 0.9593 - val_loss: 0.2496 - val_accuracy: 0.9177\n",
      "Epoch 5/10\n",
      "56/56 [==============================] - 8s 57ms/step - loss: 0.1128 - accuracy: 0.9649 - val_loss: 0.2137 - val_accuracy: 0.9207\n",
      "Epoch 6/10\n",
      "56/56 [==============================] - 8s 60ms/step - loss: 0.1091 - accuracy: 0.9655 - val_loss: 0.2332 - val_accuracy: 0.9390\n",
      "Epoch 7/10\n",
      "56/56 [==============================] - 8s 60ms/step - loss: 0.0754 - accuracy: 0.9762 - val_loss: 0.2130 - val_accuracy: 0.9299\n",
      "Epoch 8/10\n",
      "56/56 [==============================] - 8s 58ms/step - loss: 0.0567 - accuracy: 0.9819 - val_loss: 0.2517 - val_accuracy: 0.9329\n",
      "Epoch 9/10\n",
      "56/56 [==============================] - 8s 61ms/step - loss: 0.0550 - accuracy: 0.9853 - val_loss: 0.2440 - val_accuracy: 0.9390\n",
      "Epoch 10/10\n",
      "56/56 [==============================] - 8s 57ms/step - loss: 0.0598 - accuracy: 0.9819 - val_loss: 0.2601 - val_accuracy: 0.9360\n",
      "lr: 0.010000, weight_decay:0.000100\n",
      "Epoch 1/10\n"
     ]
    },
    {
     "name": "stderr",
     "output_type": "stream",
     "text": [
      "2024-03-14 14:22:03.962262: E tensorflow/core/grappler/optimizers/meta_optimizer.cc:961] layout failed: INVALID_ARGUMENT: Size of values 0 does not match size of permutation 4 @ fanin shape inmodel_37/block1b_drop/dropout/SelectV2-2-TransposeNHWCToNCHW-LayoutOptimizer\n"
     ]
    },
    {
     "name": "stdout",
     "output_type": "stream",
     "text": [
      "56/56 [==============================] - 19s 70ms/step - loss: 1.0665 - accuracy: 0.6312 - val_loss: 0.5697 - val_accuracy: 0.7896\n",
      "Epoch 2/10\n",
      "56/56 [==============================] - 8s 59ms/step - loss: 0.4257 - accuracy: 0.8603 - val_loss: 0.3366 - val_accuracy: 0.9024\n",
      "Epoch 3/10\n",
      "56/56 [==============================] - 8s 60ms/step - loss: 0.2417 - accuracy: 0.9287 - val_loss: 0.2736 - val_accuracy: 0.9207\n",
      "Epoch 4/10\n",
      "56/56 [==============================] - 8s 59ms/step - loss: 0.1887 - accuracy: 0.9400 - val_loss: 0.2981 - val_accuracy: 0.8902\n",
      "Epoch 5/10\n",
      "56/56 [==============================] - 8s 58ms/step - loss: 0.1268 - accuracy: 0.9632 - val_loss: 0.2190 - val_accuracy: 0.9268\n",
      "Epoch 6/10\n",
      "56/56 [==============================] - 8s 59ms/step - loss: 0.0875 - accuracy: 0.9723 - val_loss: 0.1964 - val_accuracy: 0.9329\n",
      "Epoch 7/10\n",
      "56/56 [==============================] - 8s 58ms/step - loss: 0.0725 - accuracy: 0.9791 - val_loss: 0.2228 - val_accuracy: 0.9329\n",
      "Epoch 8/10\n",
      "56/56 [==============================] - 8s 58ms/step - loss: 0.0773 - accuracy: 0.9717 - val_loss: 0.2207 - val_accuracy: 0.9268\n",
      "Epoch 9/10\n",
      "56/56 [==============================] - 8s 59ms/step - loss: 0.0773 - accuracy: 0.9762 - val_loss: 0.2222 - val_accuracy: 0.9207\n",
      "Epoch 10/10\n",
      "56/56 [==============================] - 8s 59ms/step - loss: 0.0497 - accuracy: 0.9870 - val_loss: 0.2368 - val_accuracy: 0.9360\n",
      "lr: 0.010000, weight_decay:0.000316\n",
      "Epoch 1/10\n"
     ]
    },
    {
     "name": "stderr",
     "output_type": "stream",
     "text": [
      "2024-03-14 14:23:37.075179: E tensorflow/core/grappler/optimizers/meta_optimizer.cc:961] layout failed: INVALID_ARGUMENT: Size of values 0 does not match size of permutation 4 @ fanin shape inmodel_38/block1b_drop/dropout/SelectV2-2-TransposeNHWCToNCHW-LayoutOptimizer\n"
     ]
    },
    {
     "name": "stdout",
     "output_type": "stream",
     "text": [
      "56/56 [==============================] - 23s 71ms/step - loss: 1.0721 - accuracy: 0.6307 - val_loss: 0.5009 - val_accuracy: 0.8537\n",
      "Epoch 2/10\n",
      "56/56 [==============================] - 8s 61ms/step - loss: 0.4220 - accuracy: 0.8535 - val_loss: 0.3382 - val_accuracy: 0.8841\n",
      "Epoch 3/10\n",
      "56/56 [==============================] - 8s 60ms/step - loss: 0.2519 - accuracy: 0.9253 - val_loss: 0.2268 - val_accuracy: 0.9451\n",
      "Epoch 4/10\n",
      "56/56 [==============================] - 8s 61ms/step - loss: 0.1289 - accuracy: 0.9649 - val_loss: 0.2074 - val_accuracy: 0.9360\n",
      "Epoch 5/10\n",
      "56/56 [==============================] - 8s 59ms/step - loss: 0.1005 - accuracy: 0.9723 - val_loss: 0.1825 - val_accuracy: 0.9482\n",
      "Epoch 6/10\n",
      "56/56 [==============================] - 8s 61ms/step - loss: 0.0943 - accuracy: 0.9723 - val_loss: 0.2185 - val_accuracy: 0.9390\n",
      "Epoch 7/10\n",
      "56/56 [==============================] - 8s 61ms/step - loss: 0.0855 - accuracy: 0.9745 - val_loss: 0.1807 - val_accuracy: 0.9451\n",
      "Epoch 8/10\n",
      "56/56 [==============================] - 8s 61ms/step - loss: 0.0649 - accuracy: 0.9813 - val_loss: 0.2278 - val_accuracy: 0.9390\n",
      "Epoch 9/10\n",
      "56/56 [==============================] - 8s 61ms/step - loss: 0.0517 - accuracy: 0.9847 - val_loss: 0.1693 - val_accuracy: 0.9451\n",
      "Epoch 10/10\n",
      "56/56 [==============================] - 8s 60ms/step - loss: 0.0500 - accuracy: 0.9847 - val_loss: 0.1878 - val_accuracy: 0.9421\n",
      "lr: 0.010000, weight_decay:0.001000\n",
      "Epoch 1/10\n"
     ]
    },
    {
     "name": "stderr",
     "output_type": "stream",
     "text": [
      "2024-03-14 14:25:07.621256: E tensorflow/core/grappler/optimizers/meta_optimizer.cc:961] layout failed: INVALID_ARGUMENT: Size of values 0 does not match size of permutation 4 @ fanin shape inmodel_39/block1b_drop/dropout/SelectV2-2-TransposeNHWCToNCHW-LayoutOptimizer\n"
     ]
    },
    {
     "name": "stdout",
     "output_type": "stream",
     "text": [
      "56/56 [==============================] - 19s 71ms/step - loss: 1.0579 - accuracy: 0.6335 - val_loss: 0.4933 - val_accuracy: 0.8476\n",
      "Epoch 2/10\n",
      "56/56 [==============================] - 8s 60ms/step - loss: 0.3842 - accuracy: 0.8705 - val_loss: 0.3097 - val_accuracy: 0.8933\n",
      "Epoch 3/10\n",
      "56/56 [==============================] - 8s 59ms/step - loss: 0.2409 - accuracy: 0.9248 - val_loss: 0.2986 - val_accuracy: 0.9085\n",
      "Epoch 4/10\n",
      "56/56 [==============================] - 8s 60ms/step - loss: 0.1578 - accuracy: 0.9491 - val_loss: 0.2491 - val_accuracy: 0.9177\n",
      "Epoch 5/10\n",
      "56/56 [==============================] - 8s 58ms/step - loss: 0.1103 - accuracy: 0.9666 - val_loss: 0.2533 - val_accuracy: 0.9146\n",
      "Epoch 6/10\n",
      "56/56 [==============================] - 8s 59ms/step - loss: 0.1049 - accuracy: 0.9683 - val_loss: 0.2125 - val_accuracy: 0.9360\n",
      "Epoch 7/10\n",
      "56/56 [==============================] - 8s 59ms/step - loss: 0.0804 - accuracy: 0.9768 - val_loss: 0.2185 - val_accuracy: 0.9268\n",
      "Epoch 8/10\n",
      "56/56 [==============================] - 8s 61ms/step - loss: 0.0723 - accuracy: 0.9802 - val_loss: 0.1858 - val_accuracy: 0.9390\n",
      "Epoch 9/10\n",
      "56/56 [==============================] - 8s 59ms/step - loss: 0.0569 - accuracy: 0.9813 - val_loss: 0.2109 - val_accuracy: 0.9299\n",
      "Epoch 10/10\n",
      "56/56 [==============================] - 8s 59ms/step - loss: 0.0661 - accuracy: 0.9802 - val_loss: 0.1970 - val_accuracy: 0.9238\n",
      "lr: 0.031623, weight_decay:0.000000\n",
      "Epoch 1/10\n"
     ]
    },
    {
     "name": "stderr",
     "output_type": "stream",
     "text": [
      "2024-03-14 14:26:37.030571: E tensorflow/core/grappler/optimizers/meta_optimizer.cc:961] layout failed: INVALID_ARGUMENT: Size of values 0 does not match size of permutation 4 @ fanin shape inmodel_40/block1b_drop/dropout/SelectV2-2-TransposeNHWCToNCHW-LayoutOptimizer\n"
     ]
    },
    {
     "name": "stdout",
     "output_type": "stream",
     "text": [
      "56/56 [==============================] - 19s 67ms/step - loss: 0.8254 - accuracy: 0.7127 - val_loss: 0.4798 - val_accuracy: 0.8293\n",
      "Epoch 2/10\n",
      "56/56 [==============================] - 8s 57ms/step - loss: 0.4483 - accuracy: 0.8399 - val_loss: 0.4480 - val_accuracy: 0.8506\n",
      "Epoch 3/10\n",
      "56/56 [==============================] - 8s 57ms/step - loss: 0.2813 - accuracy: 0.9021 - val_loss: 0.5598 - val_accuracy: 0.8140\n",
      "Epoch 4/10\n",
      "56/56 [==============================] - 8s 57ms/step - loss: 0.2316 - accuracy: 0.9197 - val_loss: 0.3447 - val_accuracy: 0.8780\n",
      "Epoch 5/10\n",
      "56/56 [==============================] - 7s 56ms/step - loss: 0.1547 - accuracy: 0.9423 - val_loss: 0.2643 - val_accuracy: 0.9116\n",
      "Epoch 6/10\n",
      "56/56 [==============================] - 8s 55ms/step - loss: 0.1121 - accuracy: 0.9604 - val_loss: 0.2415 - val_accuracy: 0.9207\n",
      "Epoch 7/10\n",
      "56/56 [==============================] - 8s 56ms/step - loss: 0.0909 - accuracy: 0.9706 - val_loss: 0.3624 - val_accuracy: 0.8963\n",
      "Epoch 8/10\n",
      "56/56 [==============================] - 8s 56ms/step - loss: 0.1153 - accuracy: 0.9604 - val_loss: 0.3525 - val_accuracy: 0.9116\n",
      "Epoch 9/10\n",
      "56/56 [==============================] - 8s 57ms/step - loss: 0.1065 - accuracy: 0.9570 - val_loss: 0.3468 - val_accuracy: 0.8933\n",
      "Epoch 10/10\n",
      "56/56 [==============================] - 7s 56ms/step - loss: 0.1057 - accuracy: 0.9638 - val_loss: 0.3233 - val_accuracy: 0.9177\n",
      "lr: 0.031623, weight_decay:0.000001\n",
      "Epoch 1/10\n"
     ]
    },
    {
     "name": "stderr",
     "output_type": "stream",
     "text": [
      "2024-03-14 14:28:04.730230: E tensorflow/core/grappler/optimizers/meta_optimizer.cc:961] layout failed: INVALID_ARGUMENT: Size of values 0 does not match size of permutation 4 @ fanin shape inmodel_41/block1b_drop/dropout/SelectV2-2-TransposeNHWCToNCHW-LayoutOptimizer\n"
     ]
    },
    {
     "name": "stdout",
     "output_type": "stream",
     "text": [
      "56/56 [==============================] - 19s 68ms/step - loss: 0.8565 - accuracy: 0.6759 - val_loss: 0.5416 - val_accuracy: 0.7957\n",
      "Epoch 2/10\n",
      "56/56 [==============================] - 8s 57ms/step - loss: 0.4398 - accuracy: 0.8394 - val_loss: 0.4177 - val_accuracy: 0.8628\n",
      "Epoch 3/10\n",
      "56/56 [==============================] - 8s 57ms/step - loss: 0.3090 - accuracy: 0.8886 - val_loss: 0.3224 - val_accuracy: 0.8841\n",
      "Epoch 4/10\n",
      "56/56 [==============================] - 8s 60ms/step - loss: 0.2253 - accuracy: 0.9225 - val_loss: 0.2974 - val_accuracy: 0.9055\n",
      "Epoch 5/10\n",
      "56/56 [==============================] - 8s 58ms/step - loss: 0.1849 - accuracy: 0.9395 - val_loss: 0.4063 - val_accuracy: 0.8872\n",
      "Epoch 6/10\n",
      "56/56 [==============================] - 8s 59ms/step - loss: 0.1651 - accuracy: 0.9446 - val_loss: 0.1917 - val_accuracy: 0.9299\n",
      "Epoch 7/10\n",
      "56/56 [==============================] - 8s 58ms/step - loss: 0.1360 - accuracy: 0.9564 - val_loss: 0.3328 - val_accuracy: 0.8994\n",
      "Epoch 8/10\n",
      "56/56 [==============================] - 8s 58ms/step - loss: 0.1008 - accuracy: 0.9678 - val_loss: 0.1769 - val_accuracy: 0.9390\n",
      "Epoch 9/10\n",
      "56/56 [==============================] - 8s 59ms/step - loss: 0.0984 - accuracy: 0.9700 - val_loss: 0.1827 - val_accuracy: 0.9451\n",
      "Epoch 10/10\n",
      "56/56 [==============================] - 8s 59ms/step - loss: 0.0665 - accuracy: 0.9774 - val_loss: 0.2454 - val_accuracy: 0.9299\n",
      "lr: 0.031623, weight_decay:0.000003\n",
      "Epoch 1/10\n"
     ]
    },
    {
     "name": "stderr",
     "output_type": "stream",
     "text": [
      "2024-03-14 14:29:33.267443: E tensorflow/core/grappler/optimizers/meta_optimizer.cc:961] layout failed: INVALID_ARGUMENT: Size of values 0 does not match size of permutation 4 @ fanin shape inmodel_42/block1b_drop/dropout/SelectV2-2-TransposeNHWCToNCHW-LayoutOptimizer\n"
     ]
    },
    {
     "name": "stdout",
     "output_type": "stream",
     "text": [
      "56/56 [==============================] - 19s 69ms/step - loss: 0.8282 - accuracy: 0.7042 - val_loss: 0.7024 - val_accuracy: 0.7591\n",
      "Epoch 2/10\n",
      "56/56 [==============================] - 8s 59ms/step - loss: 0.4174 - accuracy: 0.8563 - val_loss: 0.4150 - val_accuracy: 0.8720\n",
      "Epoch 3/10\n",
      "56/56 [==============================] - 8s 59ms/step - loss: 0.2640 - accuracy: 0.9078 - val_loss: 0.3918 - val_accuracy: 0.8567\n",
      "Epoch 4/10\n",
      "56/56 [==============================] - 8s 60ms/step - loss: 0.2012 - accuracy: 0.9287 - val_loss: 0.2765 - val_accuracy: 0.9116\n",
      "Epoch 5/10\n",
      "56/56 [==============================] - 8s 59ms/step - loss: 0.1417 - accuracy: 0.9508 - val_loss: 0.2999 - val_accuracy: 0.9024\n",
      "Epoch 6/10\n",
      "56/56 [==============================] - 8s 60ms/step - loss: 0.1412 - accuracy: 0.9502 - val_loss: 0.2830 - val_accuracy: 0.9085\n",
      "Epoch 7/10\n",
      "56/56 [==============================] - 8s 58ms/step - loss: 0.1406 - accuracy: 0.9514 - val_loss: 0.3465 - val_accuracy: 0.9085\n",
      "Epoch 8/10\n",
      "56/56 [==============================] - 8s 59ms/step - loss: 0.0923 - accuracy: 0.9661 - val_loss: 0.2027 - val_accuracy: 0.9451\n",
      "Epoch 9/10\n",
      "56/56 [==============================] - 8s 60ms/step - loss: 0.0700 - accuracy: 0.9757 - val_loss: 0.2394 - val_accuracy: 0.9268\n",
      "Epoch 10/10\n",
      "56/56 [==============================] - 8s 59ms/step - loss: 0.0774 - accuracy: 0.9723 - val_loss: 0.2341 - val_accuracy: 0.9329\n",
      "lr: 0.031623, weight_decay:0.000010\n",
      "Epoch 1/10\n"
     ]
    },
    {
     "name": "stderr",
     "output_type": "stream",
     "text": [
      "2024-03-14 14:31:02.073686: E tensorflow/core/grappler/optimizers/meta_optimizer.cc:961] layout failed: INVALID_ARGUMENT: Size of values 0 does not match size of permutation 4 @ fanin shape inmodel_43/block1b_drop/dropout/SelectV2-2-TransposeNHWCToNCHW-LayoutOptimizer\n"
     ]
    },
    {
     "name": "stdout",
     "output_type": "stream",
     "text": [
      "56/56 [==============================] - 19s 69ms/step - loss: 0.8860 - accuracy: 0.6844 - val_loss: 0.6922 - val_accuracy: 0.7652\n",
      "Epoch 2/10\n",
      "56/56 [==============================] - 8s 60ms/step - loss: 0.4279 - accuracy: 0.8529 - val_loss: 0.4613 - val_accuracy: 0.8476\n",
      "Epoch 3/10\n",
      "56/56 [==============================] - 8s 62ms/step - loss: 0.2806 - accuracy: 0.8999 - val_loss: 0.6461 - val_accuracy: 0.8018\n",
      "Epoch 4/10\n",
      "56/56 [==============================] - 8s 60ms/step - loss: 0.2096 - accuracy: 0.9219 - val_loss: 0.2360 - val_accuracy: 0.9268\n",
      "Epoch 5/10\n",
      "56/56 [==============================] - 8s 59ms/step - loss: 0.1615 - accuracy: 0.9468 - val_loss: 0.2854 - val_accuracy: 0.9055\n",
      "Epoch 6/10\n",
      "56/56 [==============================] - 8s 59ms/step - loss: 0.0988 - accuracy: 0.9706 - val_loss: 0.2858 - val_accuracy: 0.9146\n",
      "Epoch 7/10\n",
      "56/56 [==============================] - 8s 60ms/step - loss: 0.0902 - accuracy: 0.9729 - val_loss: 0.3569 - val_accuracy: 0.9116\n",
      "Epoch 8/10\n",
      "56/56 [==============================] - 8s 60ms/step - loss: 0.0723 - accuracy: 0.9751 - val_loss: 0.2447 - val_accuracy: 0.9421\n",
      "Epoch 9/10\n",
      "56/56 [==============================] - 8s 60ms/step - loss: 0.0535 - accuracy: 0.9796 - val_loss: 0.2965 - val_accuracy: 0.9329\n",
      "Epoch 10/10\n",
      "56/56 [==============================] - 8s 59ms/step - loss: 0.0728 - accuracy: 0.9717 - val_loss: 0.3577 - val_accuracy: 0.9116\n",
      "lr: 0.031623, weight_decay:0.000032\n",
      "Epoch 1/10\n"
     ]
    },
    {
     "name": "stderr",
     "output_type": "stream",
     "text": [
      "2024-03-14 14:32:31.592736: E tensorflow/core/grappler/optimizers/meta_optimizer.cc:961] layout failed: INVALID_ARGUMENT: Size of values 0 does not match size of permutation 4 @ fanin shape inmodel_44/block1b_drop/dropout/SelectV2-2-TransposeNHWCToNCHW-LayoutOptimizer\n"
     ]
    },
    {
     "name": "stdout",
     "output_type": "stream",
     "text": [
      "56/56 [==============================] - 19s 72ms/step - loss: 0.8247 - accuracy: 0.6985 - val_loss: 0.5909 - val_accuracy: 0.7805\n",
      "Epoch 2/10\n",
      "56/56 [==============================] - 8s 60ms/step - loss: 0.3707 - accuracy: 0.8665 - val_loss: 0.5997 - val_accuracy: 0.8049\n",
      "Epoch 3/10\n",
      "56/56 [==============================] - 8s 59ms/step - loss: 0.3330 - accuracy: 0.8846 - val_loss: 0.5325 - val_accuracy: 0.8201\n",
      "Epoch 4/10\n",
      "56/56 [==============================] - 8s 58ms/step - loss: 0.2328 - accuracy: 0.9197 - val_loss: 0.3025 - val_accuracy: 0.8994\n",
      "Epoch 5/10\n",
      "56/56 [==============================] - 8s 59ms/step - loss: 0.1996 - accuracy: 0.9327 - val_loss: 0.3638 - val_accuracy: 0.8963\n",
      "Epoch 6/10\n",
      "56/56 [==============================] - 8s 61ms/step - loss: 0.1394 - accuracy: 0.9519 - val_loss: 0.2836 - val_accuracy: 0.9177\n",
      "Epoch 7/10\n",
      "56/56 [==============================] - 8s 59ms/step - loss: 0.1317 - accuracy: 0.9564 - val_loss: 0.3838 - val_accuracy: 0.9116\n",
      "Epoch 8/10\n",
      "56/56 [==============================] - 8s 58ms/step - loss: 0.0635 - accuracy: 0.9791 - val_loss: 0.2774 - val_accuracy: 0.9085\n",
      "Epoch 9/10\n",
      "56/56 [==============================] - 8s 59ms/step - loss: 0.0419 - accuracy: 0.9864 - val_loss: 0.2512 - val_accuracy: 0.9329\n",
      "Epoch 10/10\n",
      "56/56 [==============================] - 8s 60ms/step - loss: 0.0509 - accuracy: 0.9796 - val_loss: 0.3413 - val_accuracy: 0.9116\n",
      "lr: 0.031623, weight_decay:0.000100\n",
      "Epoch 1/10\n"
     ]
    },
    {
     "name": "stderr",
     "output_type": "stream",
     "text": [
      "2024-03-14 14:34:00.604071: E tensorflow/core/grappler/optimizers/meta_optimizer.cc:961] layout failed: INVALID_ARGUMENT: Size of values 0 does not match size of permutation 4 @ fanin shape inmodel_45/block1b_drop/dropout/SelectV2-2-TransposeNHWCToNCHW-LayoutOptimizer\n"
     ]
    },
    {
     "name": "stdout",
     "output_type": "stream",
     "text": [
      "56/56 [==============================] - 19s 70ms/step - loss: 0.8551 - accuracy: 0.6816 - val_loss: 0.6750 - val_accuracy: 0.7561\n",
      "Epoch 2/10\n",
      "56/56 [==============================] - 8s 58ms/step - loss: 0.4676 - accuracy: 0.8360 - val_loss: 0.5824 - val_accuracy: 0.7988\n",
      "Epoch 3/10\n",
      "56/56 [==============================] - 8s 59ms/step - loss: 0.2832 - accuracy: 0.9157 - val_loss: 0.2924 - val_accuracy: 0.9177\n",
      "Epoch 4/10\n",
      "56/56 [==============================] - 8s 60ms/step - loss: 0.1958 - accuracy: 0.9293 - val_loss: 0.3858 - val_accuracy: 0.8811\n",
      "Epoch 5/10\n",
      "56/56 [==============================] - 8s 60ms/step - loss: 0.1553 - accuracy: 0.9457 - val_loss: 0.3002 - val_accuracy: 0.8963\n",
      "Epoch 6/10\n",
      "56/56 [==============================] - 8s 59ms/step - loss: 0.1259 - accuracy: 0.9553 - val_loss: 0.3614 - val_accuracy: 0.8933\n",
      "Epoch 7/10\n",
      "56/56 [==============================] - 8s 59ms/step - loss: 0.1302 - accuracy: 0.9581 - val_loss: 0.4578 - val_accuracy: 0.8872\n",
      "Epoch 8/10\n",
      "56/56 [==============================] - 8s 58ms/step - loss: 0.1078 - accuracy: 0.9587 - val_loss: 0.2944 - val_accuracy: 0.9238\n",
      "Epoch 9/10\n",
      "56/56 [==============================] - 8s 60ms/step - loss: 0.0806 - accuracy: 0.9683 - val_loss: 0.3172 - val_accuracy: 0.9055\n",
      "Epoch 10/10\n",
      "56/56 [==============================] - 8s 60ms/step - loss: 0.0627 - accuracy: 0.9774 - val_loss: 0.3135 - val_accuracy: 0.9116\n",
      "lr: 0.031623, weight_decay:0.000316\n",
      "Epoch 1/10\n"
     ]
    },
    {
     "name": "stderr",
     "output_type": "stream",
     "text": [
      "2024-03-14 14:35:29.869448: E tensorflow/core/grappler/optimizers/meta_optimizer.cc:961] layout failed: INVALID_ARGUMENT: Size of values 0 does not match size of permutation 4 @ fanin shape inmodel_46/block1b_drop/dropout/SelectV2-2-TransposeNHWCToNCHW-LayoutOptimizer\n"
     ]
    },
    {
     "name": "stdout",
     "output_type": "stream",
     "text": [
      "56/56 [==============================] - 24s 161ms/step - loss: 0.8127 - accuracy: 0.7070 - val_loss: 0.5076 - val_accuracy: 0.8262\n",
      "Epoch 2/10\n",
      "56/56 [==============================] - 8s 60ms/step - loss: 0.3862 - accuracy: 0.8676 - val_loss: 0.3245 - val_accuracy: 0.8963\n",
      "Epoch 3/10\n",
      "56/56 [==============================] - 8s 60ms/step - loss: 0.2573 - accuracy: 0.9135 - val_loss: 0.3575 - val_accuracy: 0.8963\n",
      "Epoch 4/10\n",
      "56/56 [==============================] - 8s 61ms/step - loss: 0.2153 - accuracy: 0.9259 - val_loss: 0.2425 - val_accuracy: 0.9207\n",
      "Epoch 5/10\n",
      "56/56 [==============================] - 8s 60ms/step - loss: 0.1689 - accuracy: 0.9412 - val_loss: 0.2538 - val_accuracy: 0.9177\n",
      "Epoch 6/10\n",
      "56/56 [==============================] - 8s 58ms/step - loss: 0.1415 - accuracy: 0.9514 - val_loss: 0.2604 - val_accuracy: 0.9360\n",
      "Epoch 7/10\n",
      "56/56 [==============================] - 8s 62ms/step - loss: 0.0896 - accuracy: 0.9734 - val_loss: 0.3844 - val_accuracy: 0.8872\n",
      "Epoch 8/10\n",
      "56/56 [==============================] - 8s 60ms/step - loss: 0.1183 - accuracy: 0.9627 - val_loss: 0.3510 - val_accuracy: 0.8994\n",
      "Epoch 9/10\n",
      "56/56 [==============================] - 8s 60ms/step - loss: 0.1008 - accuracy: 0.9661 - val_loss: 0.2764 - val_accuracy: 0.9329\n",
      "Epoch 10/10\n",
      "56/56 [==============================] - 8s 59ms/step - loss: 0.0872 - accuracy: 0.9723 - val_loss: 0.3574 - val_accuracy: 0.8933\n",
      "lr: 0.031623, weight_decay:0.001000\n",
      "Epoch 1/10\n"
     ]
    },
    {
     "name": "stderr",
     "output_type": "stream",
     "text": [
      "2024-03-14 14:37:04.796311: E tensorflow/core/grappler/optimizers/meta_optimizer.cc:961] layout failed: INVALID_ARGUMENT: Size of values 0 does not match size of permutation 4 @ fanin shape inmodel_47/block1b_drop/dropout/SelectV2-2-TransposeNHWCToNCHW-LayoutOptimizer\n"
     ]
    },
    {
     "name": "stdout",
     "output_type": "stream",
     "text": [
      "56/56 [==============================] - 19s 71ms/step - loss: 0.8417 - accuracy: 0.7014 - val_loss: 0.4989 - val_accuracy: 0.8354\n",
      "Epoch 2/10\n",
      "56/56 [==============================] - 8s 59ms/step - loss: 0.4167 - accuracy: 0.8569 - val_loss: 0.3220 - val_accuracy: 0.8689\n",
      "Epoch 3/10\n",
      "56/56 [==============================] - 8s 59ms/step - loss: 0.2571 - accuracy: 0.9101 - val_loss: 0.3314 - val_accuracy: 0.8963\n",
      "Epoch 4/10\n",
      "56/56 [==============================] - 8s 60ms/step - loss: 0.1781 - accuracy: 0.9423 - val_loss: 0.3086 - val_accuracy: 0.9177\n",
      "Epoch 5/10\n",
      "56/56 [==============================] - 8s 60ms/step - loss: 0.1660 - accuracy: 0.9434 - val_loss: 0.3035 - val_accuracy: 0.8963\n",
      "Epoch 6/10\n",
      "56/56 [==============================] - 8s 61ms/step - loss: 0.1480 - accuracy: 0.9564 - val_loss: 0.3031 - val_accuracy: 0.8750\n",
      "Epoch 7/10\n",
      "56/56 [==============================] - 8s 61ms/step - loss: 0.1231 - accuracy: 0.9525 - val_loss: 0.3292 - val_accuracy: 0.8780\n",
      "Epoch 8/10\n",
      "56/56 [==============================] - 8s 61ms/step - loss: 0.1052 - accuracy: 0.9627 - val_loss: 0.2867 - val_accuracy: 0.9055\n",
      "Epoch 9/10\n",
      "56/56 [==============================] - 8s 59ms/step - loss: 0.0763 - accuracy: 0.9779 - val_loss: 0.2325 - val_accuracy: 0.9207\n",
      "Epoch 10/10\n",
      "56/56 [==============================] - 8s 60ms/step - loss: 0.0757 - accuracy: 0.9791 - val_loss: 0.3228 - val_accuracy: 0.9085\n",
      "lr: 0.100000, weight_decay:0.000000\n",
      "Epoch 1/10\n"
     ]
    },
    {
     "name": "stderr",
     "output_type": "stream",
     "text": [
      "2024-03-14 14:38:34.690107: E tensorflow/core/grappler/optimizers/meta_optimizer.cc:961] layout failed: INVALID_ARGUMENT: Size of values 0 does not match size of permutation 4 @ fanin shape inmodel_48/block1b_drop/dropout/SelectV2-2-TransposeNHWCToNCHW-LayoutOptimizer\n"
     ]
    },
    {
     "name": "stdout",
     "output_type": "stream",
     "text": [
      "56/56 [==============================] - 19s 68ms/step - loss: 1.1783 - accuracy: 0.5820 - val_loss: 1.0393 - val_accuracy: 0.5945\n",
      "Epoch 2/10\n",
      "56/56 [==============================] - 7s 56ms/step - loss: 0.8920 - accuracy: 0.6748 - val_loss: 1.1740 - val_accuracy: 0.6677\n",
      "Epoch 3/10\n",
      "56/56 [==============================] - 8s 55ms/step - loss: 0.7032 - accuracy: 0.7381 - val_loss: 1.0136 - val_accuracy: 0.6860\n",
      "Epoch 4/10\n",
      "56/56 [==============================] - 8s 56ms/step - loss: 0.5731 - accuracy: 0.8071 - val_loss: 0.6174 - val_accuracy: 0.7957\n",
      "Epoch 5/10\n",
      "56/56 [==============================] - 8s 57ms/step - loss: 0.4982 - accuracy: 0.8314 - val_loss: 0.5872 - val_accuracy: 0.7866\n",
      "Epoch 6/10\n",
      "56/56 [==============================] - 8s 56ms/step - loss: 0.4341 - accuracy: 0.8462 - val_loss: 0.4262 - val_accuracy: 0.8659\n",
      "Epoch 7/10\n",
      "56/56 [==============================] - 8s 56ms/step - loss: 0.3878 - accuracy: 0.8546 - val_loss: 0.5230 - val_accuracy: 0.8232\n",
      "Epoch 8/10\n",
      "56/56 [==============================] - 8s 57ms/step - loss: 0.3136 - accuracy: 0.8942 - val_loss: 1.2660 - val_accuracy: 0.6738\n",
      "Epoch 9/10\n",
      "56/56 [==============================] - 8s 56ms/step - loss: 0.3119 - accuracy: 0.8886 - val_loss: 0.4292 - val_accuracy: 0.8689\n",
      "Epoch 10/10\n",
      "56/56 [==============================] - 8s 58ms/step - loss: 0.2770 - accuracy: 0.9027 - val_loss: 0.3648 - val_accuracy: 0.8933\n",
      "lr: 0.100000, weight_decay:0.000001\n",
      "Epoch 1/10\n"
     ]
    },
    {
     "name": "stderr",
     "output_type": "stream",
     "text": [
      "2024-03-14 14:40:02.584274: E tensorflow/core/grappler/optimizers/meta_optimizer.cc:961] layout failed: INVALID_ARGUMENT: Size of values 0 does not match size of permutation 4 @ fanin shape inmodel_49/block1b_drop/dropout/SelectV2-2-TransposeNHWCToNCHW-LayoutOptimizer\n"
     ]
    },
    {
     "name": "stdout",
     "output_type": "stream",
     "text": [
      "56/56 [==============================] - 19s 71ms/step - loss: 1.2195 - accuracy: 0.5798 - val_loss: 1.7257 - val_accuracy: 0.3933\n",
      "Epoch 2/10\n",
      "56/56 [==============================] - 8s 59ms/step - loss: 0.8631 - accuracy: 0.6906 - val_loss: 0.9931 - val_accuracy: 0.6494\n",
      "Epoch 3/10\n",
      "56/56 [==============================] - 8s 60ms/step - loss: 0.7479 - accuracy: 0.7302 - val_loss: 0.7425 - val_accuracy: 0.7317\n",
      "Epoch 4/10\n",
      "56/56 [==============================] - 8s 59ms/step - loss: 0.6242 - accuracy: 0.7817 - val_loss: 0.8778 - val_accuracy: 0.7470\n",
      "Epoch 5/10\n",
      "56/56 [==============================] - 8s 58ms/step - loss: 0.5535 - accuracy: 0.8037 - val_loss: 0.5905 - val_accuracy: 0.7896\n",
      "Epoch 6/10\n",
      "56/56 [==============================] - 8s 58ms/step - loss: 0.4076 - accuracy: 0.8620 - val_loss: 0.4537 - val_accuracy: 0.8476\n",
      "Epoch 7/10\n",
      "56/56 [==============================] - 8s 59ms/step - loss: 0.3109 - accuracy: 0.8869 - val_loss: 0.5565 - val_accuracy: 0.8232\n",
      "Epoch 8/10\n",
      "56/56 [==============================] - 8s 59ms/step - loss: 0.3037 - accuracy: 0.8891 - val_loss: 0.7284 - val_accuracy: 0.7835\n",
      "Epoch 9/10\n",
      "56/56 [==============================] - 8s 59ms/step - loss: 0.2619 - accuracy: 0.9044 - val_loss: 0.5086 - val_accuracy: 0.8567\n",
      "Epoch 10/10\n",
      "56/56 [==============================] - 8s 59ms/step - loss: 0.2425 - accuracy: 0.9197 - val_loss: 0.4527 - val_accuracy: 0.8598\n",
      "lr: 0.100000, weight_decay:0.000003\n",
      "Epoch 1/10\n"
     ]
    },
    {
     "name": "stderr",
     "output_type": "stream",
     "text": [
      "2024-03-14 14:41:31.610751: E tensorflow/core/grappler/optimizers/meta_optimizer.cc:961] layout failed: INVALID_ARGUMENT: Size of values 0 does not match size of permutation 4 @ fanin shape inmodel_50/block1b_drop/dropout/SelectV2-2-TransposeNHWCToNCHW-LayoutOptimizer\n"
     ]
    },
    {
     "name": "stdout",
     "output_type": "stream",
     "text": [
      "56/56 [==============================] - 19s 68ms/step - loss: 1.2010 - accuracy: 0.5860 - val_loss: 2.1000 - val_accuracy: 0.3720\n",
      "Epoch 2/10\n",
      "34/56 [=================>............] - ETA: 1s - loss: 1.0669 - accuracy: 0.6156"
     ]
    },
    {
     "ename": "KeyboardInterrupt",
     "evalue": "",
     "output_type": "error",
     "traceback": [
      "\u001b[0;31m---------------------------------------------------------------------------\u001b[0m",
      "\u001b[0;31mKeyboardInterrupt\u001b[0m                         Traceback (most recent call last)",
      "Cell \u001b[0;32mIn[9], line 3\u001b[0m\n\u001b[1;32m      1\u001b[0m \u001b[38;5;28;01mfor\u001b[39;00m lr \u001b[38;5;129;01min\u001b[39;00m lr_list:\n\u001b[1;32m      2\u001b[0m     \u001b[38;5;28;01mfor\u001b[39;00m wd \u001b[38;5;129;01min\u001b[39;00m wd_list:\n\u001b[0;32m----> 3\u001b[0m         \u001b[43mtrain\u001b[49m\u001b[43m(\u001b[49m\u001b[43mlr\u001b[49m\u001b[43m,\u001b[49m\u001b[43m \u001b[49m\u001b[43mwd\u001b[49m\u001b[43m,\u001b[49m\u001b[43m \u001b[49m\u001b[43mmax_epochs\u001b[49m\u001b[43m)\u001b[49m\n",
      "Cell \u001b[0;32mIn[7], line 15\u001b[0m, in \u001b[0;36mtrain\u001b[0;34m(lr, weight_decay, max_epochs)\u001b[0m\n\u001b[1;32m     12\u001b[0m optimizer \u001b[38;5;241m=\u001b[39m SGD(learning_rate\u001b[38;5;241m=\u001b[39mlr, momentum\u001b[38;5;241m=\u001b[39m\u001b[38;5;241m0.9\u001b[39m, nesterov\u001b[38;5;241m=\u001b[39m\u001b[38;5;28;01mTrue\u001b[39;00m, weight_decay\u001b[38;5;241m=\u001b[39mweight_decay)\n\u001b[1;32m     13\u001b[0m model\u001b[38;5;241m.\u001b[39mcompile(loss\u001b[38;5;241m=\u001b[39m\u001b[38;5;124m\"\u001b[39m\u001b[38;5;124msparse_categorical_crossentropy\u001b[39m\u001b[38;5;124m\"\u001b[39m, optimizer\u001b[38;5;241m=\u001b[39moptimizer,\n\u001b[1;32m     14\u001b[0m               metrics\u001b[38;5;241m=\u001b[39m[\u001b[38;5;124m\"\u001b[39m\u001b[38;5;124maccuracy\u001b[39m\u001b[38;5;124m\"\u001b[39m])\n\u001b[0;32m---> 15\u001b[0m history \u001b[38;5;241m=\u001b[39m \u001b[43mmodel\u001b[49m\u001b[38;5;241;43m.\u001b[39;49m\u001b[43mfit\u001b[49m\u001b[43m(\u001b[49m\u001b[43mtrain_ds\u001b[49m\u001b[43m,\u001b[49m\u001b[43m \u001b[49m\u001b[43mvalidation_data\u001b[49m\u001b[38;5;241;43m=\u001b[39;49m\u001b[43mval_ds\u001b[49m\u001b[43m,\u001b[49m\u001b[43m \u001b[49m\u001b[43mepochs\u001b[49m\u001b[38;5;241;43m=\u001b[39;49m\u001b[43mmax_epochs\u001b[49m\u001b[43m)\u001b[49m\n\u001b[1;32m     17\u001b[0m \u001b[38;5;28;01mreturn\u001b[39;00m history\n",
      "File \u001b[0;32m~/AI/projects/open-waste/.venv/lib/python3.10/site-packages/keras/src/utils/traceback_utils.py:65\u001b[0m, in \u001b[0;36mfilter_traceback.<locals>.error_handler\u001b[0;34m(*args, **kwargs)\u001b[0m\n\u001b[1;32m     63\u001b[0m filtered_tb \u001b[38;5;241m=\u001b[39m \u001b[38;5;28;01mNone\u001b[39;00m\n\u001b[1;32m     64\u001b[0m \u001b[38;5;28;01mtry\u001b[39;00m:\n\u001b[0;32m---> 65\u001b[0m     \u001b[38;5;28;01mreturn\u001b[39;00m \u001b[43mfn\u001b[49m\u001b[43m(\u001b[49m\u001b[38;5;241;43m*\u001b[39;49m\u001b[43margs\u001b[49m\u001b[43m,\u001b[49m\u001b[43m \u001b[49m\u001b[38;5;241;43m*\u001b[39;49m\u001b[38;5;241;43m*\u001b[39;49m\u001b[43mkwargs\u001b[49m\u001b[43m)\u001b[49m\n\u001b[1;32m     66\u001b[0m \u001b[38;5;28;01mexcept\u001b[39;00m \u001b[38;5;167;01mException\u001b[39;00m \u001b[38;5;28;01mas\u001b[39;00m e:\n\u001b[1;32m     67\u001b[0m     filtered_tb \u001b[38;5;241m=\u001b[39m _process_traceback_frames(e\u001b[38;5;241m.\u001b[39m__traceback__)\n",
      "File \u001b[0;32m~/AI/projects/open-waste/.venv/lib/python3.10/site-packages/keras/src/engine/training.py:1807\u001b[0m, in \u001b[0;36mModel.fit\u001b[0;34m(self, x, y, batch_size, epochs, verbose, callbacks, validation_split, validation_data, shuffle, class_weight, sample_weight, initial_epoch, steps_per_epoch, validation_steps, validation_batch_size, validation_freq, max_queue_size, workers, use_multiprocessing)\u001b[0m\n\u001b[1;32m   1799\u001b[0m \u001b[38;5;28;01mwith\u001b[39;00m tf\u001b[38;5;241m.\u001b[39mprofiler\u001b[38;5;241m.\u001b[39mexperimental\u001b[38;5;241m.\u001b[39mTrace(\n\u001b[1;32m   1800\u001b[0m     \u001b[38;5;124m\"\u001b[39m\u001b[38;5;124mtrain\u001b[39m\u001b[38;5;124m\"\u001b[39m,\n\u001b[1;32m   1801\u001b[0m     epoch_num\u001b[38;5;241m=\u001b[39mepoch,\n\u001b[0;32m   (...)\u001b[0m\n\u001b[1;32m   1804\u001b[0m     _r\u001b[38;5;241m=\u001b[39m\u001b[38;5;241m1\u001b[39m,\n\u001b[1;32m   1805\u001b[0m ):\n\u001b[1;32m   1806\u001b[0m     callbacks\u001b[38;5;241m.\u001b[39mon_train_batch_begin(step)\n\u001b[0;32m-> 1807\u001b[0m     tmp_logs \u001b[38;5;241m=\u001b[39m \u001b[38;5;28;43mself\u001b[39;49m\u001b[38;5;241;43m.\u001b[39;49m\u001b[43mtrain_function\u001b[49m\u001b[43m(\u001b[49m\u001b[43miterator\u001b[49m\u001b[43m)\u001b[49m\n\u001b[1;32m   1808\u001b[0m     \u001b[38;5;28;01mif\u001b[39;00m data_handler\u001b[38;5;241m.\u001b[39mshould_sync:\n\u001b[1;32m   1809\u001b[0m         context\u001b[38;5;241m.\u001b[39masync_wait()\n",
      "File \u001b[0;32m~/AI/projects/open-waste/.venv/lib/python3.10/site-packages/tensorflow/python/util/traceback_utils.py:150\u001b[0m, in \u001b[0;36mfilter_traceback.<locals>.error_handler\u001b[0;34m(*args, **kwargs)\u001b[0m\n\u001b[1;32m    148\u001b[0m filtered_tb \u001b[38;5;241m=\u001b[39m \u001b[38;5;28;01mNone\u001b[39;00m\n\u001b[1;32m    149\u001b[0m \u001b[38;5;28;01mtry\u001b[39;00m:\n\u001b[0;32m--> 150\u001b[0m   \u001b[38;5;28;01mreturn\u001b[39;00m \u001b[43mfn\u001b[49m\u001b[43m(\u001b[49m\u001b[38;5;241;43m*\u001b[39;49m\u001b[43margs\u001b[49m\u001b[43m,\u001b[49m\u001b[43m \u001b[49m\u001b[38;5;241;43m*\u001b[39;49m\u001b[38;5;241;43m*\u001b[39;49m\u001b[43mkwargs\u001b[49m\u001b[43m)\u001b[49m\n\u001b[1;32m    151\u001b[0m \u001b[38;5;28;01mexcept\u001b[39;00m \u001b[38;5;167;01mException\u001b[39;00m \u001b[38;5;28;01mas\u001b[39;00m e:\n\u001b[1;32m    152\u001b[0m   filtered_tb \u001b[38;5;241m=\u001b[39m _process_traceback_frames(e\u001b[38;5;241m.\u001b[39m__traceback__)\n",
      "File \u001b[0;32m~/AI/projects/open-waste/.venv/lib/python3.10/site-packages/tensorflow/python/eager/polymorphic_function/polymorphic_function.py:832\u001b[0m, in \u001b[0;36mFunction.__call__\u001b[0;34m(self, *args, **kwds)\u001b[0m\n\u001b[1;32m    829\u001b[0m compiler \u001b[38;5;241m=\u001b[39m \u001b[38;5;124m\"\u001b[39m\u001b[38;5;124mxla\u001b[39m\u001b[38;5;124m\"\u001b[39m \u001b[38;5;28;01mif\u001b[39;00m \u001b[38;5;28mself\u001b[39m\u001b[38;5;241m.\u001b[39m_jit_compile \u001b[38;5;28;01melse\u001b[39;00m \u001b[38;5;124m\"\u001b[39m\u001b[38;5;124mnonXla\u001b[39m\u001b[38;5;124m\"\u001b[39m\n\u001b[1;32m    831\u001b[0m \u001b[38;5;28;01mwith\u001b[39;00m OptionalXlaContext(\u001b[38;5;28mself\u001b[39m\u001b[38;5;241m.\u001b[39m_jit_compile):\n\u001b[0;32m--> 832\u001b[0m   result \u001b[38;5;241m=\u001b[39m \u001b[38;5;28;43mself\u001b[39;49m\u001b[38;5;241;43m.\u001b[39;49m\u001b[43m_call\u001b[49m\u001b[43m(\u001b[49m\u001b[38;5;241;43m*\u001b[39;49m\u001b[43margs\u001b[49m\u001b[43m,\u001b[49m\u001b[43m \u001b[49m\u001b[38;5;241;43m*\u001b[39;49m\u001b[38;5;241;43m*\u001b[39;49m\u001b[43mkwds\u001b[49m\u001b[43m)\u001b[49m\n\u001b[1;32m    834\u001b[0m new_tracing_count \u001b[38;5;241m=\u001b[39m \u001b[38;5;28mself\u001b[39m\u001b[38;5;241m.\u001b[39mexperimental_get_tracing_count()\n\u001b[1;32m    835\u001b[0m without_tracing \u001b[38;5;241m=\u001b[39m (tracing_count \u001b[38;5;241m==\u001b[39m new_tracing_count)\n",
      "File \u001b[0;32m~/AI/projects/open-waste/.venv/lib/python3.10/site-packages/tensorflow/python/eager/polymorphic_function/polymorphic_function.py:868\u001b[0m, in \u001b[0;36mFunction._call\u001b[0;34m(self, *args, **kwds)\u001b[0m\n\u001b[1;32m    865\u001b[0m   \u001b[38;5;28mself\u001b[39m\u001b[38;5;241m.\u001b[39m_lock\u001b[38;5;241m.\u001b[39mrelease()\n\u001b[1;32m    866\u001b[0m   \u001b[38;5;66;03m# In this case we have created variables on the first call, so we run the\u001b[39;00m\n\u001b[1;32m    867\u001b[0m   \u001b[38;5;66;03m# defunned version which is guaranteed to never create variables.\u001b[39;00m\n\u001b[0;32m--> 868\u001b[0m   \u001b[38;5;28;01mreturn\u001b[39;00m \u001b[43mtracing_compilation\u001b[49m\u001b[38;5;241;43m.\u001b[39;49m\u001b[43mcall_function\u001b[49m\u001b[43m(\u001b[49m\n\u001b[1;32m    869\u001b[0m \u001b[43m      \u001b[49m\u001b[43margs\u001b[49m\u001b[43m,\u001b[49m\u001b[43m \u001b[49m\u001b[43mkwds\u001b[49m\u001b[43m,\u001b[49m\u001b[43m \u001b[49m\u001b[38;5;28;43mself\u001b[39;49m\u001b[38;5;241;43m.\u001b[39;49m\u001b[43m_no_variable_creation_config\u001b[49m\n\u001b[1;32m    870\u001b[0m \u001b[43m  \u001b[49m\u001b[43m)\u001b[49m\n\u001b[1;32m    871\u001b[0m \u001b[38;5;28;01melif\u001b[39;00m \u001b[38;5;28mself\u001b[39m\u001b[38;5;241m.\u001b[39m_variable_creation_config \u001b[38;5;129;01mis\u001b[39;00m \u001b[38;5;129;01mnot\u001b[39;00m \u001b[38;5;28;01mNone\u001b[39;00m:\n\u001b[1;32m    872\u001b[0m   \u001b[38;5;66;03m# Release the lock early so that multiple threads can perform the call\u001b[39;00m\n\u001b[1;32m    873\u001b[0m   \u001b[38;5;66;03m# in parallel.\u001b[39;00m\n\u001b[1;32m    874\u001b[0m   \u001b[38;5;28mself\u001b[39m\u001b[38;5;241m.\u001b[39m_lock\u001b[38;5;241m.\u001b[39mrelease()\n",
      "File \u001b[0;32m~/AI/projects/open-waste/.venv/lib/python3.10/site-packages/tensorflow/python/eager/polymorphic_function/tracing_compilation.py:139\u001b[0m, in \u001b[0;36mcall_function\u001b[0;34m(args, kwargs, tracing_options)\u001b[0m\n\u001b[1;32m    137\u001b[0m bound_args \u001b[38;5;241m=\u001b[39m function\u001b[38;5;241m.\u001b[39mfunction_type\u001b[38;5;241m.\u001b[39mbind(\u001b[38;5;241m*\u001b[39margs, \u001b[38;5;241m*\u001b[39m\u001b[38;5;241m*\u001b[39mkwargs)\n\u001b[1;32m    138\u001b[0m flat_inputs \u001b[38;5;241m=\u001b[39m function\u001b[38;5;241m.\u001b[39mfunction_type\u001b[38;5;241m.\u001b[39munpack_inputs(bound_args)\n\u001b[0;32m--> 139\u001b[0m \u001b[38;5;28;01mreturn\u001b[39;00m \u001b[43mfunction\u001b[49m\u001b[38;5;241;43m.\u001b[39;49m\u001b[43m_call_flat\u001b[49m\u001b[43m(\u001b[49m\u001b[43m  \u001b[49m\u001b[38;5;66;43;03m# pylint: disable=protected-access\u001b[39;49;00m\n\u001b[1;32m    140\u001b[0m \u001b[43m    \u001b[49m\u001b[43mflat_inputs\u001b[49m\u001b[43m,\u001b[49m\u001b[43m \u001b[49m\u001b[43mcaptured_inputs\u001b[49m\u001b[38;5;241;43m=\u001b[39;49m\u001b[43mfunction\u001b[49m\u001b[38;5;241;43m.\u001b[39;49m\u001b[43mcaptured_inputs\u001b[49m\n\u001b[1;32m    141\u001b[0m \u001b[43m\u001b[49m\u001b[43m)\u001b[49m\n",
      "File \u001b[0;32m~/AI/projects/open-waste/.venv/lib/python3.10/site-packages/tensorflow/python/eager/polymorphic_function/concrete_function.py:1323\u001b[0m, in \u001b[0;36mConcreteFunction._call_flat\u001b[0;34m(self, tensor_inputs, captured_inputs)\u001b[0m\n\u001b[1;32m   1319\u001b[0m possible_gradient_type \u001b[38;5;241m=\u001b[39m gradients_util\u001b[38;5;241m.\u001b[39mPossibleTapeGradientTypes(args)\n\u001b[1;32m   1320\u001b[0m \u001b[38;5;28;01mif\u001b[39;00m (possible_gradient_type \u001b[38;5;241m==\u001b[39m gradients_util\u001b[38;5;241m.\u001b[39mPOSSIBLE_GRADIENT_TYPES_NONE\n\u001b[1;32m   1321\u001b[0m     \u001b[38;5;129;01mand\u001b[39;00m executing_eagerly):\n\u001b[1;32m   1322\u001b[0m   \u001b[38;5;66;03m# No tape is watching; skip to running the function.\u001b[39;00m\n\u001b[0;32m-> 1323\u001b[0m   \u001b[38;5;28;01mreturn\u001b[39;00m \u001b[38;5;28;43mself\u001b[39;49m\u001b[38;5;241;43m.\u001b[39;49m\u001b[43m_inference_function\u001b[49m\u001b[38;5;241;43m.\u001b[39;49m\u001b[43mcall_preflattened\u001b[49m\u001b[43m(\u001b[49m\u001b[43margs\u001b[49m\u001b[43m)\u001b[49m\n\u001b[1;32m   1324\u001b[0m forward_backward \u001b[38;5;241m=\u001b[39m \u001b[38;5;28mself\u001b[39m\u001b[38;5;241m.\u001b[39m_select_forward_and_backward_functions(\n\u001b[1;32m   1325\u001b[0m     args,\n\u001b[1;32m   1326\u001b[0m     possible_gradient_type,\n\u001b[1;32m   1327\u001b[0m     executing_eagerly)\n\u001b[1;32m   1328\u001b[0m forward_function, args_with_tangents \u001b[38;5;241m=\u001b[39m forward_backward\u001b[38;5;241m.\u001b[39mforward()\n",
      "File \u001b[0;32m~/AI/projects/open-waste/.venv/lib/python3.10/site-packages/tensorflow/python/eager/polymorphic_function/atomic_function.py:216\u001b[0m, in \u001b[0;36mAtomicFunction.call_preflattened\u001b[0;34m(self, args)\u001b[0m\n\u001b[1;32m    214\u001b[0m \u001b[38;5;28;01mdef\u001b[39;00m \u001b[38;5;21mcall_preflattened\u001b[39m(\u001b[38;5;28mself\u001b[39m, args: Sequence[core\u001b[38;5;241m.\u001b[39mTensor]) \u001b[38;5;241m-\u001b[39m\u001b[38;5;241m>\u001b[39m Any:\n\u001b[1;32m    215\u001b[0m \u001b[38;5;250m  \u001b[39m\u001b[38;5;124;03m\"\"\"Calls with flattened tensor inputs and returns the structured output.\"\"\"\u001b[39;00m\n\u001b[0;32m--> 216\u001b[0m   flat_outputs \u001b[38;5;241m=\u001b[39m \u001b[38;5;28;43mself\u001b[39;49m\u001b[38;5;241;43m.\u001b[39;49m\u001b[43mcall_flat\u001b[49m\u001b[43m(\u001b[49m\u001b[38;5;241;43m*\u001b[39;49m\u001b[43margs\u001b[49m\u001b[43m)\u001b[49m\n\u001b[1;32m    217\u001b[0m   \u001b[38;5;28;01mreturn\u001b[39;00m \u001b[38;5;28mself\u001b[39m\u001b[38;5;241m.\u001b[39mfunction_type\u001b[38;5;241m.\u001b[39mpack_output(flat_outputs)\n",
      "File \u001b[0;32m~/AI/projects/open-waste/.venv/lib/python3.10/site-packages/tensorflow/python/eager/polymorphic_function/atomic_function.py:251\u001b[0m, in \u001b[0;36mAtomicFunction.call_flat\u001b[0;34m(self, *args)\u001b[0m\n\u001b[1;32m    249\u001b[0m \u001b[38;5;28;01mwith\u001b[39;00m record\u001b[38;5;241m.\u001b[39mstop_recording():\n\u001b[1;32m    250\u001b[0m   \u001b[38;5;28;01mif\u001b[39;00m \u001b[38;5;28mself\u001b[39m\u001b[38;5;241m.\u001b[39m_bound_context\u001b[38;5;241m.\u001b[39mexecuting_eagerly():\n\u001b[0;32m--> 251\u001b[0m     outputs \u001b[38;5;241m=\u001b[39m \u001b[38;5;28;43mself\u001b[39;49m\u001b[38;5;241;43m.\u001b[39;49m\u001b[43m_bound_context\u001b[49m\u001b[38;5;241;43m.\u001b[39;49m\u001b[43mcall_function\u001b[49m\u001b[43m(\u001b[49m\n\u001b[1;32m    252\u001b[0m \u001b[43m        \u001b[49m\u001b[38;5;28;43mself\u001b[39;49m\u001b[38;5;241;43m.\u001b[39;49m\u001b[43mname\u001b[49m\u001b[43m,\u001b[49m\n\u001b[1;32m    253\u001b[0m \u001b[43m        \u001b[49m\u001b[38;5;28;43mlist\u001b[39;49m\u001b[43m(\u001b[49m\u001b[43margs\u001b[49m\u001b[43m)\u001b[49m\u001b[43m,\u001b[49m\n\u001b[1;32m    254\u001b[0m \u001b[43m        \u001b[49m\u001b[38;5;28;43mlen\u001b[39;49m\u001b[43m(\u001b[49m\u001b[38;5;28;43mself\u001b[39;49m\u001b[38;5;241;43m.\u001b[39;49m\u001b[43mfunction_type\u001b[49m\u001b[38;5;241;43m.\u001b[39;49m\u001b[43mflat_outputs\u001b[49m\u001b[43m)\u001b[49m\u001b[43m,\u001b[49m\n\u001b[1;32m    255\u001b[0m \u001b[43m    \u001b[49m\u001b[43m)\u001b[49m\n\u001b[1;32m    256\u001b[0m   \u001b[38;5;28;01melse\u001b[39;00m:\n\u001b[1;32m    257\u001b[0m     outputs \u001b[38;5;241m=\u001b[39m make_call_op_in_graph(\n\u001b[1;32m    258\u001b[0m         \u001b[38;5;28mself\u001b[39m,\n\u001b[1;32m    259\u001b[0m         \u001b[38;5;28mlist\u001b[39m(args),\n\u001b[1;32m    260\u001b[0m         \u001b[38;5;28mself\u001b[39m\u001b[38;5;241m.\u001b[39m_bound_context\u001b[38;5;241m.\u001b[39mfunction_call_options\u001b[38;5;241m.\u001b[39mas_attrs(),\n\u001b[1;32m    261\u001b[0m     )\n",
      "File \u001b[0;32m~/AI/projects/open-waste/.venv/lib/python3.10/site-packages/tensorflow/python/eager/context.py:1486\u001b[0m, in \u001b[0;36mContext.call_function\u001b[0;34m(self, name, tensor_inputs, num_outputs)\u001b[0m\n\u001b[1;32m   1484\u001b[0m cancellation_context \u001b[38;5;241m=\u001b[39m cancellation\u001b[38;5;241m.\u001b[39mcontext()\n\u001b[1;32m   1485\u001b[0m \u001b[38;5;28;01mif\u001b[39;00m cancellation_context \u001b[38;5;129;01mis\u001b[39;00m \u001b[38;5;28;01mNone\u001b[39;00m:\n\u001b[0;32m-> 1486\u001b[0m   outputs \u001b[38;5;241m=\u001b[39m \u001b[43mexecute\u001b[49m\u001b[38;5;241;43m.\u001b[39;49m\u001b[43mexecute\u001b[49m\u001b[43m(\u001b[49m\n\u001b[1;32m   1487\u001b[0m \u001b[43m      \u001b[49m\u001b[43mname\u001b[49m\u001b[38;5;241;43m.\u001b[39;49m\u001b[43mdecode\u001b[49m\u001b[43m(\u001b[49m\u001b[38;5;124;43m\"\u001b[39;49m\u001b[38;5;124;43mutf-8\u001b[39;49m\u001b[38;5;124;43m\"\u001b[39;49m\u001b[43m)\u001b[49m\u001b[43m,\u001b[49m\n\u001b[1;32m   1488\u001b[0m \u001b[43m      \u001b[49m\u001b[43mnum_outputs\u001b[49m\u001b[38;5;241;43m=\u001b[39;49m\u001b[43mnum_outputs\u001b[49m\u001b[43m,\u001b[49m\n\u001b[1;32m   1489\u001b[0m \u001b[43m      \u001b[49m\u001b[43minputs\u001b[49m\u001b[38;5;241;43m=\u001b[39;49m\u001b[43mtensor_inputs\u001b[49m\u001b[43m,\u001b[49m\n\u001b[1;32m   1490\u001b[0m \u001b[43m      \u001b[49m\u001b[43mattrs\u001b[49m\u001b[38;5;241;43m=\u001b[39;49m\u001b[43mattrs\u001b[49m\u001b[43m,\u001b[49m\n\u001b[1;32m   1491\u001b[0m \u001b[43m      \u001b[49m\u001b[43mctx\u001b[49m\u001b[38;5;241;43m=\u001b[39;49m\u001b[38;5;28;43mself\u001b[39;49m\u001b[43m,\u001b[49m\n\u001b[1;32m   1492\u001b[0m \u001b[43m  \u001b[49m\u001b[43m)\u001b[49m\n\u001b[1;32m   1493\u001b[0m \u001b[38;5;28;01melse\u001b[39;00m:\n\u001b[1;32m   1494\u001b[0m   outputs \u001b[38;5;241m=\u001b[39m execute\u001b[38;5;241m.\u001b[39mexecute_with_cancellation(\n\u001b[1;32m   1495\u001b[0m       name\u001b[38;5;241m.\u001b[39mdecode(\u001b[38;5;124m\"\u001b[39m\u001b[38;5;124mutf-8\u001b[39m\u001b[38;5;124m\"\u001b[39m),\n\u001b[1;32m   1496\u001b[0m       num_outputs\u001b[38;5;241m=\u001b[39mnum_outputs,\n\u001b[0;32m   (...)\u001b[0m\n\u001b[1;32m   1500\u001b[0m       cancellation_manager\u001b[38;5;241m=\u001b[39mcancellation_context,\n\u001b[1;32m   1501\u001b[0m   )\n",
      "File \u001b[0;32m~/AI/projects/open-waste/.venv/lib/python3.10/site-packages/tensorflow/python/eager/execute.py:53\u001b[0m, in \u001b[0;36mquick_execute\u001b[0;34m(op_name, num_outputs, inputs, attrs, ctx, name)\u001b[0m\n\u001b[1;32m     51\u001b[0m \u001b[38;5;28;01mtry\u001b[39;00m:\n\u001b[1;32m     52\u001b[0m   ctx\u001b[38;5;241m.\u001b[39mensure_initialized()\n\u001b[0;32m---> 53\u001b[0m   tensors \u001b[38;5;241m=\u001b[39m \u001b[43mpywrap_tfe\u001b[49m\u001b[38;5;241;43m.\u001b[39;49m\u001b[43mTFE_Py_Execute\u001b[49m\u001b[43m(\u001b[49m\u001b[43mctx\u001b[49m\u001b[38;5;241;43m.\u001b[39;49m\u001b[43m_handle\u001b[49m\u001b[43m,\u001b[49m\u001b[43m \u001b[49m\u001b[43mdevice_name\u001b[49m\u001b[43m,\u001b[49m\u001b[43m \u001b[49m\u001b[43mop_name\u001b[49m\u001b[43m,\u001b[49m\n\u001b[1;32m     54\u001b[0m \u001b[43m                                      \u001b[49m\u001b[43minputs\u001b[49m\u001b[43m,\u001b[49m\u001b[43m \u001b[49m\u001b[43mattrs\u001b[49m\u001b[43m,\u001b[49m\u001b[43m \u001b[49m\u001b[43mnum_outputs\u001b[49m\u001b[43m)\u001b[49m\n\u001b[1;32m     55\u001b[0m \u001b[38;5;28;01mexcept\u001b[39;00m core\u001b[38;5;241m.\u001b[39m_NotOkStatusException \u001b[38;5;28;01mas\u001b[39;00m e:\n\u001b[1;32m     56\u001b[0m   \u001b[38;5;28;01mif\u001b[39;00m name \u001b[38;5;129;01mis\u001b[39;00m \u001b[38;5;129;01mnot\u001b[39;00m \u001b[38;5;28;01mNone\u001b[39;00m:\n",
      "\u001b[0;31mKeyboardInterrupt\u001b[0m: "
     ]
    }
   ],
   "source": [
    "for lr in lr_list:\n",
    "    for wd in wd_list:\n",
    "        train(lr, wd, max_epochs)"
   ]
  }
 ],
 "metadata": {
  "kernelspec": {
   "display_name": "Python 3 (ipykernel)",
   "language": "python",
   "name": "python3"
  },
  "language_info": {
   "codemirror_mode": {
    "name": "ipython",
    "version": 3
   },
   "file_extension": ".py",
   "mimetype": "text/x-python",
   "name": "python",
   "nbconvert_exporter": "python",
   "pygments_lexer": "ipython3",
   "version": "3.10.12"
  }
 },
 "nbformat": 4,
 "nbformat_minor": 5
}
