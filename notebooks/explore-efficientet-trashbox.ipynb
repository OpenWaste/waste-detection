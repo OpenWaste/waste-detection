{
 "cells": [
  {
   "cell_type": "code",
   "execution_count": 1,
   "id": "ba942e14-18b0-407d-93b6-ddcac4b406ae",
   "metadata": {},
   "outputs": [],
   "source": [
    "import os\n",
    "os.environ['TF_CPP_MIN_LOG_LEVEL'] = '2' "
   ]
  },
  {
   "cell_type": "code",
   "execution_count": 2,
   "id": "dd765525-8318-4d0d-a905-8355cfff3246",
   "metadata": {},
   "outputs": [
    {
     "name": "stderr",
     "output_type": "stream",
     "text": [
      "2024-03-22 17:12:05.619639: E external/local_xla/xla/stream_executor/cuda/cuda_dnn.cc:9261] Unable to register cuDNN factory: Attempting to register factory for plugin cuDNN when one has already been registered\n",
      "2024-03-22 17:12:05.619660: E external/local_xla/xla/stream_executor/cuda/cuda_fft.cc:607] Unable to register cuFFT factory: Attempting to register factory for plugin cuFFT when one has already been registered\n",
      "2024-03-22 17:12:05.620155: E external/local_xla/xla/stream_executor/cuda/cuda_blas.cc:1515] Unable to register cuBLAS factory: Attempting to register factory for plugin cuBLAS when one has already been registered\n"
     ]
    }
   ],
   "source": [
    "import tensorflow as tf\n",
    "from sklearn.metrics import classification_report"
   ]
  },
  {
   "cell_type": "code",
   "execution_count": 88,
   "id": "3fdbf2e4-ce57-48b0-b763-629dbf17abf7",
   "metadata": {},
   "outputs": [],
   "source": [
    "def print_classification_report(model, dataset):\n",
    "    labels = []\n",
    "    predictions = []\n",
    "    \n",
    "    for X, y in dataset:\n",
    "        labels.extend(y.numpy().tolist())\n",
    "        y_pred = tf.argmax(model.predict(X, verbose=0), axis=1).numpy().tolist()\n",
    "        predictions.extend(y_pred)\n",
    "\n",
    "    print(classification_report(labels, predictions, target_names=dataset.class_names))"
   ]
  },
  {
   "cell_type": "code",
   "execution_count": 3,
   "id": "b49dc2af-eb7e-46bd-826f-88b9755ce151",
   "metadata": {},
   "outputs": [],
   "source": [
    "seed = 42\n",
    "dataset_path = '/home/deeplearning/AI/datasets/TrashBox'\n",
    "epochs = 50\n",
    "batch_size = 32"
   ]
  },
  {
   "cell_type": "code",
   "execution_count": 96,
   "id": "fa011333-be0f-4f85-8dde-13daf6d7df1c",
   "metadata": {},
   "outputs": [
    {
     "name": "stdout",
     "output_type": "stream",
     "text": [
      "Found 14276 files belonging to 25 classes.\n",
      "Found 1774 files belonging to 25 classes.\n",
      "Found 1802 files belonging to 25 classes.\n"
     ]
    }
   ],
   "source": [
    "train_ds_raw = tf.keras.utils.image_dataset_from_directory(dataset_path + '/train/sub_classes', batch_size=batch_size)\n",
    "train_ds = train_ds_raw.prefetch(tf.data.AUTOTUNE)\n",
    "val_ds = tf.keras.utils.image_dataset_from_directory(dataset_path + '/val', batch_size=batch_size)\n",
    "test_ds = tf.keras.utils.image_dataset_from_directory(dataset_path + '/test', batch_size=batch_size)"
   ]
  },
  {
   "cell_type": "code",
   "execution_count": 97,
   "id": "d14e8990-8c42-44c4-9fe4-322c40cccfb5",
   "metadata": {},
   "outputs": [],
   "source": [
    "model_path = 'models/efficientnet_v2_trash_box.keras' #model_checkpoint_callback.filepath\n",
    "model = tf.keras.models.load_model(model_path)"
   ]
  },
  {
   "cell_type": "code",
   "execution_count": 98,
   "id": "e11bcbc0-63fa-4c38-b0e2-8c91ec2fd15f",
   "metadata": {},
   "outputs": [
    {
     "name": "stdout",
     "output_type": "stream",
     "text": [
      "Train evaluation\n",
      "447/447 [==============================] - 16s 32ms/step - loss: 0.0015 - accuracy: 0.9994\n"
     ]
    },
    {
     "data": {
      "text/plain": [
       "[0.0015306634595617652, 0.9993695616722107]"
      ]
     },
     "execution_count": 98,
     "metadata": {},
     "output_type": "execute_result"
    }
   ],
   "source": [
    "print(\"Train evaluation\")\n",
    "model.evaluate(train_ds)"
   ]
  },
  {
   "cell_type": "code",
   "execution_count": 99,
   "id": "211aca73-0637-400e-9d0e-5ed1c38805df",
   "metadata": {},
   "outputs": [
    {
     "name": "stdout",
     "output_type": "stream",
     "text": [
      "Val evaluation\n",
      "56/56 [==============================] - 2s 33ms/step - loss: 0.3656 - accuracy: 0.9295\n"
     ]
    },
    {
     "data": {
      "text/plain": [
       "[0.3655843436717987, 0.9295377731323242]"
      ]
     },
     "execution_count": 99,
     "metadata": {},
     "output_type": "execute_result"
    }
   ],
   "source": [
    "print(\"Val evaluation\")\n",
    "model.evaluate(val_ds)"
   ]
  },
  {
   "cell_type": "code",
   "execution_count": 100,
   "id": "8b7fe14c-2fe1-41c6-ae32-8d4a8a912776",
   "metadata": {},
   "outputs": [
    {
     "name": "stdout",
     "output_type": "stream",
     "text": [
      "Test evaluation\n",
      "57/57 [==============================] - 2s 26ms/step - loss: 0.4004 - accuracy: 0.9206\n"
     ]
    },
    {
     "data": {
      "text/plain": [
       "[0.4003887474536896, 0.9206437468528748]"
      ]
     },
     "execution_count": 100,
     "metadata": {},
     "output_type": "execute_result"
    }
   ],
   "source": [
    "print(\"Test evaluation\")\n",
    "model.evaluate(test_ds)"
   ]
  },
  {
   "cell_type": "code",
   "execution_count": 102,
   "id": "f0d95767-5406-4ec8-9f3b-a2bce8f8689b",
   "metadata": {},
   "outputs": [
    {
     "name": "stdout",
     "output_type": "stream",
     "text": [
      "                     precision    recall  f1-score   support\n",
      "\n",
      "      beverage cans       1.00      1.00      1.00       800\n",
      "          cardboard       1.00      1.00      1.00      1929\n",
      "     cigarette butt       1.00      1.00      1.00       405\n",
      " construction scrap       1.00      1.00      1.00       431\n",
      "  electrical cables       1.00      1.00      1.00       554\n",
      "   electronic chips       1.00      1.00      1.00       492\n",
      "              glass       1.00      1.00      1.00      2022\n",
      "             gloves       1.00      1.00      1.00       354\n",
      "            laptops       1.00      1.00      1.00       400\n",
      "              masks       1.00      1.00      1.00       400\n",
      "          medicines       1.00      1.00      1.00       405\n",
      "   metal containers       1.00      1.00      1.00       404\n",
      "         news paper       1.00      0.99      0.99       160\n",
      "other metal objects       1.00      1.00      1.00        33\n",
      "other paper objects       1.00      1.00      1.00       849\n",
      "         paper cups       1.00      1.00      1.00       511\n",
      "       plastic bags       1.00      1.00      1.00       403\n",
      "    plastic bottles       1.00      1.00      1.00       456\n",
      " plastic containers       1.00      1.00      1.00       464\n",
      "       plastic cups       1.00      1.00      1.00       405\n",
      "   small appliances       1.00      1.00      1.00       740\n",
      "        smartphones       1.00      1.00      1.00       219\n",
      "         spray cans       1.00      0.99      1.00       400\n",
      "            syringe       1.00      1.00      1.00       405\n",
      "          tetra pak       1.00      1.00      1.00       635\n",
      "\n",
      "           accuracy                           1.00     14276\n",
      "          macro avg       1.00      1.00      1.00     14276\n",
      "       weighted avg       1.00      1.00      1.00     14276\n",
      "\n"
     ]
    }
   ],
   "source": [
    "print_classification_report(model, train_ds_raw)"
   ]
  },
  {
   "cell_type": "code",
   "execution_count": 103,
   "id": "d0a21336-59ec-4f11-835c-922d0f67210a",
   "metadata": {},
   "outputs": [
    {
     "name": "stdout",
     "output_type": "stream",
     "text": [
      "Val classification report\n",
      "                     precision    recall  f1-score   support\n",
      "\n",
      "      beverage cans       0.91      0.93      0.92       100\n",
      "          cardboard       0.96      0.93      0.94       241\n",
      "     cigarette butt       0.98      1.00      0.99        50\n",
      " construction scrap       0.91      0.81      0.86        53\n",
      "  electrical cables       0.91      0.93      0.92        67\n",
      "   electronic chips       0.88      0.83      0.85        63\n",
      "              glass       0.97      0.94      0.96       252\n",
      "             gloves       0.88      1.00      0.94        44\n",
      "            laptops       0.84      0.86      0.85        49\n",
      "              masks       0.94      0.92      0.93        49\n",
      "          medicines       0.96      0.96      0.96        50\n",
      "   metal containers       0.84      0.96      0.90        50\n",
      "         news paper       0.95      0.95      0.95        20\n",
      "other metal objects       1.00      0.50      0.67         4\n",
      "other paper objects       0.93      0.95      0.94       106\n",
      "         paper cups       0.94      0.93      0.93        67\n",
      "       plastic bags       0.92      0.96      0.94        50\n",
      "    plastic bottles       0.93      0.93      0.93        57\n",
      " plastic containers       0.96      0.93      0.95        58\n",
      "       plastic cups       0.82      0.91      0.87        46\n",
      "   small appliances       0.99      0.99      0.99        92\n",
      "        smartphones       0.92      0.85      0.88        27\n",
      "         spray cans       0.89      0.84      0.87        50\n",
      "            syringe       0.78      0.92      0.84        50\n",
      "          tetra pak       0.99      1.00      0.99        79\n",
      "\n",
      "           accuracy                           0.93      1774\n",
      "          macro avg       0.92      0.91      0.91      1774\n",
      "       weighted avg       0.93      0.93      0.93      1774\n",
      "\n"
     ]
    }
   ],
   "source": [
    "print(\"Val classification report\")\n",
    "print_classification_report(model, val_ds)"
   ]
  },
  {
   "cell_type": "code",
   "execution_count": 104,
   "id": "5add3166-40a3-46e5-b0b5-67f2afd219d5",
   "metadata": {},
   "outputs": [
    {
     "name": "stdout",
     "output_type": "stream",
     "text": [
      "Test classification report\n",
      "                     precision    recall  f1-score   support\n",
      "\n",
      "      beverage cans       0.88      0.94      0.91       100\n",
      "          cardboard       0.92      0.93      0.92       242\n",
      "     cigarette butt       1.00      1.00      1.00        52\n",
      " construction scrap       0.87      0.85      0.86        55\n",
      "  electrical cables       0.94      0.87      0.90        70\n",
      "   electronic chips       0.89      0.76      0.82        62\n",
      "              glass       0.95      0.96      0.96       254\n",
      "             gloves       0.96      0.98      0.97        45\n",
      "            laptops       0.82      0.82      0.82        50\n",
      "              masks       0.94      0.96      0.95        50\n",
      "          medicines       0.89      0.96      0.93        52\n",
      "   metal containers       0.87      0.90      0.88        51\n",
      "         news paper       0.80      0.80      0.80        20\n",
      "other metal objects       0.00      0.00      0.00         5\n",
      "other paper objects       0.91      0.92      0.91       106\n",
      "         paper cups       0.88      0.89      0.89        65\n",
      "       plastic bags       0.92      0.96      0.94        51\n",
      "    plastic bottles       0.98      0.91      0.95        58\n",
      " plastic containers       0.92      0.98      0.95        58\n",
      "       plastic cups       0.96      0.85      0.90        52\n",
      "   small appliances       0.97      0.99      0.98        94\n",
      "        smartphones       0.87      0.93      0.90        28\n",
      "         spray cans       0.91      0.80      0.85        50\n",
      "            syringe       0.89      0.92      0.91        52\n",
      "          tetra pak       1.00      0.97      0.99        80\n",
      "\n",
      "           accuracy                           0.92      1802\n",
      "          macro avg       0.88      0.87      0.87      1802\n",
      "       weighted avg       0.92      0.92      0.92      1802\n",
      "\n"
     ]
    }
   ],
   "source": [
    "print(\"Test classification report\")\n",
    "print_classification_report(model, test_ds)"
   ]
  },
  {
   "cell_type": "code",
   "execution_count": 105,
   "id": "801bf517-b7a2-4412-9b56-69c2c9889b3e",
   "metadata": {},
   "outputs": [
    {
     "data": {
      "text/plain": [
       "['metal_objects 7.jpg',\n",
       " 'metal_objects 5.jpg',\n",
       " 'metal_objects 3.jpg',\n",
       " 'metal_objects 4.jpg',\n",
       " 'metal_objects 41.jpg']"
      ]
     },
     "execution_count": 105,
     "metadata": {},
     "output_type": "execute_result"
    }
   ],
   "source": [
    "other_metal_objects_path = dataset_path + '/test/other metal objects'\n",
    "os.listdir(other_metal_objects_path)"
   ]
  },
  {
   "cell_type": "code",
   "execution_count": 137,
   "id": "4d19bcbc-0014-49d3-bc3d-6860402ac584",
   "metadata": {},
   "outputs": [],
   "source": [
    "def decode_img(img):\n",
    "  # Convert the compressed string to a 3D uint8 tensor\n",
    "  img = tf.io.decode_jpeg(img, channels=3)\n",
    "  # Resize the image to the desired size\n",
    "  return tf.image.resize(img, [300, 300])"
   ]
  },
  {
   "cell_type": "code",
   "execution_count": 138,
   "id": "c8ef1616-f9d3-4564-8372-c7312c986045",
   "metadata": {},
   "outputs": [],
   "source": [
    "def process_path(file_path):\n",
    "  # Load the raw data from the file as a string\n",
    "  img = tf.io.read_file(file_path)\n",
    "  img = decode_img(img)\n",
    "  return img"
   ]
  },
  {
   "cell_type": "code",
   "execution_count": 139,
   "id": "c4356c32-5a56-4c79-8443-6b4509ad8b82",
   "metadata": {},
   "outputs": [],
   "source": [
    "list_ds = tf.data.Dataset.list_files(dataset_path + '/test/other metal objects/*')"
   ]
  },
  {
   "cell_type": "code",
   "execution_count": 140,
   "id": "83306e20-a68b-49e0-83f7-d19d879658ef",
   "metadata": {},
   "outputs": [],
   "source": [
    "img_ds = list_ds.map(process_path).map(tf.keras.applications.efficientnet.preprocess_input).batch(1)"
   ]
  },
  {
   "cell_type": "code",
   "execution_count": 141,
   "id": "fcb90add-1537-4ef5-819a-2afb2fb4ebeb",
   "metadata": {},
   "outputs": [
    {
     "name": "stdout",
     "output_type": "stream",
     "text": [
      "(1, 300, 300, 3)\n",
      "13 other metal objects\n",
      "(1, 300, 300, 3)\n",
      "0 beverage cans\n",
      "(1, 300, 300, 3)\n",
      "11 metal containers\n",
      "(1, 300, 300, 3)\n",
      "0 beverage cans\n",
      "(1, 300, 300, 3)\n",
      "0 beverage cans\n"
     ]
    }
   ],
   "source": [
    "for X in img_ds:\n",
    "    print(X.shape)\n",
    "    y_preds = tf.argmax(model.predict(X, verbose=0), axis=1).numpy()[0]\n",
    "    print(y_preds, test_ds.class_names[y_preds])"
   ]
  },
  {
   "cell_type": "code",
   "execution_count": 81,
   "id": "2100b2c3-50f3-4968-add4-067810aae4c0",
   "metadata": {},
   "outputs": [
    {
     "name": "stdout",
     "output_type": "stream",
     "text": [
      "              precision    recall  f1-score   support\n",
      "\n",
      "           0       0.00      0.00      0.00         0\n",
      "          13       1.00      0.40      0.57         5\n",
      "\n",
      "    accuracy                           0.40         5\n",
      "   macro avg       0.50      0.20      0.29         5\n",
      "weighted avg       1.00      0.40      0.57         5\n",
      "\n"
     ]
    },
    {
     "name": "stderr",
     "output_type": "stream",
     "text": [
      "/home/deeplearning/AI/projects/open-waste/.venv/lib/python3.10/site-packages/sklearn/metrics/_classification.py:1509: UndefinedMetricWarning: Recall is ill-defined and being set to 0.0 in labels with no true samples. Use `zero_division` parameter to control this behavior.\n",
      "  _warn_prf(average, modifier, f\"{metric.capitalize()} is\", len(result))\n",
      "/home/deeplearning/AI/projects/open-waste/.venv/lib/python3.10/site-packages/sklearn/metrics/_classification.py:1509: UndefinedMetricWarning: Recall is ill-defined and being set to 0.0 in labels with no true samples. Use `zero_division` parameter to control this behavior.\n",
      "  _warn_prf(average, modifier, f\"{metric.capitalize()} is\", len(result))\n",
      "/home/deeplearning/AI/projects/open-waste/.venv/lib/python3.10/site-packages/sklearn/metrics/_classification.py:1509: UndefinedMetricWarning: Recall is ill-defined and being set to 0.0 in labels with no true samples. Use `zero_division` parameter to control this behavior.\n",
      "  _warn_prf(average, modifier, f\"{metric.capitalize()} is\", len(result))\n"
     ]
    }
   ],
   "source": [
    "print(classification_report([13]*5, [0,13,0,13,0]))"
   ]
  },
  {
   "cell_type": "code",
   "execution_count": 115,
   "id": "0c55a1ee-bf87-4357-bfbf-4f6575f3ccfe",
   "metadata": {},
   "outputs": [
    {
     "name": "stdout",
     "output_type": "stream",
     "text": [
      "(32, 256, 256, 3) 13 11\n",
      "(32, 256, 256, 3) 13 0\n",
      "(32, 256, 256, 3) 13 0\n",
      "(32, 256, 256, 3) 13 0\n",
      "(32, 256, 256, 3) 13 0\n"
     ]
    }
   ],
   "source": [
    "for X, y in test_ds:\n",
    "    y_preds = tf.argmax(model.predict(X, verbose=0), axis=1).numpy().tolist()\n",
    "    y = y.numpy().tolist()\n",
    "    for i in zip(y, y_preds):\n",
    "        if i[0] == 13:\n",
    "            print(X.shape, i[0], i[1])"
   ]
  },
  {
   "cell_type": "code",
   "execution_count": null,
   "id": "1b38feb1-a270-44f3-b12f-491822b9dd11",
   "metadata": {},
   "outputs": [],
   "source": []
  }
 ],
 "metadata": {
  "kernelspec": {
   "display_name": "Python 3 (ipykernel)",
   "language": "python",
   "name": "python3"
  },
  "language_info": {
   "codemirror_mode": {
    "name": "ipython",
    "version": 3
   },
   "file_extension": ".py",
   "mimetype": "text/x-python",
   "name": "python",
   "nbconvert_exporter": "python",
   "pygments_lexer": "ipython3",
   "version": "3.10.12"
  }
 },
 "nbformat": 4,
 "nbformat_minor": 5
}
