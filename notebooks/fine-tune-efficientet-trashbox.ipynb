{
 "cells": [
  {
   "cell_type": "code",
   "execution_count": 1,
   "id": "ba942e14-18b0-407d-93b6-ddcac4b406ae",
   "metadata": {},
   "outputs": [],
   "source": [
    "import os\n",
    "os.environ['TF_CPP_MIN_LOG_LEVEL'] = '2' "
   ]
  },
  {
   "cell_type": "code",
   "execution_count": 2,
   "id": "dd765525-8318-4d0d-a905-8355cfff3246",
   "metadata": {},
   "outputs": [
    {
     "name": "stderr",
     "output_type": "stream",
     "text": [
      "2024-03-22 19:56:38.597597: E external/local_xla/xla/stream_executor/cuda/cuda_dnn.cc:9261] Unable to register cuDNN factory: Attempting to register factory for plugin cuDNN when one has already been registered\n",
      "2024-03-22 19:56:38.597622: E external/local_xla/xla/stream_executor/cuda/cuda_fft.cc:607] Unable to register cuFFT factory: Attempting to register factory for plugin cuFFT when one has already been registered\n",
      "2024-03-22 19:56:38.598153: E external/local_xla/xla/stream_executor/cuda/cuda_blas.cc:1515] Unable to register cuBLAS factory: Attempting to register factory for plugin cuBLAS when one has already been registered\n"
     ]
    }
   ],
   "source": [
    "import tensorflow as tf\n",
    "from sklearn.metrics import classification_report"
   ]
  },
  {
   "cell_type": "code",
   "execution_count": 5,
   "id": "b49dc2af-eb7e-46bd-826f-88b9755ce151",
   "metadata": {},
   "outputs": [],
   "source": [
    "seed = 42\n",
    "dataset_path = '/home/deeplearning/AI/datasets/TrashBox'\n",
    "epochs = 50\n",
    "batch_size = 32\n",
    "img_height, img_width = 300, 300"
   ]
  },
  {
   "cell_type": "code",
   "execution_count": 4,
   "id": "459d9bc9-7210-44d2-bece-7e212615c850",
   "metadata": {},
   "outputs": [],
   "source": [
    "data_augmentation = tf.keras.Sequential([\n",
    "    tf.keras.layers.RandomFlip(mode=\"horizontal\", seed=seed),\n",
    "    tf.keras.layers.RandomRotation(factor=0.05, seed=seed),\n",
    "    tf.keras.layers.RandomContrast(factor=0.2, seed=seed)\n",
    "])"
   ]
  },
  {
   "cell_type": "code",
   "execution_count": 6,
   "id": "fa011333-be0f-4f85-8dde-13daf6d7df1c",
   "metadata": {},
   "outputs": [
    {
     "name": "stdout",
     "output_type": "stream",
     "text": [
      "Found 14276 files belonging to 25 classes.\n"
     ]
    }
   ],
   "source": [
    "train_ds_raw = tf.keras.utils.image_dataset_from_directory(dataset_path + '/train/sub_classes', batch_size=batch_size, image_size=(img_height, img_width))\n",
    "train_ds = train_ds_raw.map(lambda img, label: (data_augmentation(img), label)).shuffle(50, seed=seed).prefetch(tf.data.AUTOTUNE)"
   ]
  },
  {
   "cell_type": "code",
   "execution_count": 7,
   "id": "d14e8990-8c42-44c4-9fe4-322c40cccfb5",
   "metadata": {},
   "outputs": [
    {
     "name": "stdout",
     "output_type": "stream",
     "text": [
      "Found 1774 files belonging to 25 classes.\n"
     ]
    }
   ],
   "source": [
    "val_ds = tf.keras.utils.image_dataset_from_directory(dataset_path + '/val', batch_size=batch_size, image_size=(img_height, img_width))"
   ]
  },
  {
   "cell_type": "code",
   "execution_count": 8,
   "id": "6b70e853-3504-4114-b680-97632346ceba",
   "metadata": {},
   "outputs": [],
   "source": [
    "class_names = train_ds_raw.class_names\n",
    "num_classes = len(class_names)"
   ]
  },
  {
   "cell_type": "code",
   "execution_count": 9,
   "id": "124ca3d4-ee5e-419d-a1ed-968ce2b5b721",
   "metadata": {},
   "outputs": [],
   "source": [
    "base_model = tf.keras.applications.efficientnet_v2.EfficientNetV2B2(\n",
    "    weights=\"imagenet\", include_top=False)\n",
    "avg = tf.keras.layers.GlobalAveragePooling2D()(base_model.output)\n",
    "output = tf.keras.layers.Dense(num_classes, activation=\"softmax\")(avg)\n",
    "model = tf.keras.Model(inputs=base_model.input, outputs=output)\n",
    "\n",
    "for layer in model.layers:\n",
    "    if isinstance(layer, tf.keras.layers.BatchNormalization):\n",
    "        layer.momentum = 0.98 "
   ]
  },
  {
   "cell_type": "code",
   "execution_count": 10,
   "id": "d264f348-e900-4f1e-82ff-b11bd206439e",
   "metadata": {},
   "outputs": [
    {
     "name": "stdout",
     "output_type": "stream",
     "text": [
      "Epoch 1/50\n"
     ]
    },
    {
     "name": "stderr",
     "output_type": "stream",
     "text": [
      "2024-03-22 19:58:18.418539: E tensorflow/core/grappler/optimizers/meta_optimizer.cc:961] layout failed: INVALID_ARGUMENT: Size of values 0 does not match size of permutation 4 @ fanin shape inmodel/block1b_drop/dropout/SelectV2-2-TransposeNHWCToNCHW-LayoutOptimizer\n",
      "WARNING: All log messages before absl::InitializeLog() is called are written to STDERR\n",
      "I0000 00:00:1711151906.024830  350968 device_compiler.h:186] Compiled cluster using XLA!  This line is logged at most once for the lifetime of the process.\n"
     ]
    },
    {
     "name": "stdout",
     "output_type": "stream",
     "text": [
      "447/447 [==============================] - 74s 123ms/step - loss: 1.4085 - accuracy: 0.6444 - val_loss: 0.5407 - val_accuracy: 0.8664\n",
      "Epoch 2/50\n",
      "447/447 [==============================] - 60s 121ms/step - loss: 0.5043 - accuracy: 0.8589 - val_loss: 0.3848 - val_accuracy: 0.8918\n",
      "Epoch 3/50\n",
      "447/447 [==============================] - 60s 121ms/step - loss: 0.3627 - accuracy: 0.8919 - val_loss: 0.3444 - val_accuracy: 0.8957\n",
      "Epoch 4/50\n",
      "447/447 [==============================] - 60s 121ms/step - loss: 0.2847 - accuracy: 0.9184 - val_loss: 0.3211 - val_accuracy: 0.9042\n",
      "Epoch 5/50\n",
      "447/447 [==============================] - 60s 122ms/step - loss: 0.2398 - accuracy: 0.9284 - val_loss: 0.3007 - val_accuracy: 0.9115\n",
      "Epoch 6/50\n",
      "447/447 [==============================] - 60s 121ms/step - loss: 0.1963 - accuracy: 0.9413 - val_loss: 0.3201 - val_accuracy: 0.9115\n",
      "Epoch 7/50\n",
      "447/447 [==============================] - 59s 120ms/step - loss: 0.1680 - accuracy: 0.9503 - val_loss: 0.3002 - val_accuracy: 0.9087\n",
      "Epoch 8/50\n",
      "447/447 [==============================] - 59s 119ms/step - loss: 0.1433 - accuracy: 0.9570 - val_loss: 0.3055 - val_accuracy: 0.9076\n",
      "Epoch 9/50\n",
      "447/447 [==============================] - 59s 120ms/step - loss: 0.1214 - accuracy: 0.9643 - val_loss: 0.2835 - val_accuracy: 0.9194\n",
      "Epoch 10/50\n",
      "447/447 [==============================] - 59s 120ms/step - loss: 0.1019 - accuracy: 0.9711 - val_loss: 0.2778 - val_accuracy: 0.9177\n",
      "Epoch 11/50\n",
      "447/447 [==============================] - 59s 120ms/step - loss: 0.0955 - accuracy: 0.9713 - val_loss: 0.2850 - val_accuracy: 0.9200\n",
      "Epoch 12/50\n",
      "447/447 [==============================] - 59s 119ms/step - loss: 0.0832 - accuracy: 0.9765 - val_loss: 0.3025 - val_accuracy: 0.9154\n",
      "Epoch 13/50\n",
      "447/447 [==============================] - 59s 119ms/step - loss: 0.0694 - accuracy: 0.9802 - val_loss: 0.2862 - val_accuracy: 0.9154\n",
      "Epoch 14/50\n",
      "447/447 [==============================] - 59s 121ms/step - loss: 0.0617 - accuracy: 0.9826 - val_loss: 0.3018 - val_accuracy: 0.9211\n",
      "Epoch 15/50\n",
      "447/447 [==============================] - 59s 119ms/step - loss: 0.0605 - accuracy: 0.9830 - val_loss: 0.3035 - val_accuracy: 0.9154\n",
      "Epoch 16/50\n",
      "447/447 [==============================] - 59s 119ms/step - loss: 0.0551 - accuracy: 0.9849 - val_loss: 0.2989 - val_accuracy: 0.9171\n",
      "Epoch 17/50\n",
      "447/447 [==============================] - 59s 119ms/step - loss: 0.0477 - accuracy: 0.9863 - val_loss: 0.3166 - val_accuracy: 0.9138\n",
      "Epoch 18/50\n",
      "447/447 [==============================] - 59s 120ms/step - loss: 0.0463 - accuracy: 0.9871 - val_loss: 0.3061 - val_accuracy: 0.9194\n",
      "Epoch 19/50\n",
      "447/447 [==============================] - 59s 120ms/step - loss: 0.0432 - accuracy: 0.9875 - val_loss: 0.2979 - val_accuracy: 0.9239\n",
      "Epoch 20/50\n",
      "447/447 [==============================] - 59s 120ms/step - loss: 0.0370 - accuracy: 0.9903 - val_loss: 0.3025 - val_accuracy: 0.9256\n",
      "Epoch 21/50\n",
      "447/447 [==============================] - 59s 119ms/step - loss: 0.0402 - accuracy: 0.9887 - val_loss: 0.3299 - val_accuracy: 0.9126\n",
      "Epoch 22/50\n",
      "447/447 [==============================] - 59s 120ms/step - loss: 0.0341 - accuracy: 0.9908 - val_loss: 0.3085 - val_accuracy: 0.9256\n",
      "Epoch 23/50\n",
      "447/447 [==============================] - 59s 119ms/step - loss: 0.0315 - accuracy: 0.9903 - val_loss: 0.3058 - val_accuracy: 0.9211\n",
      "Epoch 24/50\n",
      "447/447 [==============================] - 59s 120ms/step - loss: 0.0307 - accuracy: 0.9917 - val_loss: 0.2898 - val_accuracy: 0.9278\n",
      "Epoch 25/50\n",
      "447/447 [==============================] - 59s 119ms/step - loss: 0.0337 - accuracy: 0.9896 - val_loss: 0.3003 - val_accuracy: 0.9233\n",
      "Epoch 26/50\n",
      "447/447 [==============================] - 59s 119ms/step - loss: 0.0307 - accuracy: 0.9922 - val_loss: 0.3010 - val_accuracy: 0.9256\n",
      "Epoch 27/50\n",
      "447/447 [==============================] - 59s 119ms/step - loss: 0.0278 - accuracy: 0.9929 - val_loss: 0.2949 - val_accuracy: 0.9273\n",
      "Epoch 28/50\n",
      "447/447 [==============================] - 59s 119ms/step - loss: 0.0286 - accuracy: 0.9920 - val_loss: 0.3409 - val_accuracy: 0.9188\n",
      "Epoch 29/50\n",
      "447/447 [==============================] - 59s 120ms/step - loss: 0.0263 - accuracy: 0.9933 - val_loss: 0.3119 - val_accuracy: 0.9222\n",
      "Epoch 30/50\n",
      "447/447 [==============================] - 59s 119ms/step - loss: 0.0264 - accuracy: 0.9929 - val_loss: 0.3544 - val_accuracy: 0.9160\n",
      "Epoch 31/50\n",
      "447/447 [==============================] - 59s 119ms/step - loss: 0.0257 - accuracy: 0.9933 - val_loss: 0.3344 - val_accuracy: 0.9171\n",
      "Epoch 32/50\n",
      "447/447 [==============================] - 59s 119ms/step - loss: 0.0187 - accuracy: 0.9958 - val_loss: 0.3172 - val_accuracy: 0.9262\n",
      "Epoch 33/50\n",
      "447/447 [==============================] - 59s 119ms/step - loss: 0.0193 - accuracy: 0.9950 - val_loss: 0.3319 - val_accuracy: 0.9262\n",
      "Epoch 34/50\n",
      "447/447 [==============================] - 59s 120ms/step - loss: 0.0226 - accuracy: 0.9940 - val_loss: 0.3083 - val_accuracy: 0.9295\n",
      "Epoch 35/50\n",
      "447/447 [==============================] - 59s 119ms/step - loss: 0.0215 - accuracy: 0.9947 - val_loss: 0.3040 - val_accuracy: 0.9278\n",
      "Epoch 36/50\n",
      "447/447 [==============================] - 59s 119ms/step - loss: 0.0171 - accuracy: 0.9952 - val_loss: 0.3165 - val_accuracy: 0.9267\n",
      "Epoch 37/50\n",
      "447/447 [==============================] - 59s 120ms/step - loss: 0.0177 - accuracy: 0.9954 - val_loss: 0.4299 - val_accuracy: 0.9008\n",
      "Epoch 38/50\n",
      "447/447 [==============================] - 59s 120ms/step - loss: 0.0184 - accuracy: 0.9955 - val_loss: 0.3276 - val_accuracy: 0.9200\n",
      "Epoch 39/50\n",
      "447/447 [==============================] - 59s 119ms/step - loss: 0.0185 - accuracy: 0.9950 - val_loss: 0.3125 - val_accuracy: 0.9233\n",
      "Epoch 40/50\n",
      "447/447 [==============================] - 59s 119ms/step - loss: 0.0172 - accuracy: 0.9950 - val_loss: 0.3292 - val_accuracy: 0.9256\n",
      "Epoch 41/50\n",
      "447/447 [==============================] - 59s 119ms/step - loss: 0.0172 - accuracy: 0.9950 - val_loss: 0.3202 - val_accuracy: 0.9273\n",
      "Epoch 42/50\n",
      "447/447 [==============================] - 59s 119ms/step - loss: 0.0145 - accuracy: 0.9964 - val_loss: 0.3186 - val_accuracy: 0.9256\n",
      "Epoch 43/50\n",
      "447/447 [==============================] - 59s 119ms/step - loss: 0.0160 - accuracy: 0.9959 - val_loss: 0.3209 - val_accuracy: 0.9233\n",
      "Epoch 44/50\n",
      "447/447 [==============================] - 59s 120ms/step - loss: 0.0159 - accuracy: 0.9955 - val_loss: 0.3184 - val_accuracy: 0.9290\n",
      "Epoch 45/50\n",
      "447/447 [==============================] - 59s 121ms/step - loss: 0.0158 - accuracy: 0.9954 - val_loss: 0.3041 - val_accuracy: 0.9312\n",
      "Epoch 46/50\n",
      "447/447 [==============================] - 59s 120ms/step - loss: 0.0142 - accuracy: 0.9961 - val_loss: 0.3410 - val_accuracy: 0.9239\n",
      "Epoch 47/50\n",
      "447/447 [==============================] - 59s 120ms/step - loss: 0.0157 - accuracy: 0.9961 - val_loss: 0.3295 - val_accuracy: 0.9239\n",
      "Epoch 48/50\n",
      "447/447 [==============================] - 59s 119ms/step - loss: 0.0153 - accuracy: 0.9962 - val_loss: 0.3202 - val_accuracy: 0.9284\n",
      "Epoch 49/50\n",
      "447/447 [==============================] - 59s 119ms/step - loss: 0.0135 - accuracy: 0.9960 - val_loss: 0.3282 - val_accuracy: 0.9295\n",
      "Epoch 50/50\n",
      "447/447 [==============================] - 59s 119ms/step - loss: 0.0128 - accuracy: 0.9965 - val_loss: 0.3437 - val_accuracy: 0.9250\n"
     ]
    }
   ],
   "source": [
    "optimizer = tf.keras.optimizers.SGD(learning_rate=0.003162, momentum=0.9, weight_decay=0.000316)\n",
    "model_checkpoint_callback = tf.keras.callbacks.ModelCheckpoint(\n",
    "    filepath='models/efficientnet_v2_trash_box.keras',\n",
    "    monitor='val_accuracy',\n",
    "    mode='max',\n",
    "    save_best_only=True\n",
    ")\n",
    "    \n",
    "model.compile(loss=\"sparse_categorical_crossentropy\", optimizer=optimizer,\n",
    "              metrics=[\"accuracy\"])\n",
    "history = model.fit(train_ds, validation_data=val_ds, epochs=epochs, callbacks=[model_checkpoint_callback])"
   ]
  },
  {
   "cell_type": "code",
   "execution_count": 11,
   "id": "52f87fdc-6392-45d4-9ad3-66bf1381abcf",
   "metadata": {},
   "outputs": [
    {
     "name": "stdout",
     "output_type": "stream",
     "text": [
      "Epoch 1/50\n",
      "447/447 [==============================] - 59s 119ms/step - loss: 0.0132 - accuracy: 0.9964 - val_loss: 0.3252 - val_accuracy: 0.9256\n",
      "Epoch 2/50\n",
      "447/447 [==============================] - 59s 120ms/step - loss: 0.0153 - accuracy: 0.9957 - val_loss: 0.3376 - val_accuracy: 0.9278\n",
      "Epoch 3/50\n",
      "447/447 [==============================] - 59s 120ms/step - loss: 0.0113 - accuracy: 0.9968 - val_loss: 0.3508 - val_accuracy: 0.9250\n",
      "Epoch 4/50\n",
      "447/447 [==============================] - 59s 119ms/step - loss: 0.0121 - accuracy: 0.9965 - val_loss: 0.3345 - val_accuracy: 0.9267\n",
      "Epoch 5/50\n",
      "447/447 [==============================] - 59s 119ms/step - loss: 0.0116 - accuracy: 0.9973 - val_loss: 0.3328 - val_accuracy: 0.9290\n",
      "Epoch 6/50\n",
      "447/447 [==============================] - 59s 119ms/step - loss: 0.0113 - accuracy: 0.9968 - val_loss: 0.3275 - val_accuracy: 0.9205\n",
      "Epoch 7/50\n",
      "447/447 [==============================] - 59s 119ms/step - loss: 0.0111 - accuracy: 0.9973 - val_loss: 0.3817 - val_accuracy: 0.9138\n",
      "Epoch 8/50\n",
      "447/447 [==============================] - 59s 119ms/step - loss: 0.0123 - accuracy: 0.9969 - val_loss: 0.3206 - val_accuracy: 0.9262\n",
      "Epoch 9/50\n",
      "447/447 [==============================] - 59s 118ms/step - loss: 0.0146 - accuracy: 0.9959 - val_loss: 0.3659 - val_accuracy: 0.9245\n",
      "Epoch 10/50\n",
      "447/447 [==============================] - 59s 119ms/step - loss: 0.0161 - accuracy: 0.9952 - val_loss: 0.3406 - val_accuracy: 0.9233\n",
      "Epoch 11/50\n",
      "447/447 [==============================] - 59s 120ms/step - loss: 0.0120 - accuracy: 0.9967 - val_loss: 0.3215 - val_accuracy: 0.9335\n",
      "Epoch 12/50\n",
      "447/447 [==============================] - 59s 119ms/step - loss: 0.0126 - accuracy: 0.9961 - val_loss: 0.3341 - val_accuracy: 0.9290\n",
      "Epoch 13/50\n",
      "447/447 [==============================] - 59s 119ms/step - loss: 0.0117 - accuracy: 0.9970 - val_loss: 0.3052 - val_accuracy: 0.9284\n",
      "Epoch 14/50\n",
      "447/447 [==============================] - 59s 119ms/step - loss: 0.0122 - accuracy: 0.9963 - val_loss: 0.3174 - val_accuracy: 0.9290\n",
      "Epoch 15/50\n",
      "447/447 [==============================] - 59s 119ms/step - loss: 0.0112 - accuracy: 0.9970 - val_loss: 0.3246 - val_accuracy: 0.9262\n",
      "Epoch 16/50\n",
      "447/447 [==============================] - 59s 119ms/step - loss: 0.0136 - accuracy: 0.9963 - val_loss: 0.3160 - val_accuracy: 0.9256\n",
      "Epoch 17/50\n",
      "447/447 [==============================] - 59s 119ms/step - loss: 0.0115 - accuracy: 0.9965 - val_loss: 0.3017 - val_accuracy: 0.9290\n",
      "Epoch 18/50\n",
      "447/447 [==============================] - 59s 119ms/step - loss: 0.0101 - accuracy: 0.9975 - val_loss: 0.3123 - val_accuracy: 0.9312\n",
      "Epoch 19/50\n",
      "447/447 [==============================] - 59s 120ms/step - loss: 0.0103 - accuracy: 0.9971 - val_loss: 0.3199 - val_accuracy: 0.9340\n",
      "Epoch 20/50\n",
      "447/447 [==============================] - 59s 119ms/step - loss: 0.0080 - accuracy: 0.9978 - val_loss: 0.3162 - val_accuracy: 0.9335\n",
      "Epoch 21/50\n",
      "447/447 [==============================] - 59s 119ms/step - loss: 0.0112 - accuracy: 0.9966 - val_loss: 0.3524 - val_accuracy: 0.9228\n",
      "Epoch 22/50\n",
      "447/447 [==============================] - 59s 119ms/step - loss: 0.0110 - accuracy: 0.9971 - val_loss: 0.3139 - val_accuracy: 0.9335\n",
      "Epoch 23/50\n",
      "447/447 [==============================] - 59s 119ms/step - loss: 0.0100 - accuracy: 0.9973 - val_loss: 0.3047 - val_accuracy: 0.9329\n",
      "Epoch 24/50\n",
      "447/447 [==============================] - 59s 119ms/step - loss: 0.0103 - accuracy: 0.9971 - val_loss: 0.3146 - val_accuracy: 0.9301\n",
      "Epoch 25/50\n",
      "447/447 [==============================] - 59s 119ms/step - loss: 0.0071 - accuracy: 0.9981 - val_loss: 0.3280 - val_accuracy: 0.9312\n",
      "Epoch 26/50\n",
      "447/447 [==============================] - 59s 119ms/step - loss: 0.0081 - accuracy: 0.9980 - val_loss: 0.3111 - val_accuracy: 0.9329\n",
      "Epoch 27/50\n",
      "447/447 [==============================] - 59s 119ms/step - loss: 0.0080 - accuracy: 0.9976 - val_loss: 0.3166 - val_accuracy: 0.9307\n",
      "Epoch 28/50\n",
      "447/447 [==============================] - 59s 119ms/step - loss: 0.0080 - accuracy: 0.9975 - val_loss: 0.3680 - val_accuracy: 0.9273\n",
      "Epoch 29/50\n",
      "447/447 [==============================] - 59s 119ms/step - loss: 0.0093 - accuracy: 0.9972 - val_loss: 0.3193 - val_accuracy: 0.9318\n",
      "Epoch 30/50\n",
      "447/447 [==============================] - 59s 119ms/step - loss: 0.0076 - accuracy: 0.9977 - val_loss: 0.3232 - val_accuracy: 0.9340\n",
      "Epoch 31/50\n",
      "447/447 [==============================] - 59s 119ms/step - loss: 0.0085 - accuracy: 0.9973 - val_loss: 0.3280 - val_accuracy: 0.9267\n",
      "Epoch 32/50\n",
      "447/447 [==============================] - 59s 119ms/step - loss: 0.0089 - accuracy: 0.9973 - val_loss: 0.3235 - val_accuracy: 0.9290\n",
      "Epoch 33/50\n",
      "447/447 [==============================] - 59s 119ms/step - loss: 0.0093 - accuracy: 0.9972 - val_loss: 0.3164 - val_accuracy: 0.9312\n",
      "Epoch 34/50\n",
      "447/447 [==============================] - 59s 119ms/step - loss: 0.0077 - accuracy: 0.9980 - val_loss: 0.3443 - val_accuracy: 0.9278\n",
      "Epoch 35/50\n",
      "447/447 [==============================] - 59s 119ms/step - loss: 0.0068 - accuracy: 0.9981 - val_loss: 0.3218 - val_accuracy: 0.9312\n",
      "Epoch 36/50\n",
      "447/447 [==============================] - 59s 119ms/step - loss: 0.0074 - accuracy: 0.9983 - val_loss: 0.3228 - val_accuracy: 0.9318\n",
      "Epoch 37/50\n",
      "447/447 [==============================] - 59s 119ms/step - loss: 0.0073 - accuracy: 0.9982 - val_loss: 0.3250 - val_accuracy: 0.9312\n",
      "Epoch 38/50\n",
      "447/447 [==============================] - 59s 119ms/step - loss: 0.0102 - accuracy: 0.9972 - val_loss: 0.3794 - val_accuracy: 0.9200\n",
      "Epoch 39/50\n",
      "447/447 [==============================] - 59s 119ms/step - loss: 0.0090 - accuracy: 0.9975 - val_loss: 0.3207 - val_accuracy: 0.9290\n",
      "Epoch 40/50\n",
      "447/447 [==============================] - 59s 119ms/step - loss: 0.0063 - accuracy: 0.9978 - val_loss: 0.3282 - val_accuracy: 0.9307\n",
      "Epoch 41/50\n",
      "447/447 [==============================] - 59s 119ms/step - loss: 0.0081 - accuracy: 0.9978 - val_loss: 0.3365 - val_accuracy: 0.9267\n",
      "Epoch 42/50\n",
      "447/447 [==============================] - 59s 119ms/step - loss: 0.0091 - accuracy: 0.9974 - val_loss: 0.3165 - val_accuracy: 0.9329\n",
      "Epoch 43/50\n",
      "447/447 [==============================] - 59s 119ms/step - loss: 0.0077 - accuracy: 0.9973 - val_loss: 0.3244 - val_accuracy: 0.9284\n",
      "Epoch 44/50\n",
      "447/447 [==============================] - 59s 119ms/step - loss: 0.0078 - accuracy: 0.9979 - val_loss: 0.3234 - val_accuracy: 0.9295\n",
      "Epoch 45/50\n",
      "447/447 [==============================] - 59s 119ms/step - loss: 0.0088 - accuracy: 0.9975 - val_loss: 0.3564 - val_accuracy: 0.9239\n",
      "Epoch 46/50\n",
      "447/447 [==============================] - 59s 119ms/step - loss: 0.0094 - accuracy: 0.9970 - val_loss: 0.3396 - val_accuracy: 0.9216\n",
      "Epoch 47/50\n",
      "447/447 [==============================] - 59s 119ms/step - loss: 0.0064 - accuracy: 0.9982 - val_loss: 0.3335 - val_accuracy: 0.9295\n",
      "Epoch 48/50\n",
      "447/447 [==============================] - 58s 118ms/step - loss: 0.0075 - accuracy: 0.9975 - val_loss: 0.3484 - val_accuracy: 0.9267\n",
      "Epoch 49/50\n",
      "447/447 [==============================] - 59s 119ms/step - loss: 0.0065 - accuracy: 0.9980 - val_loss: 0.3325 - val_accuracy: 0.9295\n",
      "Epoch 50/50\n",
      "447/447 [==============================] - 59s 119ms/step - loss: 0.0067 - accuracy: 0.9981 - val_loss: 0.3382 - val_accuracy: 0.9262\n"
     ]
    }
   ],
   "source": [
    "history = model.fit(train_ds, validation_data=val_ds, epochs=epochs, callbacks=[model_checkpoint_callback])"
   ]
  },
  {
   "cell_type": "code",
   "execution_count": 12,
   "id": "f0d95767-5406-4ec8-9f3b-a2bce8f8689b",
   "metadata": {},
   "outputs": [],
   "source": [
    "saved_model_path = 'models/efficientnet_v2_trash_box.keras' #model_checkpoint_callback.filepath\n",
    "saved_model = tf.keras.models.load_model(saved_model_path)"
   ]
  },
  {
   "cell_type": "code",
   "execution_count": 13,
   "id": "d0a21336-59ec-4f11-835c-922d0f67210a",
   "metadata": {},
   "outputs": [
    {
     "name": "stdout",
     "output_type": "stream",
     "text": [
      "56/56 [==============================] - 3s 30ms/step - loss: 0.3199 - accuracy: 0.9340\n"
     ]
    },
    {
     "data": {
      "text/plain": [
       "[0.3199387788772583, 0.9340473413467407]"
      ]
     },
     "execution_count": 13,
     "metadata": {},
     "output_type": "execute_result"
    }
   ],
   "source": [
    "saved_model.evaluate(val_ds)"
   ]
  },
  {
   "cell_type": "code",
   "execution_count": 30,
   "id": "5add3166-40a3-46e5-b0b5-67f2afd219d5",
   "metadata": {},
   "outputs": [
    {
     "name": "stdout",
     "output_type": "stream",
     "text": [
      "Found 1802 files belonging to 25 classes.\n"
     ]
    }
   ],
   "source": [
    "test_ds = tf.keras.utils.image_dataset_from_directory(dataset_path + '/test', batch_size=batch_size, image_size=(img_height, img_width))"
   ]
  },
  {
   "cell_type": "code",
   "execution_count": 31,
   "id": "b3d3c74b-b4fd-4233-9500-d33b6e3e3640",
   "metadata": {},
   "outputs": [
    {
     "name": "stdout",
     "output_type": "stream",
     "text": [
      "57/57 [==============================] - 2s 27ms/step - loss: 0.3736 - accuracy: 0.9156\n"
     ]
    },
    {
     "data": {
      "text/plain": [
       "[0.3736158311367035, 0.9156492948532104]"
      ]
     },
     "execution_count": 31,
     "metadata": {},
     "output_type": "execute_result"
    }
   ],
   "source": [
    "saved_model.evaluate(test_ds)"
   ]
  },
  {
   "cell_type": "code",
   "execution_count": 32,
   "id": "1923d3cb-c711-4a7c-8ced-764687ccc39a",
   "metadata": {},
   "outputs": [],
   "source": [
    "labels = []\n",
    "predictions = []\n",
    "\n",
    "for X, y in test_ds:\n",
    "    y_pred = tf.argmax(saved_model.predict(X, verbose=0), axis=1).numpy().tolist()\n",
    "    labels.extend(y.numpy().tolist())\n",
    "    predictions.extend(y_pred)"
   ]
  },
  {
   "cell_type": "code",
   "execution_count": 33,
   "id": "bf908773-354f-4b17-8e51-de5993b06993",
   "metadata": {},
   "outputs": [
    {
     "name": "stdout",
     "output_type": "stream",
     "text": [
      "                     precision    recall  f1-score   support\n",
      "\n",
      "      beverage cans       0.89      0.91      0.90       100\n",
      "          cardboard       0.93      0.93      0.93       242\n",
      "     cigarette butt       1.00      1.00      1.00        52\n",
      " construction scrap       0.83      0.96      0.89        55\n",
      "  electrical cables       0.95      0.84      0.89        70\n",
      "   electronic chips       0.90      0.84      0.87        62\n",
      "              glass       0.95      0.93      0.94       254\n",
      "             gloves       0.92      0.98      0.95        45\n",
      "            laptops       0.81      0.86      0.83        50\n",
      "              masks       0.94      0.90      0.92        50\n",
      "          medicines       0.94      0.96      0.95        52\n",
      "   metal containers       0.85      0.88      0.87        51\n",
      "         news paper       0.77      0.85      0.81        20\n",
      "other metal objects       0.25      0.20      0.22         5\n",
      "other paper objects       0.90      0.87      0.88       106\n",
      "         paper cups       0.89      0.88      0.88        65\n",
      "       plastic bags       0.92      0.94      0.93        51\n",
      "    plastic bottles       0.90      0.91      0.91        58\n",
      " plastic containers       0.90      0.95      0.92        58\n",
      "       plastic cups       0.87      0.87      0.87        52\n",
      "   small appliances       0.99      0.98      0.98        94\n",
      "        smartphones       0.93      0.96      0.95        28\n",
      "         spray cans       0.91      0.80      0.85        50\n",
      "            syringe       0.86      0.92      0.89        52\n",
      "          tetra pak       1.00      0.99      0.99        80\n",
      "\n",
      "           accuracy                           0.92      1802\n",
      "          macro avg       0.88      0.88      0.88      1802\n",
      "       weighted avg       0.92      0.92      0.92      1802\n",
      "\n"
     ]
    }
   ],
   "source": [
    "print(classification_report(labels, predictions, target_names=test_ds.class_names))"
   ]
  }
 ],
 "metadata": {
  "kernelspec": {
   "display_name": "Python 3 (ipykernel)",
   "language": "python",
   "name": "python3"
  },
  "language_info": {
   "codemirror_mode": {
    "name": "ipython",
    "version": 3
   },
   "file_extension": ".py",
   "mimetype": "text/x-python",
   "name": "python",
   "nbconvert_exporter": "python",
   "pygments_lexer": "ipython3",
   "version": "3.10.12"
  }
 },
 "nbformat": 4,
 "nbformat_minor": 5
}
