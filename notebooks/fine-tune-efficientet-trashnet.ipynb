{
 "cells": [
  {
   "cell_type": "code",
   "execution_count": 1,
   "id": "ba942e14-18b0-407d-93b6-ddcac4b406ae",
   "metadata": {},
   "outputs": [],
   "source": [
    "import os\n",
    "os.environ['TF_CPP_MIN_LOG_LEVEL'] = '2' "
   ]
  },
  {
   "cell_type": "code",
   "execution_count": 2,
   "id": "dd765525-8318-4d0d-a905-8355cfff3246",
   "metadata": {},
   "outputs": [
    {
     "name": "stderr",
     "output_type": "stream",
     "text": [
      "2024-03-14 17:46:42.157334: E external/local_xla/xla/stream_executor/cuda/cuda_dnn.cc:9261] Unable to register cuDNN factory: Attempting to register factory for plugin cuDNN when one has already been registered\n",
      "2024-03-14 17:46:42.157354: E external/local_xla/xla/stream_executor/cuda/cuda_fft.cc:607] Unable to register cuFFT factory: Attempting to register factory for plugin cuFFT when one has already been registered\n",
      "2024-03-14 17:46:42.157842: E external/local_xla/xla/stream_executor/cuda/cuda_blas.cc:1515] Unable to register cuBLAS factory: Attempting to register factory for plugin cuBLAS when one has already been registered\n"
     ]
    }
   ],
   "source": [
    "import tensorflow as tf\n",
    "from sklearn.metrics import classification_report"
   ]
  },
  {
   "cell_type": "code",
   "execution_count": 3,
   "id": "b49dc2af-eb7e-46bd-826f-88b9755ce151",
   "metadata": {},
   "outputs": [],
   "source": [
    "seed = 42\n",
    "dataset_path = '/home/deeplearning/AI/datasets/TrashNet'\n",
    "epochs = 50\n",
    "batch_size = 32\n",
    "lr = 0.01\n",
    "weight_decay = None"
   ]
  },
  {
   "cell_type": "code",
   "execution_count": 4,
   "id": "459d9bc9-7210-44d2-bece-7e212615c850",
   "metadata": {},
   "outputs": [],
   "source": [
    "data_augmentation = tf.keras.Sequential([\n",
    "    tf.keras.layers.RandomFlip(mode=\"horizontal\", seed=seed),\n",
    "    tf.keras.layers.RandomRotation(factor=0.05, seed=seed),\n",
    "    tf.keras.layers.RandomContrast(factor=0.2, seed=seed)\n",
    "])"
   ]
  },
  {
   "cell_type": "code",
   "execution_count": 5,
   "id": "fa011333-be0f-4f85-8dde-13daf6d7df1c",
   "metadata": {},
   "outputs": [
    {
     "name": "stdout",
     "output_type": "stream",
     "text": [
      "Found 1768 files belonging to 6 classes.\n"
     ]
    }
   ],
   "source": [
    "train_ds_raw = tf.keras.utils.image_dataset_from_directory(dataset_path + '/train', batch_size=batch_size)\n",
    "train_ds = train_ds_raw.map(lambda img, label: (data_augmentation(img), label)).shuffle(64, seed=seed).prefetch(tf.data.AUTOTUNE)"
   ]
  },
  {
   "cell_type": "code",
   "execution_count": 6,
   "id": "d14e8990-8c42-44c4-9fe4-322c40cccfb5",
   "metadata": {},
   "outputs": [
    {
     "name": "stdout",
     "output_type": "stream",
     "text": [
      "Found 328 files belonging to 6 classes.\n"
     ]
    }
   ],
   "source": [
    "val_ds = tf.keras.utils.image_dataset_from_directory(dataset_path + '/val', batch_size=batch_size)"
   ]
  },
  {
   "cell_type": "code",
   "execution_count": 7,
   "id": "6b70e853-3504-4114-b680-97632346ceba",
   "metadata": {},
   "outputs": [],
   "source": [
    "class_names = train_ds_raw.class_names\n",
    "num_classes = len(class_names)"
   ]
  },
  {
   "cell_type": "code",
   "execution_count": 8,
   "id": "124ca3d4-ee5e-419d-a1ed-968ce2b5b721",
   "metadata": {},
   "outputs": [],
   "source": [
    "base_model = tf.keras.applications.efficientnet_v2.EfficientNetV2B2(\n",
    "    weights=\"imagenet\", include_top=False)\n",
    "avg = tf.keras.layers.GlobalAveragePooling2D()(base_model.output)\n",
    "output = tf.keras.layers.Dense(num_classes, activation=\"softmax\")(avg)\n",
    "model = tf.keras.Model(inputs=base_model.input, outputs=output)\n",
    "\n",
    "for layer in model.layers:\n",
    "    if isinstance(layer, tf.keras.layers.BatchNormalization):\n",
    "        layer.momentum = 0.90"
   ]
  },
  {
   "cell_type": "raw",
   "id": "c58777e2-1831-422a-93e8-d5d993dd640e",
   "metadata": {},
   "source": [
    "optimizer = tf.keras.optimizers.SGD(learning_rate=lr, momentum=0.9, weight_decay=weight_decay)\n",
    "model_checkpoint_callback = tf.keras.callbacks.ModelCheckpoint(\n",
    "    filepath='models/efficientnet_v2_trash_net.keras',\n",
    "    monitor='val_accuracy',\n",
    "    mode='max',\n",
    "    save_best_only=True\n",
    ")\n",
    "    \n",
    "model.compile(loss=\"sparse_categorical_crossentropy\", optimizer=optimizer, metrics=[\"accuracy\"])\n",
    "history = model.fit(train_ds, validation_data=val_ds, epochs=epochs, callbacks=[model_checkpoint_callback])"
   ]
  },
  {
   "cell_type": "code",
   "execution_count": 10,
   "id": "52f87fdc-6392-45d4-9ad3-66bf1381abcf",
   "metadata": {},
   "outputs": [
    {
     "name": "stdout",
     "output_type": "stream",
     "text": [
      "Epoch 1/50\n",
      "56/56 [==============================] - 8s 56ms/step - loss: 0.0064 - accuracy: 0.9972 - val_loss: 0.1862 - val_accuracy: 0.9512\n",
      "Epoch 2/50\n",
      "56/56 [==============================] - 8s 57ms/step - loss: 0.0095 - accuracy: 0.9966 - val_loss: 0.2008 - val_accuracy: 0.9390\n",
      "Epoch 3/50\n",
      "56/56 [==============================] - 8s 56ms/step - loss: 0.0117 - accuracy: 0.9966 - val_loss: 0.2056 - val_accuracy: 0.9482\n",
      "Epoch 4/50\n",
      "56/56 [==============================] - 7s 54ms/step - loss: 0.0086 - accuracy: 0.9972 - val_loss: 0.1799 - val_accuracy: 0.9573\n",
      "Epoch 5/50\n",
      "56/56 [==============================] - 7s 55ms/step - loss: 0.0068 - accuracy: 0.9977 - val_loss: 0.1877 - val_accuracy: 0.9512\n",
      "Epoch 6/50\n",
      "56/56 [==============================] - 8s 56ms/step - loss: 0.0061 - accuracy: 0.9994 - val_loss: 0.1919 - val_accuracy: 0.9482\n",
      "Epoch 7/50\n",
      "56/56 [==============================] - 8s 56ms/step - loss: 0.0094 - accuracy: 0.9977 - val_loss: 0.2116 - val_accuracy: 0.9421\n",
      "Epoch 8/50\n",
      "56/56 [==============================] - 7s 54ms/step - loss: 0.0139 - accuracy: 0.9955 - val_loss: 0.1845 - val_accuracy: 0.9482\n",
      "Epoch 9/50\n",
      "56/56 [==============================] - 8s 56ms/step - loss: 0.0087 - accuracy: 0.9977 - val_loss: 0.1682 - val_accuracy: 0.9482\n",
      "Epoch 10/50\n",
      "56/56 [==============================] - 8s 65ms/step - loss: 0.0074 - accuracy: 0.9972 - val_loss: 0.1568 - val_accuracy: 0.9634\n",
      "Epoch 11/50\n",
      "56/56 [==============================] - 7s 56ms/step - loss: 0.0057 - accuracy: 0.9977 - val_loss: 0.1975 - val_accuracy: 0.9482\n",
      "Epoch 12/50\n",
      "56/56 [==============================] - 8s 56ms/step - loss: 0.0082 - accuracy: 0.9972 - val_loss: 0.2117 - val_accuracy: 0.9482\n",
      "Epoch 13/50\n",
      "56/56 [==============================] - 8s 56ms/step - loss: 0.0051 - accuracy: 0.9989 - val_loss: 0.2144 - val_accuracy: 0.9543\n",
      "Epoch 14/50\n",
      "56/56 [==============================] - 8s 56ms/step - loss: 0.0134 - accuracy: 0.9949 - val_loss: 0.2614 - val_accuracy: 0.9451\n",
      "Epoch 15/50\n",
      "56/56 [==============================] - 8s 57ms/step - loss: 0.0059 - accuracy: 0.9989 - val_loss: 0.2248 - val_accuracy: 0.9543\n",
      "Epoch 16/50\n",
      "56/56 [==============================] - 8s 57ms/step - loss: 0.0073 - accuracy: 0.9977 - val_loss: 0.2837 - val_accuracy: 0.9390\n",
      "Epoch 17/50\n",
      "56/56 [==============================] - 7s 55ms/step - loss: 0.0157 - accuracy: 0.9943 - val_loss: 0.2625 - val_accuracy: 0.9482\n",
      "Epoch 18/50\n",
      "56/56 [==============================] - 7s 54ms/step - loss: 0.0200 - accuracy: 0.9932 - val_loss: 0.2415 - val_accuracy: 0.9360\n",
      "Epoch 19/50\n",
      "56/56 [==============================] - 7s 56ms/step - loss: 0.0060 - accuracy: 0.9989 - val_loss: 0.2348 - val_accuracy: 0.9482\n",
      "Epoch 20/50\n",
      "56/56 [==============================] - 8s 56ms/step - loss: 0.0050 - accuracy: 0.9989 - val_loss: 0.2432 - val_accuracy: 0.9451\n",
      "Epoch 21/50\n",
      "56/56 [==============================] - 7s 56ms/step - loss: 0.0081 - accuracy: 0.9983 - val_loss: 0.2345 - val_accuracy: 0.9329\n",
      "Epoch 22/50\n",
      "56/56 [==============================] - 7s 55ms/step - loss: 0.0071 - accuracy: 0.9977 - val_loss: 0.2094 - val_accuracy: 0.9421\n",
      "Epoch 23/50\n",
      "56/56 [==============================] - 8s 57ms/step - loss: 0.0046 - accuracy: 0.9983 - val_loss: 0.1931 - val_accuracy: 0.9451\n",
      "Epoch 24/50\n",
      "56/56 [==============================] - 8s 56ms/step - loss: 0.0107 - accuracy: 0.9960 - val_loss: 0.2432 - val_accuracy: 0.9360\n",
      "Epoch 25/50\n",
      "56/56 [==============================] - 7s 56ms/step - loss: 0.0205 - accuracy: 0.9932 - val_loss: 0.3199 - val_accuracy: 0.9421\n",
      "Epoch 26/50\n",
      "56/56 [==============================] - 8s 57ms/step - loss: 0.0249 - accuracy: 0.9910 - val_loss: 0.2835 - val_accuracy: 0.9421\n",
      "Epoch 27/50\n",
      "56/56 [==============================] - 8s 57ms/step - loss: 0.0111 - accuracy: 0.9972 - val_loss: 0.2546 - val_accuracy: 0.9482\n",
      "Epoch 28/50\n",
      "56/56 [==============================] - 7s 55ms/step - loss: 0.0079 - accuracy: 0.9972 - val_loss: 0.2183 - val_accuracy: 0.9482\n",
      "Epoch 29/50\n",
      "56/56 [==============================] - 7s 55ms/step - loss: 0.0076 - accuracy: 0.9972 - val_loss: 0.2179 - val_accuracy: 0.9512\n",
      "Epoch 30/50\n",
      "56/56 [==============================] - 7s 55ms/step - loss: 0.0108 - accuracy: 0.9977 - val_loss: 0.1896 - val_accuracy: 0.9573\n",
      "Epoch 31/50\n",
      "56/56 [==============================] - 7s 55ms/step - loss: 0.0077 - accuracy: 0.9972 - val_loss: 0.1848 - val_accuracy: 0.9573\n",
      "Epoch 32/50\n",
      "56/56 [==============================] - 7s 56ms/step - loss: 0.0106 - accuracy: 0.9960 - val_loss: 0.1767 - val_accuracy: 0.9634\n",
      "Epoch 33/50\n",
      "56/56 [==============================] - 7s 56ms/step - loss: 0.0169 - accuracy: 0.9938 - val_loss: 0.1811 - val_accuracy: 0.9573\n",
      "Epoch 34/50\n",
      "56/56 [==============================] - 7s 55ms/step - loss: 0.0068 - accuracy: 0.9977 - val_loss: 0.1982 - val_accuracy: 0.9482\n",
      "Epoch 35/50\n",
      "56/56 [==============================] - 8s 57ms/step - loss: 0.0051 - accuracy: 0.9989 - val_loss: 0.2237 - val_accuracy: 0.9573\n",
      "Epoch 36/50\n",
      "56/56 [==============================] - 8s 57ms/step - loss: 0.0063 - accuracy: 0.9977 - val_loss: 0.1963 - val_accuracy: 0.9543\n",
      "Epoch 37/50\n",
      "56/56 [==============================] - 8s 57ms/step - loss: 0.0080 - accuracy: 0.9972 - val_loss: 0.2174 - val_accuracy: 0.9512\n",
      "Epoch 38/50\n",
      "56/56 [==============================] - 7s 56ms/step - loss: 0.0055 - accuracy: 0.9994 - val_loss: 0.2460 - val_accuracy: 0.9482\n",
      "Epoch 39/50\n",
      "56/56 [==============================] - 8s 57ms/step - loss: 0.0047 - accuracy: 0.9994 - val_loss: 0.2579 - val_accuracy: 0.9451\n",
      "Epoch 40/50\n",
      "56/56 [==============================] - 8s 57ms/step - loss: 0.0084 - accuracy: 0.9983 - val_loss: 0.2329 - val_accuracy: 0.9543\n",
      "Epoch 41/50\n",
      "56/56 [==============================] - 7s 55ms/step - loss: 0.0055 - accuracy: 0.9983 - val_loss: 0.2779 - val_accuracy: 0.9482\n",
      "Epoch 42/50\n",
      "56/56 [==============================] - 8s 56ms/step - loss: 0.0055 - accuracy: 0.9983 - val_loss: 0.2220 - val_accuracy: 0.9512\n",
      "Epoch 43/50\n",
      "56/56 [==============================] - 7s 57ms/step - loss: 0.0067 - accuracy: 0.9977 - val_loss: 0.1751 - val_accuracy: 0.9573\n",
      "Epoch 44/50\n",
      "56/56 [==============================] - 8s 56ms/step - loss: 0.0047 - accuracy: 0.9994 - val_loss: 0.1879 - val_accuracy: 0.9573\n",
      "Epoch 45/50\n",
      "56/56 [==============================] - 8s 55ms/step - loss: 0.0035 - accuracy: 0.9989 - val_loss: 0.1878 - val_accuracy: 0.9604\n",
      "Epoch 46/50\n",
      "56/56 [==============================] - 7s 55ms/step - loss: 0.0041 - accuracy: 0.9989 - val_loss: 0.2175 - val_accuracy: 0.9482\n",
      "Epoch 47/50\n",
      "56/56 [==============================] - 8s 56ms/step - loss: 0.0046 - accuracy: 0.9983 - val_loss: 0.1953 - val_accuracy: 0.9573\n",
      "Epoch 48/50\n",
      "56/56 [==============================] - 7s 56ms/step - loss: 0.0093 - accuracy: 0.9977 - val_loss: 0.1900 - val_accuracy: 0.9512\n",
      "Epoch 49/50\n",
      "56/56 [==============================] - 7s 56ms/step - loss: 0.0025 - accuracy: 0.9994 - val_loss: 0.2067 - val_accuracy: 0.9543\n",
      "Epoch 50/50\n",
      "56/56 [==============================] - 7s 55ms/step - loss: 0.0030 - accuracy: 0.9983 - val_loss: 0.2159 - val_accuracy: 0.9573\n"
     ]
    }
   ],
   "source": [
    "history = model.fit(train_ds, validation_data=val_ds, epochs=epochs, callbacks=[model_checkpoint_callback])"
   ]
  },
  {
   "cell_type": "code",
   "execution_count": 8,
   "id": "4e998745-5346-4edc-9065-45910e61d5fd",
   "metadata": {},
   "outputs": [
    {
     "data": {
      "text/plain": [
       "<keras.src.engine.functional.Functional at 0x72e7501b0a30>"
      ]
     },
     "execution_count": 8,
     "metadata": {},
     "output_type": "execute_result"
    }
   ],
   "source": [
    "saved_model_path = 'models/efficientnet_v2_trash_net.keras' #model_checkpoint_callback.filepath\n",
    "saved_model = tf.keras.models.load_model(saved_model_path)\n",
    "saved_model"
   ]
  },
  {
   "cell_type": "code",
   "execution_count": 9,
   "id": "6a1b21fc-66e0-4b33-92ff-b3cdc8c62fd5",
   "metadata": {},
   "outputs": [
    {
     "name": "stdout",
     "output_type": "stream",
     "text": [
      "11/11 [==============================] - 2s 33ms/step - loss: 0.1568 - accuracy: 0.9634\n"
     ]
    },
    {
     "data": {
      "text/plain": [
       "[0.15681712329387665, 0.9634146094322205]"
      ]
     },
     "execution_count": 9,
     "metadata": {},
     "output_type": "execute_result"
    }
   ],
   "source": [
    "saved_model.evaluate(val_ds)"
   ]
  },
  {
   "cell_type": "code",
   "execution_count": 10,
   "id": "3186f599-7482-4011-9bad-b024124d3ad5",
   "metadata": {},
   "outputs": [
    {
     "name": "stdout",
     "output_type": "stream",
     "text": [
      "Found 431 files belonging to 6 classes.\n"
     ]
    }
   ],
   "source": [
    "test_ds = tf.keras.utils.image_dataset_from_directory(dataset_path + '/test', batch_size=batch_size)"
   ]
  },
  {
   "cell_type": "code",
   "execution_count": 11,
   "id": "e2ba6bb4-99c6-477d-8696-b10c2f7cf0e7",
   "metadata": {},
   "outputs": [
    {
     "name": "stdout",
     "output_type": "stream",
     "text": [
      "14/14 [==============================] - 0s 32ms/step - loss: 0.2906 - accuracy: 0.9397\n"
     ]
    },
    {
     "data": {
      "text/plain": [
       "[0.2906416952610016, 0.9396751523017883]"
      ]
     },
     "execution_count": 11,
     "metadata": {},
     "output_type": "execute_result"
    }
   ],
   "source": [
    "saved_model.evaluate(test_ds)"
   ]
  },
  {
   "cell_type": "code",
   "execution_count": 12,
   "id": "b9bf606e-57cb-49c6-9c81-d05f1b84deb8",
   "metadata": {},
   "outputs": [],
   "source": [
    "labels = []\n",
    "predictions = []\n",
    "\n",
    "for X, y in test_ds:\n",
    "    y_pred = tf.argmax(saved_model.predict(X, verbose=0), axis=1).numpy().tolist()\n",
    "    labels.extend(y.numpy().tolist())\n",
    "    predictions.extend(y_pred)"
   ]
  },
  {
   "cell_type": "code",
   "execution_count": 13,
   "id": "4937c5ad-0f9d-4a70-ad5c-c3a5629fbde6",
   "metadata": {},
   "outputs": [
    {
     "name": "stdout",
     "output_type": "stream",
     "text": [
      "              precision    recall  f1-score   support\n",
      "\n",
      "   cardboard       0.97      0.93      0.95        70\n",
      "       glass       0.95      0.90      0.93        82\n",
      "       metal       0.93      0.97      0.95        68\n",
      "       paper       0.95      0.96      0.95       108\n",
      "     plastic       0.91      0.95      0.93        74\n",
      "       trash       0.93      0.90      0.91        29\n",
      "\n",
      "    accuracy                           0.94       431\n",
      "   macro avg       0.94      0.93      0.94       431\n",
      "weighted avg       0.94      0.94      0.94       431\n",
      "\n"
     ]
    }
   ],
   "source": [
    "print(classification_report(labels, predictions, target_names=test_ds.class_names))"
   ]
  }
 ],
 "metadata": {
  "kernelspec": {
   "display_name": "Python 3 (ipykernel)",
   "language": "python",
   "name": "python3"
  },
  "language_info": {
   "codemirror_mode": {
    "name": "ipython",
    "version": 3
   },
   "file_extension": ".py",
   "mimetype": "text/x-python",
   "name": "python",
   "nbconvert_exporter": "python",
   "pygments_lexer": "ipython3",
   "version": "3.10.12"
  }
 },
 "nbformat": 4,
 "nbformat_minor": 5
}
