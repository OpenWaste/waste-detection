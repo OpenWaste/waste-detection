{
 "cells": [
  {
   "cell_type": "code",
   "execution_count": 32,
   "id": "e086611a-d7bc-4cc2-8293-b68f272f10ff",
   "metadata": {},
   "outputs": [],
   "source": [
    "import os\n",
    "from collections import defaultdict\n",
    "import imghdr"
   ]
  },
  {
   "cell_type": "code",
   "execution_count": 33,
   "id": "8c887f14-e7dd-4951-bb56-7105557ba374",
   "metadata": {},
   "outputs": [],
   "source": [
    "def check_img_dataset(dataset_path):\n",
    "    class_names = os.listdir(dataset_path)\n",
    "    for c in class_names:\n",
    "        path = os.path.join(dataset_path, c)\n",
    "        for f in os.listdir(path):\n",
    "            img_path = os.path.join(path, f)\n",
    "            if not os.path.isfile(img_path):\n",
    "                print(f'{img_path} is not a file')\n",
    "            elif imghdr.what(img_path) is None:\n",
    "                print(f'{img_path} is not an image')"
   ]
  },
  {
   "cell_type": "code",
   "execution_count": 21,
   "id": "88359f92-28c7-4a21-833b-0c7477e72e85",
   "metadata": {},
   "outputs": [],
   "source": [
    "def get_img_count(dataset_path):\n",
    "    class_names = os.listdir(dataset_path)\n",
    "    image_count = defaultdict(int)\n",
    "    for c in class_names:\n",
    "        path = os.path.join(dataset_path, c)\n",
    "        image_count[c] += len(os.listdir(path))\n",
    "\n",
    "    return image_count"
   ]
  },
  {
   "cell_type": "code",
   "execution_count": 35,
   "id": "0b7f8395-ecf2-4ee3-887b-9c864c3d9313",
   "metadata": {},
   "outputs": [
    {
     "name": "stdout",
     "output_type": "stream",
     "text": [
      "/home/deeplearning/AI/datasets/OpenWaste/All/Mixed pictures/Mixed curbside is not a file\n",
      "/home/deeplearning/AI/datasets/OpenWaste/All/Mixed pictures/Bins is not a file\n",
      "/home/deeplearning/AI/datasets/OpenWaste/All/Mixed pictures/sealed curbside recycling bags is not a file\n"
     ]
    }
   ],
   "source": [
    "check_img_dataset('/home/deeplearning/AI/datasets/OpenWaste/All')"
   ]
  },
  {
   "cell_type": "code",
   "execution_count": 36,
   "id": "7e016d08-c5d1-4003-90d2-0e616e6ad84d",
   "metadata": {},
   "outputs": [],
   "source": [
    "all_img_count = get_img_count('/home/deeplearning/AI/datasets/OpenWaste/All')"
   ]
  },
  {
   "cell_type": "code",
   "execution_count": 37,
   "id": "3cb5403b-4ec7-460c-8a33-1c0aadc87626",
   "metadata": {},
   "outputs": [
    {
     "data": {
      "text/plain": [
       "[('Plastic TYPE 1 food container', 101),\n",
       " ('Plastic ALUMINUM LINED wrapper', 61),\n",
       " ('Plastic TYPE 6 straws and cutlery', 59),\n",
       " ('Plastic TYPE 6 coffee lid', 59),\n",
       " ('Cardboard CORRUGATED box', 49),\n",
       " ('Plastic TYPE 4 bag', 46),\n",
       " ('Plastic TYPE 5 sauce container', 46),\n",
       " ('Paper COATED PAPERBOARD coffee cup', 46),\n",
       " ('Metal TIN container', 42),\n",
       " ('Cardboard PAPERBOARD food  box', 36),\n",
       " ('Paper WAXED wrapping', 28),\n",
       " ('Plastic TYPE 6 sauce container', 28),\n",
       " ('Plastic TYPE 1 bottle', 24),\n",
       " ('Metal TIN can', 23),\n",
       " ('Paper THERMAL receipt', 23),\n",
       " ('Paper - office paper, catalogues, tags, envelopes, newspaper, wrapping paper',\n",
       "  23),\n",
       " ('Metal bottle caps', 19),\n",
       " ('Cardboard COATED food container', 19),\n",
       " ('Paper COATED PAPERBOARD milk carton', 19),\n",
       " ('Cardboard PAPERBOARD misc', 18),\n",
       " ('Ceramics', 17),\n",
       " ('Plastic TYPE 6 food tray', 17),\n",
       " ('Metal ALUMINUM can', 17),\n",
       " ('Plastic TYPE 6 cup', 16),\n",
       " ('Paper KRAFT bag', 16),\n",
       " ('Food FRUIT AND VEGETABLE scraps', 16),\n",
       " ('Plastic TYPE 5 food container', 15),\n",
       " ('Food', 15),\n",
       " ('Cardboard PAPERBOARD toilet paper roll', 13),\n",
       " ('Plastic ALUMINUM LINED chip bag', 12),\n",
       " ('Glass bottle', 12),\n",
       " ('Metal ALUMINUM plate', 11),\n",
       " ('tetrapak', 11),\n",
       " ('Paper UNWAXED wrapping', 10),\n",
       " ('Plastic TYPE 5 ribbon', 10),\n",
       " ('Glass misc', 10),\n",
       " ('Metal TIN container lid', 10),\n",
       " ('Plastic other', 10),\n",
       " ('x plastic bag', 10),\n",
       " ('Plastic TYPE 5 cup', 10),\n",
       " ('Plastic TYPE 4 wrap (stretchy)', 10),\n",
       " ('Plastic TYPE 6 sauce contrainer lid', 9),\n",
       " ('Mixed pictures', 9),\n",
       " ('Plastic TYPE 2 spray bottle with handle', 9),\n",
       " ('Plastic TYPE 5 yogurt container', 9),\n",
       " ('Plastic TYPE 4 lid', 8),\n",
       " ('Metal ALUMINUM foil', 7),\n",
       " ('Paper WHITE plate', 7),\n",
       " ('Plastic TYPE 6 food container', 7),\n",
       " ('Plastic TYPE 7 food container', 7),\n",
       " ('unknown', 7),\n",
       " ('Metal binder clip', 6),\n",
       " ('Plastic TYPE 1 sauce container lid', 6),\n",
       " ('Cardboard Egg carton', 6),\n",
       " ('Paper coffee cup sleeve', 6),\n",
       " ('Paper napkin', 6),\n",
       " ('Plastic TYPE 5 bottle cap', 6),\n",
       " ('Paper AND PLASTIC paper envelope with window', 6),\n",
       " ('Cardboard PAPERBOARD AND PLASTIC foodbox with window', 5),\n",
       " ('Plastic TYPE 6 pull tab', 5),\n",
       " ('Wood chopsticks', 5),\n",
       " ('Paper WAXED tag', 5),\n",
       " ('Plastic WAXED food wrap packaging', 5),\n",
       " ('Plastic ALUMNIUM LINED coffee bag', 5),\n",
       " ('Paper KRAFT mulch bags', 5),\n",
       " ('Plastic TYPE 5 yogurt lid', 4),\n",
       " ('Paper PLASTIC tissue box', 4),\n",
       " ('plastic NON STRETCHY food package -----', 4),\n",
       " ('Plastic WAXED bag', 4),\n",
       " ('Paper PLASTIC LINED drink cup', 3),\n",
       " ('Metal FOIL wrapper', 3),\n",
       " ('Plastic OPAQUE food wrapper', 3),\n",
       " ('Glass jar', 3),\n",
       " ('Plastic TYPE 5 tea bag', 3),\n",
       " ('Cardboard CORRUGATED pizza box', 3),\n",
       " ('Plastic TYPE 4 bubble wrap', 3),\n",
       " ('Plastic TYPE 5 bottle', 3),\n",
       " ('removed for too little data', 3),\n",
       " ('Rubber gloves', 2),\n",
       " ('Metal ALUMINUM tray', 2),\n",
       " ('Plastic TYPE 5 cleaning product bottle', 2),\n",
       " ('Plastic TYPE 6 bread clip', 2),\n",
       " ('Plastic TYPE 2 bottle', 2),\n",
       " ('Plastic AND METAL blister packaging', 2),\n",
       " ('Plastic TYPE 5 coffee lid', 2),\n",
       " ('Paper used tissue', 2),\n",
       " ('Cardboard + Plastic packageing', 2),\n",
       " ('Paper towel', 1),\n",
       " ('Paper SOILED', 1)]"
      ]
     },
     "execution_count": 37,
     "metadata": {},
     "output_type": "execute_result"
    }
   ],
   "source": [
    "sorted(all_img_count.items(), key=lambda x: x[1], reverse=True)"
   ]
  },
  {
   "cell_type": "code",
   "execution_count": 39,
   "id": "d3134dea-548f-4c00-85d9-537cf04370d1",
   "metadata": {},
   "outputs": [
    {
     "data": {
      "text/plain": [
       "defaultdict(int,\n",
       "            {'Cardboard CORRUGATED box': 49,\n",
       "             'Plastic TYPE 6 straws and cutlery': 59,\n",
       "             'Plastic TYPE 6 coffee lid': 59,\n",
       "             'Plastic ALUMINUM LINED wrapper': 61,\n",
       "             'Plastic TYPE 1 food container': 101})"
      ]
     },
     "execution_count": 39,
     "metadata": {},
     "output_type": "execute_result"
    }
   ],
   "source": [
    "big5_img_count = get_img_count('/home/deeplearning/AI/datasets/OpenWaste/Experimental-big-5/')\n",
    "big5_img_count"
   ]
  }
 ],
 "metadata": {
  "kernelspec": {
   "display_name": "Python 3 (ipykernel)",
   "language": "python",
   "name": "python3"
  },
  "language_info": {
   "codemirror_mode": {
    "name": "ipython",
    "version": 3
   },
   "file_extension": ".py",
   "mimetype": "text/x-python",
   "name": "python",
   "nbconvert_exporter": "python",
   "pygments_lexer": "ipython3",
   "version": "3.10.12"
  }
 },
 "nbformat": 4,
 "nbformat_minor": 5
}
