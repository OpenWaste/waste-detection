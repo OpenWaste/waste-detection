{
 "cells": [
  {
   "cell_type": "code",
   "execution_count": 1,
   "id": "ba942e14-18b0-407d-93b6-ddcac4b406ae",
   "metadata": {},
   "outputs": [],
   "source": [
    "import os\n",
    "os.environ['TF_CPP_MIN_LOG_LEVEL'] = '2' "
   ]
  },
  {
   "cell_type": "code",
   "execution_count": 2,
   "id": "dd765525-8318-4d0d-a905-8355cfff3246",
   "metadata": {},
   "outputs": [
    {
     "name": "stderr",
     "output_type": "stream",
     "text": [
      "2024-03-31 09:18:26.886427: E external/local_xla/xla/stream_executor/cuda/cuda_dnn.cc:9261] Unable to register cuDNN factory: Attempting to register factory for plugin cuDNN when one has already been registered\n",
      "2024-03-31 09:18:26.886447: E external/local_xla/xla/stream_executor/cuda/cuda_fft.cc:607] Unable to register cuFFT factory: Attempting to register factory for plugin cuFFT when one has already been registered\n",
      "2024-03-31 09:18:26.886969: E external/local_xla/xla/stream_executor/cuda/cuda_blas.cc:1515] Unable to register cuBLAS factory: Attempting to register factory for plugin cuBLAS when one has already been registered\n"
     ]
    }
   ],
   "source": [
    "import tensorflow as tf\n",
    "from sklearn.metrics import classification_report"
   ]
  },
  {
   "cell_type": "code",
   "execution_count": 3,
   "id": "b49dc2af-eb7e-46bd-826f-88b9755ce151",
   "metadata": {},
   "outputs": [],
   "source": [
    "seed = 42\n",
    "dataset_path = '/home/deeplearning/AI/datasets/OpenWaste/Experimental-big-9 (copy)/'\n",
    "epochs = 50\n",
    "batch_size = 16\n",
    "lr = 0.01\n",
    "weight_decay = None"
   ]
  },
  {
   "cell_type": "code",
   "execution_count": 4,
   "id": "459d9bc9-7210-44d2-bece-7e212615c850",
   "metadata": {},
   "outputs": [],
   "source": [
    "data_augmentation = tf.keras.Sequential([\n",
    "    tf.keras.layers.RandomFlip(mode=\"horizontal\", seed=seed),\n",
    "    tf.keras.layers.RandomRotation(factor=0.05, seed=seed),\n",
    "    tf.keras.layers.RandomContrast(factor=0.2, seed=seed)\n",
    "])"
   ]
  },
  {
   "cell_type": "code",
   "execution_count": 5,
   "id": "fa011333-be0f-4f85-8dde-13daf6d7df1c",
   "metadata": {},
   "outputs": [
    {
     "name": "stdout",
     "output_type": "stream",
     "text": [
      "Found 132 files belonging to 9 classes.\n"
     ]
    }
   ],
   "source": [
    "train_ds_raw = tf.keras.utils.image_dataset_from_directory(dataset_path + '/train', batch_size=batch_size)\n",
    "train_ds = train_ds_raw.map(lambda img, label: (data_augmentation(img), label)).shuffle(64, seed=seed).prefetch(tf.data.AUTOTUNE)"
   ]
  },
  {
   "cell_type": "code",
   "execution_count": 6,
   "id": "d14e8990-8c42-44c4-9fe4-322c40cccfb5",
   "metadata": {},
   "outputs": [
    {
     "name": "stdout",
     "output_type": "stream",
     "text": [
      "Found 153 files belonging to 9 classes.\n"
     ]
    }
   ],
   "source": [
    "val_ds = tf.keras.utils.image_dataset_from_directory(dataset_path + '/val', batch_size=batch_size)"
   ]
  },
  {
   "cell_type": "code",
   "execution_count": 7,
   "id": "6b70e853-3504-4114-b680-97632346ceba",
   "metadata": {},
   "outputs": [],
   "source": [
    "class_names = train_ds_raw.class_names\n",
    "num_classes = len(class_names)"
   ]
  },
  {
   "cell_type": "code",
   "execution_count": 8,
   "id": "124ca3d4-ee5e-419d-a1ed-968ce2b5b721",
   "metadata": {},
   "outputs": [],
   "source": [
    "base_model = tf.keras.applications.efficientnet_v2.EfficientNetV2B2(\n",
    "    weights=\"imagenet\", include_top=False)\n",
    "avg = tf.keras.layers.GlobalAveragePooling2D()(base_model.output)\n",
    "output = tf.keras.layers.Dense(num_classes, activation=\"softmax\")(avg)\n",
    "model = tf.keras.Model(inputs=base_model.input, outputs=output)\n",
    "\n",
    "for layer in model.layers:\n",
    "    if isinstance(layer, tf.keras.layers.BatchNormalization):\n",
    "        layer.momentum = 0.90"
   ]
  },
  {
   "cell_type": "code",
   "execution_count": 9,
   "id": "8aaff1d2-9e78-4462-bb71-debf79e98eee",
   "metadata": {},
   "outputs": [
    {
     "name": "stdout",
     "output_type": "stream",
     "text": [
      "Epoch 1/50\n"
     ]
    },
    {
     "name": "stderr",
     "output_type": "stream",
     "text": [
      "2024-03-31 09:18:34.884910: E tensorflow/core/grappler/optimizers/meta_optimizer.cc:961] layout failed: INVALID_ARGUMENT: Size of values 0 does not match size of permutation 4 @ fanin shape inmodel/block1b_drop/dropout/SelectV2-2-TransposeNHWCToNCHW-LayoutOptimizer\n",
      "WARNING: All log messages before absl::InitializeLog() is called are written to STDERR\n",
      "I0000 00:00:1711891116.975318  637326 device_compiler.h:186] Compiled cluster using XLA!  This line is logged at most once for the lifetime of the process.\n"
     ]
    },
    {
     "name": "stdout",
     "output_type": "stream",
     "text": [
      "9/9 [==============================] - 14s 319ms/step - loss: 2.1355 - accuracy: 0.1742 - val_loss: 1.8892 - val_accuracy: 0.4314\n",
      "Epoch 2/50\n",
      "9/9 [==============================] - 2s 148ms/step - loss: 1.5738 - accuracy: 0.6439 - val_loss: 1.4373 - val_accuracy: 0.6732\n",
      "Epoch 3/50\n",
      "9/9 [==============================] - 2s 143ms/step - loss: 0.9716 - accuracy: 0.8485 - val_loss: 1.0985 - val_accuracy: 0.6928\n",
      "Epoch 4/50\n",
      "9/9 [==============================] - 2s 149ms/step - loss: 0.5469 - accuracy: 0.9318 - val_loss: 0.9152 - val_accuracy: 0.7451\n",
      "Epoch 5/50\n",
      "9/9 [==============================] - 1s 92ms/step - loss: 0.2840 - accuracy: 0.9697 - val_loss: 0.8363 - val_accuracy: 0.7255\n",
      "Epoch 6/50\n",
      "9/9 [==============================] - 1s 92ms/step - loss: 0.1679 - accuracy: 0.9924 - val_loss: 0.8265 - val_accuracy: 0.7451\n",
      "Epoch 7/50\n",
      "9/9 [==============================] - 1s 88ms/step - loss: 0.1520 - accuracy: 0.9697 - val_loss: 0.8391 - val_accuracy: 0.7386\n",
      "Epoch 8/50\n",
      "9/9 [==============================] - 1s 89ms/step - loss: 0.0887 - accuracy: 0.9924 - val_loss: 0.8265 - val_accuracy: 0.7451\n",
      "Epoch 9/50\n",
      "9/9 [==============================] - 2s 145ms/step - loss: 0.0532 - accuracy: 0.9924 - val_loss: 0.7917 - val_accuracy: 0.7582\n",
      "Epoch 10/50\n",
      "9/9 [==============================] - 2s 101ms/step - loss: 0.0782 - accuracy: 0.9773 - val_loss: 0.7687 - val_accuracy: 0.7582\n",
      "Epoch 11/50\n",
      "9/9 [==============================] - 2s 150ms/step - loss: 0.0447 - accuracy: 0.9924 - val_loss: 0.7317 - val_accuracy: 0.7647\n",
      "Epoch 12/50\n",
      "9/9 [==============================] - 1s 95ms/step - loss: 0.0555 - accuracy: 0.9848 - val_loss: 0.7294 - val_accuracy: 0.7582\n",
      "Epoch 13/50\n",
      "9/9 [==============================] - 1s 94ms/step - loss: 0.0754 - accuracy: 0.9773 - val_loss: 0.7244 - val_accuracy: 0.7516\n",
      "Epoch 14/50\n",
      "9/9 [==============================] - 1s 98ms/step - loss: 0.0468 - accuracy: 0.9924 - val_loss: 0.7622 - val_accuracy: 0.7516\n",
      "Epoch 15/50\n",
      "9/9 [==============================] - 1s 95ms/step - loss: 0.0482 - accuracy: 0.9924 - val_loss: 0.7403 - val_accuracy: 0.7647\n",
      "Epoch 16/50\n",
      "9/9 [==============================] - 1s 92ms/step - loss: 0.0361 - accuracy: 0.9924 - val_loss: 0.7492 - val_accuracy: 0.7582\n",
      "Epoch 17/50\n",
      "9/9 [==============================] - 1s 96ms/step - loss: 0.0318 - accuracy: 0.9924 - val_loss: 0.7498 - val_accuracy: 0.7386\n",
      "Epoch 18/50\n",
      "9/9 [==============================] - 1s 100ms/step - loss: 0.0885 - accuracy: 0.9621 - val_loss: 0.6889 - val_accuracy: 0.7647\n",
      "Epoch 19/50\n",
      "9/9 [==============================] - 2s 150ms/step - loss: 0.0281 - accuracy: 1.0000 - val_loss: 0.6713 - val_accuracy: 0.7843\n",
      "Epoch 20/50\n",
      "9/9 [==============================] - 1s 94ms/step - loss: 0.0362 - accuracy: 0.9924 - val_loss: 0.7112 - val_accuracy: 0.7778\n",
      "Epoch 21/50\n",
      "9/9 [==============================] - 1s 91ms/step - loss: 0.0381 - accuracy: 0.9924 - val_loss: 0.7162 - val_accuracy: 0.7647\n",
      "Epoch 22/50\n",
      "9/9 [==============================] - 2s 150ms/step - loss: 0.0412 - accuracy: 0.9924 - val_loss: 0.6931 - val_accuracy: 0.7908\n",
      "Epoch 23/50\n",
      "9/9 [==============================] - 1s 93ms/step - loss: 0.0177 - accuracy: 1.0000 - val_loss: 0.6862 - val_accuracy: 0.7908\n",
      "Epoch 24/50\n",
      "9/9 [==============================] - 1s 97ms/step - loss: 0.0143 - accuracy: 1.0000 - val_loss: 0.6902 - val_accuracy: 0.7712\n",
      "Epoch 25/50\n",
      "9/9 [==============================] - 1s 90ms/step - loss: 0.0178 - accuracy: 1.0000 - val_loss: 0.6703 - val_accuracy: 0.7712\n",
      "Epoch 26/50\n",
      "9/9 [==============================] - 1s 95ms/step - loss: 0.0127 - accuracy: 1.0000 - val_loss: 0.6687 - val_accuracy: 0.7712\n",
      "Epoch 27/50\n",
      "9/9 [==============================] - 1s 94ms/step - loss: 0.0091 - accuracy: 1.0000 - val_loss: 0.6967 - val_accuracy: 0.7451\n",
      "Epoch 28/50\n",
      "9/9 [==============================] - 1s 98ms/step - loss: 0.0173 - accuracy: 1.0000 - val_loss: 0.7010 - val_accuracy: 0.7647\n",
      "Epoch 29/50\n",
      "9/9 [==============================] - 1s 99ms/step - loss: 0.0138 - accuracy: 1.0000 - val_loss: 0.7697 - val_accuracy: 0.7386\n",
      "Epoch 30/50\n",
      "9/9 [==============================] - 1s 99ms/step - loss: 0.0297 - accuracy: 0.9924 - val_loss: 0.7768 - val_accuracy: 0.7386\n",
      "Epoch 31/50\n",
      "9/9 [==============================] - 1s 93ms/step - loss: 0.0193 - accuracy: 0.9924 - val_loss: 0.7628 - val_accuracy: 0.7582\n",
      "Epoch 32/50\n",
      "9/9 [==============================] - 1s 95ms/step - loss: 0.0129 - accuracy: 1.0000 - val_loss: 0.7160 - val_accuracy: 0.7451\n",
      "Epoch 33/50\n",
      "9/9 [==============================] - 2s 99ms/step - loss: 0.0241 - accuracy: 0.9924 - val_loss: 0.6922 - val_accuracy: 0.7451\n",
      "Epoch 34/50\n",
      "9/9 [==============================] - 1s 92ms/step - loss: 0.0157 - accuracy: 1.0000 - val_loss: 0.7245 - val_accuracy: 0.7255\n",
      "Epoch 35/50\n",
      "9/9 [==============================] - 1s 92ms/step - loss: 0.0231 - accuracy: 0.9924 - val_loss: 0.7293 - val_accuracy: 0.7451\n",
      "Epoch 36/50\n",
      "9/9 [==============================] - 1s 91ms/step - loss: 0.0183 - accuracy: 1.0000 - val_loss: 0.7114 - val_accuracy: 0.7647\n",
      "Epoch 37/50\n",
      "9/9 [==============================] - 1s 93ms/step - loss: 0.0194 - accuracy: 1.0000 - val_loss: 0.6794 - val_accuracy: 0.7647\n",
      "Epoch 38/50\n",
      "9/9 [==============================] - 1s 95ms/step - loss: 0.0059 - accuracy: 1.0000 - val_loss: 0.6567 - val_accuracy: 0.7908\n",
      "Epoch 39/50\n",
      "9/9 [==============================] - 1s 93ms/step - loss: 0.0192 - accuracy: 0.9924 - val_loss: 0.6687 - val_accuracy: 0.7778\n",
      "Epoch 40/50\n",
      "9/9 [==============================] - 1s 87ms/step - loss: 0.0061 - accuracy: 1.0000 - val_loss: 0.6477 - val_accuracy: 0.7778\n",
      "Epoch 41/50\n",
      "9/9 [==============================] - 1s 96ms/step - loss: 0.0272 - accuracy: 0.9924 - val_loss: 0.6798 - val_accuracy: 0.7712\n",
      "Epoch 42/50\n",
      "9/9 [==============================] - 1s 93ms/step - loss: 0.0196 - accuracy: 1.0000 - val_loss: 0.7201 - val_accuracy: 0.7451\n",
      "Epoch 43/50\n",
      "9/9 [==============================] - 2s 100ms/step - loss: 0.0134 - accuracy: 1.0000 - val_loss: 0.7580 - val_accuracy: 0.7516\n",
      "Epoch 44/50\n",
      "9/9 [==============================] - 1s 98ms/step - loss: 0.0456 - accuracy: 0.9848 - val_loss: 0.7838 - val_accuracy: 0.7516\n",
      "Epoch 45/50\n",
      "9/9 [==============================] - 1s 100ms/step - loss: 0.0085 - accuracy: 1.0000 - val_loss: 0.8136 - val_accuracy: 0.7516\n",
      "Epoch 46/50\n",
      "9/9 [==============================] - 1s 93ms/step - loss: 0.0124 - accuracy: 1.0000 - val_loss: 0.7592 - val_accuracy: 0.7451\n",
      "Epoch 47/50\n",
      "9/9 [==============================] - 1s 93ms/step - loss: 0.0093 - accuracy: 1.0000 - val_loss: 0.7279 - val_accuracy: 0.7712\n",
      "Epoch 48/50\n",
      "9/9 [==============================] - 1s 100ms/step - loss: 0.0120 - accuracy: 1.0000 - val_loss: 0.7199 - val_accuracy: 0.7582\n",
      "Epoch 49/50\n",
      "9/9 [==============================] - 1s 94ms/step - loss: 0.0056 - accuracy: 1.0000 - val_loss: 0.7126 - val_accuracy: 0.7647\n",
      "Epoch 50/50\n",
      "9/9 [==============================] - 1s 89ms/step - loss: 0.0093 - accuracy: 1.0000 - val_loss: 0.7354 - val_accuracy: 0.7516\n"
     ]
    }
   ],
   "source": [
    "optimizer = tf.keras.optimizers.SGD(learning_rate=lr, momentum=0.9, weight_decay=weight_decay)\n",
    "model_checkpoint_callback = tf.keras.callbacks.ModelCheckpoint(\n",
    "    filepath='models/tmp.keras',\n",
    "    monitor='val_accuracy',\n",
    "    mode='max',\n",
    "    save_best_only=True\n",
    ")\n",
    "    \n",
    "model.compile(loss=\"sparse_categorical_crossentropy\", optimizer=optimizer, metrics=[\"accuracy\"])\n",
    "history = model.fit(train_ds, validation_data=val_ds, epochs=epochs, callbacks=[model_checkpoint_callback])"
   ]
  },
  {
   "cell_type": "code",
   "execution_count": 10,
   "id": "6a1b21fc-66e0-4b33-92ff-b3cdc8c62fd5",
   "metadata": {},
   "outputs": [
    {
     "name": "stdout",
     "output_type": "stream",
     "text": [
      "10/10 [==============================] - 2s 14ms/step - loss: 0.6931 - accuracy: 0.7908\n"
     ]
    },
    {
     "data": {
      "text/plain": [
       "[0.6931175589561462, 0.7908496856689453]"
      ]
     },
     "execution_count": 10,
     "metadata": {},
     "output_type": "execute_result"
    }
   ],
   "source": [
    "saved_model_path = 'models/tmp.keras' #model_checkpoint_callback.filepath\n",
    "saved_model = tf.keras.models.load_model(saved_model_path)\n",
    "saved_model.evaluate(val_ds)"
   ]
  },
  {
   "cell_type": "code",
   "execution_count": null,
   "id": "2eae245e-3dd9-485b-ba14-9523ed536827",
   "metadata": {},
   "outputs": [],
   "source": []
  }
 ],
 "metadata": {
  "kernelspec": {
   "display_name": "Python 3 (ipykernel)",
   "language": "python",
   "name": "python3"
  },
  "language_info": {
   "codemirror_mode": {
    "name": "ipython",
    "version": 3
   },
   "file_extension": ".py",
   "mimetype": "text/x-python",
   "name": "python",
   "nbconvert_exporter": "python",
   "pygments_lexer": "ipython3",
   "version": "3.10.12"
  }
 },
 "nbformat": 4,
 "nbformat_minor": 5
}
